{
  "nbformat": 4,
  "nbformat_minor": 0,
  "metadata": {
    "kernelspec": {
      "name": "python3",
      "display_name": "Python 3"
    },
    "language_info": {
      "codemirror_mode": {
        "name": "ipython",
        "version": 3
      },
      "file_extension": ".py",
      "mimetype": "text/x-python",
      "name": "python",
      "nbconvert_exporter": "python",
      "pygments_lexer": "ipython3",
      "version": "3.6.9"
    },
    "colab": {
      "name": "trabalho_3.ipynb",
      "provenance": [],
      "collapsed_sections": [],
      "toc_visible": true,
      "machine_shape": "hm"
    },
    "accelerator": "GPU"
  },
  "cells": [
    {
      "cell_type": "markdown",
      "metadata": {
        "id": "EGvYUI9I9xVI",
        "colab_type": "text"
      },
      "source": [
        "# Trabalho 3 - Image Classification\n",
        "### Disciplina: Machine Learning II Professor: Carlos Padilha\n",
        "\n",
        "### Alunos: Gustavo Costa / Vinícius Valim"
      ]
    },
    {
      "cell_type": "code",
      "metadata": {
        "id": "mEcABSUQtgaA",
        "colab_type": "code",
        "outputId": "47c9e45f-b7a9-422f-b8da-2b9dec6622bc",
        "colab": {
          "base_uri": "https://localhost:8080/",
          "height": 71
        }
      },
      "source": [
        "!pip install -q kaggle\n",
        "!mkdir -p ~/.kaggle\n",
        "!cp kaggle.json ~/.kaggle/\n",
        "!kaggle datasets download -d jessicali9530/celeba-dataset"
      ],
      "execution_count": 2,
      "outputs": [
        {
          "output_type": "stream",
          "text": [
            "Warning: Your Kaggle API key is readable by other users on this system! To fix this, you can run 'chmod 600 /root/.kaggle/kaggle.json'\n",
            "celeba-dataset.zip: Skipping, found more recently modified local copy (use --force to force download)\n"
          ],
          "name": "stdout"
        }
      ]
    },
    {
      "cell_type": "code",
      "metadata": {
        "_cell_guid": "b1076dfc-b9ad-4769-8c92-a6c4dae69d19",
        "_uuid": "8f2839f25d086af736a60e9eeb907d3b93b6e0e5",
        "trusted": true,
        "id": "xao6JC6F9xVJ",
        "colab_type": "code",
        "outputId": "fd63f430-68c0-4979-a300-f56f6f49acc6",
        "colab": {
          "base_uri": "https://localhost:8080/",
          "height": 34
        }
      },
      "source": [
        "import numpy as np\n",
        "import pandas as pd\n",
        "\n",
        "import os\n",
        "import warnings\n",
        "warnings.filterwarnings(\"ignore\")\n",
        "import random\n",
        "import progressbar\n",
        "\n",
        "from keras.preprocessing.image import ImageDataGenerator\n",
        "from keras.models import Sequential\n",
        "from keras.applications.resnet50 import preprocess_input\n",
        "from keras.layers import *\n",
        "\n",
        "from PIL import Image\n",
        "from keras.utils import Sequence"
      ],
      "execution_count": 3,
      "outputs": [
        {
          "output_type": "stream",
          "text": [
            "Using TensorFlow backend.\n"
          ],
          "name": "stderr"
        }
      ]
    },
    {
      "cell_type": "code",
      "metadata": {
        "id": "su5XpRl1olxz",
        "colab_type": "code",
        "colab": {}
      },
      "source": [
        "from zipfile import ZipFile\n",
        "pasta_geral = '/content/celeba-dataset.zip'\n",
        "zip_file = ZipFile(pasta_geral)"
      ],
      "execution_count": 0,
      "outputs": []
    },
    {
      "cell_type": "code",
      "metadata": {
        "id": "3s4rZtOB44xO",
        "colab_type": "code",
        "colab": {}
      },
      "source": [
        "num_classes = 40\n",
        "img_width = 224\n",
        "img_height = 224\n",
        "batch_size = 1024"
      ],
      "execution_count": 0,
      "outputs": []
    },
    {
      "cell_type": "code",
      "metadata": {
        "id": "8zi5-L3O58IT",
        "colab_type": "code",
        "colab": {}
      },
      "source": [
        "arquivos = list(filter(lambda f: f.endswith(\"jpg\"), zip_file.namelist()))"
      ],
      "execution_count": 0,
      "outputs": []
    },
    {
      "cell_type": "code",
      "metadata": {
        "id": "zxSnfhAv95GC",
        "colab_type": "code",
        "colab": {}
      },
      "source": [
        "# Arquivo que para cada imagem possui 40 colunas identificando uma característica,\n",
        "# como sombra, certos tipos de sobrancelhas etc. Os valores são -1 e 1\n",
        "atributos = pd.read_csv(zip_file.open('list_attr_celeba.csv'))\n",
        "atributos.set_index('image_id', inplace=True)"
      ],
      "execution_count": 0,
      "outputs": []
    },
    {
      "cell_type": "code",
      "metadata": {
        "trusted": true,
        "id": "TtxEDPwG9xVT",
        "colab_type": "code",
        "colab": {}
      },
      "source": [
        "def load_images(list_images, idx, batch_size, net_w, net_h):\n",
        "  \n",
        "  train_data = []\n",
        "  val_data =  []\n",
        "  test_data =  []\n",
        "  imgs = []\n",
        "\n",
        "  partitions = pd.read_csv(zip_file.open('list_eval_partition.csv'))\n",
        "  np.random.shuffle(list_images)\n",
        "\n",
        "  lb = idx * batch_size\n",
        "  rb = (idx + 1) * batch_size\n",
        "  \n",
        "  if rb > len(list_images):\n",
        "      rb = len(list_images)\n",
        "      lb = rb - batch_size\n",
        "      \n",
        "  batch_imgs = list_images[lb:rb]\n",
        "\n",
        "  bar = progressbar.ProgressBar(maxval=batch_size, \\\n",
        "        widgets=[progressbar.Bar('=', '[', ']'), ' ', progressbar.Percentage()])\n",
        "  bar.start()\n",
        "    \n",
        "  for n in range(batch_size):\n",
        "    with zip_file.open(batch_imgs[n]) as file:\n",
        "      img = np.array(Image.open(file).resize((net_w, net_h)))\n",
        "\n",
        "    x = np.expand_dims(img, axis=0)\n",
        "    x = preprocess_input(x)\n",
        "    aux = batch_imgs[n].split('/')[2]   # posição do nome do arquivo no Colab\n",
        "    imgs.append(aux)\n",
        "\n",
        "    filtro = partitions[partitions['image_id'] == aux]\n",
        "    val = int(filtro['partition'])\n",
        "    if val == 0:\n",
        "        train_data.append(x)\n",
        "    if val == 1:\n",
        "        val_data.append(x)\n",
        "    if val == 2:\n",
        "        test_data.append(x)\n",
        "    bar.update(n+1)\n",
        "  \n",
        "  train_data = np.vstack(train_data)\n",
        "  val_data = np.vstack(val_data)\n",
        "  test_data = np.vstack(test_data)\n",
        "\n",
        "  bar.finish()\n",
        "\n",
        "  return train_data, val_data, test_data, imgs\n"
      ],
      "execution_count": 0,
      "outputs": []
    },
    {
      "cell_type": "code",
      "metadata": {
        "id": "S7EonAuVIFhA",
        "colab_type": "code",
        "colab": {}
      },
      "source": [
        "def load_batch(arquivos, idx, batch_size, img_width, img_height):\n",
        "  train_data, val_data, test_data, imgs = load_images(list_images=arquivos,\n",
        "                                                      idx=idx,\n",
        "                                                      batch_size=batch_size,\n",
        "                                                      net_w=img_width,\n",
        "                                                      net_h=img_height)\n",
        "  df_imagens = pd.DataFrame(imgs) \n",
        "  df_imagens = df_imagens.rename(columns = {0: \"image_id\"})\n",
        "  df_imagens.set_index('image_id', inplace=True)\n",
        "\n",
        "  img_split = pd.read_csv(zip_file.open('list_eval_partition.csv'))\n",
        "  img_split.set_index('image_id', inplace=True)\n",
        "  dataset = img_split.join(atributos, how=\"inner\")\n",
        "\n",
        "  dataset_amostra = dataset.join(df_imagens, how=\"inner\")\n",
        "\n",
        "  train_labels = dataset_amostra[dataset_amostra['partition'] == 0]\n",
        "  train_labels = train_labels.drop(\"partition\", axis=1)\n",
        "  train_labels = np.array(train_labels)\n",
        "  for i in range(len(train_labels)):\n",
        "    for j in range(40):\n",
        "      if train_labels[i][j] == -1:\n",
        "          train_labels[i][j] = 0\n",
        "\n",
        "  val_labels = dataset_amostra[dataset_amostra['partition'] == 1]\n",
        "  val_labels = val_labels.drop(\"partition\", axis=1)\n",
        "  val_labels = np.array(val_labels)\n",
        "  for i in range(len(val_labels)):\n",
        "    for j in range(40):\n",
        "      if val_labels[i][j] == -1:\n",
        "          val_labels[i][j] = 0\n",
        "\n",
        "  test_labels = dataset_amostra[dataset_amostra['partition'] == 2]\n",
        "  test_labels = test_labels.drop(\"partition\", axis=1)\n",
        "  test_labels = np.array(test_labels)\n",
        "  for i in range(len(test_labels)):\n",
        "    for j in range(40):\n",
        "      if test_labels[i][j] == -1:\n",
        "          test_labels[i][j] = 0\n",
        "\n",
        "  return train_data, val_data, test_data, train_labels, val_labels, test_labels, imgs"
      ],
      "execution_count": 0,
      "outputs": []
    },
    {
      "cell_type": "code",
      "metadata": {
        "id": "YThMcQShyNh7",
        "colab_type": "code",
        "outputId": "5f2fd330-b93b-40d5-c61f-8de466c223ff",
        "colab": {
          "base_uri": "https://localhost:8080/",
          "height": 136
        }
      },
      "source": [
        "train_data, val_data, test_data, train_labels, val_labels, test_labels, imgs = load_batch(arquivos=arquivos, \n",
        "                                                                                          idx=0, \n",
        "                                                                                          batch_size=batch_size, \n",
        "                                                                                          img_width=img_width, \n",
        "                                                                                          img_height=img_height)\n",
        "\n",
        "train_data.shape, val_data.shape, test_data.shape, train_labels.shape, val_labels.shape, test_labels.shape"
      ],
      "execution_count": 10,
      "outputs": [
        {
          "output_type": "stream",
          "text": [
            "[========================================================================] 100%\n"
          ],
          "name": "stderr"
        },
        {
          "output_type": "execute_result",
          "data": {
            "text/plain": [
              "((827, 224, 224, 3),\n",
              " (104, 224, 224, 3),\n",
              " (93, 224, 224, 3),\n",
              " (827, 40),\n",
              " (104, 40),\n",
              " (93, 40))"
            ]
          },
          "metadata": {
            "tags": []
          },
          "execution_count": 10
        }
      ]
    },
    {
      "cell_type": "markdown",
      "metadata": {
        "id": "lUTdNUXN9xVk",
        "colab_type": "text"
      },
      "source": [
        "# Aplicação do Modelo"
      ]
    },
    {
      "cell_type": "code",
      "metadata": {
        "id": "1_KiM_tyDnGt",
        "colab_type": "code",
        "colab": {}
      },
      "source": [
        "from keras.applications.vgg16 import VGG16\n",
        "from keras.preprocessing import image\n",
        "from keras.applications.vgg16 import preprocess_input\n",
        "from keras import models\n",
        "from keras import layers\n",
        "from keras import optimizers"
      ],
      "execution_count": 0,
      "outputs": []
    },
    {
      "cell_type": "code",
      "metadata": {
        "trusted": true,
        "id": "Kq-tna-A9xVl",
        "colab_type": "code",
        "colab": {}
      },
      "source": [
        "train_datagen = ImageDataGenerator(\n",
        "      rescale=1./255,\n",
        "      rotation_range=40,\n",
        "      width_shift_range=0.2,\n",
        "      height_shift_range=0.2,\n",
        "      shear_range=0.2,\n",
        "      zoom_range=0.2,\n",
        "      horizontal_flip=True,\n",
        "      fill_mode='nearest')\n",
        "val_datagen = ImageDataGenerator(rescale=1. / 255)\n",
        "test_datagen = ImageDataGenerator(rescale=1. / 255)"
      ],
      "execution_count": 0,
      "outputs": []
    },
    {
      "cell_type": "code",
      "metadata": {
        "trusted": true,
        "id": "Qd71Uiv59xVm",
        "colab_type": "code",
        "outputId": "91bfb8f1-f695-49f0-b873-aef12ab78f6c",
        "colab": {
          "base_uri": "https://localhost:8080/",
          "height": 496
        }
      },
      "source": [
        "conv_base = VGG16(weights='imagenet',\n",
        "                  include_top=False,\n",
        "                  input_shape=(img_width, img_height, 3))\n",
        "                  \n",
        "model = Sequential()\n",
        "model.add(conv_base)\n",
        "model.add(MaxPooling2D(pool_size=(2, 2)))\n",
        "model.add(Flatten())\n",
        "model.add(Dropout(0.5))\n",
        "model.add(Dense(num_classes, activation='sigmoid'))"
      ],
      "execution_count": 13,
      "outputs": [
        {
          "output_type": "stream",
          "text": [
            "WARNING:tensorflow:From /usr/local/lib/python3.6/dist-packages/keras/backend/tensorflow_backend.py:66: The name tf.get_default_graph is deprecated. Please use tf.compat.v1.get_default_graph instead.\n",
            "\n",
            "WARNING:tensorflow:From /usr/local/lib/python3.6/dist-packages/keras/backend/tensorflow_backend.py:541: The name tf.placeholder is deprecated. Please use tf.compat.v1.placeholder instead.\n",
            "\n",
            "WARNING:tensorflow:From /usr/local/lib/python3.6/dist-packages/keras/backend/tensorflow_backend.py:4432: The name tf.random_uniform is deprecated. Please use tf.random.uniform instead.\n",
            "\n",
            "WARNING:tensorflow:From /usr/local/lib/python3.6/dist-packages/keras/backend/tensorflow_backend.py:4267: The name tf.nn.max_pool is deprecated. Please use tf.nn.max_pool2d instead.\n",
            "\n",
            "Downloading data from https://github.com/fchollet/deep-learning-models/releases/download/v0.1/vgg16_weights_tf_dim_ordering_tf_kernels_notop.h5\n",
            "58892288/58889256 [==============================] - 1s 0us/step\n",
            "WARNING:tensorflow:From /usr/local/lib/python3.6/dist-packages/keras/backend/tensorflow_backend.py:190: The name tf.get_default_session is deprecated. Please use tf.compat.v1.get_default_session instead.\n",
            "\n",
            "WARNING:tensorflow:From /usr/local/lib/python3.6/dist-packages/keras/backend/tensorflow_backend.py:197: The name tf.ConfigProto is deprecated. Please use tf.compat.v1.ConfigProto instead.\n",
            "\n",
            "WARNING:tensorflow:From /usr/local/lib/python3.6/dist-packages/keras/backend/tensorflow_backend.py:203: The name tf.Session is deprecated. Please use tf.compat.v1.Session instead.\n",
            "\n",
            "WARNING:tensorflow:From /usr/local/lib/python3.6/dist-packages/keras/backend/tensorflow_backend.py:207: The name tf.global_variables is deprecated. Please use tf.compat.v1.global_variables instead.\n",
            "\n",
            "WARNING:tensorflow:From /usr/local/lib/python3.6/dist-packages/keras/backend/tensorflow_backend.py:216: The name tf.is_variable_initialized is deprecated. Please use tf.compat.v1.is_variable_initialized instead.\n",
            "\n",
            "WARNING:tensorflow:From /usr/local/lib/python3.6/dist-packages/keras/backend/tensorflow_backend.py:223: The name tf.variables_initializer is deprecated. Please use tf.compat.v1.variables_initializer instead.\n",
            "\n",
            "WARNING:tensorflow:From /usr/local/lib/python3.6/dist-packages/keras/backend/tensorflow_backend.py:148: The name tf.placeholder_with_default is deprecated. Please use tf.compat.v1.placeholder_with_default instead.\n",
            "\n",
            "WARNING:tensorflow:From /usr/local/lib/python3.6/dist-packages/keras/backend/tensorflow_backend.py:3733: calling dropout (from tensorflow.python.ops.nn_ops) with keep_prob is deprecated and will be removed in a future version.\n",
            "Instructions for updating:\n",
            "Please use `rate` instead of `keep_prob`. Rate should be set to `rate = 1 - keep_prob`.\n"
          ],
          "name": "stdout"
        }
      ]
    },
    {
      "cell_type": "code",
      "metadata": {
        "id": "d7yZrxtaEHlh",
        "colab_type": "code",
        "colab": {}
      },
      "source": [
        "conv_base.trainable = False"
      ],
      "execution_count": 0,
      "outputs": []
    },
    {
      "cell_type": "code",
      "metadata": {
        "id": "en79Z6uEBvFQ",
        "colab_type": "code",
        "outputId": "0195c095-f52a-4bff-b2c3-9b5b7ec1374a",
        "colab": {
          "base_uri": "https://localhost:8080/",
          "height": 156
        }
      },
      "source": [
        "\n",
        "model.compile(loss='binary_crossentropy',\n",
        "              optimizer=optimizers.RMSprop(lr=2e-5),\n",
        "              metrics=['acc'])"
      ],
      "execution_count": 15,
      "outputs": [
        {
          "output_type": "stream",
          "text": [
            "WARNING:tensorflow:From /usr/local/lib/python3.6/dist-packages/keras/optimizers.py:793: The name tf.train.Optimizer is deprecated. Please use tf.compat.v1.train.Optimizer instead.\n",
            "\n",
            "WARNING:tensorflow:From /usr/local/lib/python3.6/dist-packages/keras/backend/tensorflow_backend.py:3657: The name tf.log is deprecated. Please use tf.math.log instead.\n",
            "\n",
            "WARNING:tensorflow:From /usr/local/lib/python3.6/dist-packages/tensorflow_core/python/ops/nn_impl.py:183: where (from tensorflow.python.ops.array_ops) is deprecated and will be removed in a future version.\n",
            "Instructions for updating:\n",
            "Use tf.where in 2.0, which has the same broadcast rule as np.where\n"
          ],
          "name": "stdout"
        }
      ]
    },
    {
      "cell_type": "code",
      "metadata": {
        "trusted": true,
        "id": "azKMbXHs9xVq",
        "colab_type": "code",
        "outputId": "fcc64f92-4551-4263-9f67-09866572eb3e",
        "colab": {
          "base_uri": "https://localhost:8080/",
          "height": 1000
        }
      },
      "source": [
        "total_batches = int(np.ceil(float(len(arquivos)) / batch_size))\n",
        "for i in range(total_batches):\n",
        "    train_data, val_data, test_data, train_labels, val_labels, test_labels, imgs = load_batch(arquivos=arquivos, \n",
        "                                                                                              idx=i, \n",
        "                                                                                              batch_size=batch_size, \n",
        "                                                                                              img_width=img_width, \n",
        "                                                                                              img_height=img_height)\n",
        "\n",
        "    print(train_data.shape, val_data.shape, test_data.shape, train_labels.shape, val_labels.shape, test_labels.shape)\n",
        "    print('Treinando lote ', i+1, ' de ', total_batches)\n",
        "\n",
        "    train_datagen.fit(train_data)\n",
        "\n",
        "    train_generator = train_datagen.flow(train_data, train_labels, batch_size=32)\n",
        "    val_generator = val_datagen.flow(val_data, val_labels, batch_size=32)\n",
        "    test_generator = test_datagen.flow(test_data, test_labels, batch_size=32)\n",
        "\n",
        "    result = model.fit_generator(\n",
        "            train_generator,\n",
        "            steps_per_epoch=20,\n",
        "            epochs=10,\n",
        "            validation_data=val_generator,\n",
        "            validation_steps=10,\n",
        "            verbose=1)"
      ],
      "execution_count": 16,
      "outputs": [
        {
          "output_type": "stream",
          "text": [
            "[========================================================================] 100%\n"
          ],
          "name": "stderr"
        },
        {
          "output_type": "stream",
          "text": [
            "(825, 224, 224, 3) (108, 224, 224, 3) (91, 224, 224, 3) (825, 40) (108, 40) (91, 40)\n",
            "Treinando lote  1  de  198\n",
            "WARNING:tensorflow:From /usr/local/lib/python3.6/dist-packages/keras/backend/tensorflow_backend.py:1033: The name tf.assign_add is deprecated. Please use tf.compat.v1.assign_add instead.\n",
            "\n",
            "WARNING:tensorflow:From /usr/local/lib/python3.6/dist-packages/keras/backend/tensorflow_backend.py:1020: The name tf.assign is deprecated. Please use tf.compat.v1.assign instead.\n",
            "\n",
            "Epoch 1/10\n",
            "20/20 [==============================] - 18s 903ms/step - loss: 0.8707 - acc: 0.4919 - val_loss: 0.7060 - val_acc: 0.5601\n",
            "Epoch 2/10\n",
            "20/20 [==============================] - 10s 479ms/step - loss: 0.7496 - acc: 0.5696 - val_loss: 0.6209 - val_acc: 0.6554\n",
            "Epoch 3/10\n",
            "20/20 [==============================] - 9s 426ms/step - loss: 0.6672 - acc: 0.6348 - val_loss: 0.5600 - val_acc: 0.7263\n",
            "Epoch 4/10\n",
            "20/20 [==============================] - 8s 401ms/step - loss: 0.6208 - acc: 0.6762 - val_loss: 0.5149 - val_acc: 0.7649\n",
            "Epoch 5/10\n",
            "20/20 [==============================] - 8s 392ms/step - loss: 0.5733 - acc: 0.7190 - val_loss: 0.4909 - val_acc: 0.7846\n",
            "Epoch 6/10\n",
            "20/20 [==============================] - 9s 450ms/step - loss: 0.5426 - acc: 0.7453 - val_loss: 0.4712 - val_acc: 0.7938\n",
            "Epoch 7/10\n",
            "20/20 [==============================] - 9s 435ms/step - loss: 0.5266 - acc: 0.7594 - val_loss: 0.4597 - val_acc: 0.7980\n",
            "Epoch 8/10\n",
            "20/20 [==============================] - 8s 407ms/step - loss: 0.5103 - acc: 0.7704 - val_loss: 0.4623 - val_acc: 0.7933\n",
            "Epoch 9/10\n",
            "20/20 [==============================] - 8s 397ms/step - loss: 0.5010 - acc: 0.7771 - val_loss: 0.4548 - val_acc: 0.7966\n",
            "Epoch 10/10\n",
            "20/20 [==============================] - 9s 471ms/step - loss: 0.5030 - acc: 0.7758 - val_loss: 0.4570 - val_acc: 0.7936\n"
          ],
          "name": "stdout"
        },
        {
          "output_type": "stream",
          "text": [
            "[========================================================================] 100%\n"
          ],
          "name": "stderr"
        },
        {
          "output_type": "stream",
          "text": [
            "(833, 224, 224, 3) (88, 224, 224, 3) (103, 224, 224, 3) (833, 40) (88, 40) (103, 40)\n",
            "Treinando lote  2  de  198\n",
            "Epoch 1/10\n",
            "20/20 [==============================] - 13s 628ms/step - loss: 0.4974 - acc: 0.7811 - val_loss: 0.4737 - val_acc: 0.7819\n",
            "Epoch 2/10\n",
            "20/20 [==============================] - 9s 439ms/step - loss: 0.4948 - acc: 0.7825 - val_loss: 0.4740 - val_acc: 0.7845\n",
            "Epoch 3/10\n",
            "20/20 [==============================] - 9s 436ms/step - loss: 0.4991 - acc: 0.7825 - val_loss: 0.4753 - val_acc: 0.7846\n",
            "Epoch 4/10\n",
            "20/20 [==============================] - 8s 397ms/step - loss: 0.4955 - acc: 0.7846 - val_loss: 0.4776 - val_acc: 0.7843\n",
            "Epoch 5/10\n",
            "20/20 [==============================] - 10s 478ms/step - loss: 0.4892 - acc: 0.7862 - val_loss: 0.4737 - val_acc: 0.7867\n",
            "Epoch 6/10\n",
            "20/20 [==============================] - 9s 433ms/step - loss: 0.5017 - acc: 0.7790 - val_loss: 0.4778 - val_acc: 0.7844\n",
            "Epoch 7/10\n",
            "20/20 [==============================] - 9s 434ms/step - loss: 0.4918 - acc: 0.7866 - val_loss: 0.4795 - val_acc: 0.7835\n",
            "Epoch 8/10\n",
            "20/20 [==============================] - 8s 397ms/step - loss: 0.4960 - acc: 0.7840 - val_loss: 0.4745 - val_acc: 0.7841\n",
            "Epoch 9/10\n",
            "20/20 [==============================] - 10s 486ms/step - loss: 0.4900 - acc: 0.7900 - val_loss: 0.4775 - val_acc: 0.7856\n",
            "Epoch 10/10\n",
            "20/20 [==============================] - 8s 423ms/step - loss: 0.5024 - acc: 0.7822 - val_loss: 0.4757 - val_acc: 0.7861\n"
          ],
          "name": "stdout"
        },
        {
          "output_type": "stream",
          "text": [
            "[========================================================================] 100%\n"
          ],
          "name": "stderr"
        },
        {
          "output_type": "stream",
          "text": [
            "(818, 224, 224, 3) (96, 224, 224, 3) (110, 224, 224, 3) (818, 40) (96, 40) (110, 40)\n",
            "Treinando lote  3  de  198\n",
            "Epoch 1/10\n",
            "20/20 [==============================] - 11s 558ms/step - loss: 0.4902 - acc: 0.7846 - val_loss: 0.4492 - val_acc: 0.8054\n",
            "Epoch 2/10\n",
            "20/20 [==============================] - 9s 458ms/step - loss: 0.4905 - acc: 0.7856 - val_loss: 0.4487 - val_acc: 0.8046\n",
            "Epoch 3/10\n",
            "20/20 [==============================] - 9s 449ms/step - loss: 0.4915 - acc: 0.7856 - val_loss: 0.4461 - val_acc: 0.8058\n",
            "Epoch 4/10\n",
            "20/20 [==============================] - 8s 425ms/step - loss: 0.4910 - acc: 0.7831 - val_loss: 0.4504 - val_acc: 0.8048\n",
            "Epoch 5/10\n",
            "20/20 [==============================] - 8s 412ms/step - loss: 0.4819 - acc: 0.7890 - val_loss: 0.4458 - val_acc: 0.8080\n",
            "Epoch 6/10\n",
            "20/20 [==============================] - 10s 480ms/step - loss: 0.4945 - acc: 0.7843 - val_loss: 0.4476 - val_acc: 0.8052\n",
            "Epoch 7/10\n",
            "20/20 [==============================] - 9s 463ms/step - loss: 0.4892 - acc: 0.7841 - val_loss: 0.4478 - val_acc: 0.8073\n",
            "Epoch 8/10\n",
            "20/20 [==============================] - 9s 437ms/step - loss: 0.4896 - acc: 0.7861 - val_loss: 0.4471 - val_acc: 0.8057\n",
            "Epoch 9/10\n",
            "20/20 [==============================] - 8s 411ms/step - loss: 0.4887 - acc: 0.7856 - val_loss: 0.4487 - val_acc: 0.8056\n",
            "Epoch 10/10\n",
            "20/20 [==============================] - 10s 497ms/step - loss: 0.4857 - acc: 0.7888 - val_loss: 0.4499 - val_acc: 0.8069\n"
          ],
          "name": "stdout"
        },
        {
          "output_type": "stream",
          "text": [
            "[========================================================================] 100%\n"
          ],
          "name": "stderr"
        },
        {
          "output_type": "stream",
          "text": [
            "(844, 224, 224, 3) (86, 224, 224, 3) (94, 224, 224, 3) (844, 40) (86, 40) (94, 40)\n",
            "Treinando lote  4  de  198\n",
            "Epoch 1/10\n",
            "20/20 [==============================] - 12s 625ms/step - loss: 0.4985 - acc: 0.7805 - val_loss: 0.4540 - val_acc: 0.7989\n",
            "Epoch 2/10\n",
            "20/20 [==============================] - 9s 456ms/step - loss: 0.4948 - acc: 0.7803 - val_loss: 0.4446 - val_acc: 0.8051\n",
            "Epoch 3/10\n",
            "20/20 [==============================] - 9s 428ms/step - loss: 0.4941 - acc: 0.7792 - val_loss: 0.4522 - val_acc: 0.7987\n",
            "Epoch 4/10\n",
            "20/20 [==============================] - 8s 403ms/step - loss: 0.5006 - acc: 0.7831 - val_loss: 0.4530 - val_acc: 0.7984\n",
            "Epoch 5/10\n",
            "20/20 [==============================] - 10s 499ms/step - loss: 0.4881 - acc: 0.7829 - val_loss: 0.4475 - val_acc: 0.8017\n",
            "Epoch 6/10\n",
            "20/20 [==============================] - 9s 450ms/step - loss: 0.4936 - acc: 0.7811 - val_loss: 0.4484 - val_acc: 0.8010\n",
            "Epoch 7/10\n",
            "20/20 [==============================] - 9s 428ms/step - loss: 0.4995 - acc: 0.7795 - val_loss: 0.4522 - val_acc: 0.7980\n",
            "Epoch 8/10\n",
            "20/20 [==============================] - 8s 403ms/step - loss: 0.4936 - acc: 0.7793 - val_loss: 0.4466 - val_acc: 0.8030\n",
            "Epoch 9/10\n",
            "20/20 [==============================] - 9s 470ms/step - loss: 0.4963 - acc: 0.7777 - val_loss: 0.4490 - val_acc: 0.7989\n",
            "Epoch 10/10\n",
            "20/20 [==============================] - 9s 456ms/step - loss: 0.4999 - acc: 0.7779 - val_loss: 0.4526 - val_acc: 0.7992\n"
          ],
          "name": "stdout"
        },
        {
          "output_type": "stream",
          "text": [
            "[========================================================================] 100%\n"
          ],
          "name": "stderr"
        },
        {
          "output_type": "stream",
          "text": [
            "(829, 224, 224, 3) (97, 224, 224, 3) (98, 224, 224, 3) (829, 40) (97, 40) (98, 40)\n",
            "Treinando lote  5  de  198\n",
            "Epoch 1/10\n",
            "20/20 [==============================] - 10s 494ms/step - loss: 0.4797 - acc: 0.7868 - val_loss: 0.4467 - val_acc: 0.7993\n",
            "Epoch 2/10\n",
            "20/20 [==============================] - 10s 516ms/step - loss: 0.4810 - acc: 0.7888 - val_loss: 0.4452 - val_acc: 0.7985\n",
            "Epoch 3/10\n",
            "20/20 [==============================] - 8s 420ms/step - loss: 0.4834 - acc: 0.7859 - val_loss: 0.4481 - val_acc: 0.7981\n",
            "Epoch 4/10\n",
            "20/20 [==============================] - 8s 391ms/step - loss: 0.4768 - acc: 0.7890 - val_loss: 0.4455 - val_acc: 0.8021\n",
            "Epoch 5/10\n",
            "20/20 [==============================] - 8s 415ms/step - loss: 0.4763 - acc: 0.7905 - val_loss: 0.4490 - val_acc: 0.7986\n",
            "Epoch 6/10\n",
            "20/20 [==============================] - 9s 446ms/step - loss: 0.4861 - acc: 0.7878 - val_loss: 0.4452 - val_acc: 0.7996\n",
            "Epoch 7/10\n",
            "20/20 [==============================] - 9s 431ms/step - loss: 0.4775 - acc: 0.7883 - val_loss: 0.4495 - val_acc: 0.7989\n",
            "Epoch 8/10\n",
            "20/20 [==============================] - 8s 396ms/step - loss: 0.4802 - acc: 0.7883 - val_loss: 0.4438 - val_acc: 0.8012\n",
            "Epoch 9/10\n",
            "20/20 [==============================] - 8s 396ms/step - loss: 0.4748 - acc: 0.7920 - val_loss: 0.4470 - val_acc: 0.8005\n",
            "Epoch 10/10\n",
            "20/20 [==============================] - 9s 456ms/step - loss: 0.4785 - acc: 0.7895 - val_loss: 0.4473 - val_acc: 0.7987\n"
          ],
          "name": "stdout"
        },
        {
          "output_type": "stream",
          "text": [
            "[========================================================================] 100%\n"
          ],
          "name": "stderr"
        },
        {
          "output_type": "stream",
          "text": [
            "(828, 224, 224, 3) (96, 224, 224, 3) (100, 224, 224, 3) (828, 40) (96, 40) (100, 40)\n",
            "Treinando lote  6  de  198\n",
            "Epoch 1/10\n",
            "20/20 [==============================] - 12s 580ms/step - loss: 0.4817 - acc: 0.7876 - val_loss: 0.4189 - val_acc: 0.8120\n",
            "Epoch 2/10\n",
            "20/20 [==============================] - 9s 467ms/step - loss: 0.4885 - acc: 0.7814 - val_loss: 0.4275 - val_acc: 0.8040\n",
            "Epoch 3/10\n",
            "20/20 [==============================] - 9s 457ms/step - loss: 0.4818 - acc: 0.7893 - val_loss: 0.4211 - val_acc: 0.8065\n",
            "Epoch 4/10\n",
            "20/20 [==============================] - 8s 424ms/step - loss: 0.4876 - acc: 0.7828 - val_loss: 0.4209 - val_acc: 0.8104\n",
            "Epoch 5/10\n",
            "20/20 [==============================] - 8s 414ms/step - loss: 0.4933 - acc: 0.7808 - val_loss: 0.4244 - val_acc: 0.8064\n",
            "Epoch 6/10\n",
            "20/20 [==============================] - 9s 472ms/step - loss: 0.4834 - acc: 0.7852 - val_loss: 0.4198 - val_acc: 0.8080\n",
            "Epoch 7/10\n",
            "20/20 [==============================] - 9s 452ms/step - loss: 0.4794 - acc: 0.7882 - val_loss: 0.4197 - val_acc: 0.8087\n",
            "Epoch 8/10\n",
            "20/20 [==============================] - 9s 430ms/step - loss: 0.4869 - acc: 0.7848 - val_loss: 0.4235 - val_acc: 0.8055\n",
            "Epoch 9/10\n",
            "20/20 [==============================] - 8s 413ms/step - loss: 0.4844 - acc: 0.7862 - val_loss: 0.4219 - val_acc: 0.8072\n",
            "Epoch 10/10\n",
            "20/20 [==============================] - 10s 496ms/step - loss: 0.4773 - acc: 0.7886 - val_loss: 0.4224 - val_acc: 0.8071\n"
          ],
          "name": "stdout"
        },
        {
          "output_type": "stream",
          "text": [
            "[========================================================================] 100%\n"
          ],
          "name": "stderr"
        },
        {
          "output_type": "stream",
          "text": [
            "(827, 224, 224, 3) (114, 224, 224, 3) (83, 224, 224, 3) (827, 40) (114, 40) (83, 40)\n",
            "Treinando lote  7  de  198\n",
            "Epoch 1/10\n",
            "20/20 [==============================] - 11s 554ms/step - loss: 0.4807 - acc: 0.7874 - val_loss: 0.4460 - val_acc: 0.8027\n",
            "Epoch 2/10\n",
            "20/20 [==============================] - 9s 457ms/step - loss: 0.4777 - acc: 0.7913 - val_loss: 0.4438 - val_acc: 0.8023\n",
            "Epoch 3/10\n",
            "20/20 [==============================] - 9s 444ms/step - loss: 0.4844 - acc: 0.7873 - val_loss: 0.4445 - val_acc: 0.8048\n",
            "Epoch 4/10\n",
            "20/20 [==============================] - 8s 414ms/step - loss: 0.4825 - acc: 0.7891 - val_loss: 0.4454 - val_acc: 0.8022\n",
            "Epoch 5/10\n",
            "20/20 [==============================] - 8s 408ms/step - loss: 0.4837 - acc: 0.7893 - val_loss: 0.4475 - val_acc: 0.8010\n",
            "Epoch 6/10\n",
            "20/20 [==============================] - 10s 483ms/step - loss: 0.4749 - acc: 0.7897 - val_loss: 0.4422 - val_acc: 0.8038\n",
            "Epoch 7/10\n",
            "20/20 [==============================] - 9s 463ms/step - loss: 0.4797 - acc: 0.7902 - val_loss: 0.4426 - val_acc: 0.8034\n",
            "Epoch 8/10\n",
            "20/20 [==============================] - 8s 420ms/step - loss: 0.4808 - acc: 0.7904 - val_loss: 0.4472 - val_acc: 0.8013\n",
            "Epoch 9/10\n",
            "20/20 [==============================] - 8s 408ms/step - loss: 0.4779 - acc: 0.7884 - val_loss: 0.4429 - val_acc: 0.8055\n",
            "Epoch 10/10\n",
            "20/20 [==============================] - 10s 497ms/step - loss: 0.4810 - acc: 0.7918 - val_loss: 0.4466 - val_acc: 0.8028\n"
          ],
          "name": "stdout"
        },
        {
          "output_type": "stream",
          "text": [
            "[========================================================================] 100%\n"
          ],
          "name": "stderr"
        },
        {
          "output_type": "stream",
          "text": [
            "(823, 224, 224, 3) (90, 224, 224, 3) (111, 224, 224, 3) (823, 40) (90, 40) (111, 40)\n",
            "Treinando lote  8  de  198\n",
            "Epoch 1/10\n",
            "20/20 [==============================] - 14s 678ms/step - loss: 0.4812 - acc: 0.7873 - val_loss: 0.4445 - val_acc: 0.8034\n",
            "Epoch 2/10\n",
            "20/20 [==============================] - 9s 470ms/step - loss: 0.4950 - acc: 0.7837 - val_loss: 0.4402 - val_acc: 0.8026\n",
            "Epoch 3/10\n",
            "20/20 [==============================] - 9s 459ms/step - loss: 0.4867 - acc: 0.7854 - val_loss: 0.4427 - val_acc: 0.8035\n",
            "Epoch 4/10\n",
            "20/20 [==============================] - 8s 419ms/step - loss: 0.4855 - acc: 0.7834 - val_loss: 0.4455 - val_acc: 0.8028\n",
            "Epoch 5/10\n",
            "20/20 [==============================] - 8s 410ms/step - loss: 0.4882 - acc: 0.7815 - val_loss: 0.4364 - val_acc: 0.8047\n",
            "Epoch 6/10\n",
            "20/20 [==============================] - 10s 495ms/step - loss: 0.4866 - acc: 0.7858 - val_loss: 0.4454 - val_acc: 0.8026\n",
            "Epoch 7/10\n",
            "20/20 [==============================] - 9s 454ms/step - loss: 0.4824 - acc: 0.7843 - val_loss: 0.4427 - val_acc: 0.8026\n",
            "Epoch 8/10\n",
            "20/20 [==============================] - 9s 431ms/step - loss: 0.4879 - acc: 0.7826 - val_loss: 0.4394 - val_acc: 0.8057\n",
            "Epoch 9/10\n",
            "20/20 [==============================] - 8s 410ms/step - loss: 0.4826 - acc: 0.7834 - val_loss: 0.4451 - val_acc: 0.8035\n",
            "Epoch 10/10\n",
            "20/20 [==============================] - 10s 501ms/step - loss: 0.4785 - acc: 0.7862 - val_loss: 0.4448 - val_acc: 0.8036\n"
          ],
          "name": "stdout"
        },
        {
          "output_type": "stream",
          "text": [
            "[========================================================================] 100%\n"
          ],
          "name": "stderr"
        },
        {
          "output_type": "stream",
          "text": [
            "(833, 224, 224, 3) (98, 224, 224, 3) (93, 224, 224, 3) (833, 40) (98, 40) (93, 40)\n",
            "Treinando lote  9  de  198\n",
            "Epoch 1/10\n",
            "20/20 [==============================] - 10s 498ms/step - loss: 0.4807 - acc: 0.7881 - val_loss: 0.4358 - val_acc: 0.8014\n",
            "Epoch 2/10\n",
            "20/20 [==============================] - 9s 447ms/step - loss: 0.4698 - acc: 0.7921 - val_loss: 0.4389 - val_acc: 0.8034\n",
            "Epoch 3/10\n",
            "20/20 [==============================] - 8s 405ms/step - loss: 0.4768 - acc: 0.7902 - val_loss: 0.4360 - val_acc: 0.8053\n",
            "Epoch 4/10\n",
            "20/20 [==============================] - 7s 372ms/step - loss: 0.4825 - acc: 0.7851 - val_loss: 0.4406 - val_acc: 0.8039\n",
            "Epoch 5/10\n",
            "20/20 [==============================] - 9s 465ms/step - loss: 0.4681 - acc: 0.7974 - val_loss: 0.4377 - val_acc: 0.8062\n",
            "Epoch 6/10\n",
            "20/20 [==============================] - 9s 446ms/step - loss: 0.4750 - acc: 0.7898 - val_loss: 0.4401 - val_acc: 0.8039\n",
            "Epoch 7/10\n",
            "20/20 [==============================] - 8s 405ms/step - loss: 0.4768 - acc: 0.7917 - val_loss: 0.4387 - val_acc: 0.8063\n",
            "Epoch 8/10\n",
            "20/20 [==============================] - 7s 372ms/step - loss: 0.4749 - acc: 0.7949 - val_loss: 0.4387 - val_acc: 0.8078\n",
            "Epoch 9/10\n",
            "20/20 [==============================] - 9s 445ms/step - loss: 0.4755 - acc: 0.7922 - val_loss: 0.4395 - val_acc: 0.8059\n",
            "Epoch 10/10\n",
            "20/20 [==============================] - 9s 432ms/step - loss: 0.4721 - acc: 0.7908 - val_loss: 0.4378 - val_acc: 0.8070\n"
          ],
          "name": "stdout"
        },
        {
          "output_type": "stream",
          "text": [
            "[========================================================================] 100%\n"
          ],
          "name": "stderr"
        },
        {
          "output_type": "stream",
          "text": [
            "(812, 224, 224, 3) (114, 224, 224, 3) (98, 224, 224, 3) (812, 40) (114, 40) (98, 40)\n",
            "Treinando lote  10  de  198\n",
            "Epoch 1/10\n",
            "20/20 [==============================] - 10s 487ms/step - loss: 0.4786 - acc: 0.7898 - val_loss: 0.4503 - val_acc: 0.7989\n",
            "Epoch 2/10\n",
            "20/20 [==============================] - 9s 458ms/step - loss: 0.4778 - acc: 0.7903 - val_loss: 0.4421 - val_acc: 0.8040\n",
            "Epoch 3/10\n",
            "20/20 [==============================] - 9s 432ms/step - loss: 0.4667 - acc: 0.7924 - val_loss: 0.4424 - val_acc: 0.8045\n",
            "Epoch 4/10\n",
            "20/20 [==============================] - 8s 403ms/step - loss: 0.4765 - acc: 0.7896 - val_loss: 0.4505 - val_acc: 0.8002\n",
            "Epoch 5/10\n",
            "20/20 [==============================] - 8s 407ms/step - loss: 0.4755 - acc: 0.7903 - val_loss: 0.4464 - val_acc: 0.8009\n",
            "Epoch 6/10\n",
            "20/20 [==============================] - 9s 463ms/step - loss: 0.4667 - acc: 0.7925 - val_loss: 0.4458 - val_acc: 0.8053\n",
            "Epoch 7/10\n",
            "20/20 [==============================] - 9s 446ms/step - loss: 0.4747 - acc: 0.7915 - val_loss: 0.4450 - val_acc: 0.8024\n",
            "Epoch 8/10\n",
            "20/20 [==============================] - 9s 426ms/step - loss: 0.4728 - acc: 0.7909 - val_loss: 0.4474 - val_acc: 0.8036\n",
            "Epoch 9/10\n",
            "20/20 [==============================] - 8s 401ms/step - loss: 0.4735 - acc: 0.7914 - val_loss: 0.4436 - val_acc: 0.8043\n",
            "Epoch 10/10\n",
            "20/20 [==============================] - 9s 474ms/step - loss: 0.4770 - acc: 0.7888 - val_loss: 0.4486 - val_acc: 0.8004\n"
          ],
          "name": "stdout"
        },
        {
          "output_type": "stream",
          "text": [
            "[========================================================================] 100%\n"
          ],
          "name": "stderr"
        },
        {
          "output_type": "stream",
          "text": [
            "(828, 224, 224, 3) (93, 224, 224, 3) (103, 224, 224, 3) (828, 40) (93, 40) (103, 40)\n",
            "Treinando lote  11  de  198\n",
            "Epoch 1/10\n",
            "20/20 [==============================] - 10s 499ms/step - loss: 0.4753 - acc: 0.7927 - val_loss: 0.4212 - val_acc: 0.8168\n",
            "Epoch 2/10\n",
            "20/20 [==============================] - 9s 456ms/step - loss: 0.4697 - acc: 0.7950 - val_loss: 0.4270 - val_acc: 0.8128\n",
            "Epoch 3/10\n",
            "20/20 [==============================] - 9s 452ms/step - loss: 0.4753 - acc: 0.7901 - val_loss: 0.4240 - val_acc: 0.8161\n",
            "Epoch 4/10\n",
            "20/20 [==============================] - 8s 421ms/step - loss: 0.4696 - acc: 0.7950 - val_loss: 0.4231 - val_acc: 0.8155\n",
            "Epoch 5/10\n",
            "20/20 [==============================] - 8s 413ms/step - loss: 0.4752 - acc: 0.7909 - val_loss: 0.4268 - val_acc: 0.8141\n",
            "Epoch 6/10\n",
            "20/20 [==============================] - 10s 494ms/step - loss: 0.4710 - acc: 0.7935 - val_loss: 0.4223 - val_acc: 0.8156\n",
            "Epoch 7/10\n",
            "20/20 [==============================] - 9s 454ms/step - loss: 0.4752 - acc: 0.7900 - val_loss: 0.4233 - val_acc: 0.8154\n",
            "Epoch 8/10\n",
            "20/20 [==============================] - 9s 428ms/step - loss: 0.4682 - acc: 0.7925 - val_loss: 0.4233 - val_acc: 0.8142\n",
            "Epoch 9/10\n",
            "20/20 [==============================] - 8s 411ms/step - loss: 0.4725 - acc: 0.7925 - val_loss: 0.4254 - val_acc: 0.8140\n",
            "Epoch 10/10\n",
            "20/20 [==============================] - 10s 481ms/step - loss: 0.4643 - acc: 0.7945 - val_loss: 0.4262 - val_acc: 0.8127\n"
          ],
          "name": "stdout"
        },
        {
          "output_type": "stream",
          "text": [
            "[========================================================================] 100%\n"
          ],
          "name": "stderr"
        },
        {
          "output_type": "stream",
          "text": [
            "(809, 224, 224, 3) (107, 224, 224, 3) (108, 224, 224, 3) (809, 40) (107, 40) (108, 40)\n",
            "Treinando lote  12  de  198\n",
            "Epoch 1/10\n",
            "20/20 [==============================] - 12s 612ms/step - loss: 0.4683 - acc: 0.7917 - val_loss: 0.4617 - val_acc: 0.7956\n",
            "Epoch 2/10\n",
            "20/20 [==============================] - 9s 443ms/step - loss: 0.4748 - acc: 0.7869 - val_loss: 0.4556 - val_acc: 0.7982\n",
            "Epoch 3/10\n",
            "20/20 [==============================] - 9s 435ms/step - loss: 0.4696 - acc: 0.7887 - val_loss: 0.4547 - val_acc: 0.7983\n",
            "Epoch 4/10\n",
            "20/20 [==============================] - 8s 396ms/step - loss: 0.4720 - acc: 0.7866 - val_loss: 0.4622 - val_acc: 0.7956\n",
            "Epoch 5/10\n",
            "20/20 [==============================] - 8s 391ms/step - loss: 0.4670 - acc: 0.7903 - val_loss: 0.4544 - val_acc: 0.7976\n",
            "Epoch 6/10\n",
            "20/20 [==============================] - 9s 449ms/step - loss: 0.4688 - acc: 0.7898 - val_loss: 0.4624 - val_acc: 0.7954\n",
            "Epoch 7/10\n",
            "20/20 [==============================] - 8s 424ms/step - loss: 0.4676 - acc: 0.7911 - val_loss: 0.4628 - val_acc: 0.7961\n",
            "Epoch 8/10\n",
            "20/20 [==============================] - 8s 407ms/step - loss: 0.4756 - acc: 0.7873 - val_loss: 0.4538 - val_acc: 0.7969\n",
            "Epoch 9/10\n",
            "20/20 [==============================] - 8s 393ms/step - loss: 0.4635 - acc: 0.7917 - val_loss: 0.4599 - val_acc: 0.7959\n",
            "Epoch 10/10\n",
            "20/20 [==============================] - 9s 461ms/step - loss: 0.4664 - acc: 0.7892 - val_loss: 0.4579 - val_acc: 0.7965\n"
          ],
          "name": "stdout"
        },
        {
          "output_type": "stream",
          "text": [
            "[========================================================================] 100%\n"
          ],
          "name": "stderr"
        },
        {
          "output_type": "stream",
          "text": [
            "(821, 224, 224, 3) (124, 224, 224, 3) (79, 224, 224, 3) (821, 40) (124, 40) (79, 40)\n",
            "Treinando lote  13  de  198\n",
            "Epoch 1/10\n",
            "20/20 [==============================] - 12s 582ms/step - loss: 0.4729 - acc: 0.7904 - val_loss: 0.4259 - val_acc: 0.8147\n",
            "Epoch 2/10\n",
            "20/20 [==============================] - 9s 460ms/step - loss: 0.4779 - acc: 0.7914 - val_loss: 0.4289 - val_acc: 0.8153\n",
            "Epoch 3/10\n",
            "20/20 [==============================] - 9s 435ms/step - loss: 0.4846 - acc: 0.7863 - val_loss: 0.4285 - val_acc: 0.8143\n",
            "Epoch 4/10\n",
            "20/20 [==============================] - 8s 420ms/step - loss: 0.4693 - acc: 0.7917 - val_loss: 0.4250 - val_acc: 0.8166\n",
            "Epoch 5/10\n",
            "20/20 [==============================] - 8s 412ms/step - loss: 0.4681 - acc: 0.7946 - val_loss: 0.4248 - val_acc: 0.8151\n",
            "Epoch 6/10\n",
            "20/20 [==============================] - 9s 464ms/step - loss: 0.4700 - acc: 0.7939 - val_loss: 0.4286 - val_acc: 0.8139\n",
            "Epoch 7/10\n",
            "20/20 [==============================] - 9s 444ms/step - loss: 0.4743 - acc: 0.7933 - val_loss: 0.4290 - val_acc: 0.8138\n",
            "Epoch 8/10\n",
            "20/20 [==============================] - 9s 427ms/step - loss: 0.4765 - acc: 0.7904 - val_loss: 0.4238 - val_acc: 0.8160\n",
            "Epoch 9/10\n",
            "20/20 [==============================] - 8s 410ms/step - loss: 0.4740 - acc: 0.7900 - val_loss: 0.4282 - val_acc: 0.8136\n",
            "Epoch 10/10\n",
            "20/20 [==============================] - 10s 487ms/step - loss: 0.4743 - acc: 0.7888 - val_loss: 0.4245 - val_acc: 0.8162\n"
          ],
          "name": "stdout"
        },
        {
          "output_type": "stream",
          "text": [
            "[========================================================================] 100%\n"
          ],
          "name": "stderr"
        },
        {
          "output_type": "stream",
          "text": [
            "(834, 224, 224, 3) (89, 224, 224, 3) (101, 224, 224, 3) (834, 40) (89, 40) (101, 40)\n",
            "Treinando lote  14  de  198\n",
            "Epoch 1/10\n",
            "20/20 [==============================] - 10s 482ms/step - loss: 0.4592 - acc: 0.7982 - val_loss: 0.4361 - val_acc: 0.8073\n",
            "Epoch 2/10\n",
            "20/20 [==============================] - 9s 453ms/step - loss: 0.4633 - acc: 0.7956 - val_loss: 0.4390 - val_acc: 0.8073\n",
            "Epoch 3/10\n",
            "20/20 [==============================] - 9s 431ms/step - loss: 0.4647 - acc: 0.7950 - val_loss: 0.4393 - val_acc: 0.8057\n",
            "Epoch 4/10\n",
            "20/20 [==============================] - 8s 399ms/step - loss: 0.4638 - acc: 0.7951 - val_loss: 0.4431 - val_acc: 0.8042\n",
            "Epoch 5/10\n",
            "20/20 [==============================] - 10s 478ms/step - loss: 0.4705 - acc: 0.7954 - val_loss: 0.4364 - val_acc: 0.8095\n",
            "Epoch 6/10\n",
            "20/20 [==============================] - 9s 463ms/step - loss: 0.4645 - acc: 0.7944 - val_loss: 0.4388 - val_acc: 0.8068\n",
            "Epoch 7/10\n",
            "20/20 [==============================] - 9s 429ms/step - loss: 0.4619 - acc: 0.7948 - val_loss: 0.4402 - val_acc: 0.8064\n",
            "Epoch 8/10\n",
            "20/20 [==============================] - 8s 399ms/step - loss: 0.4672 - acc: 0.7940 - val_loss: 0.4417 - val_acc: 0.8065\n",
            "Epoch 9/10\n",
            "20/20 [==============================] - 10s 478ms/step - loss: 0.4542 - acc: 0.7998 - val_loss: 0.4386 - val_acc: 0.8070\n",
            "Epoch 10/10\n",
            "20/20 [==============================] - 9s 459ms/step - loss: 0.4683 - acc: 0.7918 - val_loss: 0.4418 - val_acc: 0.8033\n"
          ],
          "name": "stdout"
        },
        {
          "output_type": "stream",
          "text": [
            "[========================================================================] 100%\n"
          ],
          "name": "stderr"
        },
        {
          "output_type": "stream",
          "text": [
            "(830, 224, 224, 3) (101, 224, 224, 3) (93, 224, 224, 3) (830, 40) (101, 40) (93, 40)\n",
            "Treinando lote  15  de  198\n",
            "Epoch 1/10\n",
            "20/20 [==============================] - 14s 685ms/step - loss: 0.4771 - acc: 0.7911 - val_loss: 0.4569 - val_acc: 0.7929\n",
            "Epoch 2/10\n",
            "20/20 [==============================] - 9s 437ms/step - loss: 0.4687 - acc: 0.7945 - val_loss: 0.4448 - val_acc: 0.8014\n",
            "Epoch 3/10\n",
            "20/20 [==============================] - 9s 431ms/step - loss: 0.4704 - acc: 0.7929 - val_loss: 0.4501 - val_acc: 0.7969\n",
            "Epoch 4/10\n",
            "20/20 [==============================] - 8s 396ms/step - loss: 0.4750 - acc: 0.7939 - val_loss: 0.4505 - val_acc: 0.7972\n",
            "Epoch 5/10\n",
            "20/20 [==============================] - 8s 396ms/step - loss: 0.4713 - acc: 0.7913 - val_loss: 0.4482 - val_acc: 0.7962\n",
            "Epoch 6/10\n",
            "20/20 [==============================] - 9s 447ms/step - loss: 0.4772 - acc: 0.7894 - val_loss: 0.4511 - val_acc: 0.7988\n",
            "Epoch 7/10\n",
            "20/20 [==============================] - 9s 432ms/step - loss: 0.4703 - acc: 0.7939 - val_loss: 0.4491 - val_acc: 0.7978\n",
            "Epoch 8/10\n",
            "20/20 [==============================] - 8s 416ms/step - loss: 0.4739 - acc: 0.7909 - val_loss: 0.4499 - val_acc: 0.7971\n",
            "Epoch 9/10\n",
            "20/20 [==============================] - 8s 410ms/step - loss: 0.4710 - acc: 0.7938 - val_loss: 0.4449 - val_acc: 0.7981\n",
            "Epoch 10/10\n",
            "20/20 [==============================] - 10s 486ms/step - loss: 0.4677 - acc: 0.7950 - val_loss: 0.4544 - val_acc: 0.7967\n"
          ],
          "name": "stdout"
        },
        {
          "output_type": "stream",
          "text": [
            "[========================================================================] 100%\n"
          ],
          "name": "stderr"
        },
        {
          "output_type": "stream",
          "text": [
            "(825, 224, 224, 3) (97, 224, 224, 3) (102, 224, 224, 3) (825, 40) (97, 40) (102, 40)\n",
            "Treinando lote  16  de  198\n",
            "Epoch 1/10\n",
            "20/20 [==============================] - 10s 489ms/step - loss: 0.4707 - acc: 0.7953 - val_loss: 0.4512 - val_acc: 0.7880\n",
            "Epoch 2/10\n",
            "20/20 [==============================] - 9s 460ms/step - loss: 0.4679 - acc: 0.7946 - val_loss: 0.4623 - val_acc: 0.7822\n",
            "Epoch 3/10\n",
            "20/20 [==============================] - 9s 441ms/step - loss: 0.4729 - acc: 0.7917 - val_loss: 0.4516 - val_acc: 0.7882\n",
            "Epoch 4/10\n",
            "20/20 [==============================] - 8s 396ms/step - loss: 0.4631 - acc: 0.7966 - val_loss: 0.4622 - val_acc: 0.7813\n",
            "Epoch 5/10\n",
            "20/20 [==============================] - 8s 390ms/step - loss: 0.4660 - acc: 0.7956 - val_loss: 0.4553 - val_acc: 0.7847\n",
            "Epoch 6/10\n",
            "20/20 [==============================] - 9s 441ms/step - loss: 0.4638 - acc: 0.7951 - val_loss: 0.4584 - val_acc: 0.7855\n",
            "Epoch 7/10\n",
            "20/20 [==============================] - 9s 431ms/step - loss: 0.4658 - acc: 0.7943 - val_loss: 0.4581 - val_acc: 0.7875\n",
            "Epoch 8/10\n",
            "20/20 [==============================] - 8s 401ms/step - loss: 0.4654 - acc: 0.7959 - val_loss: 0.4548 - val_acc: 0.7887\n",
            "Epoch 9/10\n",
            "20/20 [==============================] - 8s 396ms/step - loss: 0.4680 - acc: 0.7929 - val_loss: 0.4571 - val_acc: 0.7864\n",
            "Epoch 10/10\n",
            "20/20 [==============================] - 9s 456ms/step - loss: 0.4664 - acc: 0.7946 - val_loss: 0.4571 - val_acc: 0.7855\n"
          ],
          "name": "stdout"
        },
        {
          "output_type": "stream",
          "text": [
            "[========================================================================] 100%\n"
          ],
          "name": "stderr"
        },
        {
          "output_type": "stream",
          "text": [
            "(814, 224, 224, 3) (103, 224, 224, 3) (107, 224, 224, 3) (814, 40) (103, 40) (107, 40)\n",
            "Treinando lote  17  de  198\n",
            "Epoch 1/10\n",
            "20/20 [==============================] - 11s 540ms/step - loss: 0.4593 - acc: 0.7989 - val_loss: 0.4286 - val_acc: 0.8072\n",
            "Epoch 2/10\n",
            "20/20 [==============================] - 10s 512ms/step - loss: 0.4676 - acc: 0.7958 - val_loss: 0.4256 - val_acc: 0.8071\n",
            "Epoch 3/10\n",
            "20/20 [==============================] - 9s 441ms/step - loss: 0.4593 - acc: 0.7982 - val_loss: 0.4299 - val_acc: 0.8067\n",
            "Epoch 4/10\n",
            "20/20 [==============================] - 8s 397ms/step - loss: 0.4616 - acc: 0.7987 - val_loss: 0.4282 - val_acc: 0.8074\n",
            "Epoch 5/10\n",
            "20/20 [==============================] - 8s 398ms/step - loss: 0.4569 - acc: 0.8002 - val_loss: 0.4245 - val_acc: 0.8055\n",
            "Epoch 6/10\n",
            "20/20 [==============================] - 9s 437ms/step - loss: 0.4630 - acc: 0.7992 - val_loss: 0.4352 - val_acc: 0.8031\n",
            "Epoch 7/10\n",
            "20/20 [==============================] - 9s 450ms/step - loss: 0.4581 - acc: 0.7990 - val_loss: 0.4324 - val_acc: 0.8036\n",
            "Epoch 8/10\n",
            "20/20 [==============================] - 8s 398ms/step - loss: 0.4523 - acc: 0.8030 - val_loss: 0.4284 - val_acc: 0.8044\n",
            "Epoch 9/10\n",
            "20/20 [==============================] - 8s 404ms/step - loss: 0.4570 - acc: 0.7996 - val_loss: 0.4309 - val_acc: 0.8038\n",
            "Epoch 10/10\n",
            "20/20 [==============================] - 9s 461ms/step - loss: 0.4582 - acc: 0.8002 - val_loss: 0.4305 - val_acc: 0.8026\n"
          ],
          "name": "stdout"
        },
        {
          "output_type": "stream",
          "text": [
            "[========================================================================] 100%\n"
          ],
          "name": "stderr"
        },
        {
          "output_type": "stream",
          "text": [
            "(805, 224, 224, 3) (118, 224, 224, 3) (101, 224, 224, 3) (805, 40) (118, 40) (101, 40)\n",
            "Treinando lote  18  de  198\n",
            "Epoch 1/10\n",
            "20/20 [==============================] - 10s 496ms/step - loss: 0.4699 - acc: 0.7938 - val_loss: 0.4458 - val_acc: 0.8001\n",
            "Epoch 2/10\n",
            "20/20 [==============================] - 9s 447ms/step - loss: 0.4812 - acc: 0.7870 - val_loss: 0.4411 - val_acc: 0.8028\n",
            "Epoch 3/10\n",
            "20/20 [==============================] - 9s 441ms/step - loss: 0.4681 - acc: 0.7902 - val_loss: 0.4433 - val_acc: 0.8047\n",
            "Epoch 4/10\n",
            "20/20 [==============================] - 8s 408ms/step - loss: 0.4711 - acc: 0.7929 - val_loss: 0.4426 - val_acc: 0.8039\n",
            "Epoch 5/10\n",
            "20/20 [==============================] - 8s 402ms/step - loss: 0.4715 - acc: 0.7886 - val_loss: 0.4462 - val_acc: 0.8019\n",
            "Epoch 6/10\n",
            "20/20 [==============================] - 9s 464ms/step - loss: 0.4730 - acc: 0.7895 - val_loss: 0.4399 - val_acc: 0.8061\n",
            "Epoch 7/10\n",
            "20/20 [==============================] - 9s 435ms/step - loss: 0.4745 - acc: 0.7869 - val_loss: 0.4427 - val_acc: 0.8039\n",
            "Epoch 8/10\n",
            "20/20 [==============================] - 8s 416ms/step - loss: 0.4781 - acc: 0.7864 - val_loss: 0.4435 - val_acc: 0.8043\n",
            "Epoch 9/10\n",
            "20/20 [==============================] - 8s 409ms/step - loss: 0.4706 - acc: 0.7878 - val_loss: 0.4401 - val_acc: 0.8044\n",
            "Epoch 10/10\n",
            "20/20 [==============================] - 10s 491ms/step - loss: 0.4718 - acc: 0.7896 - val_loss: 0.4459 - val_acc: 0.8034\n"
          ],
          "name": "stdout"
        },
        {
          "output_type": "stream",
          "text": [
            "[========================================================================] 100%\n"
          ],
          "name": "stderr"
        },
        {
          "output_type": "stream",
          "text": [
            "(828, 224, 224, 3) (99, 224, 224, 3) (97, 224, 224, 3) (828, 40) (99, 40) (97, 40)\n",
            "Treinando lote  19  de  198\n",
            "Epoch 1/10\n",
            "20/20 [==============================] - 11s 534ms/step - loss: 0.4694 - acc: 0.7914 - val_loss: 0.4347 - val_acc: 0.8020\n",
            "Epoch 2/10\n",
            "20/20 [==============================] - 9s 438ms/step - loss: 0.4656 - acc: 0.7929 - val_loss: 0.4318 - val_acc: 0.8065\n",
            "Epoch 3/10\n",
            "20/20 [==============================] - 9s 439ms/step - loss: 0.4745 - acc: 0.7918 - val_loss: 0.4332 - val_acc: 0.8052\n",
            "Epoch 4/10\n",
            "20/20 [==============================] - 8s 397ms/step - loss: 0.4646 - acc: 0.7922 - val_loss: 0.4346 - val_acc: 0.8041\n",
            "Epoch 5/10\n",
            "20/20 [==============================] - 8s 399ms/step - loss: 0.4633 - acc: 0.7937 - val_loss: 0.4361 - val_acc: 0.8048\n",
            "Epoch 6/10\n",
            "20/20 [==============================] - 9s 463ms/step - loss: 0.4681 - acc: 0.7905 - val_loss: 0.4328 - val_acc: 0.8032\n",
            "Epoch 7/10\n",
            "20/20 [==============================] - 9s 434ms/step - loss: 0.4633 - acc: 0.7942 - val_loss: 0.4303 - val_acc: 0.8088\n",
            "Epoch 8/10\n",
            "20/20 [==============================] - 8s 398ms/step - loss: 0.4621 - acc: 0.7951 - val_loss: 0.4386 - val_acc: 0.8013\n",
            "Epoch 9/10\n",
            "20/20 [==============================] - 8s 394ms/step - loss: 0.4630 - acc: 0.7965 - val_loss: 0.4340 - val_acc: 0.8049\n",
            "Epoch 10/10\n",
            "20/20 [==============================] - 9s 454ms/step - loss: 0.4698 - acc: 0.7924 - val_loss: 0.4347 - val_acc: 0.8050\n"
          ],
          "name": "stdout"
        },
        {
          "output_type": "stream",
          "text": [
            "[========================================================================] 100%\n"
          ],
          "name": "stderr"
        },
        {
          "output_type": "stream",
          "text": [
            "(814, 224, 224, 3) (106, 224, 224, 3) (104, 224, 224, 3) (814, 40) (106, 40) (104, 40)\n",
            "Treinando lote  20  de  198\n",
            "Epoch 1/10\n",
            "20/20 [==============================] - 11s 554ms/step - loss: 0.4652 - acc: 0.7951 - val_loss: 0.4527 - val_acc: 0.7975\n",
            "Epoch 2/10\n",
            "20/20 [==============================] - 9s 449ms/step - loss: 0.4712 - acc: 0.7920 - val_loss: 0.4473 - val_acc: 0.8026\n",
            "Epoch 3/10\n",
            "20/20 [==============================] - 8s 424ms/step - loss: 0.4631 - acc: 0.7935 - val_loss: 0.4529 - val_acc: 0.7988\n",
            "Epoch 4/10\n",
            "20/20 [==============================] - 8s 401ms/step - loss: 0.4673 - acc: 0.7925 - val_loss: 0.4475 - val_acc: 0.8015\n",
            "Epoch 5/10\n",
            "20/20 [==============================] - 8s 393ms/step - loss: 0.4653 - acc: 0.7932 - val_loss: 0.4526 - val_acc: 0.7981\n",
            "Epoch 6/10\n",
            "20/20 [==============================] - 9s 467ms/step - loss: 0.4607 - acc: 0.7965 - val_loss: 0.4480 - val_acc: 0.8005\n",
            "Epoch 7/10\n",
            "20/20 [==============================] - 9s 431ms/step - loss: 0.4751 - acc: 0.7902 - val_loss: 0.4440 - val_acc: 0.8009\n",
            "Epoch 8/10\n",
            "20/20 [==============================] - 8s 407ms/step - loss: 0.4602 - acc: 0.7967 - val_loss: 0.4566 - val_acc: 0.7986\n",
            "Epoch 9/10\n",
            "20/20 [==============================] - 8s 393ms/step - loss: 0.4649 - acc: 0.7941 - val_loss: 0.4495 - val_acc: 0.8014\n",
            "Epoch 10/10\n",
            "20/20 [==============================] - 9s 447ms/step - loss: 0.4717 - acc: 0.7901 - val_loss: 0.4510 - val_acc: 0.8000\n"
          ],
          "name": "stdout"
        },
        {
          "output_type": "stream",
          "text": [
            "[========================================================================] 100%\n"
          ],
          "name": "stderr"
        },
        {
          "output_type": "stream",
          "text": [
            "(834, 224, 224, 3) (102, 224, 224, 3) (88, 224, 224, 3) (834, 40) (102, 40) (88, 40)\n",
            "Treinando lote  21  de  198\n",
            "Epoch 1/10\n",
            "20/20 [==============================] - 11s 545ms/step - loss: 0.4577 - acc: 0.7963 - val_loss: 0.4460 - val_acc: 0.8019\n",
            "Epoch 2/10\n",
            "20/20 [==============================] - 8s 425ms/step - loss: 0.4737 - acc: 0.7906 - val_loss: 0.4454 - val_acc: 0.8013\n",
            "Epoch 3/10\n",
            "20/20 [==============================] - 8s 420ms/step - loss: 0.4708 - acc: 0.7890 - val_loss: 0.4449 - val_acc: 0.8009\n",
            "Epoch 4/10\n",
            "20/20 [==============================] - 8s 378ms/step - loss: 0.4549 - acc: 0.7968 - val_loss: 0.4455 - val_acc: 0.8008\n",
            "Epoch 5/10\n",
            "20/20 [==============================] - 9s 458ms/step - loss: 0.4558 - acc: 0.7981 - val_loss: 0.4459 - val_acc: 0.8003\n",
            "Epoch 6/10\n",
            "20/20 [==============================] - 8s 420ms/step - loss: 0.4565 - acc: 0.7957 - val_loss: 0.4451 - val_acc: 0.7985\n",
            "Epoch 7/10\n",
            "20/20 [==============================] - 8s 420ms/step - loss: 0.4688 - acc: 0.7912 - val_loss: 0.4445 - val_acc: 0.8002\n",
            "Epoch 8/10\n",
            "20/20 [==============================] - 8s 377ms/step - loss: 0.4589 - acc: 0.7958 - val_loss: 0.4465 - val_acc: 0.7996\n",
            "Epoch 9/10\n",
            "20/20 [==============================] - 10s 493ms/step - loss: 0.4679 - acc: 0.7916 - val_loss: 0.4427 - val_acc: 0.8024\n",
            "Epoch 10/10\n",
            "20/20 [==============================] - 8s 408ms/step - loss: 0.4634 - acc: 0.7898 - val_loss: 0.4490 - val_acc: 0.7990\n"
          ],
          "name": "stdout"
        },
        {
          "output_type": "stream",
          "text": [
            "[========================================================================] 100%\n"
          ],
          "name": "stderr"
        },
        {
          "output_type": "stream",
          "text": [
            "(814, 224, 224, 3) (116, 224, 224, 3) (94, 224, 224, 3) (814, 40) (116, 40) (94, 40)\n",
            "Treinando lote  22  de  198\n",
            "Epoch 1/10\n",
            "20/20 [==============================] - 12s 598ms/step - loss: 0.4664 - acc: 0.7923 - val_loss: 0.4406 - val_acc: 0.8025\n",
            "Epoch 2/10\n",
            "20/20 [==============================] - 9s 466ms/step - loss: 0.4621 - acc: 0.7957 - val_loss: 0.4284 - val_acc: 0.8063\n",
            "Epoch 3/10\n",
            "20/20 [==============================] - 8s 421ms/step - loss: 0.4574 - acc: 0.7973 - val_loss: 0.4345 - val_acc: 0.8053\n",
            "Epoch 4/10\n",
            "20/20 [==============================] - 8s 415ms/step - loss: 0.4624 - acc: 0.7969 - val_loss: 0.4363 - val_acc: 0.8030\n",
            "Epoch 5/10\n",
            "20/20 [==============================] - 8s 402ms/step - loss: 0.4581 - acc: 0.7974 - val_loss: 0.4385 - val_acc: 0.8008\n",
            "Epoch 6/10\n",
            "20/20 [==============================] - 9s 474ms/step - loss: 0.4593 - acc: 0.7991 - val_loss: 0.4333 - val_acc: 0.8070\n",
            "Epoch 7/10\n",
            "20/20 [==============================] - 9s 461ms/step - loss: 0.4546 - acc: 0.7985 - val_loss: 0.4375 - val_acc: 0.8045\n",
            "Epoch 8/10\n",
            "20/20 [==============================] - 8s 415ms/step - loss: 0.4653 - acc: 0.7940 - val_loss: 0.4342 - val_acc: 0.8037\n",
            "Epoch 9/10\n",
            "20/20 [==============================] - 8s 410ms/step - loss: 0.4595 - acc: 0.7951 - val_loss: 0.4373 - val_acc: 0.8031\n",
            "Epoch 10/10\n",
            "20/20 [==============================] - 10s 504ms/step - loss: 0.4599 - acc: 0.7965 - val_loss: 0.4341 - val_acc: 0.8053\n"
          ],
          "name": "stdout"
        },
        {
          "output_type": "stream",
          "text": [
            "[========================================================================] 100%\n"
          ],
          "name": "stderr"
        },
        {
          "output_type": "stream",
          "text": [
            "(832, 224, 224, 3) (89, 224, 224, 3) (103, 224, 224, 3) (832, 40) (89, 40) (103, 40)\n",
            "Treinando lote  23  de  198\n",
            "Epoch 1/10\n",
            "20/20 [==============================] - 10s 498ms/step - loss: 0.4608 - acc: 0.7931 - val_loss: 0.4420 - val_acc: 0.8038\n",
            "Epoch 2/10\n",
            "20/20 [==============================] - 9s 463ms/step - loss: 0.4606 - acc: 0.7962 - val_loss: 0.4431 - val_acc: 0.8006\n",
            "Epoch 3/10\n",
            "20/20 [==============================] - 9s 437ms/step - loss: 0.4628 - acc: 0.7929 - val_loss: 0.4470 - val_acc: 0.7991\n",
            "Epoch 4/10\n",
            "20/20 [==============================] - 8s 420ms/step - loss: 0.4606 - acc: 0.7926 - val_loss: 0.4438 - val_acc: 0.8010\n",
            "Epoch 5/10\n",
            "20/20 [==============================] - 8s 411ms/step - loss: 0.4622 - acc: 0.7903 - val_loss: 0.4461 - val_acc: 0.7999\n",
            "Epoch 6/10\n",
            "20/20 [==============================] - 9s 470ms/step - loss: 0.4549 - acc: 0.7964 - val_loss: 0.4427 - val_acc: 0.8023\n",
            "Epoch 7/10\n",
            "20/20 [==============================] - 9s 466ms/step - loss: 0.4647 - acc: 0.7917 - val_loss: 0.4435 - val_acc: 0.7997\n",
            "Epoch 8/10\n",
            "20/20 [==============================] - 9s 437ms/step - loss: 0.4615 - acc: 0.7943 - val_loss: 0.4455 - val_acc: 0.8014\n",
            "Epoch 9/10\n",
            "20/20 [==============================] - 8s 409ms/step - loss: 0.4576 - acc: 0.7958 - val_loss: 0.4447 - val_acc: 0.8003\n",
            "Epoch 10/10\n",
            "20/20 [==============================] - 10s 482ms/step - loss: 0.4637 - acc: 0.7917 - val_loss: 0.4449 - val_acc: 0.8012\n"
          ],
          "name": "stdout"
        },
        {
          "output_type": "stream",
          "text": [
            "[========================================================================] 100%\n"
          ],
          "name": "stderr"
        },
        {
          "output_type": "stream",
          "text": [
            "(814, 224, 224, 3) (107, 224, 224, 3) (103, 224, 224, 3) (814, 40) (107, 40) (103, 40)\n",
            "Treinando lote  24  de  198\n",
            "Epoch 1/10\n",
            "20/20 [==============================] - 10s 481ms/step - loss: 0.4691 - acc: 0.7924 - val_loss: 0.4356 - val_acc: 0.8039\n",
            "Epoch 2/10\n",
            "20/20 [==============================] - 9s 447ms/step - loss: 0.4661 - acc: 0.7930 - val_loss: 0.4382 - val_acc: 0.8007\n",
            "Epoch 3/10\n",
            "20/20 [==============================] - 9s 440ms/step - loss: 0.4653 - acc: 0.7919 - val_loss: 0.4343 - val_acc: 0.8043\n",
            "Epoch 4/10\n",
            "20/20 [==============================] - 8s 396ms/step - loss: 0.4590 - acc: 0.7960 - val_loss: 0.4388 - val_acc: 0.8022\n",
            "Epoch 5/10\n",
            "20/20 [==============================] - 8s 393ms/step - loss: 0.4647 - acc: 0.7909 - val_loss: 0.4373 - val_acc: 0.8021\n",
            "Epoch 6/10\n",
            "20/20 [==============================] - 9s 442ms/step - loss: 0.4702 - acc: 0.7906 - val_loss: 0.4355 - val_acc: 0.8031\n",
            "Epoch 7/10\n",
            "20/20 [==============================] - 9s 429ms/step - loss: 0.4589 - acc: 0.7966 - val_loss: 0.4384 - val_acc: 0.8013\n",
            "Epoch 8/10\n",
            "20/20 [==============================] - 8s 413ms/step - loss: 0.4691 - acc: 0.7941 - val_loss: 0.4350 - val_acc: 0.8027\n",
            "Epoch 9/10\n",
            "20/20 [==============================] - 8s 392ms/step - loss: 0.4610 - acc: 0.7950 - val_loss: 0.4356 - val_acc: 0.8043\n",
            "Epoch 10/10\n",
            "20/20 [==============================] - 9s 451ms/step - loss: 0.4629 - acc: 0.7958 - val_loss: 0.4378 - val_acc: 0.8005\n"
          ],
          "name": "stdout"
        },
        {
          "output_type": "stream",
          "text": [
            "[========================================================================] 100%\n"
          ],
          "name": "stderr"
        },
        {
          "output_type": "stream",
          "text": [
            "(835, 224, 224, 3) (80, 224, 224, 3) (109, 224, 224, 3) (835, 40) (80, 40) (109, 40)\n",
            "Treinando lote  25  de  198\n",
            "Epoch 1/10\n",
            "20/20 [==============================] - 11s 560ms/step - loss: 0.4594 - acc: 0.7966 - val_loss: 0.4228 - val_acc: 0.8063\n",
            "Epoch 2/10\n",
            "20/20 [==============================] - 9s 445ms/step - loss: 0.4590 - acc: 0.7988 - val_loss: 0.4197 - val_acc: 0.8104\n",
            "Epoch 3/10\n",
            "20/20 [==============================] - 8s 404ms/step - loss: 0.4540 - acc: 0.7967 - val_loss: 0.4211 - val_acc: 0.8088\n",
            "Epoch 4/10\n",
            "20/20 [==============================] - 8s 385ms/step - loss: 0.4523 - acc: 0.7983 - val_loss: 0.4209 - val_acc: 0.8109\n",
            "Epoch 5/10\n",
            "20/20 [==============================] - 9s 457ms/step - loss: 0.4535 - acc: 0.7968 - val_loss: 0.4209 - val_acc: 0.8078\n",
            "Epoch 6/10\n",
            "20/20 [==============================] - 9s 437ms/step - loss: 0.4581 - acc: 0.7980 - val_loss: 0.4226 - val_acc: 0.8067\n",
            "Epoch 7/10\n",
            "20/20 [==============================] - 8s 401ms/step - loss: 0.4541 - acc: 0.7997 - val_loss: 0.4263 - val_acc: 0.8075\n",
            "Epoch 8/10\n",
            "20/20 [==============================] - 8s 384ms/step - loss: 0.4569 - acc: 0.7960 - val_loss: 0.4166 - val_acc: 0.8119\n",
            "Epoch 9/10\n",
            "20/20 [==============================] - 9s 449ms/step - loss: 0.4459 - acc: 0.8033 - val_loss: 0.4224 - val_acc: 0.8111\n",
            "Epoch 10/10\n",
            "20/20 [==============================] - 9s 431ms/step - loss: 0.4674 - acc: 0.7947 - val_loss: 0.4244 - val_acc: 0.8091\n"
          ],
          "name": "stdout"
        },
        {
          "output_type": "stream",
          "text": [
            "[========================================================================] 100%\n"
          ],
          "name": "stderr"
        },
        {
          "output_type": "stream",
          "text": [
            "(823, 224, 224, 3) (91, 224, 224, 3) (110, 224, 224, 3) (823, 40) (91, 40) (110, 40)\n",
            "Treinando lote  26  de  198\n",
            "Epoch 1/10\n",
            "20/20 [==============================] - 10s 491ms/step - loss: 0.4624 - acc: 0.7958 - val_loss: 0.4371 - val_acc: 0.8057\n",
            "Epoch 2/10\n",
            "20/20 [==============================] - 9s 468ms/step - loss: 0.4628 - acc: 0.7948 - val_loss: 0.4338 - val_acc: 0.8089\n",
            "Epoch 3/10\n",
            "20/20 [==============================] - 9s 442ms/step - loss: 0.4595 - acc: 0.7938 - val_loss: 0.4339 - val_acc: 0.8058\n",
            "Epoch 4/10\n",
            "20/20 [==============================] - 8s 421ms/step - loss: 0.4676 - acc: 0.7937 - val_loss: 0.4329 - val_acc: 0.8053\n",
            "Epoch 5/10\n",
            "20/20 [==============================] - 8s 410ms/step - loss: 0.4635 - acc: 0.7918 - val_loss: 0.4339 - val_acc: 0.8080\n",
            "Epoch 6/10\n",
            "20/20 [==============================] - 10s 478ms/step - loss: 0.4621 - acc: 0.7975 - val_loss: 0.4350 - val_acc: 0.8053\n",
            "Epoch 7/10\n",
            "20/20 [==============================] - 9s 442ms/step - loss: 0.4637 - acc: 0.7922 - val_loss: 0.4345 - val_acc: 0.8041\n",
            "Epoch 8/10\n",
            "20/20 [==============================] - 9s 425ms/step - loss: 0.4581 - acc: 0.7959 - val_loss: 0.4320 - val_acc: 0.8071\n",
            "Epoch 9/10\n",
            "20/20 [==============================] - 8s 409ms/step - loss: 0.4581 - acc: 0.7942 - val_loss: 0.4357 - val_acc: 0.8053\n",
            "Epoch 10/10\n",
            "20/20 [==============================] - 9s 464ms/step - loss: 0.4701 - acc: 0.7911 - val_loss: 0.4353 - val_acc: 0.8057\n"
          ],
          "name": "stdout"
        },
        {
          "output_type": "stream",
          "text": [
            "[========================================================================] 100%\n"
          ],
          "name": "stderr"
        },
        {
          "output_type": "stream",
          "text": [
            "(815, 224, 224, 3) (106, 224, 224, 3) (103, 224, 224, 3) (815, 40) (106, 40) (103, 40)\n",
            "Treinando lote  27  de  198\n",
            "Epoch 1/10\n",
            "20/20 [==============================] - 11s 545ms/step - loss: 0.4636 - acc: 0.7951 - val_loss: 0.4538 - val_acc: 0.8028\n",
            "Epoch 2/10\n",
            "20/20 [==============================] - 9s 455ms/step - loss: 0.4569 - acc: 0.7972 - val_loss: 0.4600 - val_acc: 0.8030\n",
            "Epoch 3/10\n",
            "20/20 [==============================] - 8s 420ms/step - loss: 0.4586 - acc: 0.7957 - val_loss: 0.4554 - val_acc: 0.8037\n",
            "Epoch 4/10\n",
            "20/20 [==============================] - 8s 391ms/step - loss: 0.4622 - acc: 0.7912 - val_loss: 0.4593 - val_acc: 0.7998\n",
            "Epoch 5/10\n",
            "20/20 [==============================] - 8s 399ms/step - loss: 0.4591 - acc: 0.7956 - val_loss: 0.4559 - val_acc: 0.8030\n",
            "Epoch 6/10\n",
            "20/20 [==============================] - 9s 454ms/step - loss: 0.4596 - acc: 0.7939 - val_loss: 0.4586 - val_acc: 0.8007\n",
            "Epoch 7/10\n",
            "20/20 [==============================] - 8s 424ms/step - loss: 0.4575 - acc: 0.7950 - val_loss: 0.4546 - val_acc: 0.8034\n",
            "Epoch 8/10\n",
            "20/20 [==============================] - 8s 404ms/step - loss: 0.4619 - acc: 0.7955 - val_loss: 0.4595 - val_acc: 0.8007\n",
            "Epoch 9/10\n",
            "20/20 [==============================] - 8s 392ms/step - loss: 0.4582 - acc: 0.7933 - val_loss: 0.4552 - val_acc: 0.8036\n",
            "Epoch 10/10\n",
            "20/20 [==============================] - 9s 455ms/step - loss: 0.4504 - acc: 0.7997 - val_loss: 0.4593 - val_acc: 0.8006\n"
          ],
          "name": "stdout"
        },
        {
          "output_type": "stream",
          "text": [
            "[========================================================================] 100%\n"
          ],
          "name": "stderr"
        },
        {
          "output_type": "stream",
          "text": [
            "(813, 224, 224, 3) (95, 224, 224, 3) (116, 224, 224, 3) (813, 40) (95, 40) (116, 40)\n",
            "Treinando lote  28  de  198\n",
            "Epoch 1/10\n",
            "20/20 [==============================] - 13s 635ms/step - loss: 0.4534 - acc: 0.7974 - val_loss: 0.4506 - val_acc: 0.8066\n",
            "Epoch 2/10\n",
            "20/20 [==============================] - 11s 536ms/step - loss: 0.4644 - acc: 0.7934 - val_loss: 0.4505 - val_acc: 0.8049\n",
            "Epoch 3/10\n",
            "20/20 [==============================] - 9s 433ms/step - loss: 0.4589 - acc: 0.7962 - val_loss: 0.4512 - val_acc: 0.8042\n",
            "Epoch 4/10\n",
            "20/20 [==============================] - 8s 418ms/step - loss: 0.4577 - acc: 0.7954 - val_loss: 0.4516 - val_acc: 0.8053\n",
            "Epoch 5/10\n",
            "20/20 [==============================] - 8s 414ms/step - loss: 0.4557 - acc: 0.7932 - val_loss: 0.4503 - val_acc: 0.8038\n",
            "Epoch 6/10\n",
            "20/20 [==============================] - 9s 446ms/step - loss: 0.4629 - acc: 0.7926 - val_loss: 0.4502 - val_acc: 0.8057\n",
            "Epoch 7/10\n",
            "20/20 [==============================] - 9s 444ms/step - loss: 0.4602 - acc: 0.7935 - val_loss: 0.4520 - val_acc: 0.8047\n",
            "Epoch 8/10\n",
            "20/20 [==============================] - 9s 430ms/step - loss: 0.4545 - acc: 0.7970 - val_loss: 0.4523 - val_acc: 0.8047\n",
            "Epoch 9/10\n",
            "20/20 [==============================] - 8s 407ms/step - loss: 0.4557 - acc: 0.7947 - val_loss: 0.4498 - val_acc: 0.8059\n",
            "Epoch 10/10\n",
            "20/20 [==============================] - 10s 479ms/step - loss: 0.4576 - acc: 0.7939 - val_loss: 0.4546 - val_acc: 0.8038\n"
          ],
          "name": "stdout"
        },
        {
          "output_type": "stream",
          "text": [
            "[========================================================================] 100%\n"
          ],
          "name": "stderr"
        },
        {
          "output_type": "stream",
          "text": [
            "(806, 224, 224, 3) (113, 224, 224, 3) (105, 224, 224, 3) (806, 40) (113, 40) (105, 40)\n",
            "Treinando lote  29  de  198\n",
            "Epoch 1/10\n",
            "20/20 [==============================] - 12s 589ms/step - loss: 0.4658 - acc: 0.7924 - val_loss: 0.4376 - val_acc: 0.8034\n",
            "Epoch 2/10\n",
            "20/20 [==============================] - 9s 453ms/step - loss: 0.4703 - acc: 0.7933 - val_loss: 0.4346 - val_acc: 0.8057\n",
            "Epoch 3/10\n",
            "20/20 [==============================] - 9s 437ms/step - loss: 0.4700 - acc: 0.7911 - val_loss: 0.4375 - val_acc: 0.8036\n",
            "Epoch 4/10\n",
            "20/20 [==============================] - 8s 404ms/step - loss: 0.4674 - acc: 0.7931 - val_loss: 0.4343 - val_acc: 0.8045\n",
            "Epoch 5/10\n",
            "20/20 [==============================] - 8s 400ms/step - loss: 0.4638 - acc: 0.7918 - val_loss: 0.4327 - val_acc: 0.8073\n",
            "Epoch 6/10\n",
            "20/20 [==============================] - 9s 459ms/step - loss: 0.4693 - acc: 0.7916 - val_loss: 0.4400 - val_acc: 0.8002\n",
            "Epoch 7/10\n",
            "20/20 [==============================] - 9s 436ms/step - loss: 0.4721 - acc: 0.7878 - val_loss: 0.4368 - val_acc: 0.8027\n",
            "Epoch 8/10\n",
            "20/20 [==============================] - 8s 398ms/step - loss: 0.4608 - acc: 0.7942 - val_loss: 0.4354 - val_acc: 0.8021\n",
            "Epoch 9/10\n",
            "20/20 [==============================] - 8s 407ms/step - loss: 0.4641 - acc: 0.7927 - val_loss: 0.4382 - val_acc: 0.8026\n",
            "Epoch 10/10\n",
            "20/20 [==============================] - 9s 465ms/step - loss: 0.4658 - acc: 0.7934 - val_loss: 0.4338 - val_acc: 0.8067\n"
          ],
          "name": "stdout"
        },
        {
          "output_type": "stream",
          "text": [
            "[========================================================================] 100%\n"
          ],
          "name": "stderr"
        },
        {
          "output_type": "stream",
          "text": [
            "(838, 224, 224, 3) (93, 224, 224, 3) (93, 224, 224, 3) (838, 40) (93, 40) (93, 40)\n",
            "Treinando lote  30  de  198\n",
            "Epoch 1/10\n",
            "20/20 [==============================] - 10s 484ms/step - loss: 0.4659 - acc: 0.7923 - val_loss: 0.4215 - val_acc: 0.8096\n",
            "Epoch 2/10\n",
            "20/20 [==============================] - 9s 434ms/step - loss: 0.4676 - acc: 0.7905 - val_loss: 0.4201 - val_acc: 0.8079\n",
            "Epoch 3/10\n",
            "20/20 [==============================] - 9s 436ms/step - loss: 0.4553 - acc: 0.7980 - val_loss: 0.4219 - val_acc: 0.8088\n",
            "Epoch 4/10\n",
            "20/20 [==============================] - 8s 413ms/step - loss: 0.4666 - acc: 0.7897 - val_loss: 0.4208 - val_acc: 0.8085\n",
            "Epoch 5/10\n",
            "20/20 [==============================] - 10s 478ms/step - loss: 0.4584 - acc: 0.7997 - val_loss: 0.4207 - val_acc: 0.8104\n",
            "Epoch 6/10\n",
            "20/20 [==============================] - 9s 434ms/step - loss: 0.4654 - acc: 0.7938 - val_loss: 0.4233 - val_acc: 0.8086\n",
            "Epoch 7/10\n",
            "20/20 [==============================] - 9s 439ms/step - loss: 0.4684 - acc: 0.7903 - val_loss: 0.4215 - val_acc: 0.8094\n",
            "Epoch 8/10\n",
            "20/20 [==============================] - 8s 413ms/step - loss: 0.4612 - acc: 0.7962 - val_loss: 0.4236 - val_acc: 0.8079\n",
            "Epoch 9/10\n",
            "20/20 [==============================] - 9s 471ms/step - loss: 0.4636 - acc: 0.7919 - val_loss: 0.4201 - val_acc: 0.8103\n",
            "Epoch 10/10\n",
            "20/20 [==============================] - 9s 451ms/step - loss: 0.4558 - acc: 0.7976 - val_loss: 0.4199 - val_acc: 0.8117\n"
          ],
          "name": "stdout"
        },
        {
          "output_type": "stream",
          "text": [
            "[========================================================================] 100%\n"
          ],
          "name": "stderr"
        },
        {
          "output_type": "stream",
          "text": [
            "(809, 224, 224, 3) (104, 224, 224, 3) (111, 224, 224, 3) (809, 40) (104, 40) (111, 40)\n",
            "Treinando lote  31  de  198\n",
            "Epoch 1/10\n",
            "20/20 [==============================] - 11s 547ms/step - loss: 0.4626 - acc: 0.7965 - val_loss: 0.4354 - val_acc: 0.8095\n",
            "Epoch 2/10\n",
            "20/20 [==============================] - 9s 458ms/step - loss: 0.4614 - acc: 0.7956 - val_loss: 0.4412 - val_acc: 0.8088\n",
            "Epoch 3/10\n",
            "20/20 [==============================] - 9s 432ms/step - loss: 0.4636 - acc: 0.7925 - val_loss: 0.4406 - val_acc: 0.8097\n",
            "Epoch 4/10\n",
            "20/20 [==============================] - 8s 382ms/step - loss: 0.4568 - acc: 0.7994 - val_loss: 0.4370 - val_acc: 0.8092\n",
            "Epoch 5/10\n",
            "20/20 [==============================] - 8s 398ms/step - loss: 0.4633 - acc: 0.7950 - val_loss: 0.4443 - val_acc: 0.8074\n",
            "Epoch 6/10\n",
            "20/20 [==============================] - 9s 442ms/step - loss: 0.4622 - acc: 0.7965 - val_loss: 0.4337 - val_acc: 0.8100\n",
            "Epoch 7/10\n",
            "20/20 [==============================] - 9s 437ms/step - loss: 0.4591 - acc: 0.7957 - val_loss: 0.4403 - val_acc: 0.8085\n",
            "Epoch 8/10\n",
            "20/20 [==============================] - 8s 401ms/step - loss: 0.4644 - acc: 0.7943 - val_loss: 0.4382 - val_acc: 0.8070\n",
            "Epoch 9/10\n",
            "20/20 [==============================] - 8s 391ms/step - loss: 0.4596 - acc: 0.7963 - val_loss: 0.4450 - val_acc: 0.8060\n",
            "Epoch 10/10\n",
            "20/20 [==============================] - 9s 458ms/step - loss: 0.4560 - acc: 0.7953 - val_loss: 0.4339 - val_acc: 0.8085\n"
          ],
          "name": "stdout"
        },
        {
          "output_type": "stream",
          "text": [
            "[========================================================================] 100%\n"
          ],
          "name": "stderr"
        },
        {
          "output_type": "stream",
          "text": [
            "(823, 224, 224, 3) (97, 224, 224, 3) (104, 224, 224, 3) (823, 40) (97, 40) (104, 40)\n",
            "Treinando lote  32  de  198\n",
            "Epoch 1/10\n",
            "20/20 [==============================] - 10s 479ms/step - loss: 0.4541 - acc: 0.7963 - val_loss: 0.4154 - val_acc: 0.8109\n",
            "Epoch 2/10\n",
            "20/20 [==============================] - 9s 451ms/step - loss: 0.4495 - acc: 0.8017 - val_loss: 0.4093 - val_acc: 0.8174\n",
            "Epoch 3/10\n",
            "20/20 [==============================] - 9s 426ms/step - loss: 0.4548 - acc: 0.7973 - val_loss: 0.4121 - val_acc: 0.8171\n",
            "Epoch 4/10\n",
            "20/20 [==============================] - 8s 391ms/step - loss: 0.4522 - acc: 0.8025 - val_loss: 0.4129 - val_acc: 0.8160\n",
            "Epoch 5/10\n",
            "20/20 [==============================] - 8s 405ms/step - loss: 0.4527 - acc: 0.8009 - val_loss: 0.4132 - val_acc: 0.8154\n",
            "Epoch 6/10\n",
            "20/20 [==============================] - 9s 436ms/step - loss: 0.4514 - acc: 0.7994 - val_loss: 0.4117 - val_acc: 0.8159\n",
            "Epoch 7/10\n",
            "20/20 [==============================] - 9s 436ms/step - loss: 0.4552 - acc: 0.7981 - val_loss: 0.4107 - val_acc: 0.8178\n",
            "Epoch 8/10\n",
            "20/20 [==============================] - 8s 396ms/step - loss: 0.4514 - acc: 0.8000 - val_loss: 0.4145 - val_acc: 0.8141\n",
            "Epoch 9/10\n",
            "20/20 [==============================] - 8s 390ms/step - loss: 0.4478 - acc: 0.8041 - val_loss: 0.4131 - val_acc: 0.8162\n",
            "Epoch 10/10\n",
            "20/20 [==============================] - 9s 451ms/step - loss: 0.4548 - acc: 0.7984 - val_loss: 0.4122 - val_acc: 0.8166\n"
          ],
          "name": "stdout"
        },
        {
          "output_type": "stream",
          "text": [
            "[========================================================================] 100%\n"
          ],
          "name": "stderr"
        },
        {
          "output_type": "stream",
          "text": [
            "(845, 224, 224, 3) (89, 224, 224, 3) (90, 224, 224, 3) (845, 40) (89, 40) (90, 40)\n",
            "Treinando lote  33  de  198\n",
            "Epoch 1/10\n",
            "20/20 [==============================] - 10s 489ms/step - loss: 0.4536 - acc: 0.7988 - val_loss: 0.4443 - val_acc: 0.7967\n",
            "Epoch 2/10\n",
            "20/20 [==============================] - 10s 480ms/step - loss: 0.4550 - acc: 0.7990 - val_loss: 0.4484 - val_acc: 0.7955\n",
            "Epoch 3/10\n",
            "20/20 [==============================] - 9s 436ms/step - loss: 0.4553 - acc: 0.7983 - val_loss: 0.4442 - val_acc: 0.7960\n",
            "Epoch 4/10\n",
            "20/20 [==============================] - 8s 404ms/step - loss: 0.4516 - acc: 0.7986 - val_loss: 0.4478 - val_acc: 0.7961\n",
            "Epoch 5/10\n",
            "20/20 [==============================] - 10s 483ms/step - loss: 0.4569 - acc: 0.7974 - val_loss: 0.4425 - val_acc: 0.7986\n",
            "Epoch 6/10\n",
            "20/20 [==============================] - 9s 442ms/step - loss: 0.4541 - acc: 0.8002 - val_loss: 0.4463 - val_acc: 0.7959\n",
            "Epoch 7/10\n",
            "20/20 [==============================] - 8s 415ms/step - loss: 0.4465 - acc: 0.7986 - val_loss: 0.4442 - val_acc: 0.7987\n",
            "Epoch 8/10\n",
            "20/20 [==============================] - 8s 411ms/step - loss: 0.4539 - acc: 0.7979 - val_loss: 0.4479 - val_acc: 0.7941\n",
            "Epoch 9/10\n",
            "20/20 [==============================] - 9s 461ms/step - loss: 0.4489 - acc: 0.7998 - val_loss: 0.4448 - val_acc: 0.7985\n",
            "Epoch 10/10\n",
            "20/20 [==============================] - 9s 459ms/step - loss: 0.4533 - acc: 0.7984 - val_loss: 0.4516 - val_acc: 0.7946\n"
          ],
          "name": "stdout"
        },
        {
          "output_type": "stream",
          "text": [
            "[========================================================================] 100%\n"
          ],
          "name": "stderr"
        },
        {
          "output_type": "stream",
          "text": [
            "(835, 224, 224, 3) (103, 224, 224, 3) (86, 224, 224, 3) (835, 40) (103, 40) (86, 40)\n",
            "Treinando lote  34  de  198\n",
            "Epoch 1/10\n",
            "20/20 [==============================] - 10s 476ms/step - loss: 0.4588 - acc: 0.7978 - val_loss: 0.4329 - val_acc: 0.8032\n",
            "Epoch 2/10\n",
            "20/20 [==============================] - 9s 425ms/step - loss: 0.4566 - acc: 0.7975 - val_loss: 0.4233 - val_acc: 0.8103\n",
            "Epoch 3/10\n",
            "20/20 [==============================] - 8s 409ms/step - loss: 0.4587 - acc: 0.7969 - val_loss: 0.4279 - val_acc: 0.8078\n",
            "Epoch 4/10\n",
            "20/20 [==============================] - 8s 390ms/step - loss: 0.4586 - acc: 0.7974 - val_loss: 0.4303 - val_acc: 0.8065\n",
            "Epoch 5/10\n",
            "20/20 [==============================] - 9s 468ms/step - loss: 0.4520 - acc: 0.7991 - val_loss: 0.4300 - val_acc: 0.8064\n",
            "Epoch 6/10\n",
            "20/20 [==============================] - 9s 430ms/step - loss: 0.4597 - acc: 0.7974 - val_loss: 0.4283 - val_acc: 0.8087\n",
            "Epoch 7/10\n",
            "20/20 [==============================] - 8s 424ms/step - loss: 0.4593 - acc: 0.7930 - val_loss: 0.4311 - val_acc: 0.8061\n",
            "Epoch 8/10\n",
            "20/20 [==============================] - 8s 379ms/step - loss: 0.4560 - acc: 0.8016 - val_loss: 0.4282 - val_acc: 0.8073\n",
            "Epoch 9/10\n",
            "20/20 [==============================] - 9s 469ms/step - loss: 0.4505 - acc: 0.7991 - val_loss: 0.4293 - val_acc: 0.8083\n",
            "Epoch 10/10\n",
            "20/20 [==============================] - 8s 422ms/step - loss: 0.4573 - acc: 0.8016 - val_loss: 0.4306 - val_acc: 0.8061\n"
          ],
          "name": "stdout"
        },
        {
          "output_type": "stream",
          "text": [
            "[========================================================================] 100%\n"
          ],
          "name": "stderr"
        },
        {
          "output_type": "stream",
          "text": [
            "(827, 224, 224, 3) (93, 224, 224, 3) (104, 224, 224, 3) (827, 40) (93, 40) (104, 40)\n",
            "Treinando lote  35  de  198\n",
            "Epoch 1/10\n",
            "20/20 [==============================] - 10s 502ms/step - loss: 0.4617 - acc: 0.7945 - val_loss: 0.4528 - val_acc: 0.7995\n",
            "Epoch 2/10\n",
            "20/20 [==============================] - 9s 468ms/step - loss: 0.4624 - acc: 0.7969 - val_loss: 0.4551 - val_acc: 0.7975\n",
            "Epoch 3/10\n",
            "20/20 [==============================] - 9s 438ms/step - loss: 0.4537 - acc: 0.7946 - val_loss: 0.4530 - val_acc: 0.7998\n",
            "Epoch 4/10\n",
            "20/20 [==============================] - 8s 418ms/step - loss: 0.4615 - acc: 0.7939 - val_loss: 0.4487 - val_acc: 0.8006\n",
            "Epoch 5/10\n",
            "20/20 [==============================] - 8s 412ms/step - loss: 0.4649 - acc: 0.7946 - val_loss: 0.4569 - val_acc: 0.7986\n",
            "Epoch 6/10\n",
            "20/20 [==============================] - 9s 466ms/step - loss: 0.4543 - acc: 0.7974 - val_loss: 0.4516 - val_acc: 0.8006\n",
            "Epoch 7/10\n",
            "20/20 [==============================] - 9s 454ms/step - loss: 0.4577 - acc: 0.7966 - val_loss: 0.4539 - val_acc: 0.7998\n",
            "Epoch 8/10\n",
            "20/20 [==============================] - 9s 443ms/step - loss: 0.4573 - acc: 0.7948 - val_loss: 0.4530 - val_acc: 0.7996\n",
            "Epoch 9/10\n",
            "20/20 [==============================] - 8s 411ms/step - loss: 0.4626 - acc: 0.7948 - val_loss: 0.4497 - val_acc: 0.8023\n",
            "Epoch 10/10\n",
            "20/20 [==============================] - 9s 471ms/step - loss: 0.4591 - acc: 0.7932 - val_loss: 0.4547 - val_acc: 0.7982\n"
          ],
          "name": "stdout"
        },
        {
          "output_type": "stream",
          "text": [
            "[========================================================================] 100%\n"
          ],
          "name": "stderr"
        },
        {
          "output_type": "stream",
          "text": [
            "(797, 224, 224, 3) (94, 224, 224, 3) (133, 224, 224, 3) (797, 40) (94, 40) (133, 40)\n",
            "Treinando lote  36  de  198\n",
            "Epoch 1/10\n",
            "20/20 [==============================] - 10s 483ms/step - loss: 0.4526 - acc: 0.7995 - val_loss: 0.4222 - val_acc: 0.8103\n",
            "Epoch 2/10\n",
            "20/20 [==============================] - 9s 454ms/step - loss: 0.4510 - acc: 0.7993 - val_loss: 0.4255 - val_acc: 0.8084\n",
            "Epoch 3/10\n",
            "20/20 [==============================] - 9s 437ms/step - loss: 0.4600 - acc: 0.7977 - val_loss: 0.4250 - val_acc: 0.8075\n",
            "Epoch 4/10\n",
            "20/20 [==============================] - 9s 427ms/step - loss: 0.4501 - acc: 0.7983 - val_loss: 0.4242 - val_acc: 0.8101\n",
            "Epoch 5/10\n",
            "20/20 [==============================] - 8s 413ms/step - loss: 0.4545 - acc: 0.7992 - val_loss: 0.4233 - val_acc: 0.8099\n",
            "Epoch 6/10\n",
            "20/20 [==============================] - 8s 413ms/step - loss: 0.4547 - acc: 0.7996 - val_loss: 0.4272 - val_acc: 0.8101\n",
            "Epoch 7/10\n",
            "20/20 [==============================] - 10s 479ms/step - loss: 0.4526 - acc: 0.8002 - val_loss: 0.4259 - val_acc: 0.8100\n",
            "Epoch 8/10\n",
            "20/20 [==============================] - 9s 446ms/step - loss: 0.4468 - acc: 0.8029 - val_loss: 0.4217 - val_acc: 0.8106\n",
            "Epoch 9/10\n",
            "20/20 [==============================] - 9s 429ms/step - loss: 0.4602 - acc: 0.7949 - val_loss: 0.4275 - val_acc: 0.8074\n",
            "Epoch 10/10\n",
            "20/20 [==============================] - 8s 412ms/step - loss: 0.4491 - acc: 0.7997 - val_loss: 0.4284 - val_acc: 0.8083\n"
          ],
          "name": "stdout"
        },
        {
          "output_type": "stream",
          "text": [
            "[========================================================================] 100%\n"
          ],
          "name": "stderr"
        },
        {
          "output_type": "stream",
          "text": [
            "(823, 224, 224, 3) (95, 224, 224, 3) (106, 224, 224, 3) (823, 40) (95, 40) (106, 40)\n",
            "Treinando lote  37  de  198\n",
            "Epoch 1/10\n",
            "20/20 [==============================] - 10s 500ms/step - loss: 0.4634 - acc: 0.7949 - val_loss: 0.4311 - val_acc: 0.8186\n",
            "Epoch 2/10\n",
            "20/20 [==============================] - 10s 476ms/step - loss: 0.4659 - acc: 0.7962 - val_loss: 0.4288 - val_acc: 0.8192\n",
            "Epoch 3/10\n",
            "20/20 [==============================] - 9s 448ms/step - loss: 0.4654 - acc: 0.7928 - val_loss: 0.4307 - val_acc: 0.8181\n",
            "Epoch 4/10\n",
            "20/20 [==============================] - 9s 427ms/step - loss: 0.4634 - acc: 0.7937 - val_loss: 0.4313 - val_acc: 0.8165\n",
            "Epoch 5/10\n",
            "20/20 [==============================] - 8s 412ms/step - loss: 0.4643 - acc: 0.7949 - val_loss: 0.4311 - val_acc: 0.8160\n",
            "Epoch 6/10\n",
            "20/20 [==============================] - 10s 483ms/step - loss: 0.4622 - acc: 0.7957 - val_loss: 0.4281 - val_acc: 0.8165\n",
            "Epoch 7/10\n",
            "20/20 [==============================] - 9s 451ms/step - loss: 0.4594 - acc: 0.7932 - val_loss: 0.4297 - val_acc: 0.8156\n",
            "Epoch 8/10\n",
            "20/20 [==============================] - 9s 426ms/step - loss: 0.4668 - acc: 0.7947 - val_loss: 0.4273 - val_acc: 0.8182\n",
            "Epoch 9/10\n",
            "20/20 [==============================] - 8s 411ms/step - loss: 0.4581 - acc: 0.7928 - val_loss: 0.4334 - val_acc: 0.8140\n",
            "Epoch 10/10\n",
            "20/20 [==============================] - 10s 483ms/step - loss: 0.4591 - acc: 0.7943 - val_loss: 0.4305 - val_acc: 0.8159\n"
          ],
          "name": "stdout"
        },
        {
          "output_type": "stream",
          "text": [
            "[========================================================================] 100%\n"
          ],
          "name": "stderr"
        },
        {
          "output_type": "stream",
          "text": [
            "(820, 224, 224, 3) (95, 224, 224, 3) (109, 224, 224, 3) (820, 40) (95, 40) (109, 40)\n",
            "Treinando lote  38  de  198\n",
            "Epoch 1/10\n",
            "20/20 [==============================] - 10s 510ms/step - loss: 0.4612 - acc: 0.7948 - val_loss: 0.4432 - val_acc: 0.8129\n",
            "Epoch 2/10\n",
            "20/20 [==============================] - 9s 454ms/step - loss: 0.4514 - acc: 0.8011 - val_loss: 0.4428 - val_acc: 0.8129\n",
            "Epoch 3/10\n",
            "20/20 [==============================] - 9s 447ms/step - loss: 0.4638 - acc: 0.7945 - val_loss: 0.4393 - val_acc: 0.8127\n",
            "Epoch 4/10\n",
            "20/20 [==============================] - 8s 422ms/step - loss: 0.4497 - acc: 0.8030 - val_loss: 0.4423 - val_acc: 0.8128\n",
            "Epoch 5/10\n",
            "20/20 [==============================] - 8s 411ms/step - loss: 0.4542 - acc: 0.7999 - val_loss: 0.4393 - val_acc: 0.8148\n",
            "Epoch 6/10\n",
            "20/20 [==============================] - 10s 475ms/step - loss: 0.4496 - acc: 0.8043 - val_loss: 0.4435 - val_acc: 0.8114\n",
            "Epoch 7/10\n",
            "20/20 [==============================] - 9s 450ms/step - loss: 0.4538 - acc: 0.8004 - val_loss: 0.4403 - val_acc: 0.8137\n",
            "Epoch 8/10\n",
            "20/20 [==============================] - 9s 426ms/step - loss: 0.4564 - acc: 0.7978 - val_loss: 0.4439 - val_acc: 0.8124\n",
            "Epoch 9/10\n",
            "20/20 [==============================] - 8s 411ms/step - loss: 0.4547 - acc: 0.8002 - val_loss: 0.4416 - val_acc: 0.8152\n",
            "Epoch 10/10\n",
            "20/20 [==============================] - 10s 480ms/step - loss: 0.4537 - acc: 0.7990 - val_loss: 0.4411 - val_acc: 0.8129\n"
          ],
          "name": "stdout"
        },
        {
          "output_type": "stream",
          "text": [
            "[========================================================================] 100%\n"
          ],
          "name": "stderr"
        },
        {
          "output_type": "stream",
          "text": [
            "(831, 224, 224, 3) (99, 224, 224, 3) (94, 224, 224, 3) (831, 40) (99, 40) (94, 40)\n",
            "Treinando lote  39  de  198\n",
            "Epoch 1/10\n",
            "20/20 [==============================] - 10s 495ms/step - loss: 0.4619 - acc: 0.7956 - val_loss: 0.4273 - val_acc: 0.7997\n",
            "Epoch 2/10\n",
            "20/20 [==============================] - 9s 458ms/step - loss: 0.4620 - acc: 0.7951 - val_loss: 0.4253 - val_acc: 0.8028\n",
            "Epoch 3/10\n",
            "20/20 [==============================] - 8s 422ms/step - loss: 0.4578 - acc: 0.7980 - val_loss: 0.4256 - val_acc: 0.8042\n",
            "Epoch 4/10\n",
            "20/20 [==============================] - 8s 392ms/step - loss: 0.4716 - acc: 0.7929 - val_loss: 0.4275 - val_acc: 0.8028\n",
            "Epoch 5/10\n",
            "20/20 [==============================] - 8s 394ms/step - loss: 0.4615 - acc: 0.7954 - val_loss: 0.4277 - val_acc: 0.8042\n",
            "Epoch 6/10\n",
            "20/20 [==============================] - 9s 454ms/step - loss: 0.4668 - acc: 0.7945 - val_loss: 0.4249 - val_acc: 0.8053\n",
            "Epoch 7/10\n",
            "20/20 [==============================] - 9s 433ms/step - loss: 0.4612 - acc: 0.7942 - val_loss: 0.4249 - val_acc: 0.8036\n",
            "Epoch 8/10\n",
            "20/20 [==============================] - 8s 398ms/step - loss: 0.4605 - acc: 0.7968 - val_loss: 0.4277 - val_acc: 0.8006\n",
            "Epoch 9/10\n",
            "20/20 [==============================] - 8s 394ms/step - loss: 0.4597 - acc: 0.7982 - val_loss: 0.4263 - val_acc: 0.8036\n",
            "Epoch 10/10\n",
            "20/20 [==============================] - 9s 457ms/step - loss: 0.4647 - acc: 0.7963 - val_loss: 0.4268 - val_acc: 0.8024\n"
          ],
          "name": "stdout"
        },
        {
          "output_type": "stream",
          "text": [
            "[========================================================================] 100%\n"
          ],
          "name": "stderr"
        },
        {
          "output_type": "stream",
          "text": [
            "(828, 224, 224, 3) (76, 224, 224, 3) (120, 224, 224, 3) (828, 40) (76, 40) (120, 40)\n",
            "Treinando lote  40  de  198\n",
            "Epoch 1/10\n",
            "20/20 [==============================] - 10s 480ms/step - loss: 0.4655 - acc: 0.7948 - val_loss: 0.4407 - val_acc: 0.8116\n",
            "Epoch 2/10\n",
            "20/20 [==============================] - 9s 444ms/step - loss: 0.4670 - acc: 0.7948 - val_loss: 0.4391 - val_acc: 0.8088\n",
            "Epoch 3/10\n",
            "20/20 [==============================] - 8s 414ms/step - loss: 0.4746 - acc: 0.7914 - val_loss: 0.4416 - val_acc: 0.8090\n",
            "Epoch 4/10\n",
            "20/20 [==============================] - 8s 405ms/step - loss: 0.4574 - acc: 0.7983 - val_loss: 0.4377 - val_acc: 0.8107\n",
            "Epoch 5/10\n",
            "20/20 [==============================] - 8s 393ms/step - loss: 0.4641 - acc: 0.7926 - val_loss: 0.4445 - val_acc: 0.8067\n",
            "Epoch 6/10\n",
            "20/20 [==============================] - 9s 456ms/step - loss: 0.4669 - acc: 0.7902 - val_loss: 0.4381 - val_acc: 0.8088\n",
            "Epoch 7/10\n",
            "20/20 [==============================] - 9s 426ms/step - loss: 0.4660 - acc: 0.7924 - val_loss: 0.4436 - val_acc: 0.8083\n",
            "Epoch 8/10\n",
            "20/20 [==============================] - 8s 412ms/step - loss: 0.4656 - acc: 0.7945 - val_loss: 0.4368 - val_acc: 0.8125\n",
            "Epoch 9/10\n",
            "20/20 [==============================] - 8s 385ms/step - loss: 0.4625 - acc: 0.7936 - val_loss: 0.4386 - val_acc: 0.8121\n",
            "Epoch 10/10\n",
            "20/20 [==============================] - 9s 456ms/step - loss: 0.4647 - acc: 0.7946 - val_loss: 0.4426 - val_acc: 0.8103\n"
          ],
          "name": "stdout"
        },
        {
          "output_type": "stream",
          "text": [
            "[========================================================================] 100%\n"
          ],
          "name": "stderr"
        },
        {
          "output_type": "stream",
          "text": [
            "(829, 224, 224, 3) (97, 224, 224, 3) (98, 224, 224, 3) (829, 40) (97, 40) (98, 40)\n",
            "Treinando lote  41  de  198\n",
            "Epoch 1/10\n",
            "20/20 [==============================] - 10s 484ms/step - loss: 0.4584 - acc: 0.7970 - val_loss: 0.4328 - val_acc: 0.8085\n",
            "Epoch 2/10\n",
            "20/20 [==============================] - 9s 441ms/step - loss: 0.4549 - acc: 0.7957 - val_loss: 0.4344 - val_acc: 0.8068\n",
            "Epoch 3/10\n",
            "20/20 [==============================] - 9s 425ms/step - loss: 0.4608 - acc: 0.7936 - val_loss: 0.4363 - val_acc: 0.8087\n",
            "Epoch 4/10\n",
            "20/20 [==============================] - 8s 391ms/step - loss: 0.4507 - acc: 0.7979 - val_loss: 0.4296 - val_acc: 0.8115\n",
            "Epoch 5/10\n",
            "20/20 [==============================] - 8s 395ms/step - loss: 0.4585 - acc: 0.7975 - val_loss: 0.4326 - val_acc: 0.8088\n",
            "Epoch 6/10\n",
            "20/20 [==============================] - 9s 456ms/step - loss: 0.4532 - acc: 0.7981 - val_loss: 0.4344 - val_acc: 0.8089\n",
            "Epoch 7/10\n",
            "20/20 [==============================] - 9s 426ms/step - loss: 0.4555 - acc: 0.7971 - val_loss: 0.4316 - val_acc: 0.8104\n",
            "Epoch 8/10\n",
            "20/20 [==============================] - 8s 401ms/step - loss: 0.4511 - acc: 0.7974 - val_loss: 0.4354 - val_acc: 0.8075\n",
            "Epoch 9/10\n",
            "20/20 [==============================] - 8s 395ms/step - loss: 0.4585 - acc: 0.7953 - val_loss: 0.4327 - val_acc: 0.8093\n",
            "Epoch 10/10\n",
            "20/20 [==============================] - 9s 451ms/step - loss: 0.4599 - acc: 0.7953 - val_loss: 0.4345 - val_acc: 0.8062\n"
          ],
          "name": "stdout"
        },
        {
          "output_type": "stream",
          "text": [
            "[========================================================================] 100%\n"
          ],
          "name": "stderr"
        },
        {
          "output_type": "stream",
          "text": [
            "(819, 224, 224, 3) (97, 224, 224, 3) (108, 224, 224, 3) (819, 40) (97, 40) (108, 40)\n",
            "Treinando lote  42  de  198\n",
            "Epoch 1/10\n",
            "20/20 [==============================] - 11s 569ms/step - loss: 0.4606 - acc: 0.7942 - val_loss: 0.4534 - val_acc: 0.7941\n",
            "Epoch 2/10\n",
            "20/20 [==============================] - 9s 426ms/step - loss: 0.4650 - acc: 0.7948 - val_loss: 0.4440 - val_acc: 0.8001\n",
            "Epoch 3/10\n",
            "20/20 [==============================] - 8s 421ms/step - loss: 0.4581 - acc: 0.7966 - val_loss: 0.4508 - val_acc: 0.7962\n",
            "Epoch 4/10\n",
            "20/20 [==============================] - 8s 391ms/step - loss: 0.4610 - acc: 0.7944 - val_loss: 0.4468 - val_acc: 0.7976\n",
            "Epoch 5/10\n",
            "20/20 [==============================] - 8s 395ms/step - loss: 0.4588 - acc: 0.7955 - val_loss: 0.4499 - val_acc: 0.7956\n",
            "Epoch 6/10\n",
            "20/20 [==============================] - 9s 430ms/step - loss: 0.4628 - acc: 0.7952 - val_loss: 0.4481 - val_acc: 0.7972\n",
            "Epoch 7/10\n",
            "20/20 [==============================] - 8s 421ms/step - loss: 0.4560 - acc: 0.7976 - val_loss: 0.4481 - val_acc: 0.7966\n",
            "Epoch 8/10\n",
            "20/20 [==============================] - 8s 401ms/step - loss: 0.4632 - acc: 0.7933 - val_loss: 0.4510 - val_acc: 0.7956\n",
            "Epoch 9/10\n",
            "20/20 [==============================] - 8s 390ms/step - loss: 0.4564 - acc: 0.7965 - val_loss: 0.4486 - val_acc: 0.7952\n",
            "Epoch 10/10\n",
            "20/20 [==============================] - 9s 456ms/step - loss: 0.4644 - acc: 0.7939 - val_loss: 0.4496 - val_acc: 0.7957\n"
          ],
          "name": "stdout"
        },
        {
          "output_type": "stream",
          "text": [
            "[========================================================================] 100%\n"
          ],
          "name": "stderr"
        },
        {
          "output_type": "stream",
          "text": [
            "(844, 224, 224, 3) (89, 224, 224, 3) (91, 224, 224, 3) (844, 40) (89, 40) (91, 40)\n",
            "Treinando lote  43  de  198\n",
            "Epoch 1/10\n",
            "20/20 [==============================] - 10s 494ms/step - loss: 0.4617 - acc: 0.7945 - val_loss: 0.4358 - val_acc: 0.8033\n",
            "Epoch 2/10\n",
            "20/20 [==============================] - 9s 441ms/step - loss: 0.4644 - acc: 0.7922 - val_loss: 0.4356 - val_acc: 0.8024\n",
            "Epoch 3/10\n",
            "20/20 [==============================] - 9s 433ms/step - loss: 0.4575 - acc: 0.7957 - val_loss: 0.4380 - val_acc: 0.8005\n",
            "Epoch 4/10\n",
            "20/20 [==============================] - 8s 403ms/step - loss: 0.4699 - acc: 0.7917 - val_loss: 0.4357 - val_acc: 0.8035\n",
            "Epoch 5/10\n",
            "20/20 [==============================] - 9s 472ms/step - loss: 0.4621 - acc: 0.7943 - val_loss: 0.4379 - val_acc: 0.8023\n",
            "Epoch 6/10\n",
            "20/20 [==============================] - 9s 455ms/step - loss: 0.4599 - acc: 0.7933 - val_loss: 0.4356 - val_acc: 0.8045\n",
            "Epoch 7/10\n",
            "20/20 [==============================] - 9s 427ms/step - loss: 0.4635 - acc: 0.7939 - val_loss: 0.4380 - val_acc: 0.8015\n",
            "Epoch 8/10\n",
            "20/20 [==============================] - 8s 403ms/step - loss: 0.4627 - acc: 0.7944 - val_loss: 0.4354 - val_acc: 0.8039\n",
            "Epoch 9/10\n",
            "20/20 [==============================] - 10s 477ms/step - loss: 0.4620 - acc: 0.7961 - val_loss: 0.4360 - val_acc: 0.8049\n",
            "Epoch 10/10\n",
            "20/20 [==============================] - 9s 437ms/step - loss: 0.4515 - acc: 0.8001 - val_loss: 0.4367 - val_acc: 0.8024\n"
          ],
          "name": "stdout"
        },
        {
          "output_type": "stream",
          "text": [
            "[========================================================================] 100%\n"
          ],
          "name": "stderr"
        },
        {
          "output_type": "stream",
          "text": [
            "(836, 224, 224, 3) (94, 224, 224, 3) (94, 224, 224, 3) (836, 40) (94, 40) (94, 40)\n",
            "Treinando lote  44  de  198\n",
            "Epoch 1/10\n",
            "20/20 [==============================] - 10s 496ms/step - loss: 0.4577 - acc: 0.7978 - val_loss: 0.4233 - val_acc: 0.8075\n",
            "Epoch 2/10\n",
            "20/20 [==============================] - 9s 453ms/step - loss: 0.4643 - acc: 0.7972 - val_loss: 0.4262 - val_acc: 0.8060\n",
            "Epoch 3/10\n",
            "20/20 [==============================] - 8s 413ms/step - loss: 0.4592 - acc: 0.7985 - val_loss: 0.4229 - val_acc: 0.8075\n",
            "Epoch 4/10\n",
            "20/20 [==============================] - 8s 413ms/step - loss: 0.4563 - acc: 0.7980 - val_loss: 0.4228 - val_acc: 0.8059\n",
            "Epoch 5/10\n",
            "20/20 [==============================] - 9s 461ms/step - loss: 0.4477 - acc: 0.8064 - val_loss: 0.4277 - val_acc: 0.8031\n",
            "Epoch 6/10\n",
            "20/20 [==============================] - 9s 460ms/step - loss: 0.4651 - acc: 0.7976 - val_loss: 0.4210 - val_acc: 0.8090\n",
            "Epoch 7/10\n",
            "20/20 [==============================] - 8s 417ms/step - loss: 0.4513 - acc: 0.8005 - val_loss: 0.4208 - val_acc: 0.8072\n",
            "Epoch 8/10\n",
            "20/20 [==============================] - 8s 403ms/step - loss: 0.4608 - acc: 0.7964 - val_loss: 0.4269 - val_acc: 0.8050\n",
            "Epoch 9/10\n",
            "20/20 [==============================] - 10s 486ms/step - loss: 0.4566 - acc: 0.8007 - val_loss: 0.4227 - val_acc: 0.8071\n",
            "Epoch 10/10\n",
            "20/20 [==============================] - 9s 470ms/step - loss: 0.4615 - acc: 0.7964 - val_loss: 0.4221 - val_acc: 0.8067\n"
          ],
          "name": "stdout"
        },
        {
          "output_type": "stream",
          "text": [
            "[========================================================================] 100%\n"
          ],
          "name": "stderr"
        },
        {
          "output_type": "stream",
          "text": [
            "(823, 224, 224, 3) (101, 224, 224, 3) (100, 224, 224, 3) (823, 40) (101, 40) (100, 40)\n",
            "Treinando lote  45  de  198\n",
            "Epoch 1/10\n",
            "20/20 [==============================] - 9s 471ms/step - loss: 0.4533 - acc: 0.7995 - val_loss: 0.4511 - val_acc: 0.7974\n",
            "Epoch 2/10\n",
            "20/20 [==============================] - 9s 442ms/step - loss: 0.4502 - acc: 0.7977 - val_loss: 0.4559 - val_acc: 0.7961\n",
            "Epoch 3/10\n",
            "20/20 [==============================] - 9s 428ms/step - loss: 0.4473 - acc: 0.8009 - val_loss: 0.4560 - val_acc: 0.7955\n",
            "Epoch 4/10\n",
            "20/20 [==============================] - 8s 395ms/step - loss: 0.4499 - acc: 0.8004 - val_loss: 0.4512 - val_acc: 0.7945\n",
            "Epoch 5/10\n",
            "20/20 [==============================] - 8s 397ms/step - loss: 0.4486 - acc: 0.8017 - val_loss: 0.4554 - val_acc: 0.7952\n",
            "Epoch 6/10\n",
            "20/20 [==============================] - 9s 439ms/step - loss: 0.4548 - acc: 0.7980 - val_loss: 0.4529 - val_acc: 0.7936\n",
            "Epoch 7/10\n",
            "20/20 [==============================] - 9s 434ms/step - loss: 0.4462 - acc: 0.8027 - val_loss: 0.4520 - val_acc: 0.7957\n",
            "Epoch 8/10\n",
            "20/20 [==============================] - 8s 405ms/step - loss: 0.4446 - acc: 0.8001 - val_loss: 0.4577 - val_acc: 0.7961\n",
            "Epoch 9/10\n",
            "20/20 [==============================] - 8s 394ms/step - loss: 0.4493 - acc: 0.7989 - val_loss: 0.4549 - val_acc: 0.7938\n",
            "Epoch 10/10\n",
            "20/20 [==============================] - 9s 441ms/step - loss: 0.4452 - acc: 0.8006 - val_loss: 0.4538 - val_acc: 0.7939\n"
          ],
          "name": "stdout"
        },
        {
          "output_type": "stream",
          "text": [
            "[========================================================================] 100%\n"
          ],
          "name": "stderr"
        },
        {
          "output_type": "stream",
          "text": [
            "(844, 224, 224, 3) (90, 224, 224, 3) (90, 224, 224, 3) (844, 40) (90, 40) (90, 40)\n",
            "Treinando lote  46  de  198\n",
            "Epoch 1/10\n",
            "20/20 [==============================] - 10s 484ms/step - loss: 0.4585 - acc: 0.7989 - val_loss: 0.4124 - val_acc: 0.8158\n",
            "Epoch 2/10\n",
            "20/20 [==============================] - 9s 441ms/step - loss: 0.4537 - acc: 0.8015 - val_loss: 0.4136 - val_acc: 0.8144\n",
            "Epoch 3/10\n",
            "20/20 [==============================] - 9s 435ms/step - loss: 0.4569 - acc: 0.7979 - val_loss: 0.4161 - val_acc: 0.8110\n",
            "Epoch 4/10\n",
            "20/20 [==============================] - 8s 410ms/step - loss: 0.4536 - acc: 0.7986 - val_loss: 0.4154 - val_acc: 0.8104\n",
            "Epoch 5/10\n",
            "20/20 [==============================] - 10s 481ms/step - loss: 0.4586 - acc: 0.7975 - val_loss: 0.4146 - val_acc: 0.8132\n",
            "Epoch 6/10\n",
            "20/20 [==============================] - 9s 436ms/step - loss: 0.4539 - acc: 0.8007 - val_loss: 0.4139 - val_acc: 0.8117\n",
            "Epoch 7/10\n",
            "20/20 [==============================] - 9s 431ms/step - loss: 0.4610 - acc: 0.7952 - val_loss: 0.4157 - val_acc: 0.8128\n",
            "Epoch 8/10\n",
            "20/20 [==============================] - 8s 411ms/step - loss: 0.4540 - acc: 0.7977 - val_loss: 0.4146 - val_acc: 0.8132\n",
            "Epoch 9/10\n",
            "20/20 [==============================] - 10s 485ms/step - loss: 0.4567 - acc: 0.7945 - val_loss: 0.4127 - val_acc: 0.8134\n",
            "Epoch 10/10\n",
            "20/20 [==============================] - 9s 442ms/step - loss: 0.4532 - acc: 0.8014 - val_loss: 0.4124 - val_acc: 0.8114\n"
          ],
          "name": "stdout"
        },
        {
          "output_type": "stream",
          "text": [
            "[========================================================================] 100%\n"
          ],
          "name": "stderr"
        },
        {
          "output_type": "stream",
          "text": [
            "(836, 224, 224, 3) (103, 224, 224, 3) (85, 224, 224, 3) (836, 40) (103, 40) (85, 40)\n",
            "Treinando lote  47  de  198\n",
            "Epoch 1/10\n",
            "20/20 [==============================] - 9s 465ms/step - loss: 0.4620 - acc: 0.7933 - val_loss: 0.4357 - val_acc: 0.8132\n",
            "Epoch 2/10\n",
            "20/20 [==============================] - 9s 428ms/step - loss: 0.4587 - acc: 0.7954 - val_loss: 0.4327 - val_acc: 0.8121\n",
            "Epoch 3/10\n",
            "20/20 [==============================] - 8s 408ms/step - loss: 0.4452 - acc: 0.8039 - val_loss: 0.4347 - val_acc: 0.8129\n",
            "Epoch 4/10\n",
            "20/20 [==============================] - 8s 380ms/step - loss: 0.4611 - acc: 0.7940 - val_loss: 0.4359 - val_acc: 0.8131\n",
            "Epoch 5/10\n",
            "20/20 [==============================] - 9s 464ms/step - loss: 0.4488 - acc: 0.8011 - val_loss: 0.4356 - val_acc: 0.8119\n",
            "Epoch 6/10\n",
            "20/20 [==============================] - 8s 416ms/step - loss: 0.4582 - acc: 0.7946 - val_loss: 0.4365 - val_acc: 0.8101\n",
            "Epoch 7/10\n",
            "20/20 [==============================] - 8s 401ms/step - loss: 0.4599 - acc: 0.7978 - val_loss: 0.4374 - val_acc: 0.8119\n",
            "Epoch 8/10\n",
            "20/20 [==============================] - 8s 380ms/step - loss: 0.4587 - acc: 0.7906 - val_loss: 0.4351 - val_acc: 0.8126\n",
            "Epoch 9/10\n",
            "20/20 [==============================] - 9s 435ms/step - loss: 0.4518 - acc: 0.7962 - val_loss: 0.4335 - val_acc: 0.8138\n",
            "Epoch 10/10\n",
            "20/20 [==============================] - 9s 429ms/step - loss: 0.4591 - acc: 0.7963 - val_loss: 0.4390 - val_acc: 0.8088\n"
          ],
          "name": "stdout"
        },
        {
          "output_type": "stream",
          "text": [
            "[========================================================================] 100%\n"
          ],
          "name": "stderr"
        },
        {
          "output_type": "stream",
          "text": [
            "(821, 224, 224, 3) (106, 224, 224, 3) (97, 224, 224, 3) (821, 40) (106, 40) (97, 40)\n",
            "Treinando lote  48  de  198\n",
            "Epoch 1/10\n",
            "20/20 [==============================] - 9s 473ms/step - loss: 0.4562 - acc: 0.7988 - val_loss: 0.4325 - val_acc: 0.8114\n",
            "Epoch 2/10\n",
            "20/20 [==============================] - 9s 446ms/step - loss: 0.4558 - acc: 0.8001 - val_loss: 0.4266 - val_acc: 0.8127\n",
            "Epoch 3/10\n",
            "20/20 [==============================] - 9s 439ms/step - loss: 0.4577 - acc: 0.7978 - val_loss: 0.4308 - val_acc: 0.8112\n",
            "Epoch 4/10\n",
            "20/20 [==============================] - 8s 403ms/step - loss: 0.4588 - acc: 0.7966 - val_loss: 0.4274 - val_acc: 0.8134\n",
            "Epoch 5/10\n",
            "20/20 [==============================] - 8s 397ms/step - loss: 0.4537 - acc: 0.8010 - val_loss: 0.4257 - val_acc: 0.8149\n",
            "Epoch 6/10\n",
            "20/20 [==============================] - 9s 444ms/step - loss: 0.4552 - acc: 0.7998 - val_loss: 0.4330 - val_acc: 0.8096\n",
            "Epoch 7/10\n",
            "20/20 [==============================] - 8s 423ms/step - loss: 0.4560 - acc: 0.7977 - val_loss: 0.4265 - val_acc: 0.8127\n",
            "Epoch 8/10\n",
            "20/20 [==============================] - 8s 404ms/step - loss: 0.4500 - acc: 0.8016 - val_loss: 0.4314 - val_acc: 0.8114\n",
            "Epoch 9/10\n",
            "20/20 [==============================] - 8s 396ms/step - loss: 0.4541 - acc: 0.8007 - val_loss: 0.4307 - val_acc: 0.8115\n",
            "Epoch 10/10\n",
            "20/20 [==============================] - 9s 446ms/step - loss: 0.4591 - acc: 0.7973 - val_loss: 0.4268 - val_acc: 0.8142\n"
          ],
          "name": "stdout"
        },
        {
          "output_type": "stream",
          "text": [
            "[========================================================================] 100%\n"
          ],
          "name": "stderr"
        },
        {
          "output_type": "stream",
          "text": [
            "(822, 224, 224, 3) (92, 224, 224, 3) (110, 224, 224, 3) (822, 40) (92, 40) (110, 40)\n",
            "Treinando lote  49  de  198\n",
            "Epoch 1/10\n",
            "20/20 [==============================] - 10s 493ms/step - loss: 0.4530 - acc: 0.8000 - val_loss: 0.4483 - val_acc: 0.8009\n",
            "Epoch 2/10\n",
            "20/20 [==============================] - 9s 452ms/step - loss: 0.4573 - acc: 0.7979 - val_loss: 0.4418 - val_acc: 0.8045\n",
            "Epoch 3/10\n",
            "20/20 [==============================] - 9s 443ms/step - loss: 0.4453 - acc: 0.8008 - val_loss: 0.4452 - val_acc: 0.8022\n",
            "Epoch 4/10\n",
            "20/20 [==============================] - 8s 424ms/step - loss: 0.4488 - acc: 0.8012 - val_loss: 0.4442 - val_acc: 0.8047\n",
            "Epoch 5/10\n",
            "20/20 [==============================] - 8s 409ms/step - loss: 0.4499 - acc: 0.8020 - val_loss: 0.4470 - val_acc: 0.8032\n",
            "Epoch 6/10\n",
            "20/20 [==============================] - 9s 470ms/step - loss: 0.4527 - acc: 0.8007 - val_loss: 0.4449 - val_acc: 0.8035\n",
            "Epoch 7/10\n",
            "20/20 [==============================] - 9s 434ms/step - loss: 0.4432 - acc: 0.8052 - val_loss: 0.4462 - val_acc: 0.8015\n",
            "Epoch 8/10\n",
            "20/20 [==============================] - 8s 419ms/step - loss: 0.4532 - acc: 0.8001 - val_loss: 0.4435 - val_acc: 0.8052\n",
            "Epoch 9/10\n",
            "20/20 [==============================] - 8s 412ms/step - loss: 0.4502 - acc: 0.8023 - val_loss: 0.4469 - val_acc: 0.8035\n",
            "Epoch 10/10\n",
            "20/20 [==============================] - 9s 469ms/step - loss: 0.4476 - acc: 0.8019 - val_loss: 0.4435 - val_acc: 0.8046\n"
          ],
          "name": "stdout"
        },
        {
          "output_type": "stream",
          "text": [
            "[========================================================================] 100%\n"
          ],
          "name": "stderr"
        },
        {
          "output_type": "stream",
          "text": [
            "(818, 224, 224, 3) (117, 224, 224, 3) (89, 224, 224, 3) (818, 40) (117, 40) (89, 40)\n",
            "Treinando lote  50  de  198\n",
            "Epoch 1/10\n",
            "20/20 [==============================] - 9s 474ms/step - loss: 0.4633 - acc: 0.7987 - val_loss: 0.4247 - val_acc: 0.8140\n",
            "Epoch 2/10\n",
            "20/20 [==============================] - 9s 448ms/step - loss: 0.4720 - acc: 0.7900 - val_loss: 0.4208 - val_acc: 0.8163\n",
            "Epoch 3/10\n",
            "20/20 [==============================] - 9s 438ms/step - loss: 0.4633 - acc: 0.7969 - val_loss: 0.4216 - val_acc: 0.8150\n",
            "Epoch 4/10\n",
            "20/20 [==============================] - 8s 414ms/step - loss: 0.4562 - acc: 0.7986 - val_loss: 0.4262 - val_acc: 0.8114\n",
            "Epoch 5/10\n",
            "20/20 [==============================] - 8s 407ms/step - loss: 0.4590 - acc: 0.7993 - val_loss: 0.4274 - val_acc: 0.8148\n",
            "Epoch 6/10\n",
            "20/20 [==============================] - 9s 465ms/step - loss: 0.4665 - acc: 0.7958 - val_loss: 0.4199 - val_acc: 0.8147\n",
            "Epoch 7/10\n",
            "20/20 [==============================] - 9s 446ms/step - loss: 0.4578 - acc: 0.7990 - val_loss: 0.4257 - val_acc: 0.8140\n",
            "Epoch 8/10\n",
            "20/20 [==============================] - 8s 416ms/step - loss: 0.4702 - acc: 0.7913 - val_loss: 0.4233 - val_acc: 0.8142\n",
            "Epoch 9/10\n",
            "20/20 [==============================] - 8s 406ms/step - loss: 0.4574 - acc: 0.7987 - val_loss: 0.4245 - val_acc: 0.8128\n",
            "Epoch 10/10\n",
            "20/20 [==============================] - 10s 477ms/step - loss: 0.4607 - acc: 0.7947 - val_loss: 0.4239 - val_acc: 0.8146\n"
          ],
          "name": "stdout"
        },
        {
          "output_type": "stream",
          "text": [
            "[========================================================================] 100%\n"
          ],
          "name": "stderr"
        },
        {
          "output_type": "stream",
          "text": [
            "(842, 224, 224, 3) (93, 224, 224, 3) (89, 224, 224, 3) (842, 40) (93, 40) (89, 40)\n",
            "Treinando lote  51  de  198\n",
            "Epoch 1/10\n",
            "20/20 [==============================] - 10s 505ms/step - loss: 0.4488 - acc: 0.8016 - val_loss: 0.4346 - val_acc: 0.8107\n",
            "Epoch 2/10\n",
            "20/20 [==============================] - 9s 454ms/step - loss: 0.4476 - acc: 0.8002 - val_loss: 0.4326 - val_acc: 0.8086\n",
            "Epoch 3/10\n",
            "20/20 [==============================] - 9s 431ms/step - loss: 0.4465 - acc: 0.8005 - val_loss: 0.4352 - val_acc: 0.8087\n",
            "Epoch 4/10\n",
            "20/20 [==============================] - 8s 405ms/step - loss: 0.4486 - acc: 0.8017 - val_loss: 0.4365 - val_acc: 0.8084\n",
            "Epoch 5/10\n",
            "20/20 [==============================] - 9s 472ms/step - loss: 0.4490 - acc: 0.8021 - val_loss: 0.4352 - val_acc: 0.8089\n",
            "Epoch 6/10\n",
            "20/20 [==============================] - 9s 453ms/step - loss: 0.4510 - acc: 0.8002 - val_loss: 0.4326 - val_acc: 0.8096\n",
            "Epoch 7/10\n",
            "20/20 [==============================] - 9s 426ms/step - loss: 0.4367 - acc: 0.8043 - val_loss: 0.4374 - val_acc: 0.8084\n",
            "Epoch 8/10\n",
            "20/20 [==============================] - 8s 404ms/step - loss: 0.4472 - acc: 0.8008 - val_loss: 0.4342 - val_acc: 0.8104\n",
            "Epoch 9/10\n",
            "20/20 [==============================] - 9s 468ms/step - loss: 0.4457 - acc: 0.8014 - val_loss: 0.4336 - val_acc: 0.8085\n",
            "Epoch 10/10\n",
            "20/20 [==============================] - 9s 474ms/step - loss: 0.4477 - acc: 0.8014 - val_loss: 0.4310 - val_acc: 0.8107\n"
          ],
          "name": "stdout"
        },
        {
          "output_type": "stream",
          "text": [
            "[========================================================================] 100%\n"
          ],
          "name": "stderr"
        },
        {
          "output_type": "stream",
          "text": [
            "(827, 224, 224, 3) (90, 224, 224, 3) (107, 224, 224, 3) (827, 40) (90, 40) (107, 40)\n",
            "Treinando lote  52  de  198\n",
            "Epoch 1/10\n",
            "20/20 [==============================] - 10s 501ms/step - loss: 0.4600 - acc: 0.7981 - val_loss: 0.4548 - val_acc: 0.7964\n",
            "Epoch 2/10\n",
            "20/20 [==============================] - 9s 462ms/step - loss: 0.4590 - acc: 0.7972 - val_loss: 0.4534 - val_acc: 0.7992\n",
            "Epoch 3/10\n",
            "20/20 [==============================] - 9s 439ms/step - loss: 0.4568 - acc: 0.7942 - val_loss: 0.4546 - val_acc: 0.7965\n",
            "Epoch 4/10\n",
            "20/20 [==============================] - 8s 419ms/step - loss: 0.4553 - acc: 0.7974 - val_loss: 0.4568 - val_acc: 0.7964\n",
            "Epoch 5/10\n",
            "20/20 [==============================] - 8s 410ms/step - loss: 0.4578 - acc: 0.7949 - val_loss: 0.4525 - val_acc: 0.7977\n",
            "Epoch 6/10\n",
            "20/20 [==============================] - 9s 470ms/step - loss: 0.4547 - acc: 0.7998 - val_loss: 0.4508 - val_acc: 0.7980\n",
            "Epoch 7/10\n",
            "20/20 [==============================] - 9s 452ms/step - loss: 0.4635 - acc: 0.7941 - val_loss: 0.4520 - val_acc: 0.7970\n",
            "Epoch 8/10\n",
            "20/20 [==============================] - 9s 430ms/step - loss: 0.4503 - acc: 0.7990 - val_loss: 0.4515 - val_acc: 0.7975\n",
            "Epoch 9/10\n",
            "20/20 [==============================] - 8s 409ms/step - loss: 0.4637 - acc: 0.7952 - val_loss: 0.4546 - val_acc: 0.7951\n",
            "Epoch 10/10\n",
            "20/20 [==============================] - 10s 498ms/step - loss: 0.4526 - acc: 0.8007 - val_loss: 0.4529 - val_acc: 0.7963\n"
          ],
          "name": "stdout"
        },
        {
          "output_type": "stream",
          "text": [
            "[========================================================================] 100%\n"
          ],
          "name": "stderr"
        },
        {
          "output_type": "stream",
          "text": [
            "(817, 224, 224, 3) (98, 224, 224, 3) (109, 224, 224, 3) (817, 40) (98, 40) (109, 40)\n",
            "Treinando lote  53  de  198\n",
            "Epoch 1/10\n",
            "20/20 [==============================] - 9s 469ms/step - loss: 0.4560 - acc: 0.7982 - val_loss: 0.4546 - val_acc: 0.8008\n",
            "Epoch 2/10\n",
            "20/20 [==============================] - 9s 457ms/step - loss: 0.4588 - acc: 0.7981 - val_loss: 0.4478 - val_acc: 0.8007\n",
            "Epoch 3/10\n",
            "20/20 [==============================] - 8s 420ms/step - loss: 0.4651 - acc: 0.7938 - val_loss: 0.4547 - val_acc: 0.7995\n",
            "Epoch 4/10\n",
            "20/20 [==============================] - 8s 387ms/step - loss: 0.4467 - acc: 0.8029 - val_loss: 0.4487 - val_acc: 0.8034\n",
            "Epoch 5/10\n",
            "20/20 [==============================] - 8s 390ms/step - loss: 0.4623 - acc: 0.7936 - val_loss: 0.4545 - val_acc: 0.8009\n",
            "Epoch 6/10\n",
            "20/20 [==============================] - 9s 457ms/step - loss: 0.4535 - acc: 0.7997 - val_loss: 0.4490 - val_acc: 0.8039\n",
            "Epoch 7/10\n",
            "20/20 [==============================] - 8s 420ms/step - loss: 0.4552 - acc: 0.8022 - val_loss: 0.4496 - val_acc: 0.8012\n",
            "Epoch 8/10\n",
            "20/20 [==============================] - 8s 397ms/step - loss: 0.4603 - acc: 0.7971 - val_loss: 0.4551 - val_acc: 0.8003\n",
            "Epoch 9/10\n",
            "20/20 [==============================] - 8s 389ms/step - loss: 0.4592 - acc: 0.7963 - val_loss: 0.4527 - val_acc: 0.8018\n",
            "Epoch 10/10\n",
            "20/20 [==============================] - 9s 452ms/step - loss: 0.4616 - acc: 0.7950 - val_loss: 0.4510 - val_acc: 0.8020\n"
          ],
          "name": "stdout"
        },
        {
          "output_type": "stream",
          "text": [
            "[========================================================================] 100%\n"
          ],
          "name": "stderr"
        },
        {
          "output_type": "stream",
          "text": [
            "(796, 224, 224, 3) (133, 224, 224, 3) (95, 224, 224, 3) (796, 40) (133, 40) (95, 40)\n",
            "Treinando lote  54  de  198\n",
            "Epoch 1/10\n",
            "20/20 [==============================] - 10s 507ms/step - loss: 0.4521 - acc: 0.8012 - val_loss: 0.4352 - val_acc: 0.8036\n",
            "Epoch 2/10\n",
            "20/20 [==============================] - 9s 450ms/step - loss: 0.4544 - acc: 0.7977 - val_loss: 0.4350 - val_acc: 0.8034\n",
            "Epoch 3/10\n",
            "20/20 [==============================] - 9s 432ms/step - loss: 0.4533 - acc: 0.7968 - val_loss: 0.4348 - val_acc: 0.8028\n",
            "Epoch 4/10\n",
            "20/20 [==============================] - 8s 421ms/step - loss: 0.4622 - acc: 0.7970 - val_loss: 0.4348 - val_acc: 0.8036\n",
            "Epoch 5/10\n",
            "20/20 [==============================] - 8s 396ms/step - loss: 0.4487 - acc: 0.8005 - val_loss: 0.4350 - val_acc: 0.8038\n",
            "Epoch 6/10\n",
            "20/20 [==============================] - 8s 396ms/step - loss: 0.4505 - acc: 0.7993 - val_loss: 0.4352 - val_acc: 0.8043\n",
            "Epoch 7/10\n",
            "20/20 [==============================] - 9s 446ms/step - loss: 0.4519 - acc: 0.7983 - val_loss: 0.4351 - val_acc: 0.8041\n",
            "Epoch 8/10\n",
            "20/20 [==============================] - 9s 431ms/step - loss: 0.4554 - acc: 0.7995 - val_loss: 0.4350 - val_acc: 0.8038\n",
            "Epoch 9/10\n",
            "20/20 [==============================] - 8s 419ms/step - loss: 0.4486 - acc: 0.8018 - val_loss: 0.4350 - val_acc: 0.8043\n",
            "Epoch 10/10\n",
            "20/20 [==============================] - 8s 395ms/step - loss: 0.4522 - acc: 0.7985 - val_loss: 0.4351 - val_acc: 0.8041\n"
          ],
          "name": "stdout"
        },
        {
          "output_type": "stream",
          "text": [
            "[========================================================================] 100%\n"
          ],
          "name": "stderr"
        },
        {
          "output_type": "stream",
          "text": [
            "(846, 224, 224, 3) (94, 224, 224, 3) (84, 224, 224, 3) (846, 40) (94, 40) (84, 40)\n",
            "Treinando lote  55  de  198\n",
            "Epoch 1/10\n",
            "20/20 [==============================] - 10s 496ms/step - loss: 0.4617 - acc: 0.7971 - val_loss: 0.4123 - val_acc: 0.8201\n",
            "Epoch 2/10\n",
            "20/20 [==============================] - 9s 459ms/step - loss: 0.4615 - acc: 0.7976 - val_loss: 0.4111 - val_acc: 0.8202\n",
            "Epoch 3/10\n",
            "20/20 [==============================] - 9s 437ms/step - loss: 0.4674 - acc: 0.7902 - val_loss: 0.4128 - val_acc: 0.8143\n",
            "Epoch 4/10\n",
            "20/20 [==============================] - 8s 407ms/step - loss: 0.4581 - acc: 0.7948 - val_loss: 0.4104 - val_acc: 0.8163\n",
            "Epoch 5/10\n",
            "20/20 [==============================] - 10s 491ms/step - loss: 0.4598 - acc: 0.7942 - val_loss: 0.4172 - val_acc: 0.8124\n",
            "Epoch 6/10\n",
            "20/20 [==============================] - 9s 457ms/step - loss: 0.4661 - acc: 0.7955 - val_loss: 0.4113 - val_acc: 0.8189\n",
            "Epoch 7/10\n",
            "20/20 [==============================] - 9s 430ms/step - loss: 0.4579 - acc: 0.7967 - val_loss: 0.4145 - val_acc: 0.8138\n",
            "Epoch 8/10\n",
            "20/20 [==============================] - 8s 406ms/step - loss: 0.4626 - acc: 0.7964 - val_loss: 0.4120 - val_acc: 0.8150\n",
            "Epoch 9/10\n",
            "20/20 [==============================] - 10s 477ms/step - loss: 0.4543 - acc: 0.8001 - val_loss: 0.4143 - val_acc: 0.8159\n",
            "Epoch 10/10\n",
            "20/20 [==============================] - 9s 458ms/step - loss: 0.4674 - acc: 0.7925 - val_loss: 0.4148 - val_acc: 0.8121\n"
          ],
          "name": "stdout"
        },
        {
          "output_type": "stream",
          "text": [
            "[========================================================================] 100%\n"
          ],
          "name": "stderr"
        },
        {
          "output_type": "stream",
          "text": [
            "(816, 224, 224, 3) (110, 224, 224, 3) (98, 224, 224, 3) (816, 40) (110, 40) (98, 40)\n",
            "Treinando lote  56  de  198\n",
            "Epoch 1/10\n",
            "20/20 [==============================] - 9s 465ms/step - loss: 0.4556 - acc: 0.7981 - val_loss: 0.4189 - val_acc: 0.8100\n",
            "Epoch 2/10\n",
            "20/20 [==============================] - 9s 434ms/step - loss: 0.4561 - acc: 0.7985 - val_loss: 0.4170 - val_acc: 0.8092\n",
            "Epoch 3/10\n",
            "20/20 [==============================] - 9s 439ms/step - loss: 0.4523 - acc: 0.7993 - val_loss: 0.4224 - val_acc: 0.8085\n",
            "Epoch 4/10\n",
            "20/20 [==============================] - 8s 397ms/step - loss: 0.4597 - acc: 0.7968 - val_loss: 0.4125 - val_acc: 0.8112\n",
            "Epoch 5/10\n",
            "20/20 [==============================] - 8s 395ms/step - loss: 0.4516 - acc: 0.8009 - val_loss: 0.4179 - val_acc: 0.8087\n",
            "Epoch 6/10\n",
            "20/20 [==============================] - 9s 444ms/step - loss: 0.4616 - acc: 0.7947 - val_loss: 0.4174 - val_acc: 0.8097\n",
            "Epoch 7/10\n",
            "20/20 [==============================] - 9s 435ms/step - loss: 0.4575 - acc: 0.7975 - val_loss: 0.4164 - val_acc: 0.8101\n",
            "Epoch 8/10\n",
            "20/20 [==============================] - 8s 410ms/step - loss: 0.4504 - acc: 0.7997 - val_loss: 0.4194 - val_acc: 0.8085\n",
            "Epoch 9/10\n",
            "20/20 [==============================] - 8s 394ms/step - loss: 0.4512 - acc: 0.7965 - val_loss: 0.4160 - val_acc: 0.8082\n",
            "Epoch 10/10\n",
            "20/20 [==============================] - 9s 455ms/step - loss: 0.4572 - acc: 0.7966 - val_loss: 0.4195 - val_acc: 0.8089\n"
          ],
          "name": "stdout"
        },
        {
          "output_type": "stream",
          "text": [
            "[========================================================================] 100%\n"
          ],
          "name": "stderr"
        },
        {
          "output_type": "stream",
          "text": [
            "(814, 224, 224, 3) (95, 224, 224, 3) (115, 224, 224, 3) (814, 40) (95, 40) (115, 40)\n",
            "Treinando lote  57  de  198\n",
            "Epoch 1/10\n",
            "20/20 [==============================] - 10s 495ms/step - loss: 0.4554 - acc: 0.7963 - val_loss: 0.4602 - val_acc: 0.7901\n",
            "Epoch 2/10\n",
            "20/20 [==============================] - 9s 461ms/step - loss: 0.4580 - acc: 0.7991 - val_loss: 0.4640 - val_acc: 0.7882\n",
            "Epoch 3/10\n",
            "20/20 [==============================] - 9s 435ms/step - loss: 0.4570 - acc: 0.7975 - val_loss: 0.4654 - val_acc: 0.7871\n",
            "Epoch 4/10\n",
            "20/20 [==============================] - 8s 411ms/step - loss: 0.4515 - acc: 0.8003 - val_loss: 0.4662 - val_acc: 0.7876\n",
            "Epoch 5/10\n",
            "20/20 [==============================] - 8s 413ms/step - loss: 0.4579 - acc: 0.7968 - val_loss: 0.4634 - val_acc: 0.7886\n",
            "Epoch 6/10\n",
            "20/20 [==============================] - 9s 472ms/step - loss: 0.4556 - acc: 0.7982 - val_loss: 0.4617 - val_acc: 0.7896\n",
            "Epoch 7/10\n",
            "20/20 [==============================] - 9s 453ms/step - loss: 0.4505 - acc: 0.7993 - val_loss: 0.4689 - val_acc: 0.7858\n",
            "Epoch 8/10\n",
            "20/20 [==============================] - 8s 423ms/step - loss: 0.4570 - acc: 0.7995 - val_loss: 0.4580 - val_acc: 0.7923\n",
            "Epoch 9/10\n",
            "20/20 [==============================] - 8s 406ms/step - loss: 0.4504 - acc: 0.8009 - val_loss: 0.4644 - val_acc: 0.7894\n",
            "Epoch 10/10\n",
            "20/20 [==============================] - 9s 460ms/step - loss: 0.4542 - acc: 0.7988 - val_loss: 0.4641 - val_acc: 0.7882\n"
          ],
          "name": "stdout"
        },
        {
          "output_type": "stream",
          "text": [
            "[========================================================================] 100%\n"
          ],
          "name": "stderr"
        },
        {
          "output_type": "stream",
          "text": [
            "(826, 224, 224, 3) (102, 224, 224, 3) (96, 224, 224, 3) (826, 40) (102, 40) (96, 40)\n",
            "Treinando lote  58  de  198\n",
            "Epoch 1/10\n",
            "20/20 [==============================] - 10s 486ms/step - loss: 0.4605 - acc: 0.7980 - val_loss: 0.4409 - val_acc: 0.8040\n",
            "Epoch 2/10\n",
            "20/20 [==============================] - 9s 444ms/step - loss: 0.4559 - acc: 0.7964 - val_loss: 0.4421 - val_acc: 0.8043\n",
            "Epoch 3/10\n",
            "20/20 [==============================] - 9s 429ms/step - loss: 0.4493 - acc: 0.7987 - val_loss: 0.4412 - val_acc: 0.8037\n",
            "Epoch 4/10\n",
            "20/20 [==============================] - 8s 400ms/step - loss: 0.4600 - acc: 0.7961 - val_loss: 0.4426 - val_acc: 0.8045\n",
            "Epoch 5/10\n",
            "20/20 [==============================] - 8s 396ms/step - loss: 0.4530 - acc: 0.7983 - val_loss: 0.4410 - val_acc: 0.8054\n",
            "Epoch 6/10\n",
            "20/20 [==============================] - 9s 451ms/step - loss: 0.4571 - acc: 0.7973 - val_loss: 0.4418 - val_acc: 0.8041\n",
            "Epoch 7/10\n",
            "20/20 [==============================] - 9s 441ms/step - loss: 0.4564 - acc: 0.7962 - val_loss: 0.4370 - val_acc: 0.8063\n",
            "Epoch 8/10\n",
            "20/20 [==============================] - 8s 401ms/step - loss: 0.4510 - acc: 0.8008 - val_loss: 0.4475 - val_acc: 0.8029\n",
            "Epoch 9/10\n",
            "20/20 [==============================] - 8s 395ms/step - loss: 0.4506 - acc: 0.7974 - val_loss: 0.4436 - val_acc: 0.8035\n",
            "Epoch 10/10\n",
            "20/20 [==============================] - 9s 456ms/step - loss: 0.4560 - acc: 0.7979 - val_loss: 0.4395 - val_acc: 0.8062\n"
          ],
          "name": "stdout"
        },
        {
          "output_type": "stream",
          "text": [
            "[========================================================================] 100%\n"
          ],
          "name": "stderr"
        },
        {
          "output_type": "stream",
          "text": [
            "(837, 224, 224, 3) (83, 224, 224, 3) (104, 224, 224, 3) (837, 40) (83, 40) (104, 40)\n",
            "Treinando lote  59  de  198\n",
            "Epoch 1/10\n",
            "20/20 [==============================] - 10s 476ms/step - loss: 0.4595 - acc: 0.7941 - val_loss: 0.4258 - val_acc: 0.8044\n",
            "Epoch 2/10\n",
            "20/20 [==============================] - 9s 442ms/step - loss: 0.4491 - acc: 0.8000 - val_loss: 0.4243 - val_acc: 0.8052\n",
            "Epoch 3/10\n",
            "20/20 [==============================] - 8s 418ms/step - loss: 0.4516 - acc: 0.7996 - val_loss: 0.4311 - val_acc: 0.8025\n",
            "Epoch 4/10\n",
            "20/20 [==============================] - 8s 397ms/step - loss: 0.4504 - acc: 0.7973 - val_loss: 0.4258 - val_acc: 0.8027\n",
            "Epoch 5/10\n",
            "20/20 [==============================] - 9s 449ms/step - loss: 0.4483 - acc: 0.7991 - val_loss: 0.4273 - val_acc: 0.8058\n",
            "Epoch 6/10\n",
            "20/20 [==============================] - 9s 450ms/step - loss: 0.4543 - acc: 0.7968 - val_loss: 0.4302 - val_acc: 0.8007\n",
            "Epoch 7/10\n",
            "20/20 [==============================] - 8s 407ms/step - loss: 0.4580 - acc: 0.7945 - val_loss: 0.4304 - val_acc: 0.8030\n",
            "Epoch 8/10\n",
            "20/20 [==============================] - 8s 406ms/step - loss: 0.4507 - acc: 0.8000 - val_loss: 0.4239 - val_acc: 0.8039\n",
            "Epoch 9/10\n",
            "20/20 [==============================] - 9s 472ms/step - loss: 0.4533 - acc: 0.7969 - val_loss: 0.4310 - val_acc: 0.8014\n",
            "Epoch 10/10\n",
            "20/20 [==============================] - 9s 455ms/step - loss: 0.4531 - acc: 0.8003 - val_loss: 0.4280 - val_acc: 0.8016\n"
          ],
          "name": "stdout"
        },
        {
          "output_type": "stream",
          "text": [
            "[========================================================================] 100%\n"
          ],
          "name": "stderr"
        },
        {
          "output_type": "stream",
          "text": [
            "(831, 224, 224, 3) (105, 224, 224, 3) (88, 224, 224, 3) (831, 40) (105, 40) (88, 40)\n",
            "Treinando lote  60  de  198\n",
            "Epoch 1/10\n",
            "20/20 [==============================] - 10s 481ms/step - loss: 0.4409 - acc: 0.8033 - val_loss: 0.4443 - val_acc: 0.8060\n",
            "Epoch 2/10\n",
            "20/20 [==============================] - 9s 441ms/step - loss: 0.4569 - acc: 0.7995 - val_loss: 0.4368 - val_acc: 0.8070\n",
            "Epoch 3/10\n",
            "20/20 [==============================] - 8s 424ms/step - loss: 0.4510 - acc: 0.7980 - val_loss: 0.4356 - val_acc: 0.8082\n",
            "Epoch 4/10\n",
            "20/20 [==============================] - 8s 402ms/step - loss: 0.4490 - acc: 0.8002 - val_loss: 0.4442 - val_acc: 0.8023\n",
            "Epoch 5/10\n",
            "20/20 [==============================] - 8s 399ms/step - loss: 0.4497 - acc: 0.8008 - val_loss: 0.4403 - val_acc: 0.8046\n",
            "Epoch 6/10\n",
            "20/20 [==============================] - 9s 459ms/step - loss: 0.4458 - acc: 0.8023 - val_loss: 0.4389 - val_acc: 0.8052\n",
            "Epoch 7/10\n",
            "20/20 [==============================] - 9s 441ms/step - loss: 0.4437 - acc: 0.8041 - val_loss: 0.4465 - val_acc: 0.8007\n",
            "Epoch 8/10\n",
            "20/20 [==============================] - 8s 403ms/step - loss: 0.4572 - acc: 0.7980 - val_loss: 0.4317 - val_acc: 0.8073\n",
            "Epoch 9/10\n",
            "20/20 [==============================] - 8s 399ms/step - loss: 0.4543 - acc: 0.7980 - val_loss: 0.4388 - val_acc: 0.8045\n",
            "Epoch 10/10\n",
            "20/20 [==============================] - 9s 445ms/step - loss: 0.4501 - acc: 0.7998 - val_loss: 0.4397 - val_acc: 0.8051\n"
          ],
          "name": "stdout"
        },
        {
          "output_type": "stream",
          "text": [
            "[========================================================================] 100%\n"
          ],
          "name": "stderr"
        },
        {
          "output_type": "stream",
          "text": [
            "(834, 224, 224, 3) (100, 224, 224, 3) (90, 224, 224, 3) (834, 40) (100, 40) (90, 40)\n",
            "Treinando lote  61  de  198\n",
            "Epoch 1/10\n",
            "20/20 [==============================] - 10s 482ms/step - loss: 0.4597 - acc: 0.7979 - val_loss: 0.4290 - val_acc: 0.8049\n",
            "Epoch 2/10\n",
            "20/20 [==============================] - 8s 418ms/step - loss: 0.4601 - acc: 0.7989 - val_loss: 0.4355 - val_acc: 0.8020\n",
            "Epoch 3/10\n",
            "20/20 [==============================] - 8s 402ms/step - loss: 0.4544 - acc: 0.8002 - val_loss: 0.4265 - val_acc: 0.8074\n",
            "Epoch 4/10\n",
            "20/20 [==============================] - 8s 382ms/step - loss: 0.4601 - acc: 0.7954 - val_loss: 0.4373 - val_acc: 0.8011\n",
            "Epoch 5/10\n",
            "20/20 [==============================] - 9s 458ms/step - loss: 0.4631 - acc: 0.7944 - val_loss: 0.4285 - val_acc: 0.8044\n",
            "Epoch 6/10\n",
            "20/20 [==============================] - 9s 439ms/step - loss: 0.4492 - acc: 0.8014 - val_loss: 0.4348 - val_acc: 0.8026\n",
            "Epoch 7/10\n",
            "20/20 [==============================] - 8s 414ms/step - loss: 0.4425 - acc: 0.8016 - val_loss: 0.4302 - val_acc: 0.8054\n",
            "Epoch 8/10\n",
            "20/20 [==============================] - 7s 374ms/step - loss: 0.4585 - acc: 0.8004 - val_loss: 0.4329 - val_acc: 0.8046\n",
            "Epoch 9/10\n",
            "20/20 [==============================] - 10s 482ms/step - loss: 0.4539 - acc: 0.7989 - val_loss: 0.4304 - val_acc: 0.8067\n",
            "Epoch 10/10\n",
            "20/20 [==============================] - 8s 415ms/step - loss: 0.4596 - acc: 0.7996 - val_loss: 0.4324 - val_acc: 0.8067\n"
          ],
          "name": "stdout"
        },
        {
          "output_type": "stream",
          "text": [
            "[========================================================================] 100%\n"
          ],
          "name": "stderr"
        },
        {
          "output_type": "stream",
          "text": [
            "(814, 224, 224, 3) (105, 224, 224, 3) (105, 224, 224, 3) (814, 40) (105, 40) (105, 40)\n",
            "Treinando lote  62  de  198\n",
            "Epoch 1/10\n",
            "20/20 [==============================] - 9s 471ms/step - loss: 0.4572 - acc: 0.7977 - val_loss: 0.4383 - val_acc: 0.8137\n",
            "Epoch 2/10\n",
            "20/20 [==============================] - 9s 446ms/step - loss: 0.4560 - acc: 0.7991 - val_loss: 0.4402 - val_acc: 0.8148\n",
            "Epoch 3/10\n",
            "20/20 [==============================] - 8s 412ms/step - loss: 0.4486 - acc: 0.8018 - val_loss: 0.4406 - val_acc: 0.8131\n",
            "Epoch 4/10\n",
            "20/20 [==============================] - 8s 403ms/step - loss: 0.4550 - acc: 0.7962 - val_loss: 0.4388 - val_acc: 0.8150\n",
            "Epoch 5/10\n",
            "20/20 [==============================] - 8s 391ms/step - loss: 0.4566 - acc: 0.7986 - val_loss: 0.4450 - val_acc: 0.8122\n",
            "Epoch 6/10\n",
            "20/20 [==============================] - 9s 464ms/step - loss: 0.4514 - acc: 0.8031 - val_loss: 0.4351 - val_acc: 0.8162\n",
            "Epoch 7/10\n",
            "20/20 [==============================] - 8s 423ms/step - loss: 0.4581 - acc: 0.7971 - val_loss: 0.4466 - val_acc: 0.8137\n",
            "Epoch 8/10\n",
            "20/20 [==============================] - 8s 402ms/step - loss: 0.4532 - acc: 0.8004 - val_loss: 0.4337 - val_acc: 0.8158\n",
            "Epoch 9/10\n",
            "20/20 [==============================] - 8s 392ms/step - loss: 0.4522 - acc: 0.8001 - val_loss: 0.4410 - val_acc: 0.8143\n",
            "Epoch 10/10\n",
            "20/20 [==============================] - 9s 467ms/step - loss: 0.4564 - acc: 0.7964 - val_loss: 0.4403 - val_acc: 0.8144\n"
          ],
          "name": "stdout"
        },
        {
          "output_type": "stream",
          "text": [
            "[========================================================================] 100%\n"
          ],
          "name": "stderr"
        },
        {
          "output_type": "stream",
          "text": [
            "(800, 224, 224, 3) (115, 224, 224, 3) (109, 224, 224, 3) (800, 40) (115, 40) (109, 40)\n",
            "Treinando lote  63  de  198\n",
            "Epoch 1/10\n",
            "20/20 [==============================] - 10s 501ms/step - loss: 0.4550 - acc: 0.7986 - val_loss: 0.4653 - val_acc: 0.7985\n",
            "Epoch 2/10\n",
            "20/20 [==============================] - 9s 464ms/step - loss: 0.4526 - acc: 0.7967 - val_loss: 0.4617 - val_acc: 0.8030\n",
            "Epoch 3/10\n",
            "20/20 [==============================] - 9s 457ms/step - loss: 0.4528 - acc: 0.7971 - val_loss: 0.4590 - val_acc: 0.8026\n",
            "Epoch 4/10\n",
            "20/20 [==============================] - 9s 425ms/step - loss: 0.4477 - acc: 0.7980 - val_loss: 0.4692 - val_acc: 0.7982\n",
            "Epoch 5/10\n",
            "20/20 [==============================] - 8s 408ms/step - loss: 0.4584 - acc: 0.7948 - val_loss: 0.4632 - val_acc: 0.8014\n",
            "Epoch 6/10\n",
            "20/20 [==============================] - 8s 406ms/step - loss: 0.4551 - acc: 0.7956 - val_loss: 0.4646 - val_acc: 0.7990\n",
            "Epoch 7/10\n",
            "20/20 [==============================] - 10s 481ms/step - loss: 0.4562 - acc: 0.7939 - val_loss: 0.4588 - val_acc: 0.8006\n",
            "Epoch 8/10\n",
            "20/20 [==============================] - 9s 444ms/step - loss: 0.4487 - acc: 0.8000 - val_loss: 0.4695 - val_acc: 0.7993\n",
            "Epoch 9/10\n",
            "20/20 [==============================] - 9s 433ms/step - loss: 0.4546 - acc: 0.7957 - val_loss: 0.4662 - val_acc: 0.7997\n",
            "Epoch 10/10\n",
            "20/20 [==============================] - 8s 406ms/step - loss: 0.4522 - acc: 0.7961 - val_loss: 0.4624 - val_acc: 0.8028\n"
          ],
          "name": "stdout"
        },
        {
          "output_type": "stream",
          "text": [
            "[========================================================================] 100%\n"
          ],
          "name": "stderr"
        },
        {
          "output_type": "stream",
          "text": [
            "(806, 224, 224, 3) (107, 224, 224, 3) (111, 224, 224, 3) (806, 40) (107, 40) (111, 40)\n",
            "Treinando lote  64  de  198\n",
            "Epoch 1/10\n",
            "20/20 [==============================] - 10s 487ms/step - loss: 0.4599 - acc: 0.7944 - val_loss: 0.4294 - val_acc: 0.8083\n",
            "Epoch 2/10\n",
            "20/20 [==============================] - 9s 445ms/step - loss: 0.4634 - acc: 0.7961 - val_loss: 0.4380 - val_acc: 0.8036\n",
            "Epoch 3/10\n",
            "20/20 [==============================] - 9s 427ms/step - loss: 0.4493 - acc: 0.8023 - val_loss: 0.4357 - val_acc: 0.8047\n",
            "Epoch 4/10\n",
            "20/20 [==============================] - 8s 395ms/step - loss: 0.4583 - acc: 0.7936 - val_loss: 0.4327 - val_acc: 0.8082\n",
            "Epoch 5/10\n",
            "20/20 [==============================] - 8s 390ms/step - loss: 0.4546 - acc: 0.7999 - val_loss: 0.4337 - val_acc: 0.8078\n",
            "Epoch 6/10\n",
            "20/20 [==============================] - 9s 469ms/step - loss: 0.4546 - acc: 0.7985 - val_loss: 0.4355 - val_acc: 0.8068\n",
            "Epoch 7/10\n",
            "20/20 [==============================] - 8s 423ms/step - loss: 0.4566 - acc: 0.7991 - val_loss: 0.4342 - val_acc: 0.8077\n",
            "Epoch 8/10\n",
            "20/20 [==============================] - 8s 406ms/step - loss: 0.4527 - acc: 0.8007 - val_loss: 0.4353 - val_acc: 0.8077\n",
            "Epoch 9/10\n",
            "20/20 [==============================] - 8s 390ms/step - loss: 0.4560 - acc: 0.7991 - val_loss: 0.4314 - val_acc: 0.8072\n",
            "Epoch 10/10\n",
            "20/20 [==============================] - 9s 463ms/step - loss: 0.4562 - acc: 0.7964 - val_loss: 0.4380 - val_acc: 0.8061\n"
          ],
          "name": "stdout"
        },
        {
          "output_type": "stream",
          "text": [
            "[========================================================================] 100%\n"
          ],
          "name": "stderr"
        },
        {
          "output_type": "stream",
          "text": [
            "(827, 224, 224, 3) (100, 224, 224, 3) (97, 224, 224, 3) (827, 40) (100, 40) (97, 40)\n",
            "Treinando lote  65  de  198\n",
            "Epoch 1/10\n",
            "20/20 [==============================] - 10s 489ms/step - loss: 0.4586 - acc: 0.8001 - val_loss: 0.4350 - val_acc: 0.8132\n",
            "Epoch 2/10\n",
            "20/20 [==============================] - 9s 445ms/step - loss: 0.4528 - acc: 0.8000 - val_loss: 0.4410 - val_acc: 0.8069\n",
            "Epoch 3/10\n",
            "20/20 [==============================] - 9s 427ms/step - loss: 0.4507 - acc: 0.8045 - val_loss: 0.4421 - val_acc: 0.8059\n",
            "Epoch 4/10\n",
            "20/20 [==============================] - 8s 393ms/step - loss: 0.4520 - acc: 0.8009 - val_loss: 0.4350 - val_acc: 0.8133\n",
            "Epoch 5/10\n",
            "20/20 [==============================] - 8s 393ms/step - loss: 0.4527 - acc: 0.8024 - val_loss: 0.4399 - val_acc: 0.8106\n",
            "Epoch 6/10\n",
            "20/20 [==============================] - 9s 450ms/step - loss: 0.4513 - acc: 0.8034 - val_loss: 0.4378 - val_acc: 0.8097\n",
            "Epoch 7/10\n",
            "20/20 [==============================] - 9s 432ms/step - loss: 0.4555 - acc: 0.8024 - val_loss: 0.4387 - val_acc: 0.8080\n",
            "Epoch 8/10\n",
            "20/20 [==============================] - 8s 398ms/step - loss: 0.4506 - acc: 0.8055 - val_loss: 0.4393 - val_acc: 0.8103\n",
            "Epoch 9/10\n",
            "20/20 [==============================] - 8s 393ms/step - loss: 0.4503 - acc: 0.8024 - val_loss: 0.4385 - val_acc: 0.8114\n",
            "Epoch 10/10\n",
            "20/20 [==============================] - 9s 464ms/step - loss: 0.4519 - acc: 0.8005 - val_loss: 0.4395 - val_acc: 0.8095\n"
          ],
          "name": "stdout"
        },
        {
          "output_type": "stream",
          "text": [
            "[========================================================================] 100%\n"
          ],
          "name": "stderr"
        },
        {
          "output_type": "stream",
          "text": [
            "(843, 224, 224, 3) (85, 224, 224, 3) (96, 224, 224, 3) (843, 40) (85, 40) (96, 40)\n",
            "Treinando lote  66  de  198\n",
            "Epoch 1/10\n",
            "20/20 [==============================] - 10s 485ms/step - loss: 0.4534 - acc: 0.8013 - val_loss: 0.4282 - val_acc: 0.8149\n",
            "Epoch 2/10\n",
            "20/20 [==============================] - 9s 444ms/step - loss: 0.4479 - acc: 0.8020 - val_loss: 0.4296 - val_acc: 0.8123\n",
            "Epoch 3/10\n",
            "20/20 [==============================] - 9s 442ms/step - loss: 0.4499 - acc: 0.8011 - val_loss: 0.4333 - val_acc: 0.8112\n",
            "Epoch 4/10\n",
            "20/20 [==============================] - 8s 400ms/step - loss: 0.4454 - acc: 0.8005 - val_loss: 0.4345 - val_acc: 0.8104\n",
            "Epoch 5/10\n",
            "20/20 [==============================] - 9s 466ms/step - loss: 0.4474 - acc: 0.8007 - val_loss: 0.4287 - val_acc: 0.8100\n",
            "Epoch 6/10\n",
            "20/20 [==============================] - 9s 458ms/step - loss: 0.4480 - acc: 0.7992 - val_loss: 0.4351 - val_acc: 0.8082\n",
            "Epoch 7/10\n",
            "20/20 [==============================] - 8s 418ms/step - loss: 0.4484 - acc: 0.8011 - val_loss: 0.4328 - val_acc: 0.8090\n",
            "Epoch 8/10\n",
            "20/20 [==============================] - 8s 400ms/step - loss: 0.4451 - acc: 0.7987 - val_loss: 0.4355 - val_acc: 0.8064\n",
            "Epoch 9/10\n",
            "20/20 [==============================] - 9s 466ms/step - loss: 0.4504 - acc: 0.7999 - val_loss: 0.4304 - val_acc: 0.8102\n",
            "Epoch 10/10\n",
            "20/20 [==============================] - 9s 439ms/step - loss: 0.4429 - acc: 0.8026 - val_loss: 0.4333 - val_acc: 0.8084\n"
          ],
          "name": "stdout"
        },
        {
          "output_type": "stream",
          "text": [
            "[========================================================================] 100%\n"
          ],
          "name": "stderr"
        },
        {
          "output_type": "stream",
          "text": [
            "(794, 224, 224, 3) (120, 224, 224, 3) (110, 224, 224, 3) (794, 40) (120, 40) (110, 40)\n",
            "Treinando lote  67  de  198\n",
            "Epoch 1/10\n",
            "20/20 [==============================] - 10s 517ms/step - loss: 0.4636 - acc: 0.7938 - val_loss: 0.4370 - val_acc: 0.8080\n",
            "Epoch 2/10\n",
            "20/20 [==============================] - 9s 469ms/step - loss: 0.4577 - acc: 0.7976 - val_loss: 0.4363 - val_acc: 0.8097\n",
            "Epoch 3/10\n",
            "20/20 [==============================] - 9s 448ms/step - loss: 0.4655 - acc: 0.7948 - val_loss: 0.4397 - val_acc: 0.8091\n",
            "Epoch 4/10\n",
            "20/20 [==============================] - 9s 441ms/step - loss: 0.4621 - acc: 0.7975 - val_loss: 0.4315 - val_acc: 0.8129\n",
            "Epoch 5/10\n",
            "20/20 [==============================] - 8s 411ms/step - loss: 0.4614 - acc: 0.7980 - val_loss: 0.4378 - val_acc: 0.8080\n",
            "Epoch 6/10\n",
            "20/20 [==============================] - 8s 409ms/step - loss: 0.4613 - acc: 0.7971 - val_loss: 0.4322 - val_acc: 0.8118\n",
            "Epoch 7/10\n",
            "20/20 [==============================] - 9s 462ms/step - loss: 0.4620 - acc: 0.7972 - val_loss: 0.4355 - val_acc: 0.8096\n",
            "Epoch 8/10\n",
            "20/20 [==============================] - 9s 451ms/step - loss: 0.4630 - acc: 0.7967 - val_loss: 0.4342 - val_acc: 0.8095\n",
            "Epoch 9/10\n",
            "20/20 [==============================] - 9s 426ms/step - loss: 0.4630 - acc: 0.7981 - val_loss: 0.4322 - val_acc: 0.8095\n",
            "Epoch 10/10\n",
            "20/20 [==============================] - 8s 410ms/step - loss: 0.4556 - acc: 0.8017 - val_loss: 0.4378 - val_acc: 0.8087\n"
          ],
          "name": "stdout"
        },
        {
          "output_type": "stream",
          "text": [
            "[========================================================================] 100%\n"
          ],
          "name": "stderr"
        },
        {
          "output_type": "stream",
          "text": [
            "(816, 224, 224, 3) (84, 224, 224, 3) (124, 224, 224, 3) (816, 40) (84, 40) (124, 40)\n",
            "Treinando lote  68  de  198\n",
            "Epoch 1/10\n",
            "20/20 [==============================] - 10s 487ms/step - loss: 0.4533 - acc: 0.7996 - val_loss: 0.4420 - val_acc: 0.8058\n",
            "Epoch 2/10\n",
            "20/20 [==============================] - 9s 457ms/step - loss: 0.4593 - acc: 0.7963 - val_loss: 0.4383 - val_acc: 0.8115\n",
            "Epoch 3/10\n",
            "20/20 [==============================] - 8s 424ms/step - loss: 0.4494 - acc: 0.8014 - val_loss: 0.4434 - val_acc: 0.8062\n",
            "Epoch 4/10\n",
            "20/20 [==============================] - 8s 417ms/step - loss: 0.4545 - acc: 0.7996 - val_loss: 0.4386 - val_acc: 0.8108\n",
            "Epoch 5/10\n",
            "20/20 [==============================] - 8s 401ms/step - loss: 0.4568 - acc: 0.7990 - val_loss: 0.4469 - val_acc: 0.8043\n",
            "Epoch 6/10\n",
            "20/20 [==============================] - 9s 471ms/step - loss: 0.4516 - acc: 0.8000 - val_loss: 0.4395 - val_acc: 0.8091\n",
            "Epoch 7/10\n",
            "20/20 [==============================] - 9s 438ms/step - loss: 0.4545 - acc: 0.8006 - val_loss: 0.4463 - val_acc: 0.8060\n",
            "Epoch 8/10\n",
            "20/20 [==============================] - 9s 434ms/step - loss: 0.4584 - acc: 0.7995 - val_loss: 0.4422 - val_acc: 0.8077\n",
            "Epoch 9/10\n",
            "20/20 [==============================] - 8s 408ms/step - loss: 0.4504 - acc: 0.8026 - val_loss: 0.4377 - val_acc: 0.8095\n",
            "Epoch 10/10\n",
            "20/20 [==============================] - 9s 473ms/step - loss: 0.4528 - acc: 0.7997 - val_loss: 0.4377 - val_acc: 0.8083\n"
          ],
          "name": "stdout"
        },
        {
          "output_type": "stream",
          "text": [
            "[========================================================================] 100%\n"
          ],
          "name": "stderr"
        },
        {
          "output_type": "stream",
          "text": [
            "(814, 224, 224, 3) (92, 224, 224, 3) (118, 224, 224, 3) (814, 40) (92, 40) (118, 40)\n",
            "Treinando lote  69  de  198\n",
            "Epoch 1/10\n",
            "20/20 [==============================] - 10s 486ms/step - loss: 0.4560 - acc: 0.8005 - val_loss: 0.3994 - val_acc: 0.8168\n",
            "Epoch 2/10\n",
            "20/20 [==============================] - 10s 476ms/step - loss: 0.4461 - acc: 0.8037 - val_loss: 0.4031 - val_acc: 0.8181\n",
            "Epoch 3/10\n",
            "20/20 [==============================] - 9s 446ms/step - loss: 0.4586 - acc: 0.8018 - val_loss: 0.3992 - val_acc: 0.8189\n",
            "Epoch 4/10\n",
            "20/20 [==============================] - 8s 415ms/step - loss: 0.4503 - acc: 0.8011 - val_loss: 0.4020 - val_acc: 0.8184\n",
            "Epoch 5/10\n",
            "20/20 [==============================] - 8s 405ms/step - loss: 0.4516 - acc: 0.8015 - val_loss: 0.4031 - val_acc: 0.8189\n",
            "Epoch 6/10\n",
            "20/20 [==============================] - 9s 475ms/step - loss: 0.4591 - acc: 0.7984 - val_loss: 0.3996 - val_acc: 0.8201\n",
            "Epoch 7/10\n",
            "20/20 [==============================] - 9s 436ms/step - loss: 0.4466 - acc: 0.8008 - val_loss: 0.4003 - val_acc: 0.8217\n",
            "Epoch 8/10\n",
            "20/20 [==============================] - 8s 418ms/step - loss: 0.4578 - acc: 0.7986 - val_loss: 0.4003 - val_acc: 0.8194\n",
            "Epoch 9/10\n",
            "20/20 [==============================] - 8s 411ms/step - loss: 0.4507 - acc: 0.8001 - val_loss: 0.4042 - val_acc: 0.8172\n",
            "Epoch 10/10\n",
            "20/20 [==============================] - 10s 477ms/step - loss: 0.4593 - acc: 0.7978 - val_loss: 0.4027 - val_acc: 0.8189\n"
          ],
          "name": "stdout"
        },
        {
          "output_type": "stream",
          "text": [
            "[========================================================================] 100%\n"
          ],
          "name": "stderr"
        },
        {
          "output_type": "stream",
          "text": [
            "(817, 224, 224, 3) (95, 224, 224, 3) (112, 224, 224, 3) (817, 40) (95, 40) (112, 40)\n",
            "Treinando lote  70  de  198\n",
            "Epoch 1/10\n",
            "20/20 [==============================] - 10s 513ms/step - loss: 0.4580 - acc: 0.7957 - val_loss: 0.4456 - val_acc: 0.8060\n",
            "Epoch 2/10\n",
            "20/20 [==============================] - 10s 485ms/step - loss: 0.4567 - acc: 0.7952 - val_loss: 0.4410 - val_acc: 0.8066\n",
            "Epoch 3/10\n",
            "20/20 [==============================] - 9s 440ms/step - loss: 0.4623 - acc: 0.7951 - val_loss: 0.4412 - val_acc: 0.8048\n",
            "Epoch 4/10\n",
            "20/20 [==============================] - 8s 413ms/step - loss: 0.4542 - acc: 0.7982 - val_loss: 0.4428 - val_acc: 0.8056\n",
            "Epoch 5/10\n",
            "20/20 [==============================] - 8s 413ms/step - loss: 0.4591 - acc: 0.7967 - val_loss: 0.4460 - val_acc: 0.8024\n",
            "Epoch 6/10\n",
            "20/20 [==============================] - 9s 472ms/step - loss: 0.4570 - acc: 0.7950 - val_loss: 0.4357 - val_acc: 0.8079\n",
            "Epoch 7/10\n",
            "20/20 [==============================] - 9s 443ms/step - loss: 0.4580 - acc: 0.7950 - val_loss: 0.4403 - val_acc: 0.8058\n",
            "Epoch 8/10\n",
            "20/20 [==============================] - 9s 428ms/step - loss: 0.4576 - acc: 0.7972 - val_loss: 0.4449 - val_acc: 0.8043\n",
            "Epoch 9/10\n",
            "20/20 [==============================] - 8s 410ms/step - loss: 0.4565 - acc: 0.7992 - val_loss: 0.4388 - val_acc: 0.8074\n",
            "Epoch 10/10\n",
            "20/20 [==============================] - 10s 480ms/step - loss: 0.4576 - acc: 0.7952 - val_loss: 0.4417 - val_acc: 0.8040\n"
          ],
          "name": "stdout"
        },
        {
          "output_type": "stream",
          "text": [
            "[========================================================================] 100%\n"
          ],
          "name": "stderr"
        },
        {
          "output_type": "stream",
          "text": [
            "(821, 224, 224, 3) (102, 224, 224, 3) (101, 224, 224, 3) (821, 40) (102, 40) (101, 40)\n",
            "Treinando lote  71  de  198\n",
            "Epoch 1/10\n",
            "20/20 [==============================] - 10s 481ms/step - loss: 0.4543 - acc: 0.7976 - val_loss: 0.4338 - val_acc: 0.8184\n",
            "Epoch 2/10\n",
            "20/20 [==============================] - 9s 454ms/step - loss: 0.4556 - acc: 0.7977 - val_loss: 0.4394 - val_acc: 0.8144\n",
            "Epoch 3/10\n",
            "20/20 [==============================] - 8s 419ms/step - loss: 0.4564 - acc: 0.7963 - val_loss: 0.4363 - val_acc: 0.8158\n",
            "Epoch 4/10\n",
            "20/20 [==============================] - 8s 402ms/step - loss: 0.4600 - acc: 0.7918 - val_loss: 0.4370 - val_acc: 0.8153\n",
            "Epoch 5/10\n",
            "20/20 [==============================] - 8s 396ms/step - loss: 0.4554 - acc: 0.7982 - val_loss: 0.4343 - val_acc: 0.8182\n",
            "Epoch 6/10\n",
            "20/20 [==============================] - 9s 443ms/step - loss: 0.4565 - acc: 0.7946 - val_loss: 0.4403 - val_acc: 0.8128\n",
            "Epoch 7/10\n",
            "20/20 [==============================] - 9s 436ms/step - loss: 0.4467 - acc: 0.8012 - val_loss: 0.4418 - val_acc: 0.8142\n",
            "Epoch 8/10\n",
            "20/20 [==============================] - 8s 403ms/step - loss: 0.4611 - acc: 0.7914 - val_loss: 0.4325 - val_acc: 0.8173\n",
            "Epoch 9/10\n",
            "20/20 [==============================] - 8s 395ms/step - loss: 0.4539 - acc: 0.7945 - val_loss: 0.4361 - val_acc: 0.8144\n",
            "Epoch 10/10\n",
            "20/20 [==============================] - 9s 460ms/step - loss: 0.4548 - acc: 0.7990 - val_loss: 0.4387 - val_acc: 0.8164\n"
          ],
          "name": "stdout"
        },
        {
          "output_type": "stream",
          "text": [
            "[========================================================================] 100%\n"
          ],
          "name": "stderr"
        },
        {
          "output_type": "stream",
          "text": [
            "(809, 224, 224, 3) (106, 224, 224, 3) (109, 224, 224, 3) (809, 40) (106, 40) (109, 40)\n",
            "Treinando lote  72  de  198\n",
            "Epoch 1/10\n",
            "20/20 [==============================] - 10s 479ms/step - loss: 0.4614 - acc: 0.7923 - val_loss: 0.4257 - val_acc: 0.8091\n",
            "Epoch 2/10\n",
            "20/20 [==============================] - 10s 476ms/step - loss: 0.4613 - acc: 0.7989 - val_loss: 0.4286 - val_acc: 0.8056\n",
            "Epoch 3/10\n",
            "20/20 [==============================] - 8s 423ms/step - loss: 0.4637 - acc: 0.7962 - val_loss: 0.4228 - val_acc: 0.8112\n",
            "Epoch 4/10\n",
            "20/20 [==============================] - 8s 398ms/step - loss: 0.4582 - acc: 0.7951 - val_loss: 0.4329 - val_acc: 0.8028\n",
            "Epoch 5/10\n",
            "20/20 [==============================] - 8s 391ms/step - loss: 0.4619 - acc: 0.7974 - val_loss: 0.4274 - val_acc: 0.8045\n",
            "Epoch 6/10\n",
            "20/20 [==============================] - 9s 453ms/step - loss: 0.4559 - acc: 0.7996 - val_loss: 0.4285 - val_acc: 0.8064\n",
            "Epoch 7/10\n",
            "20/20 [==============================] - 9s 447ms/step - loss: 0.4616 - acc: 0.7953 - val_loss: 0.4258 - val_acc: 0.8067\n",
            "Epoch 8/10\n",
            "20/20 [==============================] - 8s 413ms/step - loss: 0.4539 - acc: 0.8027 - val_loss: 0.4302 - val_acc: 0.8063\n",
            "Epoch 9/10\n",
            "20/20 [==============================] - 8s 391ms/step - loss: 0.4656 - acc: 0.7959 - val_loss: 0.4284 - val_acc: 0.8051\n",
            "Epoch 10/10\n",
            "20/20 [==============================] - 9s 453ms/step - loss: 0.4568 - acc: 0.7999 - val_loss: 0.4283 - val_acc: 0.8046\n"
          ],
          "name": "stdout"
        },
        {
          "output_type": "stream",
          "text": [
            "[========================================================================] 100%\n"
          ],
          "name": "stderr"
        },
        {
          "output_type": "stream",
          "text": [
            "(853, 224, 224, 3) (75, 224, 224, 3) (96, 224, 224, 3) (853, 40) (75, 40) (96, 40)\n",
            "Treinando lote  73  de  198\n",
            "Epoch 1/10\n",
            "20/20 [==============================] - 9s 470ms/step - loss: 0.4555 - acc: 0.7996 - val_loss: 0.4524 - val_acc: 0.7943\n",
            "Epoch 2/10\n",
            "20/20 [==============================] - 9s 448ms/step - loss: 0.4464 - acc: 0.8052 - val_loss: 0.4545 - val_acc: 0.7954\n",
            "Epoch 3/10\n",
            "20/20 [==============================] - 8s 422ms/step - loss: 0.4633 - acc: 0.7970 - val_loss: 0.4531 - val_acc: 0.7958\n",
            "Epoch 4/10\n",
            "20/20 [==============================] - 8s 391ms/step - loss: 0.4473 - acc: 0.8056 - val_loss: 0.4538 - val_acc: 0.7943\n",
            "Epoch 5/10\n",
            "20/20 [==============================] - 9s 455ms/step - loss: 0.4520 - acc: 0.8017 - val_loss: 0.4543 - val_acc: 0.7957\n",
            "Epoch 6/10\n",
            "20/20 [==============================] - 9s 428ms/step - loss: 0.4554 - acc: 0.8014 - val_loss: 0.4535 - val_acc: 0.7926\n",
            "Epoch 7/10\n",
            "20/20 [==============================] - 8s 403ms/step - loss: 0.4514 - acc: 0.8030 - val_loss: 0.4530 - val_acc: 0.7966\n",
            "Epoch 8/10\n",
            "20/20 [==============================] - 8s 392ms/step - loss: 0.4529 - acc: 0.8021 - val_loss: 0.4554 - val_acc: 0.7932\n",
            "Epoch 9/10\n",
            "20/20 [==============================] - 9s 451ms/step - loss: 0.4536 - acc: 0.8039 - val_loss: 0.4527 - val_acc: 0.7961\n",
            "Epoch 10/10\n",
            "20/20 [==============================] - 9s 433ms/step - loss: 0.4506 - acc: 0.7995 - val_loss: 0.4514 - val_acc: 0.7963\n"
          ],
          "name": "stdout"
        },
        {
          "output_type": "stream",
          "text": [
            "[========================================================================] 100%\n"
          ],
          "name": "stderr"
        },
        {
          "output_type": "stream",
          "text": [
            "(826, 224, 224, 3) (107, 224, 224, 3) (91, 224, 224, 3) (826, 40) (107, 40) (91, 40)\n",
            "Treinando lote  74  de  198\n",
            "Epoch 1/10\n",
            "20/20 [==============================] - 9s 472ms/step - loss: 0.4530 - acc: 0.7980 - val_loss: 0.4034 - val_acc: 0.8179\n",
            "Epoch 2/10\n",
            "20/20 [==============================] - 9s 459ms/step - loss: 0.4487 - acc: 0.8007 - val_loss: 0.4144 - val_acc: 0.8110\n",
            "Epoch 3/10\n",
            "20/20 [==============================] - 8s 423ms/step - loss: 0.4573 - acc: 0.7974 - val_loss: 0.4079 - val_acc: 0.8179\n",
            "Epoch 4/10\n",
            "20/20 [==============================] - 8s 405ms/step - loss: 0.4452 - acc: 0.8035 - val_loss: 0.4096 - val_acc: 0.8132\n",
            "Epoch 5/10\n",
            "20/20 [==============================] - 8s 399ms/step - loss: 0.4578 - acc: 0.7944 - val_loss: 0.4125 - val_acc: 0.8126\n",
            "Epoch 6/10\n",
            "20/20 [==============================] - 9s 442ms/step - loss: 0.4435 - acc: 0.8050 - val_loss: 0.4044 - val_acc: 0.8168\n",
            "Epoch 7/10\n",
            "20/20 [==============================] - 9s 444ms/step - loss: 0.4484 - acc: 0.7996 - val_loss: 0.4057 - val_acc: 0.8150\n",
            "Epoch 8/10\n",
            "20/20 [==============================] - 8s 405ms/step - loss: 0.4553 - acc: 0.8000 - val_loss: 0.4113 - val_acc: 0.8105\n",
            "Epoch 9/10\n",
            "20/20 [==============================] - 8s 398ms/step - loss: 0.4514 - acc: 0.8008 - val_loss: 0.4064 - val_acc: 0.8167\n",
            "Epoch 10/10\n",
            "20/20 [==============================] - 9s 449ms/step - loss: 0.4500 - acc: 0.7976 - val_loss: 0.4105 - val_acc: 0.8108\n"
          ],
          "name": "stdout"
        },
        {
          "output_type": "stream",
          "text": [
            "[========================================================================] 100%\n"
          ],
          "name": "stderr"
        },
        {
          "output_type": "stream",
          "text": [
            "(822, 224, 224, 3) (103, 224, 224, 3) (99, 224, 224, 3) (822, 40) (103, 40) (99, 40)\n",
            "Treinando lote  75  de  198\n",
            "Epoch 1/10\n",
            "20/20 [==============================] - 10s 478ms/step - loss: 0.4520 - acc: 0.8010 - val_loss: 0.4157 - val_acc: 0.8228\n",
            "Epoch 2/10\n",
            "20/20 [==============================] - 9s 459ms/step - loss: 0.4590 - acc: 0.7977 - val_loss: 0.4131 - val_acc: 0.8233\n",
            "Epoch 3/10\n",
            "20/20 [==============================] - 9s 432ms/step - loss: 0.4503 - acc: 0.8017 - val_loss: 0.4192 - val_acc: 0.8206\n",
            "Epoch 4/10\n",
            "20/20 [==============================] - 8s 398ms/step - loss: 0.4558 - acc: 0.8039 - val_loss: 0.4095 - val_acc: 0.8253\n",
            "Epoch 5/10\n",
            "20/20 [==============================] - 8s 395ms/step - loss: 0.4545 - acc: 0.8032 - val_loss: 0.4144 - val_acc: 0.8211\n",
            "Epoch 6/10\n",
            "20/20 [==============================] - 9s 455ms/step - loss: 0.4529 - acc: 0.8022 - val_loss: 0.4145 - val_acc: 0.8243\n",
            "Epoch 7/10\n",
            "20/20 [==============================] - 9s 438ms/step - loss: 0.4514 - acc: 0.8024 - val_loss: 0.4160 - val_acc: 0.8212\n",
            "Epoch 8/10\n",
            "20/20 [==============================] - 8s 405ms/step - loss: 0.4508 - acc: 0.8031 - val_loss: 0.4132 - val_acc: 0.8243\n",
            "Epoch 9/10\n",
            "20/20 [==============================] - 8s 396ms/step - loss: 0.4509 - acc: 0.8010 - val_loss: 0.4175 - val_acc: 0.8216\n",
            "Epoch 10/10\n",
            "20/20 [==============================] - 9s 440ms/step - loss: 0.4555 - acc: 0.8006 - val_loss: 0.4114 - val_acc: 0.8243\n"
          ],
          "name": "stdout"
        },
        {
          "output_type": "stream",
          "text": [
            "[========================================================================] 100%\n"
          ],
          "name": "stderr"
        },
        {
          "output_type": "stream",
          "text": [
            "(813, 224, 224, 3) (110, 224, 224, 3) (101, 224, 224, 3) (813, 40) (110, 40) (101, 40)\n",
            "Treinando lote  76  de  198\n",
            "Epoch 1/10\n",
            "20/20 [==============================] - 10s 477ms/step - loss: 0.4473 - acc: 0.8030 - val_loss: 0.4358 - val_acc: 0.8114\n",
            "Epoch 2/10\n",
            "20/20 [==============================] - 9s 443ms/step - loss: 0.4551 - acc: 0.8039 - val_loss: 0.4368 - val_acc: 0.8072\n",
            "Epoch 3/10\n",
            "20/20 [==============================] - 8s 422ms/step - loss: 0.4532 - acc: 0.8017 - val_loss: 0.4366 - val_acc: 0.8130\n",
            "Epoch 4/10\n",
            "20/20 [==============================] - 8s 405ms/step - loss: 0.4426 - acc: 0.8057 - val_loss: 0.4366 - val_acc: 0.8093\n",
            "Epoch 5/10\n",
            "20/20 [==============================] - 8s 394ms/step - loss: 0.4496 - acc: 0.8026 - val_loss: 0.4329 - val_acc: 0.8113\n",
            "Epoch 6/10\n",
            "20/20 [==============================] - 9s 441ms/step - loss: 0.4492 - acc: 0.8054 - val_loss: 0.4406 - val_acc: 0.8097\n",
            "Epoch 7/10\n",
            "20/20 [==============================] - 9s 448ms/step - loss: 0.4519 - acc: 0.8034 - val_loss: 0.4352 - val_acc: 0.8132\n",
            "Epoch 8/10\n",
            "20/20 [==============================] - 8s 406ms/step - loss: 0.4391 - acc: 0.8082 - val_loss: 0.4374 - val_acc: 0.8111\n",
            "Epoch 9/10\n",
            "20/20 [==============================] - 8s 394ms/step - loss: 0.4518 - acc: 0.8036 - val_loss: 0.4420 - val_acc: 0.8120\n",
            "Epoch 10/10\n",
            "20/20 [==============================] - 9s 451ms/step - loss: 0.4466 - acc: 0.8054 - val_loss: 0.4309 - val_acc: 0.8125\n"
          ],
          "name": "stdout"
        },
        {
          "output_type": "stream",
          "text": [
            "[========================================================================] 100%\n"
          ],
          "name": "stderr"
        },
        {
          "output_type": "stream",
          "text": [
            "(817, 224, 224, 3) (98, 224, 224, 3) (109, 224, 224, 3) (817, 40) (98, 40) (109, 40)\n",
            "Treinando lote  77  de  198\n",
            "Epoch 1/10\n",
            "20/20 [==============================] - 9s 474ms/step - loss: 0.4521 - acc: 0.7974 - val_loss: 0.4318 - val_acc: 0.8072\n",
            "Epoch 2/10\n",
            "20/20 [==============================] - 9s 427ms/step - loss: 0.4557 - acc: 0.8029 - val_loss: 0.4358 - val_acc: 0.8071\n",
            "Epoch 3/10\n",
            "20/20 [==============================] - 8s 425ms/step - loss: 0.4519 - acc: 0.7986 - val_loss: 0.4332 - val_acc: 0.8063\n",
            "Epoch 4/10\n",
            "20/20 [==============================] - 8s 392ms/step - loss: 0.4546 - acc: 0.7989 - val_loss: 0.4348 - val_acc: 0.8064\n",
            "Epoch 5/10\n",
            "20/20 [==============================] - 8s 395ms/step - loss: 0.4524 - acc: 0.8018 - val_loss: 0.4345 - val_acc: 0.8042\n",
            "Epoch 6/10\n",
            "20/20 [==============================] - 9s 432ms/step - loss: 0.4591 - acc: 0.7955 - val_loss: 0.4329 - val_acc: 0.8112\n",
            "Epoch 7/10\n",
            "20/20 [==============================] - 8s 425ms/step - loss: 0.4509 - acc: 0.8007 - val_loss: 0.4351 - val_acc: 0.8085\n",
            "Epoch 8/10\n",
            "20/20 [==============================] - 8s 397ms/step - loss: 0.4480 - acc: 0.8007 - val_loss: 0.4331 - val_acc: 0.8076\n",
            "Epoch 9/10\n",
            "20/20 [==============================] - 8s 390ms/step - loss: 0.4536 - acc: 0.7990 - val_loss: 0.4359 - val_acc: 0.8064\n",
            "Epoch 10/10\n",
            "20/20 [==============================] - 9s 447ms/step - loss: 0.4563 - acc: 0.7987 - val_loss: 0.4323 - val_acc: 0.8083\n"
          ],
          "name": "stdout"
        },
        {
          "output_type": "stream",
          "text": [
            "[========================================================================] 100%\n"
          ],
          "name": "stderr"
        },
        {
          "output_type": "stream",
          "text": [
            "(831, 224, 224, 3) (98, 224, 224, 3) (95, 224, 224, 3) (831, 40) (98, 40) (95, 40)\n",
            "Treinando lote  78  de  198\n",
            "Epoch 1/10\n",
            "20/20 [==============================] - 9s 474ms/step - loss: 0.4499 - acc: 0.8001 - val_loss: 0.4203 - val_acc: 0.8084\n",
            "Epoch 2/10\n",
            "20/20 [==============================] - 9s 427ms/step - loss: 0.4539 - acc: 0.7978 - val_loss: 0.4210 - val_acc: 0.8077\n",
            "Epoch 3/10\n",
            "20/20 [==============================] - 8s 420ms/step - loss: 0.4444 - acc: 0.7978 - val_loss: 0.4237 - val_acc: 0.8054\n",
            "Epoch 4/10\n",
            "20/20 [==============================] - 8s 391ms/step - loss: 0.4526 - acc: 0.8015 - val_loss: 0.4166 - val_acc: 0.8102\n",
            "Epoch 5/10\n",
            "20/20 [==============================] - 8s 395ms/step - loss: 0.4473 - acc: 0.8007 - val_loss: 0.4207 - val_acc: 0.8079\n",
            "Epoch 6/10\n",
            "20/20 [==============================] - 9s 431ms/step - loss: 0.4523 - acc: 0.8005 - val_loss: 0.4199 - val_acc: 0.8073\n",
            "Epoch 7/10\n",
            "20/20 [==============================] - 9s 425ms/step - loss: 0.4482 - acc: 0.8040 - val_loss: 0.4225 - val_acc: 0.8059\n",
            "Epoch 8/10\n",
            "20/20 [==============================] - 8s 401ms/step - loss: 0.4455 - acc: 0.8002 - val_loss: 0.4177 - val_acc: 0.8101\n",
            "Epoch 9/10\n",
            "20/20 [==============================] - 8s 395ms/step - loss: 0.4508 - acc: 0.8007 - val_loss: 0.4204 - val_acc: 0.8080\n",
            "Epoch 10/10\n",
            "20/20 [==============================] - 9s 452ms/step - loss: 0.4511 - acc: 0.7989 - val_loss: 0.4199 - val_acc: 0.8092\n"
          ],
          "name": "stdout"
        },
        {
          "output_type": "stream",
          "text": [
            "[========================================================================] 100%\n"
          ],
          "name": "stderr"
        },
        {
          "output_type": "stream",
          "text": [
            "(827, 224, 224, 3) (102, 224, 224, 3) (95, 224, 224, 3) (827, 40) (102, 40) (95, 40)\n",
            "Treinando lote  79  de  198\n",
            "Epoch 1/10\n",
            "20/20 [==============================] - 10s 487ms/step - loss: 0.4564 - acc: 0.7989 - val_loss: 0.4346 - val_acc: 0.8188\n",
            "Epoch 2/10\n",
            "20/20 [==============================] - 9s 441ms/step - loss: 0.4603 - acc: 0.7991 - val_loss: 0.4387 - val_acc: 0.8171\n",
            "Epoch 3/10\n",
            "20/20 [==============================] - 8s 423ms/step - loss: 0.4467 - acc: 0.8006 - val_loss: 0.4353 - val_acc: 0.8189\n",
            "Epoch 4/10\n",
            "20/20 [==============================] - 8s 399ms/step - loss: 0.4611 - acc: 0.7981 - val_loss: 0.4376 - val_acc: 0.8131\n",
            "Epoch 5/10\n",
            "20/20 [==============================] - 8s 398ms/step - loss: 0.4563 - acc: 0.7983 - val_loss: 0.4344 - val_acc: 0.8177\n",
            "Epoch 6/10\n",
            "20/20 [==============================] - 9s 445ms/step - loss: 0.4567 - acc: 0.8006 - val_loss: 0.4378 - val_acc: 0.8170\n",
            "Epoch 7/10\n",
            "20/20 [==============================] - 9s 438ms/step - loss: 0.4523 - acc: 0.8015 - val_loss: 0.4320 - val_acc: 0.8184\n",
            "Epoch 8/10\n",
            "20/20 [==============================] - 8s 400ms/step - loss: 0.4609 - acc: 0.7967 - val_loss: 0.4399 - val_acc: 0.8163\n",
            "Epoch 9/10\n",
            "20/20 [==============================] - 8s 396ms/step - loss: 0.4543 - acc: 0.7989 - val_loss: 0.4375 - val_acc: 0.8176\n",
            "Epoch 10/10\n",
            "20/20 [==============================] - 9s 438ms/step - loss: 0.4540 - acc: 0.7978 - val_loss: 0.4341 - val_acc: 0.8176\n"
          ],
          "name": "stdout"
        },
        {
          "output_type": "stream",
          "text": [
            "[========================================================================] 100%\n"
          ],
          "name": "stderr"
        },
        {
          "output_type": "stream",
          "text": [
            "(831, 224, 224, 3) (103, 224, 224, 3) (90, 224, 224, 3) (831, 40) (103, 40) (90, 40)\n",
            "Treinando lote  80  de  198\n",
            "Epoch 1/10\n",
            "20/20 [==============================] - 10s 492ms/step - loss: 0.4481 - acc: 0.8054 - val_loss: 0.4493 - val_acc: 0.8078\n",
            "Epoch 2/10\n",
            "20/20 [==============================] - 9s 442ms/step - loss: 0.4465 - acc: 0.8012 - val_loss: 0.4508 - val_acc: 0.8056\n",
            "Epoch 3/10\n",
            "20/20 [==============================] - 9s 430ms/step - loss: 0.4518 - acc: 0.8019 - val_loss: 0.4503 - val_acc: 0.8053\n",
            "Epoch 4/10\n",
            "20/20 [==============================] - 8s 406ms/step - loss: 0.4528 - acc: 0.7977 - val_loss: 0.4507 - val_acc: 0.8077\n",
            "Epoch 5/10\n",
            "20/20 [==============================] - 8s 398ms/step - loss: 0.4530 - acc: 0.8006 - val_loss: 0.4496 - val_acc: 0.8060\n",
            "Epoch 6/10\n",
            "20/20 [==============================] - 9s 442ms/step - loss: 0.4479 - acc: 0.8031 - val_loss: 0.4522 - val_acc: 0.8051\n",
            "Epoch 7/10\n",
            "20/20 [==============================] - 9s 434ms/step - loss: 0.4538 - acc: 0.8009 - val_loss: 0.4443 - val_acc: 0.8101\n",
            "Epoch 8/10\n",
            "20/20 [==============================] - 8s 409ms/step - loss: 0.4520 - acc: 0.8013 - val_loss: 0.4574 - val_acc: 0.8031\n",
            "Epoch 9/10\n",
            "20/20 [==============================] - 8s 398ms/step - loss: 0.4431 - acc: 0.8044 - val_loss: 0.4508 - val_acc: 0.8069\n",
            "Epoch 10/10\n",
            "20/20 [==============================] - 9s 450ms/step - loss: 0.4490 - acc: 0.8022 - val_loss: 0.4511 - val_acc: 0.8041\n"
          ],
          "name": "stdout"
        },
        {
          "output_type": "stream",
          "text": [
            "[========================================================================] 100%\n"
          ],
          "name": "stderr"
        },
        {
          "output_type": "stream",
          "text": [
            "(844, 224, 224, 3) (85, 224, 224, 3) (95, 224, 224, 3) (844, 40) (85, 40) (95, 40)\n",
            "Treinando lote  81  de  198\n",
            "Epoch 1/10\n",
            "20/20 [==============================] - 10s 508ms/step - loss: 0.4505 - acc: 0.7978 - val_loss: 0.4317 - val_acc: 0.8094\n",
            "Epoch 2/10\n",
            "20/20 [==============================] - 9s 452ms/step - loss: 0.4399 - acc: 0.8032 - val_loss: 0.4352 - val_acc: 0.8082\n",
            "Epoch 3/10\n",
            "20/20 [==============================] - 9s 432ms/step - loss: 0.4523 - acc: 0.8008 - val_loss: 0.4334 - val_acc: 0.8084\n",
            "Epoch 4/10\n",
            "20/20 [==============================] - 8s 401ms/step - loss: 0.4415 - acc: 0.8004 - val_loss: 0.4377 - val_acc: 0.8063\n",
            "Epoch 5/10\n",
            "20/20 [==============================] - 10s 496ms/step - loss: 0.4426 - acc: 0.8009 - val_loss: 0.4318 - val_acc: 0.8105\n",
            "Epoch 6/10\n",
            "20/20 [==============================] - 9s 453ms/step - loss: 0.4495 - acc: 0.7999 - val_loss: 0.4343 - val_acc: 0.8086\n",
            "Epoch 7/10\n",
            "20/20 [==============================] - 8s 422ms/step - loss: 0.4477 - acc: 0.7980 - val_loss: 0.4352 - val_acc: 0.8078\n",
            "Epoch 8/10\n",
            "20/20 [==============================] - 8s 400ms/step - loss: 0.4433 - acc: 0.8043 - val_loss: 0.4357 - val_acc: 0.8079\n",
            "Epoch 9/10\n",
            "20/20 [==============================] - 9s 473ms/step - loss: 0.4410 - acc: 0.8041 - val_loss: 0.4317 - val_acc: 0.8091\n",
            "Epoch 10/10\n",
            "20/20 [==============================] - 9s 448ms/step - loss: 0.4570 - acc: 0.7955 - val_loss: 0.4316 - val_acc: 0.8088\n"
          ],
          "name": "stdout"
        },
        {
          "output_type": "stream",
          "text": [
            "[========================================================================] 100%\n"
          ],
          "name": "stderr"
        },
        {
          "output_type": "stream",
          "text": [
            "(816, 224, 224, 3) (97, 224, 224, 3) (111, 224, 224, 3) (816, 40) (97, 40) (111, 40)\n",
            "Treinando lote  82  de  198\n",
            "Epoch 1/10\n",
            "20/20 [==============================] - 9s 459ms/step - loss: 0.4591 - acc: 0.7986 - val_loss: 0.4362 - val_acc: 0.8110\n",
            "Epoch 2/10\n",
            "20/20 [==============================] - 9s 426ms/step - loss: 0.4595 - acc: 0.7963 - val_loss: 0.4287 - val_acc: 0.8153\n",
            "Epoch 3/10\n",
            "20/20 [==============================] - 8s 421ms/step - loss: 0.4649 - acc: 0.7967 - val_loss: 0.4308 - val_acc: 0.8165\n",
            "Epoch 4/10\n",
            "20/20 [==============================] - 8s 391ms/step - loss: 0.4593 - acc: 0.7969 - val_loss: 0.4296 - val_acc: 0.8173\n",
            "Epoch 5/10\n",
            "20/20 [==============================] - 8s 400ms/step - loss: 0.4588 - acc: 0.7971 - val_loss: 0.4285 - val_acc: 0.8166\n",
            "Epoch 6/10\n",
            "20/20 [==============================] - 9s 431ms/step - loss: 0.4549 - acc: 0.8005 - val_loss: 0.4327 - val_acc: 0.8160\n",
            "Epoch 7/10\n",
            "20/20 [==============================] - 9s 436ms/step - loss: 0.4614 - acc: 0.7977 - val_loss: 0.4302 - val_acc: 0.8181\n",
            "Epoch 8/10\n",
            "20/20 [==============================] - 8s 391ms/step - loss: 0.4590 - acc: 0.7967 - val_loss: 0.4298 - val_acc: 0.8185\n",
            "Epoch 9/10\n",
            "20/20 [==============================] - 8s 386ms/step - loss: 0.4566 - acc: 0.7980 - val_loss: 0.4302 - val_acc: 0.8179\n",
            "Epoch 10/10\n",
            "20/20 [==============================] - 9s 456ms/step - loss: 0.4604 - acc: 0.7991 - val_loss: 0.4303 - val_acc: 0.8169\n"
          ],
          "name": "stdout"
        },
        {
          "output_type": "stream",
          "text": [
            "[========================================================================] 100%\n"
          ],
          "name": "stderr"
        },
        {
          "output_type": "stream",
          "text": [
            "(800, 224, 224, 3) (112, 224, 224, 3) (112, 224, 224, 3) (800, 40) (112, 40) (112, 40)\n",
            "Treinando lote  83  de  198\n",
            "Epoch 1/10\n",
            "20/20 [==============================] - 10s 488ms/step - loss: 0.4499 - acc: 0.7996 - val_loss: 0.4274 - val_acc: 0.8138\n",
            "Epoch 2/10\n",
            "20/20 [==============================] - 9s 457ms/step - loss: 0.4479 - acc: 0.8012 - val_loss: 0.4311 - val_acc: 0.8105\n",
            "Epoch 3/10\n",
            "20/20 [==============================] - 9s 447ms/step - loss: 0.4479 - acc: 0.8022 - val_loss: 0.4269 - val_acc: 0.8134\n",
            "Epoch 4/10\n",
            "20/20 [==============================] - 8s 421ms/step - loss: 0.4501 - acc: 0.8018 - val_loss: 0.4319 - val_acc: 0.8118\n",
            "Epoch 5/10\n",
            "20/20 [==============================] - 8s 400ms/step - loss: 0.4480 - acc: 0.8016 - val_loss: 0.4303 - val_acc: 0.8115\n",
            "Epoch 6/10\n",
            "20/20 [==============================] - 8s 394ms/step - loss: 0.4463 - acc: 0.8028 - val_loss: 0.4291 - val_acc: 0.8151\n",
            "Epoch 7/10\n",
            "20/20 [==============================] - 9s 467ms/step - loss: 0.4510 - acc: 0.7985 - val_loss: 0.4311 - val_acc: 0.8143\n",
            "Epoch 8/10\n",
            "20/20 [==============================] - 9s 435ms/step - loss: 0.4493 - acc: 0.8018 - val_loss: 0.4282 - val_acc: 0.8119\n",
            "Epoch 9/10\n",
            "20/20 [==============================] - 8s 420ms/step - loss: 0.4429 - acc: 0.8010 - val_loss: 0.4305 - val_acc: 0.8122\n",
            "Epoch 10/10\n",
            "20/20 [==============================] - 8s 396ms/step - loss: 0.4513 - acc: 0.7999 - val_loss: 0.4292 - val_acc: 0.8142\n"
          ],
          "name": "stdout"
        },
        {
          "output_type": "stream",
          "text": [
            "[========================================================================] 100%\n"
          ],
          "name": "stderr"
        },
        {
          "output_type": "stream",
          "text": [
            "(829, 224, 224, 3) (100, 224, 224, 3) (95, 224, 224, 3) (829, 40) (100, 40) (95, 40)\n",
            "Treinando lote  84  de  198\n",
            "Epoch 1/10\n",
            "20/20 [==============================] - 10s 484ms/step - loss: 0.4524 - acc: 0.7972 - val_loss: 0.4388 - val_acc: 0.8060\n",
            "Epoch 2/10\n",
            "20/20 [==============================] - 9s 443ms/step - loss: 0.4455 - acc: 0.8015 - val_loss: 0.4436 - val_acc: 0.8015\n",
            "Epoch 3/10\n",
            "20/20 [==============================] - 9s 428ms/step - loss: 0.4502 - acc: 0.8017 - val_loss: 0.4406 - val_acc: 0.8025\n",
            "Epoch 4/10\n",
            "20/20 [==============================] - 8s 394ms/step - loss: 0.4506 - acc: 0.8000 - val_loss: 0.4422 - val_acc: 0.8035\n",
            "Epoch 5/10\n",
            "20/20 [==============================] - 8s 394ms/step - loss: 0.4478 - acc: 0.8021 - val_loss: 0.4397 - val_acc: 0.8047\n",
            "Epoch 6/10\n",
            "20/20 [==============================] - 10s 483ms/step - loss: 0.4471 - acc: 0.7980 - val_loss: 0.4434 - val_acc: 0.8029\n",
            "Epoch 7/10\n",
            "20/20 [==============================] - 9s 438ms/step - loss: 0.4535 - acc: 0.7993 - val_loss: 0.4379 - val_acc: 0.8042\n",
            "Epoch 8/10\n",
            "20/20 [==============================] - 8s 402ms/step - loss: 0.4502 - acc: 0.8005 - val_loss: 0.4455 - val_acc: 0.8014\n",
            "Epoch 9/10\n",
            "20/20 [==============================] - 8s 394ms/step - loss: 0.4476 - acc: 0.8018 - val_loss: 0.4437 - val_acc: 0.8040\n",
            "Epoch 10/10\n",
            "20/20 [==============================] - 9s 450ms/step - loss: 0.4551 - acc: 0.7974 - val_loss: 0.4389 - val_acc: 0.8043\n"
          ],
          "name": "stdout"
        },
        {
          "output_type": "stream",
          "text": [
            "[========================================================================] 100%\n"
          ],
          "name": "stderr"
        },
        {
          "output_type": "stream",
          "text": [
            "(809, 224, 224, 3) (107, 224, 224, 3) (108, 224, 224, 3) (809, 40) (107, 40) (108, 40)\n",
            "Treinando lote  85  de  198\n",
            "Epoch 1/10\n",
            "20/20 [==============================] - 10s 483ms/step - loss: 0.4571 - acc: 0.7999 - val_loss: 0.4333 - val_acc: 0.8074\n",
            "Epoch 2/10\n",
            "20/20 [==============================] - 9s 436ms/step - loss: 0.4641 - acc: 0.7969 - val_loss: 0.4387 - val_acc: 0.8067\n",
            "Epoch 3/10\n",
            "20/20 [==============================] - 8s 422ms/step - loss: 0.4536 - acc: 0.8024 - val_loss: 0.4391 - val_acc: 0.8072\n",
            "Epoch 4/10\n",
            "20/20 [==============================] - 8s 399ms/step - loss: 0.4574 - acc: 0.8022 - val_loss: 0.4327 - val_acc: 0.8057\n",
            "Epoch 5/10\n",
            "20/20 [==============================] - 8s 400ms/step - loss: 0.4581 - acc: 0.8002 - val_loss: 0.4347 - val_acc: 0.8083\n",
            "Epoch 6/10\n",
            "20/20 [==============================] - 9s 456ms/step - loss: 0.4570 - acc: 0.7985 - val_loss: 0.4374 - val_acc: 0.8052\n",
            "Epoch 7/10\n",
            "20/20 [==============================] - 9s 427ms/step - loss: 0.4509 - acc: 0.8036 - val_loss: 0.4359 - val_acc: 0.8072\n",
            "Epoch 8/10\n",
            "20/20 [==============================] - 8s 410ms/step - loss: 0.4618 - acc: 0.7993 - val_loss: 0.4369 - val_acc: 0.8056\n",
            "Epoch 9/10\n",
            "20/20 [==============================] - 8s 391ms/step - loss: 0.4595 - acc: 0.7978 - val_loss: 0.4370 - val_acc: 0.8050\n",
            "Epoch 10/10\n",
            "20/20 [==============================] - 9s 465ms/step - loss: 0.4545 - acc: 0.8032 - val_loss: 0.4356 - val_acc: 0.8060\n"
          ],
          "name": "stdout"
        },
        {
          "output_type": "stream",
          "text": [
            "[========================================================================] 100%\n"
          ],
          "name": "stderr"
        },
        {
          "output_type": "stream",
          "text": [
            "(793, 224, 224, 3) (113, 224, 224, 3) (118, 224, 224, 3) (793, 40) (113, 40) (118, 40)\n",
            "Treinando lote  86  de  198\n",
            "Epoch 1/10\n",
            "20/20 [==============================] - 10s 509ms/step - loss: 0.4551 - acc: 0.8012 - val_loss: 0.4101 - val_acc: 0.8159\n",
            "Epoch 2/10\n",
            "20/20 [==============================] - 10s 483ms/step - loss: 0.4555 - acc: 0.7990 - val_loss: 0.4050 - val_acc: 0.8203\n",
            "Epoch 3/10\n",
            "20/20 [==============================] - 9s 448ms/step - loss: 0.4517 - acc: 0.7999 - val_loss: 0.4053 - val_acc: 0.8209\n",
            "Epoch 4/10\n",
            "20/20 [==============================] - 8s 416ms/step - loss: 0.4547 - acc: 0.7997 - val_loss: 0.4096 - val_acc: 0.8204\n",
            "Epoch 5/10\n",
            "20/20 [==============================] - 8s 407ms/step - loss: 0.4506 - acc: 0.8016 - val_loss: 0.4089 - val_acc: 0.8208\n",
            "Epoch 6/10\n",
            "20/20 [==============================] - 8s 404ms/step - loss: 0.4518 - acc: 0.8006 - val_loss: 0.4059 - val_acc: 0.8215\n",
            "Epoch 7/10\n",
            "20/20 [==============================] - 9s 456ms/step - loss: 0.4551 - acc: 0.7996 - val_loss: 0.4130 - val_acc: 0.8172\n",
            "Epoch 8/10\n",
            "20/20 [==============================] - 9s 460ms/step - loss: 0.4481 - acc: 0.8030 - val_loss: 0.4017 - val_acc: 0.8237\n",
            "Epoch 9/10\n",
            "20/20 [==============================] - 8s 423ms/step - loss: 0.4544 - acc: 0.8014 - val_loss: 0.4075 - val_acc: 0.8178\n",
            "Epoch 10/10\n",
            "20/20 [==============================] - 8s 405ms/step - loss: 0.4513 - acc: 0.7988 - val_loss: 0.4077 - val_acc: 0.8206\n"
          ],
          "name": "stdout"
        },
        {
          "output_type": "stream",
          "text": [
            "[========================================================================] 100%\n"
          ],
          "name": "stderr"
        },
        {
          "output_type": "stream",
          "text": [
            "(836, 224, 224, 3) (93, 224, 224, 3) (95, 224, 224, 3) (836, 40) (93, 40) (95, 40)\n",
            "Treinando lote  87  de  198\n",
            "Epoch 1/10\n",
            "20/20 [==============================] - 10s 498ms/step - loss: 0.4542 - acc: 0.8000 - val_loss: 0.4339 - val_acc: 0.8027\n",
            "Epoch 2/10\n",
            "20/20 [==============================] - 9s 450ms/step - loss: 0.4463 - acc: 0.8034 - val_loss: 0.4360 - val_acc: 0.8014\n",
            "Epoch 3/10\n",
            "20/20 [==============================] - 9s 434ms/step - loss: 0.4461 - acc: 0.8026 - val_loss: 0.4342 - val_acc: 0.8040\n",
            "Epoch 4/10\n",
            "20/20 [==============================] - 8s 411ms/step - loss: 0.4502 - acc: 0.8003 - val_loss: 0.4347 - val_acc: 0.8035\n",
            "Epoch 5/10\n",
            "20/20 [==============================] - 10s 500ms/step - loss: 0.4530 - acc: 0.7980 - val_loss: 0.4363 - val_acc: 0.8018\n",
            "Epoch 6/10\n",
            "20/20 [==============================] - 9s 441ms/step - loss: 0.4400 - acc: 0.8002 - val_loss: 0.4344 - val_acc: 0.8028\n",
            "Epoch 7/10\n",
            "20/20 [==============================] - 9s 432ms/step - loss: 0.4492 - acc: 0.8009 - val_loss: 0.4335 - val_acc: 0.8029\n",
            "Epoch 8/10\n",
            "20/20 [==============================] - 8s 402ms/step - loss: 0.4514 - acc: 0.8014 - val_loss: 0.4370 - val_acc: 0.8033\n",
            "Epoch 9/10\n",
            "20/20 [==============================] - 9s 464ms/step - loss: 0.4469 - acc: 0.8012 - val_loss: 0.4350 - val_acc: 0.8017\n",
            "Epoch 10/10\n",
            "20/20 [==============================] - 9s 452ms/step - loss: 0.4564 - acc: 0.7989 - val_loss: 0.4374 - val_acc: 0.8020\n"
          ],
          "name": "stdout"
        },
        {
          "output_type": "stream",
          "text": [
            "[========================================================================] 100%\n"
          ],
          "name": "stderr"
        },
        {
          "output_type": "stream",
          "text": [
            "(822, 224, 224, 3) (110, 224, 224, 3) (92, 224, 224, 3) (822, 40) (110, 40) (92, 40)\n",
            "Treinando lote  88  de  198\n",
            "Epoch 1/10\n",
            "20/20 [==============================] - 9s 475ms/step - loss: 0.4571 - acc: 0.7998 - val_loss: 0.4225 - val_acc: 0.8136\n",
            "Epoch 2/10\n",
            "20/20 [==============================] - 9s 460ms/step - loss: 0.4520 - acc: 0.8017 - val_loss: 0.4303 - val_acc: 0.8145\n",
            "Epoch 3/10\n",
            "20/20 [==============================] - 9s 429ms/step - loss: 0.4567 - acc: 0.8005 - val_loss: 0.4241 - val_acc: 0.8157\n",
            "Epoch 4/10\n",
            "20/20 [==============================] - 8s 402ms/step - loss: 0.4543 - acc: 0.7985 - val_loss: 0.4259 - val_acc: 0.8151\n",
            "Epoch 5/10\n",
            "20/20 [==============================] - 8s 398ms/step - loss: 0.4536 - acc: 0.8010 - val_loss: 0.4259 - val_acc: 0.8139\n",
            "Epoch 6/10\n",
            "20/20 [==============================] - 9s 456ms/step - loss: 0.4509 - acc: 0.8002 - val_loss: 0.4242 - val_acc: 0.8157\n",
            "Epoch 7/10\n",
            "20/20 [==============================] - 9s 441ms/step - loss: 0.4512 - acc: 0.8016 - val_loss: 0.4268 - val_acc: 0.8156\n",
            "Epoch 8/10\n",
            "20/20 [==============================] - 8s 407ms/step - loss: 0.4533 - acc: 0.8024 - val_loss: 0.4227 - val_acc: 0.8159\n",
            "Epoch 9/10\n",
            "20/20 [==============================] - 8s 399ms/step - loss: 0.4511 - acc: 0.8010 - val_loss: 0.4253 - val_acc: 0.8141\n",
            "Epoch 10/10\n",
            "20/20 [==============================] - 9s 463ms/step - loss: 0.4548 - acc: 0.8026 - val_loss: 0.4249 - val_acc: 0.8167\n"
          ],
          "name": "stdout"
        },
        {
          "output_type": "stream",
          "text": [
            "[========================================================================] 100%\n"
          ],
          "name": "stderr"
        },
        {
          "output_type": "stream",
          "text": [
            "(811, 224, 224, 3) (97, 224, 224, 3) (116, 224, 224, 3) (811, 40) (97, 40) (116, 40)\n",
            "Treinando lote  89  de  198\n",
            "Epoch 1/10\n",
            "20/20 [==============================] - 9s 469ms/step - loss: 0.4587 - acc: 0.7961 - val_loss: 0.4257 - val_acc: 0.8035\n",
            "Epoch 2/10\n",
            "20/20 [==============================] - 9s 426ms/step - loss: 0.4496 - acc: 0.8020 - val_loss: 0.4357 - val_acc: 0.8015\n",
            "Epoch 3/10\n",
            "20/20 [==============================] - 8s 410ms/step - loss: 0.4578 - acc: 0.7995 - val_loss: 0.4345 - val_acc: 0.8013\n",
            "Epoch 4/10\n",
            "20/20 [==============================] - 8s 396ms/step - loss: 0.4471 - acc: 0.8004 - val_loss: 0.4254 - val_acc: 0.8045\n",
            "Epoch 5/10\n",
            "20/20 [==============================] - 8s 390ms/step - loss: 0.4563 - acc: 0.7986 - val_loss: 0.4249 - val_acc: 0.8045\n",
            "Epoch 6/10\n",
            "20/20 [==============================] - 9s 431ms/step - loss: 0.4566 - acc: 0.7991 - val_loss: 0.4361 - val_acc: 0.8018\n",
            "Epoch 7/10\n",
            "20/20 [==============================] - 9s 430ms/step - loss: 0.4514 - acc: 0.8005 - val_loss: 0.4301 - val_acc: 0.8063\n",
            "Epoch 8/10\n",
            "20/20 [==============================] - 8s 391ms/step - loss: 0.4526 - acc: 0.8003 - val_loss: 0.4299 - val_acc: 0.8036\n",
            "Epoch 9/10\n",
            "20/20 [==============================] - 8s 385ms/step - loss: 0.4582 - acc: 0.7964 - val_loss: 0.4324 - val_acc: 0.8036\n",
            "Epoch 10/10\n",
            "20/20 [==============================] - 9s 431ms/step - loss: 0.4588 - acc: 0.7962 - val_loss: 0.4278 - val_acc: 0.8053\n"
          ],
          "name": "stdout"
        },
        {
          "output_type": "stream",
          "text": [
            "[========================================================================] 100%\n"
          ],
          "name": "stderr"
        },
        {
          "output_type": "stream",
          "text": [
            "(838, 224, 224, 3) (85, 224, 224, 3) (101, 224, 224, 3) (838, 40) (85, 40) (101, 40)\n",
            "Treinando lote  90  de  198\n",
            "Epoch 1/10\n",
            "20/20 [==============================] - 10s 499ms/step - loss: 0.4538 - acc: 0.7999 - val_loss: 0.4256 - val_acc: 0.8044\n",
            "Epoch 2/10\n",
            "20/20 [==============================] - 9s 453ms/step - loss: 0.4527 - acc: 0.7987 - val_loss: 0.4256 - val_acc: 0.8104\n",
            "Epoch 3/10\n",
            "20/20 [==============================] - 8s 423ms/step - loss: 0.4495 - acc: 0.7986 - val_loss: 0.4254 - val_acc: 0.8056\n",
            "Epoch 4/10\n",
            "20/20 [==============================] - 8s 398ms/step - loss: 0.4588 - acc: 0.7964 - val_loss: 0.4267 - val_acc: 0.8054\n",
            "Epoch 5/10\n",
            "20/20 [==============================] - 10s 487ms/step - loss: 0.4570 - acc: 0.7982 - val_loss: 0.4249 - val_acc: 0.8052\n",
            "Epoch 6/10\n",
            "20/20 [==============================] - 9s 437ms/step - loss: 0.4486 - acc: 0.7993 - val_loss: 0.4230 - val_acc: 0.8063\n",
            "Epoch 7/10\n",
            "20/20 [==============================] - 9s 429ms/step - loss: 0.4614 - acc: 0.7961 - val_loss: 0.4249 - val_acc: 0.8079\n",
            "Epoch 8/10\n",
            "20/20 [==============================] - 8s 399ms/step - loss: 0.4512 - acc: 0.7995 - val_loss: 0.4249 - val_acc: 0.8075\n",
            "Epoch 9/10\n",
            "20/20 [==============================] - 9s 460ms/step - loss: 0.4563 - acc: 0.7979 - val_loss: 0.4258 - val_acc: 0.8062\n",
            "Epoch 10/10\n",
            "20/20 [==============================] - 9s 466ms/step - loss: 0.4513 - acc: 0.7991 - val_loss: 0.4275 - val_acc: 0.8061\n"
          ],
          "name": "stdout"
        },
        {
          "output_type": "stream",
          "text": [
            "[========================================================================] 100%\n"
          ],
          "name": "stderr"
        },
        {
          "output_type": "stream",
          "text": [
            "(817, 224, 224, 3) (98, 224, 224, 3) (109, 224, 224, 3) (817, 40) (98, 40) (109, 40)\n",
            "Treinando lote  91  de  198\n",
            "Epoch 1/10\n",
            "20/20 [==============================] - 9s 474ms/step - loss: 0.4439 - acc: 0.8040 - val_loss: 0.4306 - val_acc: 0.8056\n",
            "Epoch 2/10\n",
            "20/20 [==============================] - 9s 447ms/step - loss: 0.4556 - acc: 0.8011 - val_loss: 0.4350 - val_acc: 0.8061\n",
            "Epoch 3/10\n",
            "20/20 [==============================] - 8s 415ms/step - loss: 0.4506 - acc: 0.8053 - val_loss: 0.4352 - val_acc: 0.8025\n",
            "Epoch 4/10\n",
            "20/20 [==============================] - 8s 392ms/step - loss: 0.4475 - acc: 0.8060 - val_loss: 0.4315 - val_acc: 0.8048\n",
            "Epoch 5/10\n",
            "20/20 [==============================] - 8s 405ms/step - loss: 0.4487 - acc: 0.8041 - val_loss: 0.4376 - val_acc: 0.8027\n",
            "Epoch 6/10\n",
            "20/20 [==============================] - 9s 437ms/step - loss: 0.4471 - acc: 0.8064 - val_loss: 0.4294 - val_acc: 0.8064\n",
            "Epoch 7/10\n",
            "20/20 [==============================] - 9s 440ms/step - loss: 0.4503 - acc: 0.8066 - val_loss: 0.4365 - val_acc: 0.8020\n",
            "Epoch 8/10\n",
            "20/20 [==============================] - 8s 397ms/step - loss: 0.4413 - acc: 0.8090 - val_loss: 0.4309 - val_acc: 0.8073\n",
            "Epoch 9/10\n",
            "20/20 [==============================] - 8s 395ms/step - loss: 0.4496 - acc: 0.8058 - val_loss: 0.4324 - val_acc: 0.8044\n",
            "Epoch 10/10\n",
            "20/20 [==============================] - 9s 452ms/step - loss: 0.4410 - acc: 0.8085 - val_loss: 0.4361 - val_acc: 0.8039\n"
          ],
          "name": "stdout"
        },
        {
          "output_type": "stream",
          "text": [
            "[========================================================================] 100%\n"
          ],
          "name": "stderr"
        },
        {
          "output_type": "stream",
          "text": [
            "(847, 224, 224, 3) (94, 224, 224, 3) (83, 224, 224, 3) (847, 40) (94, 40) (83, 40)\n",
            "Treinando lote  92  de  198\n",
            "Epoch 1/10\n",
            "20/20 [==============================] - 10s 493ms/step - loss: 0.4531 - acc: 0.7995 - val_loss: 0.4358 - val_acc: 0.8146\n",
            "Epoch 2/10\n",
            "20/20 [==============================] - 9s 460ms/step - loss: 0.4526 - acc: 0.7999 - val_loss: 0.4317 - val_acc: 0.8167\n",
            "Epoch 3/10\n",
            "20/20 [==============================] - 9s 434ms/step - loss: 0.4534 - acc: 0.8007 - val_loss: 0.4358 - val_acc: 0.8164\n",
            "Epoch 4/10\n",
            "20/20 [==============================] - 8s 406ms/step - loss: 0.4532 - acc: 0.7991 - val_loss: 0.4345 - val_acc: 0.8129\n",
            "Epoch 5/10\n",
            "20/20 [==============================] - 10s 485ms/step - loss: 0.4532 - acc: 0.7974 - val_loss: 0.4375 - val_acc: 0.8129\n",
            "Epoch 6/10\n",
            "20/20 [==============================] - 9s 441ms/step - loss: 0.4470 - acc: 0.8028 - val_loss: 0.4348 - val_acc: 0.8133\n",
            "Epoch 7/10\n",
            "20/20 [==============================] - 9s 437ms/step - loss: 0.4537 - acc: 0.8004 - val_loss: 0.4381 - val_acc: 0.8123\n",
            "Epoch 8/10\n",
            "20/20 [==============================] - 8s 406ms/step - loss: 0.4536 - acc: 0.7971 - val_loss: 0.4283 - val_acc: 0.8166\n",
            "Epoch 9/10\n",
            "20/20 [==============================] - 10s 479ms/step - loss: 0.4466 - acc: 0.8005 - val_loss: 0.4398 - val_acc: 0.8114\n",
            "Epoch 10/10\n",
            "20/20 [==============================] - 9s 444ms/step - loss: 0.4570 - acc: 0.7986 - val_loss: 0.4375 - val_acc: 0.8130\n"
          ],
          "name": "stdout"
        },
        {
          "output_type": "stream",
          "text": [
            "[========================================================================] 100%\n"
          ],
          "name": "stderr"
        },
        {
          "output_type": "stream",
          "text": [
            "(813, 224, 224, 3) (109, 224, 224, 3) (102, 224, 224, 3) (813, 40) (109, 40) (102, 40)\n",
            "Treinando lote  93  de  198\n",
            "Epoch 1/10\n",
            "20/20 [==============================] - 9s 471ms/step - loss: 0.4522 - acc: 0.7984 - val_loss: 0.4316 - val_acc: 0.8068\n",
            "Epoch 2/10\n",
            "20/20 [==============================] - 9s 449ms/step - loss: 0.4434 - acc: 0.8044 - val_loss: 0.4279 - val_acc: 0.8137\n",
            "Epoch 3/10\n",
            "20/20 [==============================] - 8s 421ms/step - loss: 0.4502 - acc: 0.8000 - val_loss: 0.4317 - val_acc: 0.8082\n",
            "Epoch 4/10\n",
            "20/20 [==============================] - 8s 398ms/step - loss: 0.4471 - acc: 0.8022 - val_loss: 0.4279 - val_acc: 0.8132\n",
            "Epoch 5/10\n",
            "20/20 [==============================] - 8s 394ms/step - loss: 0.4441 - acc: 0.8006 - val_loss: 0.4307 - val_acc: 0.8116\n",
            "Epoch 6/10\n",
            "20/20 [==============================] - 9s 459ms/step - loss: 0.4458 - acc: 0.8029 - val_loss: 0.4286 - val_acc: 0.8121\n",
            "Epoch 7/10\n",
            "20/20 [==============================] - 9s 431ms/step - loss: 0.4512 - acc: 0.8016 - val_loss: 0.4280 - val_acc: 0.8107\n",
            "Epoch 8/10\n",
            "20/20 [==============================] - 8s 402ms/step - loss: 0.4456 - acc: 0.8019 - val_loss: 0.4317 - val_acc: 0.8102\n",
            "Epoch 9/10\n",
            "20/20 [==============================] - 8s 394ms/step - loss: 0.4440 - acc: 0.8021 - val_loss: 0.4284 - val_acc: 0.8116\n",
            "Epoch 10/10\n",
            "20/20 [==============================] - 9s 450ms/step - loss: 0.4443 - acc: 0.8040 - val_loss: 0.4316 - val_acc: 0.8084\n"
          ],
          "name": "stdout"
        },
        {
          "output_type": "stream",
          "text": [
            "[========================================================================] 100%\n"
          ],
          "name": "stderr"
        },
        {
          "output_type": "stream",
          "text": [
            "(822, 224, 224, 3) (93, 224, 224, 3) (109, 224, 224, 3) (822, 40) (93, 40) (109, 40)\n",
            "Treinando lote  94  de  198\n",
            "Epoch 1/10\n",
            "20/20 [==============================] - 10s 497ms/step - loss: 0.4491 - acc: 0.8009 - val_loss: 0.4682 - val_acc: 0.7932\n",
            "Epoch 2/10\n",
            "20/20 [==============================] - 9s 472ms/step - loss: 0.4551 - acc: 0.7953 - val_loss: 0.4679 - val_acc: 0.7943\n",
            "Epoch 3/10\n",
            "20/20 [==============================] - 9s 445ms/step - loss: 0.4507 - acc: 0.8028 - val_loss: 0.4764 - val_acc: 0.7952\n",
            "Epoch 4/10\n",
            "20/20 [==============================] - 8s 420ms/step - loss: 0.4426 - acc: 0.8013 - val_loss: 0.4744 - val_acc: 0.7928\n",
            "Epoch 5/10\n",
            "20/20 [==============================] - 8s 411ms/step - loss: 0.4525 - acc: 0.8000 - val_loss: 0.4707 - val_acc: 0.7945\n",
            "Epoch 6/10\n",
            "20/20 [==============================] - 9s 469ms/step - loss: 0.4517 - acc: 0.7988 - val_loss: 0.4675 - val_acc: 0.7985\n",
            "Epoch 7/10\n",
            "20/20 [==============================] - 9s 443ms/step - loss: 0.4432 - acc: 0.8023 - val_loss: 0.4698 - val_acc: 0.7950\n",
            "Epoch 8/10\n",
            "20/20 [==============================] - 9s 432ms/step - loss: 0.4513 - acc: 0.7987 - val_loss: 0.4671 - val_acc: 0.7959\n",
            "Epoch 9/10\n",
            "20/20 [==============================] - 8s 410ms/step - loss: 0.4455 - acc: 0.8003 - val_loss: 0.4736 - val_acc: 0.7947\n",
            "Epoch 10/10\n",
            "20/20 [==============================] - 10s 491ms/step - loss: 0.4504 - acc: 0.7980 - val_loss: 0.4737 - val_acc: 0.7941\n"
          ],
          "name": "stdout"
        },
        {
          "output_type": "stream",
          "text": [
            "[========================================================================] 100%\n"
          ],
          "name": "stderr"
        },
        {
          "output_type": "stream",
          "text": [
            "(824, 224, 224, 3) (102, 224, 224, 3) (98, 224, 224, 3) (824, 40) (102, 40) (98, 40)\n",
            "Treinando lote  95  de  198\n",
            "Epoch 1/10\n",
            "20/20 [==============================] - 10s 495ms/step - loss: 0.4522 - acc: 0.7990 - val_loss: 0.4400 - val_acc: 0.8144\n",
            "Epoch 2/10\n",
            "20/20 [==============================] - 9s 430ms/step - loss: 0.4452 - acc: 0.8017 - val_loss: 0.4434 - val_acc: 0.8116\n",
            "Epoch 3/10\n",
            "20/20 [==============================] - 9s 430ms/step - loss: 0.4525 - acc: 0.7978 - val_loss: 0.4455 - val_acc: 0.8104\n",
            "Epoch 4/10\n",
            "20/20 [==============================] - 8s 404ms/step - loss: 0.4510 - acc: 0.7995 - val_loss: 0.4381 - val_acc: 0.8112\n",
            "Epoch 5/10\n",
            "20/20 [==============================] - 8s 396ms/step - loss: 0.4513 - acc: 0.7985 - val_loss: 0.4417 - val_acc: 0.8112\n",
            "Epoch 6/10\n",
            "20/20 [==============================] - 9s 443ms/step - loss: 0.4515 - acc: 0.8009 - val_loss: 0.4413 - val_acc: 0.8144\n",
            "Epoch 7/10\n",
            "20/20 [==============================] - 9s 439ms/step - loss: 0.4480 - acc: 0.8032 - val_loss: 0.4436 - val_acc: 0.8125\n",
            "Epoch 8/10\n",
            "20/20 [==============================] - 8s 417ms/step - loss: 0.4513 - acc: 0.7966 - val_loss: 0.4401 - val_acc: 0.8138\n",
            "Epoch 9/10\n",
            "20/20 [==============================] - 8s 394ms/step - loss: 0.4503 - acc: 0.8006 - val_loss: 0.4417 - val_acc: 0.8156\n",
            "Epoch 10/10\n",
            "20/20 [==============================] - 9s 445ms/step - loss: 0.4440 - acc: 0.8007 - val_loss: 0.4422 - val_acc: 0.8113\n"
          ],
          "name": "stdout"
        },
        {
          "output_type": "stream",
          "text": [
            "[========================================================================] 100%\n"
          ],
          "name": "stderr"
        },
        {
          "output_type": "stream",
          "text": [
            "(795, 224, 224, 3) (122, 224, 224, 3) (107, 224, 224, 3) (795, 40) (122, 40) (107, 40)\n",
            "Treinando lote  96  de  198\n",
            "Epoch 1/10\n",
            "20/20 [==============================] - 10s 491ms/step - loss: 0.4618 - acc: 0.7948 - val_loss: 0.4688 - val_acc: 0.7989\n",
            "Epoch 2/10\n",
            "20/20 [==============================] - 9s 469ms/step - loss: 0.4588 - acc: 0.7944 - val_loss: 0.4732 - val_acc: 0.7946\n",
            "Epoch 3/10\n",
            "20/20 [==============================] - 9s 445ms/step - loss: 0.4637 - acc: 0.7941 - val_loss: 0.4727 - val_acc: 0.7935\n",
            "Epoch 4/10\n",
            "20/20 [==============================] - 9s 434ms/step - loss: 0.4603 - acc: 0.7954 - val_loss: 0.4681 - val_acc: 0.7975\n",
            "Epoch 5/10\n",
            "20/20 [==============================] - 8s 412ms/step - loss: 0.4630 - acc: 0.7948 - val_loss: 0.4714 - val_acc: 0.7939\n",
            "Epoch 6/10\n",
            "20/20 [==============================] - 8s 410ms/step - loss: 0.4652 - acc: 0.7931 - val_loss: 0.4675 - val_acc: 0.7963\n",
            "Epoch 7/10\n",
            "20/20 [==============================] - 9s 461ms/step - loss: 0.4570 - acc: 0.7960 - val_loss: 0.4708 - val_acc: 0.7964\n",
            "Epoch 8/10\n",
            "20/20 [==============================] - 9s 459ms/step - loss: 0.4557 - acc: 0.7985 - val_loss: 0.4691 - val_acc: 0.7954\n",
            "Epoch 9/10\n",
            "20/20 [==============================] - 9s 432ms/step - loss: 0.4604 - acc: 0.7966 - val_loss: 0.4689 - val_acc: 0.7975\n",
            "Epoch 10/10\n",
            "20/20 [==============================] - 8s 410ms/step - loss: 0.4664 - acc: 0.7926 - val_loss: 0.4706 - val_acc: 0.7931\n"
          ],
          "name": "stdout"
        },
        {
          "output_type": "stream",
          "text": [
            "[========================================================================] 100%\n"
          ],
          "name": "stderr"
        },
        {
          "output_type": "stream",
          "text": [
            "(803, 224, 224, 3) (121, 224, 224, 3) (100, 224, 224, 3) (803, 40) (121, 40) (100, 40)\n",
            "Treinando lote  97  de  198\n",
            "Epoch 1/10\n",
            "20/20 [==============================] - 9s 471ms/step - loss: 0.4525 - acc: 0.7997 - val_loss: 0.4406 - val_acc: 0.8030\n",
            "Epoch 2/10\n",
            "20/20 [==============================] - 9s 456ms/step - loss: 0.4543 - acc: 0.7984 - val_loss: 0.4411 - val_acc: 0.8057\n",
            "Epoch 3/10\n",
            "20/20 [==============================] - 9s 449ms/step - loss: 0.4622 - acc: 0.7966 - val_loss: 0.4425 - val_acc: 0.8002\n",
            "Epoch 4/10\n",
            "20/20 [==============================] - 8s 407ms/step - loss: 0.4482 - acc: 0.8024 - val_loss: 0.4384 - val_acc: 0.8068\n",
            "Epoch 5/10\n",
            "20/20 [==============================] - 8s 400ms/step - loss: 0.4572 - acc: 0.7995 - val_loss: 0.4398 - val_acc: 0.8053\n",
            "Epoch 6/10\n",
            "20/20 [==============================] - 9s 456ms/step - loss: 0.4449 - acc: 0.8046 - val_loss: 0.4412 - val_acc: 0.8043\n",
            "Epoch 7/10\n",
            "20/20 [==============================] - 9s 460ms/step - loss: 0.4586 - acc: 0.7968 - val_loss: 0.4410 - val_acc: 0.8042\n",
            "Epoch 8/10\n",
            "20/20 [==============================] - 8s 416ms/step - loss: 0.4567 - acc: 0.7973 - val_loss: 0.4393 - val_acc: 0.8040\n",
            "Epoch 9/10\n",
            "20/20 [==============================] - 8s 401ms/step - loss: 0.4465 - acc: 0.8035 - val_loss: 0.4397 - val_acc: 0.8061\n",
            "Epoch 10/10\n",
            "20/20 [==============================] - 9s 466ms/step - loss: 0.4543 - acc: 0.8000 - val_loss: 0.4408 - val_acc: 0.8032\n"
          ],
          "name": "stdout"
        },
        {
          "output_type": "stream",
          "text": [
            "[========================================================================] 100%\n"
          ],
          "name": "stderr"
        },
        {
          "output_type": "stream",
          "text": [
            "(806, 224, 224, 3) (113, 224, 224, 3) (105, 224, 224, 3) (806, 40) (113, 40) (105, 40)\n",
            "Treinando lote  98  de  198\n",
            "Epoch 1/10\n",
            "20/20 [==============================] - 10s 476ms/step - loss: 0.4570 - acc: 0.8026 - val_loss: 0.4228 - val_acc: 0.8167\n",
            "Epoch 2/10\n",
            "20/20 [==============================] - 9s 456ms/step - loss: 0.4576 - acc: 0.7991 - val_loss: 0.4220 - val_acc: 0.8187\n",
            "Epoch 3/10\n",
            "20/20 [==============================] - 9s 425ms/step - loss: 0.4661 - acc: 0.7975 - val_loss: 0.4213 - val_acc: 0.8197\n",
            "Epoch 4/10\n",
            "20/20 [==============================] - 8s 404ms/step - loss: 0.4454 - acc: 0.8057 - val_loss: 0.4244 - val_acc: 0.8155\n",
            "Epoch 5/10\n",
            "20/20 [==============================] - 8s 401ms/step - loss: 0.4499 - acc: 0.8008 - val_loss: 0.4211 - val_acc: 0.8174\n",
            "Epoch 6/10\n",
            "20/20 [==============================] - 9s 470ms/step - loss: 0.4613 - acc: 0.7995 - val_loss: 0.4252 - val_acc: 0.8138\n",
            "Epoch 7/10\n",
            "20/20 [==============================] - 9s 466ms/step - loss: 0.4551 - acc: 0.8020 - val_loss: 0.4231 - val_acc: 0.8155\n",
            "Epoch 8/10\n",
            "20/20 [==============================] - 8s 415ms/step - loss: 0.4538 - acc: 0.8013 - val_loss: 0.4234 - val_acc: 0.8134\n",
            "Epoch 9/10\n",
            "20/20 [==============================] - 8s 398ms/step - loss: 0.4581 - acc: 0.7978 - val_loss: 0.4223 - val_acc: 0.8145\n",
            "Epoch 10/10\n",
            "20/20 [==============================] - 10s 494ms/step - loss: 0.4523 - acc: 0.8034 - val_loss: 0.4243 - val_acc: 0.8133\n"
          ],
          "name": "stdout"
        },
        {
          "output_type": "stream",
          "text": [
            "[========================================================================] 100%\n"
          ],
          "name": "stderr"
        },
        {
          "output_type": "stream",
          "text": [
            "(836, 224, 224, 3) (94, 224, 224, 3) (94, 224, 224, 3) (836, 40) (94, 40) (94, 40)\n",
            "Treinando lote  99  de  198\n",
            "Epoch 1/10\n",
            "20/20 [==============================] - 10s 476ms/step - loss: 0.4541 - acc: 0.7989 - val_loss: 0.4339 - val_acc: 0.8047\n",
            "Epoch 2/10\n",
            "20/20 [==============================] - 9s 469ms/step - loss: 0.4521 - acc: 0.7985 - val_loss: 0.4386 - val_acc: 0.8026\n",
            "Epoch 3/10\n",
            "20/20 [==============================] - 9s 432ms/step - loss: 0.4416 - acc: 0.8052 - val_loss: 0.4335 - val_acc: 0.8035\n",
            "Epoch 4/10\n",
            "20/20 [==============================] - 8s 403ms/step - loss: 0.4592 - acc: 0.7991 - val_loss: 0.4339 - val_acc: 0.8049\n",
            "Epoch 5/10\n",
            "20/20 [==============================] - 10s 481ms/step - loss: 0.4477 - acc: 0.8019 - val_loss: 0.4357 - val_acc: 0.8043\n",
            "Epoch 6/10\n",
            "20/20 [==============================] - 9s 442ms/step - loss: 0.4503 - acc: 0.8045 - val_loss: 0.4368 - val_acc: 0.8025\n",
            "Epoch 7/10\n",
            "20/20 [==============================] - 9s 433ms/step - loss: 0.4471 - acc: 0.8034 - val_loss: 0.4325 - val_acc: 0.8064\n",
            "Epoch 8/10\n",
            "20/20 [==============================] - 8s 403ms/step - loss: 0.4501 - acc: 0.7994 - val_loss: 0.4397 - val_acc: 0.8021\n",
            "Epoch 9/10\n",
            "20/20 [==============================] - 9s 469ms/step - loss: 0.4531 - acc: 0.7980 - val_loss: 0.4347 - val_acc: 0.8035\n",
            "Epoch 10/10\n",
            "20/20 [==============================] - 9s 439ms/step - loss: 0.4486 - acc: 0.7996 - val_loss: 0.4333 - val_acc: 0.8033\n"
          ],
          "name": "stdout"
        },
        {
          "output_type": "stream",
          "text": [
            "[========================================================================] 100%\n"
          ],
          "name": "stderr"
        },
        {
          "output_type": "stream",
          "text": [
            "(800, 224, 224, 3) (101, 224, 224, 3) (123, 224, 224, 3) (800, 40) (101, 40) (123, 40)\n",
            "Treinando lote  100  de  198\n",
            "Epoch 1/10\n",
            "20/20 [==============================] - 9s 467ms/step - loss: 0.4461 - acc: 0.8013 - val_loss: 0.4597 - val_acc: 0.8041\n",
            "Epoch 2/10\n",
            "20/20 [==============================] - 9s 443ms/step - loss: 0.4544 - acc: 0.7995 - val_loss: 0.4506 - val_acc: 0.8079\n",
            "Epoch 3/10\n",
            "20/20 [==============================] - 9s 435ms/step - loss: 0.4478 - acc: 0.8050 - val_loss: 0.4519 - val_acc: 0.8079\n",
            "Epoch 4/10\n",
            "20/20 [==============================] - 8s 407ms/step - loss: 0.4400 - acc: 0.8041 - val_loss: 0.4597 - val_acc: 0.8046\n",
            "Epoch 5/10\n",
            "20/20 [==============================] - 8s 396ms/step - loss: 0.4517 - acc: 0.7982 - val_loss: 0.4594 - val_acc: 0.8049\n",
            "Epoch 6/10\n",
            "20/20 [==============================] - 8s 388ms/step - loss: 0.4491 - acc: 0.8037 - val_loss: 0.4526 - val_acc: 0.8065\n",
            "Epoch 7/10\n",
            "20/20 [==============================] - 9s 472ms/step - loss: 0.4487 - acc: 0.8023 - val_loss: 0.4518 - val_acc: 0.8049\n",
            "Epoch 8/10\n",
            "20/20 [==============================] - 9s 441ms/step - loss: 0.4474 - acc: 0.8040 - val_loss: 0.4605 - val_acc: 0.8051\n",
            "Epoch 9/10\n",
            "20/20 [==============================] - 8s 412ms/step - loss: 0.4477 - acc: 0.8023 - val_loss: 0.4540 - val_acc: 0.8058\n",
            "Epoch 10/10\n",
            "20/20 [==============================] - 8s 387ms/step - loss: 0.4453 - acc: 0.8041 - val_loss: 0.4580 - val_acc: 0.8043\n"
          ],
          "name": "stdout"
        },
        {
          "output_type": "stream",
          "text": [
            "[========================================================================] 100%\n"
          ],
          "name": "stderr"
        },
        {
          "output_type": "stream",
          "text": [
            "(814, 224, 224, 3) (110, 224, 224, 3) (100, 224, 224, 3) (814, 40) (110, 40) (100, 40)\n",
            "Treinando lote  101  de  198\n",
            "Epoch 1/10\n",
            "20/20 [==============================] - 9s 472ms/step - loss: 0.4483 - acc: 0.8013 - val_loss: 0.4504 - val_acc: 0.8004\n",
            "Epoch 2/10\n",
            "20/20 [==============================] - 9s 442ms/step - loss: 0.4572 - acc: 0.7995 - val_loss: 0.4481 - val_acc: 0.8033\n",
            "Epoch 3/10\n",
            "20/20 [==============================] - 8s 422ms/step - loss: 0.4546 - acc: 0.7989 - val_loss: 0.4450 - val_acc: 0.8062\n",
            "Epoch 4/10\n",
            "20/20 [==============================] - 8s 396ms/step - loss: 0.4544 - acc: 0.8000 - val_loss: 0.4527 - val_acc: 0.8004\n",
            "Epoch 5/10\n",
            "20/20 [==============================] - 8s 393ms/step - loss: 0.4589 - acc: 0.7978 - val_loss: 0.4522 - val_acc: 0.8008\n",
            "Epoch 6/10\n",
            "20/20 [==============================] - 9s 447ms/step - loss: 0.4480 - acc: 0.8017 - val_loss: 0.4442 - val_acc: 0.8024\n",
            "Epoch 7/10\n",
            "20/20 [==============================] - 9s 428ms/step - loss: 0.4494 - acc: 0.7998 - val_loss: 0.4479 - val_acc: 0.8008\n",
            "Epoch 8/10\n",
            "20/20 [==============================] - 8s 401ms/step - loss: 0.4545 - acc: 0.7976 - val_loss: 0.4492 - val_acc: 0.8019\n",
            "Epoch 9/10\n",
            "20/20 [==============================] - 8s 393ms/step - loss: 0.4544 - acc: 0.8011 - val_loss: 0.4493 - val_acc: 0.8032\n",
            "Epoch 10/10\n",
            "20/20 [==============================] - 9s 458ms/step - loss: 0.4518 - acc: 0.7991 - val_loss: 0.4467 - val_acc: 0.8013\n"
          ],
          "name": "stdout"
        },
        {
          "output_type": "stream",
          "text": [
            "[========================================================================] 100%\n"
          ],
          "name": "stderr"
        },
        {
          "output_type": "stream",
          "text": [
            "(808, 224, 224, 3) (108, 224, 224, 3) (108, 224, 224, 3) (808, 40) (108, 40) (108, 40)\n",
            "Treinando lote  102  de  198\n",
            "Epoch 1/10\n",
            "20/20 [==============================] - 10s 478ms/step - loss: 0.4306 - acc: 0.8091 - val_loss: 0.4105 - val_acc: 0.8184\n",
            "Epoch 2/10\n",
            "20/20 [==============================] - 9s 431ms/step - loss: 0.4471 - acc: 0.8035 - val_loss: 0.4103 - val_acc: 0.8171\n",
            "Epoch 3/10\n",
            "20/20 [==============================] - 9s 428ms/step - loss: 0.4376 - acc: 0.8035 - val_loss: 0.4096 - val_acc: 0.8155\n",
            "Epoch 4/10\n",
            "20/20 [==============================] - 8s 395ms/step - loss: 0.4364 - acc: 0.8074 - val_loss: 0.4121 - val_acc: 0.8166\n",
            "Epoch 5/10\n",
            "20/20 [==============================] - 8s 392ms/step - loss: 0.4362 - acc: 0.8042 - val_loss: 0.4115 - val_acc: 0.8156\n",
            "Epoch 6/10\n",
            "20/20 [==============================] - 9s 440ms/step - loss: 0.4326 - acc: 0.8040 - val_loss: 0.4108 - val_acc: 0.8177\n",
            "Epoch 7/10\n",
            "20/20 [==============================] - 9s 429ms/step - loss: 0.4373 - acc: 0.8052 - val_loss: 0.4115 - val_acc: 0.8188\n",
            "Epoch 8/10\n",
            "20/20 [==============================] - 8s 410ms/step - loss: 0.4322 - acc: 0.8039 - val_loss: 0.4110 - val_acc: 0.8145\n",
            "Epoch 9/10\n",
            "20/20 [==============================] - 8s 392ms/step - loss: 0.4406 - acc: 0.8042 - val_loss: 0.4106 - val_acc: 0.8171\n",
            "Epoch 10/10\n",
            "20/20 [==============================] - 9s 461ms/step - loss: 0.4397 - acc: 0.8055 - val_loss: 0.4122 - val_acc: 0.8172\n"
          ],
          "name": "stdout"
        },
        {
          "output_type": "stream",
          "text": [
            "[========================================================================] 100%\n"
          ],
          "name": "stderr"
        },
        {
          "output_type": "stream",
          "text": [
            "(840, 224, 224, 3) (90, 224, 224, 3) (94, 224, 224, 3) (840, 40) (90, 40) (94, 40)\n",
            "Treinando lote  103  de  198\n",
            "Epoch 1/10\n",
            "20/20 [==============================] - 9s 472ms/step - loss: 0.4626 - acc: 0.7997 - val_loss: 0.4564 - val_acc: 0.8111\n",
            "Epoch 2/10\n",
            "20/20 [==============================] - 9s 459ms/step - loss: 0.4574 - acc: 0.8005 - val_loss: 0.4575 - val_acc: 0.8095\n",
            "Epoch 3/10\n",
            "20/20 [==============================] - 8s 423ms/step - loss: 0.4648 - acc: 0.7975 - val_loss: 0.4504 - val_acc: 0.8121\n",
            "Epoch 4/10\n",
            "20/20 [==============================] - 8s 404ms/step - loss: 0.4522 - acc: 0.8015 - val_loss: 0.4586 - val_acc: 0.8107\n",
            "Epoch 5/10\n",
            "20/20 [==============================] - 10s 516ms/step - loss: 0.4626 - acc: 0.7968 - val_loss: 0.4529 - val_acc: 0.8101\n",
            "Epoch 6/10\n",
            "20/20 [==============================] - 9s 463ms/step - loss: 0.4561 - acc: 0.8010 - val_loss: 0.4488 - val_acc: 0.8140\n",
            "Epoch 7/10\n",
            "20/20 [==============================] - 8s 414ms/step - loss: 0.4500 - acc: 0.8007 - val_loss: 0.4529 - val_acc: 0.8118\n",
            "Epoch 8/10\n",
            "20/20 [==============================] - 8s 411ms/step - loss: 0.4610 - acc: 0.7982 - val_loss: 0.4560 - val_acc: 0.8102\n",
            "Epoch 9/10\n",
            "20/20 [==============================] - 10s 480ms/step - loss: 0.4540 - acc: 0.8009 - val_loss: 0.4501 - val_acc: 0.8125\n",
            "Epoch 10/10\n",
            "20/20 [==============================] - 9s 427ms/step - loss: 0.4573 - acc: 0.7992 - val_loss: 0.4599 - val_acc: 0.8101\n"
          ],
          "name": "stdout"
        },
        {
          "output_type": "stream",
          "text": [
            "[========================================================================] 100%\n"
          ],
          "name": "stderr"
        },
        {
          "output_type": "stream",
          "text": [
            "(811, 224, 224, 3) (115, 224, 224, 3) (98, 224, 224, 3) (811, 40) (115, 40) (98, 40)\n",
            "Treinando lote  104  de  198\n",
            "Epoch 1/10\n",
            "20/20 [==============================] - 10s 499ms/step - loss: 0.4470 - acc: 0.8026 - val_loss: 0.4659 - val_acc: 0.7944\n",
            "Epoch 2/10\n",
            "20/20 [==============================] - 9s 455ms/step - loss: 0.4428 - acc: 0.8089 - val_loss: 0.4649 - val_acc: 0.7953\n",
            "Epoch 3/10\n",
            "20/20 [==============================] - 9s 438ms/step - loss: 0.4429 - acc: 0.8048 - val_loss: 0.4695 - val_acc: 0.7929\n",
            "Epoch 4/10\n",
            "20/20 [==============================] - 8s 413ms/step - loss: 0.4483 - acc: 0.8050 - val_loss: 0.4628 - val_acc: 0.7944\n",
            "Epoch 5/10\n",
            "20/20 [==============================] - 8s 409ms/step - loss: 0.4418 - acc: 0.8050 - val_loss: 0.4698 - val_acc: 0.7937\n",
            "Epoch 6/10\n",
            "20/20 [==============================] - 10s 477ms/step - loss: 0.4439 - acc: 0.8060 - val_loss: 0.4631 - val_acc: 0.7941\n",
            "Epoch 7/10\n",
            "20/20 [==============================] - 9s 445ms/step - loss: 0.4381 - acc: 0.8061 - val_loss: 0.4685 - val_acc: 0.7939\n",
            "Epoch 8/10\n",
            "20/20 [==============================] - 8s 417ms/step - loss: 0.4467 - acc: 0.8029 - val_loss: 0.4648 - val_acc: 0.7934\n",
            "Epoch 9/10\n",
            "20/20 [==============================] - 8s 401ms/step - loss: 0.4425 - acc: 0.8054 - val_loss: 0.4636 - val_acc: 0.7940\n",
            "Epoch 10/10\n",
            "20/20 [==============================] - 9s 466ms/step - loss: 0.4447 - acc: 0.8041 - val_loss: 0.4699 - val_acc: 0.7929\n"
          ],
          "name": "stdout"
        },
        {
          "output_type": "stream",
          "text": [
            "[========================================================================] 100%\n"
          ],
          "name": "stderr"
        },
        {
          "output_type": "stream",
          "text": [
            "(809, 224, 224, 3) (101, 224, 224, 3) (114, 224, 224, 3) (809, 40) (101, 40) (114, 40)\n",
            "Treinando lote  105  de  198\n",
            "Epoch 1/10\n",
            "20/20 [==============================] - 10s 504ms/step - loss: 0.4534 - acc: 0.8012 - val_loss: 0.4410 - val_acc: 0.7969\n",
            "Epoch 2/10\n",
            "20/20 [==============================] - 9s 461ms/step - loss: 0.4467 - acc: 0.8037 - val_loss: 0.4433 - val_acc: 0.7994\n",
            "Epoch 3/10\n",
            "20/20 [==============================] - 8s 417ms/step - loss: 0.4454 - acc: 0.8011 - val_loss: 0.4404 - val_acc: 0.7967\n",
            "Epoch 4/10\n",
            "20/20 [==============================] - 8s 387ms/step - loss: 0.4475 - acc: 0.8015 - val_loss: 0.4428 - val_acc: 0.7967\n",
            "Epoch 5/10\n",
            "20/20 [==============================] - 8s 389ms/step - loss: 0.4455 - acc: 0.8036 - val_loss: 0.4397 - val_acc: 0.7983\n",
            "Epoch 6/10\n",
            "20/20 [==============================] - 9s 456ms/step - loss: 0.4440 - acc: 0.8030 - val_loss: 0.4435 - val_acc: 0.7960\n",
            "Epoch 7/10\n",
            "20/20 [==============================] - 9s 446ms/step - loss: 0.4474 - acc: 0.8002 - val_loss: 0.4421 - val_acc: 0.7968\n",
            "Epoch 8/10\n",
            "20/20 [==============================] - 8s 394ms/step - loss: 0.4473 - acc: 0.8050 - val_loss: 0.4413 - val_acc: 0.7960\n",
            "Epoch 9/10\n",
            "20/20 [==============================] - 8s 388ms/step - loss: 0.4495 - acc: 0.8031 - val_loss: 0.4442 - val_acc: 0.7980\n",
            "Epoch 10/10\n",
            "20/20 [==============================] - 9s 472ms/step - loss: 0.4411 - acc: 0.8065 - val_loss: 0.4391 - val_acc: 0.7968\n"
          ],
          "name": "stdout"
        },
        {
          "output_type": "stream",
          "text": [
            "[========================================================================] 100%\n"
          ],
          "name": "stderr"
        },
        {
          "output_type": "stream",
          "text": [
            "(813, 224, 224, 3) (108, 224, 224, 3) (103, 224, 224, 3) (813, 40) (108, 40) (103, 40)\n",
            "Treinando lote  106  de  198\n",
            "Epoch 1/10\n",
            "20/20 [==============================] - 9s 471ms/step - loss: 0.4525 - acc: 0.8011 - val_loss: 0.4293 - val_acc: 0.8045\n",
            "Epoch 2/10\n",
            "20/20 [==============================] - 9s 445ms/step - loss: 0.4591 - acc: 0.7967 - val_loss: 0.4338 - val_acc: 0.7991\n",
            "Epoch 3/10\n",
            "20/20 [==============================] - 9s 448ms/step - loss: 0.4562 - acc: 0.7991 - val_loss: 0.4307 - val_acc: 0.8027\n",
            "Epoch 4/10\n",
            "20/20 [==============================] - 8s 394ms/step - loss: 0.4452 - acc: 0.8038 - val_loss: 0.4317 - val_acc: 0.8011\n",
            "Epoch 5/10\n",
            "20/20 [==============================] - 8s 393ms/step - loss: 0.4542 - acc: 0.8042 - val_loss: 0.4306 - val_acc: 0.8022\n",
            "Epoch 6/10\n",
            "20/20 [==============================] - 9s 450ms/step - loss: 0.4501 - acc: 0.8011 - val_loss: 0.4316 - val_acc: 0.8035\n",
            "Epoch 7/10\n",
            "20/20 [==============================] - 9s 449ms/step - loss: 0.4481 - acc: 0.8026 - val_loss: 0.4293 - val_acc: 0.8020\n",
            "Epoch 8/10\n",
            "20/20 [==============================] - 8s 407ms/step - loss: 0.4556 - acc: 0.8005 - val_loss: 0.4339 - val_acc: 0.8027\n",
            "Epoch 9/10\n",
            "20/20 [==============================] - 8s 393ms/step - loss: 0.4548 - acc: 0.7987 - val_loss: 0.4318 - val_acc: 0.8025\n",
            "Epoch 10/10\n",
            "20/20 [==============================] - 9s 456ms/step - loss: 0.4497 - acc: 0.8009 - val_loss: 0.4289 - val_acc: 0.8035\n"
          ],
          "name": "stdout"
        },
        {
          "output_type": "stream",
          "text": [
            "[========================================================================] 100%\n"
          ],
          "name": "stderr"
        },
        {
          "output_type": "stream",
          "text": [
            "(842, 224, 224, 3) (93, 224, 224, 3) (89, 224, 224, 3) (842, 40) (93, 40) (89, 40)\n",
            "Treinando lote  107  de  198\n",
            "Epoch 1/10\n",
            "20/20 [==============================] - 10s 506ms/step - loss: 0.4612 - acc: 0.7958 - val_loss: 0.4447 - val_acc: 0.7994\n",
            "Epoch 2/10\n",
            "20/20 [==============================] - 9s 445ms/step - loss: 0.4476 - acc: 0.8036 - val_loss: 0.4482 - val_acc: 0.7981\n",
            "Epoch 3/10\n",
            "20/20 [==============================] - 9s 440ms/step - loss: 0.4565 - acc: 0.7958 - val_loss: 0.4444 - val_acc: 0.7989\n",
            "Epoch 4/10\n",
            "20/20 [==============================] - 8s 404ms/step - loss: 0.4604 - acc: 0.7991 - val_loss: 0.4447 - val_acc: 0.7996\n",
            "Epoch 5/10\n",
            "20/20 [==============================] - 10s 480ms/step - loss: 0.4551 - acc: 0.8003 - val_loss: 0.4492 - val_acc: 0.7984\n",
            "Epoch 6/10\n",
            "20/20 [==============================] - 9s 456ms/step - loss: 0.4632 - acc: 0.7984 - val_loss: 0.4454 - val_acc: 0.7972\n",
            "Epoch 7/10\n",
            "20/20 [==============================] - 9s 430ms/step - loss: 0.4573 - acc: 0.7975 - val_loss: 0.4427 - val_acc: 0.7991\n",
            "Epoch 8/10\n",
            "20/20 [==============================] - 8s 405ms/step - loss: 0.4572 - acc: 0.7969 - val_loss: 0.4508 - val_acc: 0.7963\n",
            "Epoch 9/10\n",
            "20/20 [==============================] - 10s 499ms/step - loss: 0.4645 - acc: 0.7948 - val_loss: 0.4460 - val_acc: 0.8010\n",
            "Epoch 10/10\n",
            "20/20 [==============================] - 9s 463ms/step - loss: 0.4503 - acc: 0.7996 - val_loss: 0.4470 - val_acc: 0.7982\n"
          ],
          "name": "stdout"
        },
        {
          "output_type": "stream",
          "text": [
            "[========================================================================] 100%\n"
          ],
          "name": "stderr"
        },
        {
          "output_type": "stream",
          "text": [
            "(815, 224, 224, 3) (101, 224, 224, 3) (108, 224, 224, 3) (815, 40) (101, 40) (108, 40)\n",
            "Treinando lote  108  de  198\n",
            "Epoch 1/10\n",
            "20/20 [==============================] - 10s 486ms/step - loss: 0.4440 - acc: 0.8032 - val_loss: 0.4163 - val_acc: 0.8176\n",
            "Epoch 2/10\n",
            "20/20 [==============================] - 9s 440ms/step - loss: 0.4536 - acc: 0.7996 - val_loss: 0.4164 - val_acc: 0.8143\n",
            "Epoch 3/10\n",
            "20/20 [==============================] - 9s 429ms/step - loss: 0.4485 - acc: 0.8015 - val_loss: 0.4188 - val_acc: 0.8148\n",
            "Epoch 4/10\n",
            "20/20 [==============================] - 8s 395ms/step - loss: 0.4533 - acc: 0.7992 - val_loss: 0.4133 - val_acc: 0.8153\n",
            "Epoch 5/10\n",
            "20/20 [==============================] - 8s 396ms/step - loss: 0.4491 - acc: 0.7996 - val_loss: 0.4198 - val_acc: 0.8133\n",
            "Epoch 6/10\n",
            "20/20 [==============================] - 9s 434ms/step - loss: 0.4497 - acc: 0.8012 - val_loss: 0.4123 - val_acc: 0.8176\n",
            "Epoch 7/10\n",
            "20/20 [==============================] - 9s 440ms/step - loss: 0.4475 - acc: 0.7983 - val_loss: 0.4140 - val_acc: 0.8167\n",
            "Epoch 8/10\n",
            "20/20 [==============================] - 8s 397ms/step - loss: 0.4520 - acc: 0.8018 - val_loss: 0.4191 - val_acc: 0.8135\n",
            "Epoch 9/10\n",
            "20/20 [==============================] - 8s 389ms/step - loss: 0.4520 - acc: 0.8005 - val_loss: 0.4128 - val_acc: 0.8169\n",
            "Epoch 10/10\n",
            "20/20 [==============================] - 9s 463ms/step - loss: 0.4488 - acc: 0.8016 - val_loss: 0.4205 - val_acc: 0.8151\n"
          ],
          "name": "stdout"
        },
        {
          "output_type": "stream",
          "text": [
            "[========================================================================] 100%\n"
          ],
          "name": "stderr"
        },
        {
          "output_type": "stream",
          "text": [
            "(822, 224, 224, 3) (108, 224, 224, 3) (94, 224, 224, 3) (822, 40) (108, 40) (94, 40)\n",
            "Treinando lote  109  de  198\n",
            "Epoch 1/10\n",
            "20/20 [==============================] - 10s 492ms/step - loss: 0.4566 - acc: 0.8008 - val_loss: 0.4479 - val_acc: 0.8000\n",
            "Epoch 2/10\n",
            "20/20 [==============================] - 9s 445ms/step - loss: 0.4495 - acc: 0.8015 - val_loss: 0.4505 - val_acc: 0.8006\n",
            "Epoch 3/10\n",
            "20/20 [==============================] - 9s 446ms/step - loss: 0.4562 - acc: 0.8003 - val_loss: 0.4495 - val_acc: 0.7996\n",
            "Epoch 4/10\n",
            "20/20 [==============================] - 8s 400ms/step - loss: 0.4556 - acc: 0.7999 - val_loss: 0.4478 - val_acc: 0.8030\n",
            "Epoch 5/10\n",
            "20/20 [==============================] - 8s 398ms/step - loss: 0.4548 - acc: 0.7991 - val_loss: 0.4498 - val_acc: 0.8017\n",
            "Epoch 6/10\n",
            "20/20 [==============================] - 9s 442ms/step - loss: 0.4528 - acc: 0.8036 - val_loss: 0.4475 - val_acc: 0.8050\n",
            "Epoch 7/10\n",
            "20/20 [==============================] - 9s 429ms/step - loss: 0.4520 - acc: 0.8024 - val_loss: 0.4510 - val_acc: 0.8029\n",
            "Epoch 8/10\n",
            "20/20 [==============================] - 8s 401ms/step - loss: 0.4518 - acc: 0.7964 - val_loss: 0.4465 - val_acc: 0.8028\n",
            "Epoch 9/10\n",
            "20/20 [==============================] - 8s 400ms/step - loss: 0.4552 - acc: 0.8003 - val_loss: 0.4466 - val_acc: 0.8047\n",
            "Epoch 10/10\n",
            "20/20 [==============================] - 9s 468ms/step - loss: 0.4477 - acc: 0.8044 - val_loss: 0.4517 - val_acc: 0.8001\n"
          ],
          "name": "stdout"
        },
        {
          "output_type": "stream",
          "text": [
            "[========================================================================] 100%\n"
          ],
          "name": "stderr"
        },
        {
          "output_type": "stream",
          "text": [
            "(810, 224, 224, 3) (105, 224, 224, 3) (109, 224, 224, 3) (810, 40) (105, 40) (109, 40)\n",
            "Treinando lote  110  de  198\n",
            "Epoch 1/10\n",
            "20/20 [==============================] - 9s 469ms/step - loss: 0.4516 - acc: 0.8013 - val_loss: 0.4122 - val_acc: 0.8258\n",
            "Epoch 2/10\n",
            "20/20 [==============================] - 8s 424ms/step - loss: 0.4465 - acc: 0.8027 - val_loss: 0.4101 - val_acc: 0.8236\n",
            "Epoch 3/10\n",
            "20/20 [==============================] - 8s 423ms/step - loss: 0.4545 - acc: 0.7995 - val_loss: 0.4137 - val_acc: 0.8214\n",
            "Epoch 4/10\n",
            "20/20 [==============================] - 8s 393ms/step - loss: 0.4546 - acc: 0.8021 - val_loss: 0.4088 - val_acc: 0.8269\n",
            "Epoch 5/10\n",
            "20/20 [==============================] - 8s 391ms/step - loss: 0.4524 - acc: 0.8010 - val_loss: 0.4134 - val_acc: 0.8242\n",
            "Epoch 6/10\n",
            "20/20 [==============================] - 9s 434ms/step - loss: 0.4433 - acc: 0.8012 - val_loss: 0.4083 - val_acc: 0.8278\n",
            "Epoch 7/10\n",
            "20/20 [==============================] - 9s 436ms/step - loss: 0.4568 - acc: 0.8004 - val_loss: 0.4087 - val_acc: 0.8269\n",
            "Epoch 8/10\n",
            "20/20 [==============================] - 8s 405ms/step - loss: 0.4522 - acc: 0.7981 - val_loss: 0.4131 - val_acc: 0.8249\n",
            "Epoch 9/10\n",
            "20/20 [==============================] - 8s 391ms/step - loss: 0.4492 - acc: 0.8034 - val_loss: 0.4108 - val_acc: 0.8252\n",
            "Epoch 10/10\n",
            "20/20 [==============================] - 9s 459ms/step - loss: 0.4507 - acc: 0.8003 - val_loss: 0.4119 - val_acc: 0.8234\n"
          ],
          "name": "stdout"
        },
        {
          "output_type": "stream",
          "text": [
            "[========================================================================] 100%\n"
          ],
          "name": "stderr"
        },
        {
          "output_type": "stream",
          "text": [
            "(810, 224, 224, 3) (100, 224, 224, 3) (114, 224, 224, 3) (810, 40) (100, 40) (114, 40)\n",
            "Treinando lote  111  de  198\n",
            "Epoch 1/10\n",
            "20/20 [==============================] - 9s 462ms/step - loss: 0.4432 - acc: 0.8014 - val_loss: 0.4396 - val_acc: 0.8066\n",
            "Epoch 2/10\n",
            "20/20 [==============================] - 9s 456ms/step - loss: 0.4428 - acc: 0.8029 - val_loss: 0.4354 - val_acc: 0.8090\n",
            "Epoch 3/10\n",
            "20/20 [==============================] - 8s 423ms/step - loss: 0.4442 - acc: 0.8029 - val_loss: 0.4390 - val_acc: 0.8081\n",
            "Epoch 4/10\n",
            "20/20 [==============================] - 7s 374ms/step - loss: 0.4418 - acc: 0.8042 - val_loss: 0.4355 - val_acc: 0.8076\n",
            "Epoch 5/10\n",
            "20/20 [==============================] - 8s 397ms/step - loss: 0.4444 - acc: 0.8044 - val_loss: 0.4348 - val_acc: 0.8053\n",
            "Epoch 6/10\n",
            "20/20 [==============================] - 9s 438ms/step - loss: 0.4417 - acc: 0.8046 - val_loss: 0.4407 - val_acc: 0.8038\n",
            "Epoch 7/10\n",
            "20/20 [==============================] - 8s 424ms/step - loss: 0.4414 - acc: 0.8058 - val_loss: 0.4288 - val_acc: 0.8093\n",
            "Epoch 8/10\n",
            "20/20 [==============================] - 8s 398ms/step - loss: 0.4422 - acc: 0.8012 - val_loss: 0.4474 - val_acc: 0.8023\n",
            "Epoch 9/10\n",
            "20/20 [==============================] - 8s 387ms/step - loss: 0.4447 - acc: 0.8042 - val_loss: 0.4368 - val_acc: 0.8057\n",
            "Epoch 10/10\n",
            "20/20 [==============================] - 9s 445ms/step - loss: 0.4432 - acc: 0.8050 - val_loss: 0.4385 - val_acc: 0.8074\n"
          ],
          "name": "stdout"
        },
        {
          "output_type": "stream",
          "text": [
            "[========================================================================] 100%\n"
          ],
          "name": "stderr"
        },
        {
          "output_type": "stream",
          "text": [
            "(835, 224, 224, 3) (91, 224, 224, 3) (98, 224, 224, 3) (835, 40) (91, 40) (98, 40)\n",
            "Treinando lote  112  de  198\n",
            "Epoch 1/10\n",
            "20/20 [==============================] - 10s 507ms/step - loss: 0.4525 - acc: 0.8031 - val_loss: 0.4371 - val_acc: 0.8086\n",
            "Epoch 2/10\n",
            "20/20 [==============================] - 9s 450ms/step - loss: 0.4481 - acc: 0.8004 - val_loss: 0.4366 - val_acc: 0.8132\n",
            "Epoch 3/10\n",
            "20/20 [==============================] - 9s 430ms/step - loss: 0.4492 - acc: 0.8053 - val_loss: 0.4323 - val_acc: 0.8128\n",
            "Epoch 4/10\n",
            "20/20 [==============================] - 8s 400ms/step - loss: 0.4484 - acc: 0.8082 - val_loss: 0.4386 - val_acc: 0.8112\n",
            "Epoch 5/10\n",
            "20/20 [==============================] - 10s 475ms/step - loss: 0.4447 - acc: 0.8052 - val_loss: 0.4321 - val_acc: 0.8154\n",
            "Epoch 6/10\n",
            "20/20 [==============================] - 9s 439ms/step - loss: 0.4726 - acc: 0.8044 - val_loss: 0.4350 - val_acc: 0.8110\n",
            "Epoch 7/10\n",
            "20/20 [==============================] - 9s 435ms/step - loss: 0.4467 - acc: 0.8061 - val_loss: 0.4332 - val_acc: 0.8139\n",
            "Epoch 8/10\n",
            "20/20 [==============================] - 8s 411ms/step - loss: 0.4488 - acc: 0.8032 - val_loss: 0.4326 - val_acc: 0.8130\n",
            "Epoch 9/10\n",
            "20/20 [==============================] - 9s 464ms/step - loss: 0.4673 - acc: 0.7966 - val_loss: 0.4381 - val_acc: 0.8113\n",
            "Epoch 10/10\n",
            "20/20 [==============================] - 9s 425ms/step - loss: 0.4435 - acc: 0.8076 - val_loss: 0.4333 - val_acc: 0.8132\n"
          ],
          "name": "stdout"
        },
        {
          "output_type": "stream",
          "text": [
            "[========================================================================] 100%\n"
          ],
          "name": "stderr"
        },
        {
          "output_type": "stream",
          "text": [
            "(804, 224, 224, 3) (111, 224, 224, 3) (109, 224, 224, 3) (804, 40) (111, 40) (109, 40)\n",
            "Treinando lote  113  de  198\n",
            "Epoch 1/10\n",
            "20/20 [==============================] - 9s 462ms/step - loss: 0.4641 - acc: 0.7986 - val_loss: 0.4462 - val_acc: 0.7957\n",
            "Epoch 2/10\n",
            "20/20 [==============================] - 8s 424ms/step - loss: 0.4563 - acc: 0.8028 - val_loss: 0.4395 - val_acc: 0.7987\n",
            "Epoch 3/10\n",
            "20/20 [==============================] - 9s 436ms/step - loss: 0.4594 - acc: 0.8030 - val_loss: 0.4439 - val_acc: 0.7969\n",
            "Epoch 4/10\n",
            "20/20 [==============================] - 8s 391ms/step - loss: 0.4682 - acc: 0.7955 - val_loss: 0.4413 - val_acc: 0.7979\n",
            "Epoch 5/10\n",
            "20/20 [==============================] - 8s 391ms/step - loss: 0.4606 - acc: 0.7997 - val_loss: 0.4439 - val_acc: 0.7965\n",
            "Epoch 6/10\n",
            "20/20 [==============================] - 9s 443ms/step - loss: 0.4609 - acc: 0.8006 - val_loss: 0.4406 - val_acc: 0.7977\n",
            "Epoch 7/10\n",
            "20/20 [==============================] - 9s 429ms/step - loss: 0.4558 - acc: 0.8001 - val_loss: 0.4399 - val_acc: 0.7998\n",
            "Epoch 8/10\n",
            "20/20 [==============================] - 8s 405ms/step - loss: 0.4612 - acc: 0.8007 - val_loss: 0.4444 - val_acc: 0.7967\n",
            "Epoch 9/10\n",
            "20/20 [==============================] - 8s 391ms/step - loss: 0.4627 - acc: 0.7970 - val_loss: 0.4422 - val_acc: 0.7960\n",
            "Epoch 10/10\n",
            "20/20 [==============================] - 9s 441ms/step - loss: 0.4589 - acc: 0.8005 - val_loss: 0.4423 - val_acc: 0.7968\n"
          ],
          "name": "stdout"
        },
        {
          "output_type": "stream",
          "text": [
            "[========================================================================] 100%\n"
          ],
          "name": "stderr"
        },
        {
          "output_type": "stream",
          "text": [
            "(821, 224, 224, 3) (91, 224, 224, 3) (112, 224, 224, 3) (821, 40) (91, 40) (112, 40)\n",
            "Treinando lote  114  de  198\n",
            "Epoch 1/10\n",
            "20/20 [==============================] - 10s 493ms/step - loss: 0.4479 - acc: 0.8031 - val_loss: 0.4212 - val_acc: 0.8088\n",
            "Epoch 2/10\n",
            "20/20 [==============================] - 9s 466ms/step - loss: 0.4575 - acc: 0.8007 - val_loss: 0.4194 - val_acc: 0.8092\n",
            "Epoch 3/10\n",
            "20/20 [==============================] - 9s 451ms/step - loss: 0.4524 - acc: 0.8038 - val_loss: 0.4160 - val_acc: 0.8116\n",
            "Epoch 4/10\n",
            "20/20 [==============================] - 8s 417ms/step - loss: 0.4497 - acc: 0.8016 - val_loss: 0.4164 - val_acc: 0.8125\n",
            "Epoch 5/10\n",
            "20/20 [==============================] - 8s 410ms/step - loss: 0.4492 - acc: 0.8056 - val_loss: 0.4232 - val_acc: 0.8074\n",
            "Epoch 6/10\n",
            "20/20 [==============================] - 10s 482ms/step - loss: 0.4555 - acc: 0.8014 - val_loss: 0.4171 - val_acc: 0.8102\n",
            "Epoch 7/10\n",
            "20/20 [==============================] - 9s 437ms/step - loss: 0.4503 - acc: 0.8008 - val_loss: 0.4209 - val_acc: 0.8102\n",
            "Epoch 8/10\n",
            "20/20 [==============================] - 9s 431ms/step - loss: 0.4521 - acc: 0.8028 - val_loss: 0.4162 - val_acc: 0.8102\n",
            "Epoch 9/10\n",
            "20/20 [==============================] - 8s 408ms/step - loss: 0.4549 - acc: 0.8025 - val_loss: 0.4197 - val_acc: 0.8096\n",
            "Epoch 10/10\n",
            "20/20 [==============================] - 10s 476ms/step - loss: 0.4505 - acc: 0.8034 - val_loss: 0.4170 - val_acc: 0.8116\n"
          ],
          "name": "stdout"
        },
        {
          "output_type": "stream",
          "text": [
            "[========================================================================] 100%\n"
          ],
          "name": "stderr"
        },
        {
          "output_type": "stream",
          "text": [
            "(804, 224, 224, 3) (108, 224, 224, 3) (112, 224, 224, 3) (804, 40) (108, 40) (112, 40)\n",
            "Treinando lote  115  de  198\n",
            "Epoch 1/10\n",
            "20/20 [==============================] - 10s 491ms/step - loss: 0.4567 - acc: 0.8031 - val_loss: 0.4405 - val_acc: 0.8034\n",
            "Epoch 2/10\n",
            "20/20 [==============================] - 9s 428ms/step - loss: 0.4368 - acc: 0.8120 - val_loss: 0.4363 - val_acc: 0.8058\n",
            "Epoch 3/10\n",
            "20/20 [==============================] - 9s 427ms/step - loss: 0.4440 - acc: 0.8084 - val_loss: 0.4418 - val_acc: 0.8037\n",
            "Epoch 4/10\n",
            "20/20 [==============================] - 8s 390ms/step - loss: 0.4460 - acc: 0.8066 - val_loss: 0.4363 - val_acc: 0.8046\n",
            "Epoch 5/10\n",
            "20/20 [==============================] - 8s 394ms/step - loss: 0.4469 - acc: 0.8092 - val_loss: 0.4405 - val_acc: 0.8053\n",
            "Epoch 6/10\n",
            "20/20 [==============================] - 9s 437ms/step - loss: 0.4442 - acc: 0.8073 - val_loss: 0.4384 - val_acc: 0.8059\n",
            "Epoch 7/10\n",
            "20/20 [==============================] - 9s 452ms/step - loss: 0.4502 - acc: 0.8056 - val_loss: 0.4368 - val_acc: 0.8059\n",
            "Epoch 8/10\n",
            "20/20 [==============================] - 8s 385ms/step - loss: 0.4445 - acc: 0.8068 - val_loss: 0.4421 - val_acc: 0.8035\n",
            "Epoch 9/10\n",
            "20/20 [==============================] - 8s 400ms/step - loss: 0.4446 - acc: 0.8071 - val_loss: 0.4413 - val_acc: 0.8030\n",
            "Epoch 10/10\n",
            "20/20 [==============================] - 9s 449ms/step - loss: 0.4459 - acc: 0.8089 - val_loss: 0.4374 - val_acc: 0.8056\n"
          ],
          "name": "stdout"
        },
        {
          "output_type": "stream",
          "text": [
            "[========================================================================] 100%\n"
          ],
          "name": "stderr"
        },
        {
          "output_type": "stream",
          "text": [
            "(804, 224, 224, 3) (111, 224, 224, 3) (109, 224, 224, 3) (804, 40) (111, 40) (109, 40)\n",
            "Treinando lote  116  de  198\n",
            "Epoch 1/10\n",
            "20/20 [==============================] - 10s 496ms/step - loss: 0.4522 - acc: 0.8012 - val_loss: 0.4532 - val_acc: 0.7943\n",
            "Epoch 2/10\n",
            "20/20 [==============================] - 9s 453ms/step - loss: 0.4509 - acc: 0.7977 - val_loss: 0.4505 - val_acc: 0.7974\n",
            "Epoch 3/10\n",
            "20/20 [==============================] - 8s 422ms/step - loss: 0.4507 - acc: 0.8045 - val_loss: 0.4539 - val_acc: 0.7954\n",
            "Epoch 4/10\n",
            "20/20 [==============================] - 8s 393ms/step - loss: 0.4482 - acc: 0.8018 - val_loss: 0.4503 - val_acc: 0.7944\n",
            "Epoch 5/10\n",
            "20/20 [==============================] - 8s 391ms/step - loss: 0.4428 - acc: 0.8064 - val_loss: 0.4546 - val_acc: 0.7945\n",
            "Epoch 6/10\n",
            "20/20 [==============================] - 9s 457ms/step - loss: 0.4453 - acc: 0.8025 - val_loss: 0.4501 - val_acc: 0.7965\n",
            "Epoch 7/10\n",
            "20/20 [==============================] - 8s 419ms/step - loss: 0.4526 - acc: 0.7989 - val_loss: 0.4535 - val_acc: 0.7987\n",
            "Epoch 8/10\n",
            "20/20 [==============================] - 8s 397ms/step - loss: 0.4471 - acc: 0.8037 - val_loss: 0.4519 - val_acc: 0.7958\n",
            "Epoch 9/10\n",
            "20/20 [==============================] - 8s 400ms/step - loss: 0.4507 - acc: 0.8017 - val_loss: 0.4560 - val_acc: 0.7954\n",
            "Epoch 10/10\n",
            "20/20 [==============================] - 9s 452ms/step - loss: 0.4453 - acc: 0.8040 - val_loss: 0.4496 - val_acc: 0.7991\n"
          ],
          "name": "stdout"
        },
        {
          "output_type": "stream",
          "text": [
            "[========================================================================] 100%\n"
          ],
          "name": "stderr"
        },
        {
          "output_type": "stream",
          "text": [
            "(807, 224, 224, 3) (120, 224, 224, 3) (97, 224, 224, 3) (807, 40) (120, 40) (97, 40)\n",
            "Treinando lote  117  de  198\n",
            "Epoch 1/10\n",
            "20/20 [==============================] - 10s 480ms/step - loss: 0.4471 - acc: 0.8044 - val_loss: 0.4197 - val_acc: 0.8164\n",
            "Epoch 2/10\n",
            "20/20 [==============================] - 9s 466ms/step - loss: 0.4608 - acc: 0.7965 - val_loss: 0.4191 - val_acc: 0.8157\n",
            "Epoch 3/10\n",
            "20/20 [==============================] - 9s 430ms/step - loss: 0.4510 - acc: 0.8028 - val_loss: 0.4203 - val_acc: 0.8148\n",
            "Epoch 4/10\n",
            "20/20 [==============================] - 8s 409ms/step - loss: 0.4614 - acc: 0.7980 - val_loss: 0.4183 - val_acc: 0.8187\n",
            "Epoch 5/10\n",
            "20/20 [==============================] - 8s 402ms/step - loss: 0.4497 - acc: 0.8017 - val_loss: 0.4187 - val_acc: 0.8168\n",
            "Epoch 6/10\n",
            "20/20 [==============================] - 9s 454ms/step - loss: 0.4572 - acc: 0.7981 - val_loss: 0.4201 - val_acc: 0.8156\n",
            "Epoch 7/10\n",
            "20/20 [==============================] - 9s 434ms/step - loss: 0.4540 - acc: 0.8015 - val_loss: 0.4180 - val_acc: 0.8146\n",
            "Epoch 8/10\n",
            "20/20 [==============================] - 9s 436ms/step - loss: 0.4513 - acc: 0.8038 - val_loss: 0.4208 - val_acc: 0.8171\n",
            "Epoch 9/10\n",
            "20/20 [==============================] - 8s 410ms/step - loss: 0.4539 - acc: 0.8014 - val_loss: 0.4200 - val_acc: 0.8165\n",
            "Epoch 10/10\n",
            "20/20 [==============================] - 9s 471ms/step - loss: 0.4558 - acc: 0.8044 - val_loss: 0.4186 - val_acc: 0.8149\n"
          ],
          "name": "stdout"
        },
        {
          "output_type": "stream",
          "text": [
            "[========================================================================] 100%\n"
          ],
          "name": "stderr"
        },
        {
          "output_type": "stream",
          "text": [
            "(838, 224, 224, 3) (85, 224, 224, 3) (101, 224, 224, 3) (838, 40) (85, 40) (101, 40)\n",
            "Treinando lote  118  de  198\n",
            "Epoch 1/10\n",
            "20/20 [==============================] - 10s 501ms/step - loss: 0.4523 - acc: 0.8006 - val_loss: 0.4373 - val_acc: 0.8049\n",
            "Epoch 2/10\n",
            "20/20 [==============================] - 9s 445ms/step - loss: 0.4400 - acc: 0.8095 - val_loss: 0.4365 - val_acc: 0.8054\n",
            "Epoch 3/10\n",
            "20/20 [==============================] - 9s 428ms/step - loss: 0.4510 - acc: 0.8035 - val_loss: 0.4358 - val_acc: 0.8030\n",
            "Epoch 4/10\n",
            "20/20 [==============================] - 8s 399ms/step - loss: 0.4504 - acc: 0.8012 - val_loss: 0.4380 - val_acc: 0.8037\n",
            "Epoch 5/10\n",
            "20/20 [==============================] - 10s 478ms/step - loss: 0.4487 - acc: 0.8048 - val_loss: 0.4369 - val_acc: 0.8041\n",
            "Epoch 6/10\n",
            "20/20 [==============================] - 9s 436ms/step - loss: 0.4419 - acc: 0.8073 - val_loss: 0.4344 - val_acc: 0.8058\n",
            "Epoch 7/10\n",
            "20/20 [==============================] - 9s 431ms/step - loss: 0.4453 - acc: 0.8037 - val_loss: 0.4342 - val_acc: 0.8047\n",
            "Epoch 8/10\n",
            "20/20 [==============================] - 8s 408ms/step - loss: 0.4467 - acc: 0.8034 - val_loss: 0.4390 - val_acc: 0.8039\n",
            "Epoch 9/10\n",
            "20/20 [==============================] - 10s 477ms/step - loss: 0.4500 - acc: 0.8021 - val_loss: 0.4366 - val_acc: 0.8046\n",
            "Epoch 10/10\n",
            "20/20 [==============================] - 9s 453ms/step - loss: 0.4438 - acc: 0.8031 - val_loss: 0.4370 - val_acc: 0.8060\n"
          ],
          "name": "stdout"
        },
        {
          "output_type": "stream",
          "text": [
            "[========================================================================] 100%\n"
          ],
          "name": "stderr"
        },
        {
          "output_type": "stream",
          "text": [
            "(807, 224, 224, 3) (101, 224, 224, 3) (116, 224, 224, 3) (807, 40) (101, 40) (116, 40)\n",
            "Treinando lote  119  de  198\n",
            "Epoch 1/10\n",
            "20/20 [==============================] - 10s 499ms/step - loss: 0.4523 - acc: 0.7982 - val_loss: 0.4523 - val_acc: 0.7965\n",
            "Epoch 2/10\n",
            "20/20 [==============================] - 9s 427ms/step - loss: 0.4561 - acc: 0.8025 - val_loss: 0.4547 - val_acc: 0.7971\n",
            "Epoch 3/10\n",
            "20/20 [==============================] - 8s 415ms/step - loss: 0.4575 - acc: 0.7997 - val_loss: 0.4504 - val_acc: 0.7971\n",
            "Epoch 4/10\n",
            "20/20 [==============================] - 8s 396ms/step - loss: 0.4547 - acc: 0.7999 - val_loss: 0.4550 - val_acc: 0.7973\n",
            "Epoch 5/10\n",
            "20/20 [==============================] - 8s 389ms/step - loss: 0.4546 - acc: 0.8029 - val_loss: 0.4552 - val_acc: 0.7978\n",
            "Epoch 6/10\n",
            "20/20 [==============================] - 9s 451ms/step - loss: 0.4518 - acc: 0.8012 - val_loss: 0.4505 - val_acc: 0.7977\n",
            "Epoch 7/10\n",
            "20/20 [==============================] - 8s 413ms/step - loss: 0.4508 - acc: 0.8017 - val_loss: 0.4573 - val_acc: 0.7991\n",
            "Epoch 8/10\n",
            "20/20 [==============================] - 8s 402ms/step - loss: 0.4468 - acc: 0.8030 - val_loss: 0.4483 - val_acc: 0.7992\n",
            "Epoch 9/10\n",
            "20/20 [==============================] - 8s 387ms/step - loss: 0.4511 - acc: 0.8032 - val_loss: 0.4519 - val_acc: 0.7987\n",
            "Epoch 10/10\n",
            "20/20 [==============================] - 9s 451ms/step - loss: 0.4526 - acc: 0.8001 - val_loss: 0.4542 - val_acc: 0.7962\n"
          ],
          "name": "stdout"
        },
        {
          "output_type": "stream",
          "text": [
            "[========================================================================] 100%\n"
          ],
          "name": "stderr"
        },
        {
          "output_type": "stream",
          "text": [
            "(832, 224, 224, 3) (99, 224, 224, 3) (93, 224, 224, 3) (832, 40) (99, 40) (93, 40)\n",
            "Treinando lote  120  de  198\n",
            "Epoch 1/10\n",
            "20/20 [==============================] - 10s 490ms/step - loss: 0.4512 - acc: 0.7985 - val_loss: 0.4355 - val_acc: 0.8073\n",
            "Epoch 2/10\n",
            "20/20 [==============================] - 9s 447ms/step - loss: 0.4525 - acc: 0.8011 - val_loss: 0.4426 - val_acc: 0.8056\n",
            "Epoch 3/10\n",
            "20/20 [==============================] - 8s 424ms/step - loss: 0.4599 - acc: 0.7934 - val_loss: 0.4398 - val_acc: 0.8054\n",
            "Epoch 4/10\n",
            "20/20 [==============================] - 8s 396ms/step - loss: 0.4538 - acc: 0.7961 - val_loss: 0.4357 - val_acc: 0.8058\n",
            "Epoch 5/10\n",
            "20/20 [==============================] - 8s 394ms/step - loss: 0.4526 - acc: 0.7991 - val_loss: 0.4382 - val_acc: 0.8064\n",
            "Epoch 6/10\n",
            "20/20 [==============================] - 9s 438ms/step - loss: 0.4612 - acc: 0.7934 - val_loss: 0.4376 - val_acc: 0.8056\n",
            "Epoch 7/10\n",
            "20/20 [==============================] - 9s 449ms/step - loss: 0.4537 - acc: 0.7977 - val_loss: 0.4322 - val_acc: 0.8100\n",
            "Epoch 8/10\n",
            "20/20 [==============================] - 8s 403ms/step - loss: 0.4552 - acc: 0.7967 - val_loss: 0.4446 - val_acc: 0.8035\n",
            "Epoch 9/10\n",
            "20/20 [==============================] - 8s 394ms/step - loss: 0.4566 - acc: 0.7963 - val_loss: 0.4367 - val_acc: 0.8069\n",
            "Epoch 10/10\n",
            "20/20 [==============================] - 10s 483ms/step - loss: 0.4487 - acc: 0.7988 - val_loss: 0.4391 - val_acc: 0.8064\n"
          ],
          "name": "stdout"
        },
        {
          "output_type": "stream",
          "text": [
            "[========================================================================] 100%\n"
          ],
          "name": "stderr"
        },
        {
          "output_type": "stream",
          "text": [
            "(805, 224, 224, 3) (102, 224, 224, 3) (117, 224, 224, 3) (805, 40) (102, 40) (117, 40)\n",
            "Treinando lote  121  de  198\n",
            "Epoch 1/10\n",
            "20/20 [==============================] - 10s 478ms/step - loss: 0.4462 - acc: 0.8028 - val_loss: 0.4396 - val_acc: 0.8056\n",
            "Epoch 2/10\n",
            "20/20 [==============================] - 9s 434ms/step - loss: 0.4524 - acc: 0.8020 - val_loss: 0.4317 - val_acc: 0.8101\n",
            "Epoch 3/10\n",
            "20/20 [==============================] - 8s 404ms/step - loss: 0.4591 - acc: 0.7977 - val_loss: 0.4363 - val_acc: 0.8090\n",
            "Epoch 4/10\n",
            "20/20 [==============================] - 8s 402ms/step - loss: 0.4422 - acc: 0.8037 - val_loss: 0.4350 - val_acc: 0.8125\n",
            "Epoch 5/10\n",
            "20/20 [==============================] - 8s 387ms/step - loss: 0.4588 - acc: 0.8028 - val_loss: 0.4300 - val_acc: 0.8104\n",
            "Epoch 6/10\n",
            "20/20 [==============================] - 9s 446ms/step - loss: 0.4491 - acc: 0.8011 - val_loss: 0.4424 - val_acc: 0.8069\n",
            "Epoch 7/10\n",
            "20/20 [==============================] - 9s 442ms/step - loss: 0.4443 - acc: 0.8032 - val_loss: 0.4324 - val_acc: 0.8111\n",
            "Epoch 8/10\n",
            "20/20 [==============================] - 8s 396ms/step - loss: 0.4502 - acc: 0.8050 - val_loss: 0.4408 - val_acc: 0.8066\n",
            "Epoch 9/10\n",
            "20/20 [==============================] - 8s 397ms/step - loss: 0.4437 - acc: 0.8047 - val_loss: 0.4380 - val_acc: 0.8070\n",
            "Epoch 10/10\n",
            "20/20 [==============================] - 9s 437ms/step - loss: 0.4587 - acc: 0.8001 - val_loss: 0.4345 - val_acc: 0.8080\n"
          ],
          "name": "stdout"
        },
        {
          "output_type": "stream",
          "text": [
            "[========================================================================] 100%\n"
          ],
          "name": "stderr"
        },
        {
          "output_type": "stream",
          "text": [
            "(819, 224, 224, 3) (111, 224, 224, 3) (94, 224, 224, 3) (819, 40) (111, 40) (94, 40)\n",
            "Treinando lote  122  de  198\n",
            "Epoch 1/10\n",
            "20/20 [==============================] - 10s 486ms/step - loss: 0.4512 - acc: 0.8001 - val_loss: 0.4534 - val_acc: 0.8023\n",
            "Epoch 2/10\n",
            "20/20 [==============================] - 9s 456ms/step - loss: 0.4515 - acc: 0.8041 - val_loss: 0.4568 - val_acc: 0.8033\n",
            "Epoch 3/10\n",
            "20/20 [==============================] - 9s 432ms/step - loss: 0.4457 - acc: 0.7991 - val_loss: 0.4579 - val_acc: 0.8017\n",
            "Epoch 4/10\n",
            "20/20 [==============================] - 8s 409ms/step - loss: 0.4536 - acc: 0.8006 - val_loss: 0.4525 - val_acc: 0.8047\n",
            "Epoch 5/10\n",
            "20/20 [==============================] - 8s 398ms/step - loss: 0.4527 - acc: 0.8019 - val_loss: 0.4616 - val_acc: 0.8010\n",
            "Epoch 6/10\n",
            "20/20 [==============================] - 9s 455ms/step - loss: 0.4532 - acc: 0.8031 - val_loss: 0.4487 - val_acc: 0.8054\n",
            "Epoch 7/10\n",
            "20/20 [==============================] - 9s 460ms/step - loss: 0.4521 - acc: 0.8009 - val_loss: 0.4563 - val_acc: 0.8059\n",
            "Epoch 8/10\n",
            "20/20 [==============================] - 8s 406ms/step - loss: 0.4524 - acc: 0.8023 - val_loss: 0.4538 - val_acc: 0.8055\n",
            "Epoch 9/10\n",
            "20/20 [==============================] - 8s 402ms/step - loss: 0.4520 - acc: 0.8017 - val_loss: 0.4587 - val_acc: 0.8010\n",
            "Epoch 10/10\n",
            "20/20 [==============================] - 9s 464ms/step - loss: 0.4453 - acc: 0.8036 - val_loss: 0.4522 - val_acc: 0.8061\n"
          ],
          "name": "stdout"
        },
        {
          "output_type": "stream",
          "text": [
            "[========================================================================] 100%\n"
          ],
          "name": "stderr"
        },
        {
          "output_type": "stream",
          "text": [
            "(824, 224, 224, 3) (99, 224, 224, 3) (101, 224, 224, 3) (824, 40) (99, 40) (101, 40)\n",
            "Treinando lote  123  de  198\n",
            "Epoch 1/10\n",
            "20/20 [==============================] - 10s 495ms/step - loss: 0.4530 - acc: 0.8032 - val_loss: 0.4404 - val_acc: 0.8023\n",
            "Epoch 2/10\n",
            "20/20 [==============================] - 9s 452ms/step - loss: 0.4494 - acc: 0.8043 - val_loss: 0.4442 - val_acc: 0.8045\n",
            "Epoch 3/10\n",
            "20/20 [==============================] - 9s 429ms/step - loss: 0.4477 - acc: 0.8051 - val_loss: 0.4434 - val_acc: 0.8038\n",
            "Epoch 4/10\n",
            "20/20 [==============================] - 8s 393ms/step - loss: 0.4483 - acc: 0.8073 - val_loss: 0.4411 - val_acc: 0.8044\n",
            "Epoch 5/10\n",
            "20/20 [==============================] - 8s 394ms/step - loss: 0.4542 - acc: 0.8025 - val_loss: 0.4414 - val_acc: 0.8047\n",
            "Epoch 6/10\n",
            "20/20 [==============================] - 9s 442ms/step - loss: 0.4425 - acc: 0.8081 - val_loss: 0.4434 - val_acc: 0.8020\n",
            "Epoch 7/10\n",
            "20/20 [==============================] - 9s 429ms/step - loss: 0.4498 - acc: 0.8028 - val_loss: 0.4440 - val_acc: 0.8028\n",
            "Epoch 8/10\n",
            "20/20 [==============================] - 8s 398ms/step - loss: 0.4548 - acc: 0.8033 - val_loss: 0.4401 - val_acc: 0.8059\n",
            "Epoch 9/10\n",
            "20/20 [==============================] - 8s 394ms/step - loss: 0.4459 - acc: 0.8051 - val_loss: 0.4412 - val_acc: 0.8057\n",
            "Epoch 10/10\n",
            "20/20 [==============================] - 9s 448ms/step - loss: 0.4546 - acc: 0.8019 - val_loss: 0.4437 - val_acc: 0.8027\n"
          ],
          "name": "stdout"
        },
        {
          "output_type": "stream",
          "text": [
            "[========================================================================] 100%\n"
          ],
          "name": "stderr"
        },
        {
          "output_type": "stream",
          "text": [
            "(847, 224, 224, 3) (97, 224, 224, 3) (80, 224, 224, 3) (847, 40) (97, 40) (80, 40)\n",
            "Treinando lote  124  de  198\n",
            "Epoch 1/10\n",
            "20/20 [==============================] - 9s 474ms/step - loss: 0.4604 - acc: 0.7976 - val_loss: 0.4587 - val_acc: 0.7891\n",
            "Epoch 2/10\n",
            "20/20 [==============================] - 9s 441ms/step - loss: 0.4560 - acc: 0.7999 - val_loss: 0.4526 - val_acc: 0.7892\n",
            "Epoch 3/10\n",
            "20/20 [==============================] - 8s 410ms/step - loss: 0.4623 - acc: 0.7906 - val_loss: 0.4559 - val_acc: 0.7916\n",
            "Epoch 4/10\n",
            "20/20 [==============================] - 8s 376ms/step - loss: 0.4579 - acc: 0.7984 - val_loss: 0.4526 - val_acc: 0.7938\n",
            "Epoch 5/10\n",
            "20/20 [==============================] - 10s 485ms/step - loss: 0.4552 - acc: 0.7980 - val_loss: 0.4550 - val_acc: 0.7916\n",
            "Epoch 6/10\n",
            "20/20 [==============================] - 8s 421ms/step - loss: 0.4578 - acc: 0.7990 - val_loss: 0.4546 - val_acc: 0.7898\n",
            "Epoch 7/10\n",
            "20/20 [==============================] - 8s 416ms/step - loss: 0.4525 - acc: 0.8000 - val_loss: 0.4533 - val_acc: 0.7967\n",
            "Epoch 8/10\n",
            "20/20 [==============================] - 8s 376ms/step - loss: 0.4626 - acc: 0.7963 - val_loss: 0.4543 - val_acc: 0.7947\n",
            "Epoch 9/10\n",
            "20/20 [==============================] - 10s 476ms/step - loss: 0.4579 - acc: 0.7995 - val_loss: 0.4543 - val_acc: 0.7923\n",
            "Epoch 10/10\n",
            "20/20 [==============================] - 9s 430ms/step - loss: 0.4506 - acc: 0.7984 - val_loss: 0.4546 - val_acc: 0.7896\n"
          ],
          "name": "stdout"
        },
        {
          "output_type": "stream",
          "text": [
            "[========================================================================] 100%\n"
          ],
          "name": "stderr"
        },
        {
          "output_type": "stream",
          "text": [
            "(838, 224, 224, 3) (100, 224, 224, 3) (86, 224, 224, 3) (838, 40) (100, 40) (86, 40)\n",
            "Treinando lote  125  de  198\n",
            "Epoch 1/10\n",
            "20/20 [==============================] - 10s 484ms/step - loss: 0.4572 - acc: 0.8008 - val_loss: 0.4574 - val_acc: 0.7975\n",
            "Epoch 2/10\n",
            "20/20 [==============================] - 8s 420ms/step - loss: 0.4527 - acc: 0.7988 - val_loss: 0.4512 - val_acc: 0.7995\n",
            "Epoch 3/10\n",
            "20/20 [==============================] - 8s 404ms/step - loss: 0.4596 - acc: 0.8010 - val_loss: 0.4560 - val_acc: 0.7989\n",
            "Epoch 4/10\n",
            "20/20 [==============================] - 8s 386ms/step - loss: 0.4571 - acc: 0.8002 - val_loss: 0.4536 - val_acc: 0.7987\n",
            "Epoch 5/10\n",
            "20/20 [==============================] - 9s 464ms/step - loss: 0.4522 - acc: 0.8033 - val_loss: 0.4549 - val_acc: 0.7975\n",
            "Epoch 6/10\n",
            "20/20 [==============================] - 9s 439ms/step - loss: 0.4601 - acc: 0.8011 - val_loss: 0.4551 - val_acc: 0.7983\n",
            "Epoch 7/10\n",
            "20/20 [==============================] - 8s 411ms/step - loss: 0.4433 - acc: 0.8037 - val_loss: 0.4583 - val_acc: 0.7968\n",
            "Epoch 8/10\n",
            "20/20 [==============================] - 8s 385ms/step - loss: 0.4569 - acc: 0.8017 - val_loss: 0.4519 - val_acc: 0.8001\n",
            "Epoch 9/10\n",
            "20/20 [==============================] - 9s 456ms/step - loss: 0.4598 - acc: 0.7991 - val_loss: 0.4523 - val_acc: 0.7979\n",
            "Epoch 10/10\n",
            "20/20 [==============================] - 8s 418ms/step - loss: 0.4498 - acc: 0.8050 - val_loss: 0.4585 - val_acc: 0.7982\n"
          ],
          "name": "stdout"
        },
        {
          "output_type": "stream",
          "text": [
            "[========================================================================] 100%\n"
          ],
          "name": "stderr"
        },
        {
          "output_type": "stream",
          "text": [
            "(830, 224, 224, 3) (82, 224, 224, 3) (112, 224, 224, 3) (830, 40) (82, 40) (112, 40)\n",
            "Treinando lote  126  de  198\n",
            "Epoch 1/10\n",
            "20/20 [==============================] - 10s 494ms/step - loss: 0.4523 - acc: 0.8027 - val_loss: 0.4449 - val_acc: 0.7984\n",
            "Epoch 2/10\n",
            "20/20 [==============================] - 9s 467ms/step - loss: 0.4546 - acc: 0.7997 - val_loss: 0.4491 - val_acc: 0.7997\n",
            "Epoch 3/10\n",
            "20/20 [==============================] - 9s 450ms/step - loss: 0.4499 - acc: 0.8050 - val_loss: 0.4476 - val_acc: 0.8006\n",
            "Epoch 4/10\n",
            "20/20 [==============================] - 8s 414ms/step - loss: 0.4528 - acc: 0.8016 - val_loss: 0.4474 - val_acc: 0.7999\n",
            "Epoch 5/10\n",
            "20/20 [==============================] - 8s 406ms/step - loss: 0.4508 - acc: 0.8030 - val_loss: 0.4441 - val_acc: 0.7999\n",
            "Epoch 6/10\n",
            "20/20 [==============================] - 10s 487ms/step - loss: 0.4506 - acc: 0.8033 - val_loss: 0.4498 - val_acc: 0.7968\n",
            "Epoch 7/10\n",
            "20/20 [==============================] - 9s 450ms/step - loss: 0.4505 - acc: 0.8037 - val_loss: 0.4526 - val_acc: 0.7963\n",
            "Epoch 8/10\n",
            "20/20 [==============================] - 9s 430ms/step - loss: 0.4520 - acc: 0.8018 - val_loss: 0.4427 - val_acc: 0.8011\n",
            "Epoch 9/10\n",
            "20/20 [==============================] - 8s 403ms/step - loss: 0.4505 - acc: 0.8010 - val_loss: 0.4447 - val_acc: 0.7984\n",
            "Epoch 10/10\n",
            "20/20 [==============================] - 10s 486ms/step - loss: 0.4494 - acc: 0.8041 - val_loss: 0.4447 - val_acc: 0.8023\n"
          ],
          "name": "stdout"
        },
        {
          "output_type": "stream",
          "text": [
            "[========================================================================] 100%\n"
          ],
          "name": "stderr"
        },
        {
          "output_type": "stream",
          "text": [
            "(824, 224, 224, 3) (102, 224, 224, 3) (98, 224, 224, 3) (824, 40) (102, 40) (98, 40)\n",
            "Treinando lote  127  de  198\n",
            "Epoch 1/10\n",
            "20/20 [==============================] - 10s 496ms/step - loss: 0.4540 - acc: 0.8029 - val_loss: 0.4363 - val_acc: 0.8031\n",
            "Epoch 2/10\n",
            "20/20 [==============================] - 9s 435ms/step - loss: 0.4542 - acc: 0.8005 - val_loss: 0.4391 - val_acc: 0.8021\n",
            "Epoch 3/10\n",
            "20/20 [==============================] - 9s 429ms/step - loss: 0.4505 - acc: 0.8034 - val_loss: 0.4341 - val_acc: 0.8048\n",
            "Epoch 4/10\n",
            "20/20 [==============================] - 8s 401ms/step - loss: 0.4602 - acc: 0.7978 - val_loss: 0.4416 - val_acc: 0.8010\n",
            "Epoch 5/10\n",
            "20/20 [==============================] - 8s 396ms/step - loss: 0.4503 - acc: 0.8015 - val_loss: 0.4400 - val_acc: 0.8014\n",
            "Epoch 6/10\n",
            "20/20 [==============================] - 9s 471ms/step - loss: 0.4570 - acc: 0.8042 - val_loss: 0.4354 - val_acc: 0.8037\n",
            "Epoch 7/10\n",
            "20/20 [==============================] - 9s 443ms/step - loss: 0.4537 - acc: 0.8001 - val_loss: 0.4400 - val_acc: 0.8009\n",
            "Epoch 8/10\n",
            "20/20 [==============================] - 8s 405ms/step - loss: 0.4562 - acc: 0.8007 - val_loss: 0.4348 - val_acc: 0.8033\n",
            "Epoch 9/10\n",
            "20/20 [==============================] - 8s 396ms/step - loss: 0.4531 - acc: 0.8023 - val_loss: 0.4405 - val_acc: 0.8009\n",
            "Epoch 10/10\n",
            "20/20 [==============================] - 9s 461ms/step - loss: 0.4575 - acc: 0.7981 - val_loss: 0.4346 - val_acc: 0.8039\n"
          ],
          "name": "stdout"
        },
        {
          "output_type": "stream",
          "text": [
            "[========================================================================] 100%\n"
          ],
          "name": "stderr"
        },
        {
          "output_type": "stream",
          "text": [
            "(830, 224, 224, 3) (93, 224, 224, 3) (101, 224, 224, 3) (830, 40) (93, 40) (101, 40)\n",
            "Treinando lote  128  de  198\n",
            "Epoch 1/10\n",
            "20/20 [==============================] - 10s 504ms/step - loss: 0.4551 - acc: 0.8013 - val_loss: 0.4542 - val_acc: 0.8027\n",
            "Epoch 2/10\n",
            "20/20 [==============================] - 9s 469ms/step - loss: 0.4543 - acc: 0.8025 - val_loss: 0.4565 - val_acc: 0.8002\n",
            "Epoch 3/10\n",
            "20/20 [==============================] - 9s 445ms/step - loss: 0.4514 - acc: 0.8042 - val_loss: 0.4532 - val_acc: 0.8024\n",
            "Epoch 4/10\n",
            "20/20 [==============================] - 8s 425ms/step - loss: 0.4490 - acc: 0.8019 - val_loss: 0.4558 - val_acc: 0.8024\n",
            "Epoch 5/10\n",
            "20/20 [==============================] - 8s 414ms/step - loss: 0.4541 - acc: 0.8016 - val_loss: 0.4525 - val_acc: 0.8014\n",
            "Epoch 6/10\n",
            "20/20 [==============================] - 10s 493ms/step - loss: 0.4511 - acc: 0.8036 - val_loss: 0.4562 - val_acc: 0.8007\n",
            "Epoch 7/10\n",
            "20/20 [==============================] - 9s 466ms/step - loss: 0.4534 - acc: 0.8018 - val_loss: 0.4494 - val_acc: 0.8031\n",
            "Epoch 8/10\n",
            "20/20 [==============================] - 9s 431ms/step - loss: 0.4495 - acc: 0.8044 - val_loss: 0.4592 - val_acc: 0.7987\n",
            "Epoch 9/10\n",
            "20/20 [==============================] - 8s 412ms/step - loss: 0.4562 - acc: 0.8011 - val_loss: 0.4560 - val_acc: 0.8023\n",
            "Epoch 10/10\n",
            "20/20 [==============================] - 10s 494ms/step - loss: 0.4474 - acc: 0.8037 - val_loss: 0.4518 - val_acc: 0.8034\n"
          ],
          "name": "stdout"
        },
        {
          "output_type": "stream",
          "text": [
            "[========================================================================] 100%\n"
          ],
          "name": "stderr"
        },
        {
          "output_type": "stream",
          "text": [
            "(828, 224, 224, 3) (98, 224, 224, 3) (98, 224, 224, 3) (828, 40) (98, 40) (98, 40)\n",
            "Treinando lote  129  de  198\n",
            "Epoch 1/10\n",
            "20/20 [==============================] - 10s 484ms/step - loss: 0.4564 - acc: 0.8004 - val_loss: 0.4548 - val_acc: 0.8036\n",
            "Epoch 2/10\n",
            "20/20 [==============================] - 9s 442ms/step - loss: 0.4639 - acc: 0.7972 - val_loss: 0.4483 - val_acc: 0.8040\n",
            "Epoch 3/10\n",
            "20/20 [==============================] - 8s 425ms/step - loss: 0.4504 - acc: 0.8022 - val_loss: 0.4520 - val_acc: 0.8043\n",
            "Epoch 4/10\n",
            "20/20 [==============================] - 8s 396ms/step - loss: 0.4572 - acc: 0.7992 - val_loss: 0.4523 - val_acc: 0.8026\n",
            "Epoch 5/10\n",
            "20/20 [==============================] - 8s 395ms/step - loss: 0.4621 - acc: 0.7961 - val_loss: 0.4547 - val_acc: 0.8034\n",
            "Epoch 6/10\n",
            "20/20 [==============================] - 9s 452ms/step - loss: 0.4498 - acc: 0.8008 - val_loss: 0.4500 - val_acc: 0.8038\n",
            "Epoch 7/10\n",
            "20/20 [==============================] - 9s 430ms/step - loss: 0.4592 - acc: 0.7986 - val_loss: 0.4573 - val_acc: 0.8010\n",
            "Epoch 8/10\n",
            "20/20 [==============================] - 8s 406ms/step - loss: 0.4544 - acc: 0.8004 - val_loss: 0.4470 - val_acc: 0.8062\n",
            "Epoch 9/10\n",
            "20/20 [==============================] - 8s 395ms/step - loss: 0.4567 - acc: 0.7976 - val_loss: 0.4535 - val_acc: 0.8026\n",
            "Epoch 10/10\n",
            "20/20 [==============================] - 9s 462ms/step - loss: 0.4517 - acc: 0.8004 - val_loss: 0.4507 - val_acc: 0.8058\n"
          ],
          "name": "stdout"
        },
        {
          "output_type": "stream",
          "text": [
            "[========================================================================] 100%\n"
          ],
          "name": "stderr"
        },
        {
          "output_type": "stream",
          "text": [
            "(834, 224, 224, 3) (99, 224, 224, 3) (91, 224, 224, 3) (834, 40) (99, 40) (91, 40)\n",
            "Treinando lote  130  de  198\n",
            "Epoch 1/10\n",
            "20/20 [==============================] - 10s 494ms/step - loss: 0.4590 - acc: 0.8001 - val_loss: 0.4533 - val_acc: 0.8040\n",
            "Epoch 2/10\n",
            "20/20 [==============================] - 9s 444ms/step - loss: 0.4491 - acc: 0.8022 - val_loss: 0.4480 - val_acc: 0.8057\n",
            "Epoch 3/10\n",
            "20/20 [==============================] - 8s 408ms/step - loss: 0.4615 - acc: 0.7964 - val_loss: 0.4490 - val_acc: 0.8055\n",
            "Epoch 4/10\n",
            "20/20 [==============================] - 7s 372ms/step - loss: 0.4518 - acc: 0.8049 - val_loss: 0.4534 - val_acc: 0.8029\n",
            "Epoch 5/10\n",
            "20/20 [==============================] - 9s 454ms/step - loss: 0.4528 - acc: 0.8009 - val_loss: 0.4525 - val_acc: 0.8029\n",
            "Epoch 6/10\n",
            "20/20 [==============================] - 8s 414ms/step - loss: 0.4576 - acc: 0.8004 - val_loss: 0.4494 - val_acc: 0.8031\n",
            "Epoch 7/10\n",
            "20/20 [==============================] - 8s 418ms/step - loss: 0.4482 - acc: 0.8022 - val_loss: 0.4495 - val_acc: 0.8049\n",
            "Epoch 8/10\n",
            "20/20 [==============================] - 7s 372ms/step - loss: 0.4512 - acc: 0.8052 - val_loss: 0.4530 - val_acc: 0.8041\n",
            "Epoch 9/10\n",
            "20/20 [==============================] - 9s 464ms/step - loss: 0.4664 - acc: 0.7974 - val_loss: 0.4516 - val_acc: 0.8049\n",
            "Epoch 10/10\n",
            "20/20 [==============================] - 8s 418ms/step - loss: 0.4489 - acc: 0.8032 - val_loss: 0.4510 - val_acc: 0.8033\n"
          ],
          "name": "stdout"
        },
        {
          "output_type": "stream",
          "text": [
            "[========================================================================] 100%\n"
          ],
          "name": "stderr"
        },
        {
          "output_type": "stream",
          "text": [
            "(836, 224, 224, 3) (98, 224, 224, 3) (90, 224, 224, 3) (836, 40) (98, 40) (90, 40)\n",
            "Treinando lote  131  de  198\n",
            "Epoch 1/10\n",
            "20/20 [==============================] - 10s 484ms/step - loss: 0.4535 - acc: 0.8023 - val_loss: 0.4159 - val_acc: 0.8178\n",
            "Epoch 2/10\n",
            "20/20 [==============================] - 9s 426ms/step - loss: 0.4524 - acc: 0.8037 - val_loss: 0.4141 - val_acc: 0.8239\n",
            "Epoch 3/10\n",
            "20/20 [==============================] - 9s 430ms/step - loss: 0.4475 - acc: 0.8031 - val_loss: 0.4128 - val_acc: 0.8204\n",
            "Epoch 4/10\n",
            "20/20 [==============================] - 7s 372ms/step - loss: 0.4553 - acc: 0.8013 - val_loss: 0.4174 - val_acc: 0.8203\n",
            "Epoch 5/10\n",
            "20/20 [==============================] - 9s 475ms/step - loss: 0.4570 - acc: 0.7980 - val_loss: 0.4153 - val_acc: 0.8223\n",
            "Epoch 6/10\n",
            "20/20 [==============================] - 9s 427ms/step - loss: 0.4476 - acc: 0.8022 - val_loss: 0.4141 - val_acc: 0.8237\n",
            "Epoch 7/10\n",
            "20/20 [==============================] - 8s 419ms/step - loss: 0.4489 - acc: 0.8048 - val_loss: 0.4105 - val_acc: 0.8270\n",
            "Epoch 8/10\n",
            "20/20 [==============================] - 7s 372ms/step - loss: 0.4584 - acc: 0.8016 - val_loss: 0.4190 - val_acc: 0.8203\n",
            "Epoch 9/10\n",
            "20/20 [==============================] - 9s 460ms/step - loss: 0.4515 - acc: 0.8034 - val_loss: 0.4148 - val_acc: 0.8198\n",
            "Epoch 10/10\n",
            "20/20 [==============================] - 9s 432ms/step - loss: 0.4492 - acc: 0.8072 - val_loss: 0.4148 - val_acc: 0.8207\n"
          ],
          "name": "stdout"
        },
        {
          "output_type": "stream",
          "text": [
            "[========================================================================] 100%\n"
          ],
          "name": "stderr"
        },
        {
          "output_type": "stream",
          "text": [
            "(825, 224, 224, 3) (98, 224, 224, 3) (101, 224, 224, 3) (825, 40) (98, 40) (101, 40)\n",
            "Treinando lote  132  de  198\n",
            "Epoch 1/10\n",
            "20/20 [==============================] - 10s 483ms/step - loss: 0.4567 - acc: 0.7982 - val_loss: 0.4206 - val_acc: 0.8186\n",
            "Epoch 2/10\n",
            "20/20 [==============================] - 9s 432ms/step - loss: 0.4458 - acc: 0.8008 - val_loss: 0.4139 - val_acc: 0.8216\n",
            "Epoch 3/10\n",
            "20/20 [==============================] - 9s 430ms/step - loss: 0.4521 - acc: 0.7984 - val_loss: 0.4229 - val_acc: 0.8173\n",
            "Epoch 4/10\n",
            "20/20 [==============================] - 8s 391ms/step - loss: 0.4559 - acc: 0.8004 - val_loss: 0.4131 - val_acc: 0.8198\n",
            "Epoch 5/10\n",
            "20/20 [==============================] - 8s 395ms/step - loss: 0.4504 - acc: 0.8021 - val_loss: 0.4203 - val_acc: 0.8166\n",
            "Epoch 6/10\n",
            "20/20 [==============================] - 9s 452ms/step - loss: 0.4477 - acc: 0.8031 - val_loss: 0.4167 - val_acc: 0.8203\n",
            "Epoch 7/10\n",
            "20/20 [==============================] - 9s 430ms/step - loss: 0.4521 - acc: 0.7995 - val_loss: 0.4208 - val_acc: 0.8154\n",
            "Epoch 8/10\n",
            "20/20 [==============================] - 8s 401ms/step - loss: 0.4501 - acc: 0.8040 - val_loss: 0.4165 - val_acc: 0.8192\n",
            "Epoch 9/10\n",
            "20/20 [==============================] - 8s 400ms/step - loss: 0.4487 - acc: 0.8011 - val_loss: 0.4148 - val_acc: 0.8184\n",
            "Epoch 10/10\n",
            "20/20 [==============================] - 9s 462ms/step - loss: 0.4489 - acc: 0.8021 - val_loss: 0.4233 - val_acc: 0.8162\n"
          ],
          "name": "stdout"
        },
        {
          "output_type": "stream",
          "text": [
            "[========================================================================] 100%\n"
          ],
          "name": "stderr"
        },
        {
          "output_type": "stream",
          "text": [
            "(822, 224, 224, 3) (112, 224, 224, 3) (90, 224, 224, 3) (822, 40) (112, 40) (90, 40)\n",
            "Treinando lote  133  de  198\n",
            "Epoch 1/10\n",
            "20/20 [==============================] - 10s 499ms/step - loss: 0.4607 - acc: 0.7973 - val_loss: 0.4220 - val_acc: 0.8163\n",
            "Epoch 2/10\n",
            "20/20 [==============================] - 9s 456ms/step - loss: 0.4519 - acc: 0.8011 - val_loss: 0.4241 - val_acc: 0.8141\n",
            "Epoch 3/10\n",
            "20/20 [==============================] - 9s 435ms/step - loss: 0.4624 - acc: 0.7928 - val_loss: 0.4197 - val_acc: 0.8170\n",
            "Epoch 4/10\n",
            "20/20 [==============================] - 8s 402ms/step - loss: 0.4496 - acc: 0.7995 - val_loss: 0.4263 - val_acc: 0.8129\n",
            "Epoch 5/10\n",
            "20/20 [==============================] - 8s 400ms/step - loss: 0.4568 - acc: 0.7966 - val_loss: 0.4221 - val_acc: 0.8146\n",
            "Epoch 6/10\n",
            "20/20 [==============================] - 9s 458ms/step - loss: 0.4529 - acc: 0.8009 - val_loss: 0.4235 - val_acc: 0.8152\n",
            "Epoch 7/10\n",
            "20/20 [==============================] - 9s 435ms/step - loss: 0.4581 - acc: 0.7958 - val_loss: 0.4212 - val_acc: 0.8142\n",
            "Epoch 8/10\n",
            "20/20 [==============================] - 8s 413ms/step - loss: 0.4528 - acc: 0.7996 - val_loss: 0.4247 - val_acc: 0.8146\n",
            "Epoch 9/10\n",
            "20/20 [==============================] - 8s 399ms/step - loss: 0.4582 - acc: 0.7997 - val_loss: 0.4208 - val_acc: 0.8147\n",
            "Epoch 10/10\n",
            "20/20 [==============================] - 9s 469ms/step - loss: 0.4568 - acc: 0.7999 - val_loss: 0.4254 - val_acc: 0.8146\n"
          ],
          "name": "stdout"
        },
        {
          "output_type": "stream",
          "text": [
            "[========================================================================] 100%\n"
          ],
          "name": "stderr"
        },
        {
          "output_type": "stream",
          "text": [
            "(816, 224, 224, 3) (98, 224, 224, 3) (110, 224, 224, 3) (816, 40) (98, 40) (110, 40)\n",
            "Treinando lote  134  de  198\n",
            "Epoch 1/10\n",
            "20/20 [==============================] - 10s 494ms/step - loss: 0.4619 - acc: 0.7994 - val_loss: 0.4621 - val_acc: 0.7984\n",
            "Epoch 2/10\n",
            "20/20 [==============================] - 8s 421ms/step - loss: 0.4604 - acc: 0.7986 - val_loss: 0.4627 - val_acc: 0.7984\n",
            "Epoch 3/10\n",
            "20/20 [==============================] - 8s 415ms/step - loss: 0.4618 - acc: 0.8000 - val_loss: 0.4615 - val_acc: 0.8009\n",
            "Epoch 4/10\n",
            "20/20 [==============================] - 8s 386ms/step - loss: 0.4632 - acc: 0.7981 - val_loss: 0.4622 - val_acc: 0.7980\n",
            "Epoch 5/10\n",
            "20/20 [==============================] - 8s 390ms/step - loss: 0.4543 - acc: 0.8006 - val_loss: 0.4597 - val_acc: 0.7996\n",
            "Epoch 6/10\n",
            "20/20 [==============================] - 9s 432ms/step - loss: 0.4610 - acc: 0.7986 - val_loss: 0.4642 - val_acc: 0.7996\n",
            "Epoch 7/10\n",
            "20/20 [==============================] - 8s 425ms/step - loss: 0.4567 - acc: 0.8004 - val_loss: 0.4585 - val_acc: 0.8031\n",
            "Epoch 8/10\n",
            "20/20 [==============================] - 8s 401ms/step - loss: 0.4598 - acc: 0.7989 - val_loss: 0.4654 - val_acc: 0.7982\n",
            "Epoch 9/10\n",
            "20/20 [==============================] - 8s 385ms/step - loss: 0.4542 - acc: 0.8018 - val_loss: 0.4641 - val_acc: 0.7982\n",
            "Epoch 10/10\n",
            "20/20 [==============================] - 9s 456ms/step - loss: 0.4561 - acc: 0.8035 - val_loss: 0.4593 - val_acc: 0.8008\n"
          ],
          "name": "stdout"
        },
        {
          "output_type": "stream",
          "text": [
            "[========================================================================] 100%\n"
          ],
          "name": "stderr"
        },
        {
          "output_type": "stream",
          "text": [
            "(832, 224, 224, 3) (97, 224, 224, 3) (95, 224, 224, 3) (832, 40) (97, 40) (95, 40)\n",
            "Treinando lote  135  de  198\n",
            "Epoch 1/10\n",
            "20/20 [==============================] - 10s 484ms/step - loss: 0.4528 - acc: 0.8041 - val_loss: 0.4549 - val_acc: 0.8040\n",
            "Epoch 2/10\n",
            "20/20 [==============================] - 9s 441ms/step - loss: 0.4418 - acc: 0.8073 - val_loss: 0.4626 - val_acc: 0.7981\n",
            "Epoch 3/10\n",
            "20/20 [==============================] - 9s 436ms/step - loss: 0.4471 - acc: 0.8047 - val_loss: 0.4561 - val_acc: 0.8021\n",
            "Epoch 4/10\n",
            "20/20 [==============================] - 8s 391ms/step - loss: 0.4518 - acc: 0.8012 - val_loss: 0.4628 - val_acc: 0.7967\n",
            "Epoch 5/10\n",
            "20/20 [==============================] - 8s 395ms/step - loss: 0.4506 - acc: 0.8045 - val_loss: 0.4643 - val_acc: 0.7981\n",
            "Epoch 6/10\n",
            "20/20 [==============================] - 10s 476ms/step - loss: 0.4458 - acc: 0.8052 - val_loss: 0.4537 - val_acc: 0.8041\n",
            "Epoch 7/10\n",
            "20/20 [==============================] - 9s 441ms/step - loss: 0.4374 - acc: 0.8108 - val_loss: 0.4569 - val_acc: 0.7991\n",
            "Epoch 8/10\n",
            "20/20 [==============================] - 8s 401ms/step - loss: 0.4511 - acc: 0.8025 - val_loss: 0.4636 - val_acc: 0.7991\n",
            "Epoch 9/10\n",
            "20/20 [==============================] - 8s 405ms/step - loss: 0.4435 - acc: 0.8071 - val_loss: 0.4587 - val_acc: 0.8003\n",
            "Epoch 10/10\n",
            "20/20 [==============================] - 9s 446ms/step - loss: 0.4461 - acc: 0.8074 - val_loss: 0.4620 - val_acc: 0.7983\n"
          ],
          "name": "stdout"
        },
        {
          "output_type": "stream",
          "text": [
            "[========================================================================] 100%\n"
          ],
          "name": "stderr"
        },
        {
          "output_type": "stream",
          "text": [
            "(800, 224, 224, 3) (126, 224, 224, 3) (98, 224, 224, 3) (800, 40) (126, 40) (98, 40)\n",
            "Treinando lote  136  de  198\n",
            "Epoch 1/10\n",
            "20/20 [==============================] - 10s 509ms/step - loss: 0.4540 - acc: 0.8001 - val_loss: 0.4433 - val_acc: 0.8053\n",
            "Epoch 2/10\n",
            "20/20 [==============================] - 10s 478ms/step - loss: 0.4551 - acc: 0.8016 - val_loss: 0.4409 - val_acc: 0.8079\n",
            "Epoch 3/10\n",
            "20/20 [==============================] - 9s 450ms/step - loss: 0.4543 - acc: 0.8000 - val_loss: 0.4440 - val_acc: 0.8059\n",
            "Epoch 4/10\n",
            "20/20 [==============================] - 9s 441ms/step - loss: 0.4504 - acc: 0.8037 - val_loss: 0.4397 - val_acc: 0.8092\n",
            "Epoch 5/10\n",
            "20/20 [==============================] - 8s 412ms/step - loss: 0.4536 - acc: 0.7990 - val_loss: 0.4399 - val_acc: 0.8062\n",
            "Epoch 6/10\n",
            "20/20 [==============================] - 8s 413ms/step - loss: 0.4550 - acc: 0.8012 - val_loss: 0.4435 - val_acc: 0.8099\n",
            "Epoch 7/10\n",
            "20/20 [==============================] - 10s 486ms/step - loss: 0.4506 - acc: 0.8000 - val_loss: 0.4412 - val_acc: 0.8085\n",
            "Epoch 8/10\n",
            "20/20 [==============================] - 9s 455ms/step - loss: 0.4518 - acc: 0.8009 - val_loss: 0.4428 - val_acc: 0.8048\n",
            "Epoch 9/10\n",
            "20/20 [==============================] - 9s 432ms/step - loss: 0.4534 - acc: 0.8020 - val_loss: 0.4415 - val_acc: 0.8050\n",
            "Epoch 10/10\n",
            "20/20 [==============================] - 8s 412ms/step - loss: 0.4501 - acc: 0.8004 - val_loss: 0.4422 - val_acc: 0.8089\n"
          ],
          "name": "stdout"
        },
        {
          "output_type": "stream",
          "text": [
            "[========================================================================] 100%\n"
          ],
          "name": "stderr"
        },
        {
          "output_type": "stream",
          "text": [
            "(804, 224, 224, 3) (104, 224, 224, 3) (116, 224, 224, 3) (804, 40) (104, 40) (116, 40)\n",
            "Treinando lote  137  de  198\n",
            "Epoch 1/10\n",
            "20/20 [==============================] - 9s 465ms/step - loss: 0.4404 - acc: 0.8084 - val_loss: 0.4482 - val_acc: 0.8028\n",
            "Epoch 2/10\n",
            "20/20 [==============================] - 9s 453ms/step - loss: 0.4644 - acc: 0.7965 - val_loss: 0.4380 - val_acc: 0.8085\n",
            "Epoch 3/10\n",
            "20/20 [==============================] - 9s 444ms/step - loss: 0.4457 - acc: 0.8065 - val_loss: 0.4461 - val_acc: 0.8028\n",
            "Epoch 4/10\n",
            "20/20 [==============================] - 8s 396ms/step - loss: 0.4476 - acc: 0.8065 - val_loss: 0.4397 - val_acc: 0.8070\n",
            "Epoch 5/10\n",
            "20/20 [==============================] - 8s 392ms/step - loss: 0.4457 - acc: 0.7993 - val_loss: 0.4461 - val_acc: 0.8033\n",
            "Epoch 6/10\n",
            "20/20 [==============================] - 9s 463ms/step - loss: 0.4526 - acc: 0.8010 - val_loss: 0.4391 - val_acc: 0.8070\n",
            "Epoch 7/10\n",
            "20/20 [==============================] - 9s 428ms/step - loss: 0.4478 - acc: 0.8054 - val_loss: 0.4450 - val_acc: 0.8057\n",
            "Epoch 8/10\n",
            "20/20 [==============================] - 8s 403ms/step - loss: 0.4393 - acc: 0.8079 - val_loss: 0.4395 - val_acc: 0.8076\n",
            "Epoch 9/10\n",
            "20/20 [==============================] - 8s 388ms/step - loss: 0.4494 - acc: 0.8045 - val_loss: 0.4441 - val_acc: 0.8072\n",
            "Epoch 10/10\n",
            "20/20 [==============================] - 9s 459ms/step - loss: 0.4451 - acc: 0.8020 - val_loss: 0.4410 - val_acc: 0.8067\n"
          ],
          "name": "stdout"
        },
        {
          "output_type": "stream",
          "text": [
            "[========================================================================] 100%\n"
          ],
          "name": "stderr"
        },
        {
          "output_type": "stream",
          "text": [
            "(826, 224, 224, 3) (110, 224, 224, 3) (88, 224, 224, 3) (826, 40) (110, 40) (88, 40)\n",
            "Treinando lote  138  de  198\n",
            "Epoch 1/10\n",
            "20/20 [==============================] - 10s 498ms/step - loss: 0.4471 - acc: 0.8014 - val_loss: 0.4556 - val_acc: 0.8023\n",
            "Epoch 2/10\n",
            "20/20 [==============================] - 9s 450ms/step - loss: 0.4579 - acc: 0.7943 - val_loss: 0.4555 - val_acc: 0.8023\n",
            "Epoch 3/10\n",
            "20/20 [==============================] - 9s 444ms/step - loss: 0.4463 - acc: 0.8017 - val_loss: 0.4570 - val_acc: 0.8009\n",
            "Epoch 4/10\n",
            "20/20 [==============================] - 8s 404ms/step - loss: 0.4473 - acc: 0.7998 - val_loss: 0.4537 - val_acc: 0.8056\n",
            "Epoch 5/10\n",
            "20/20 [==============================] - 8s 399ms/step - loss: 0.4490 - acc: 0.7997 - val_loss: 0.4574 - val_acc: 0.8018\n",
            "Epoch 6/10\n",
            "20/20 [==============================] - 10s 477ms/step - loss: 0.4485 - acc: 0.7974 - val_loss: 0.4540 - val_acc: 0.8037\n",
            "Epoch 7/10\n",
            "20/20 [==============================] - 9s 443ms/step - loss: 0.4501 - acc: 0.7971 - val_loss: 0.4574 - val_acc: 0.8026\n",
            "Epoch 8/10\n",
            "20/20 [==============================] - 8s 410ms/step - loss: 0.4475 - acc: 0.7999 - val_loss: 0.4548 - val_acc: 0.8016\n",
            "Epoch 9/10\n",
            "20/20 [==============================] - 8s 399ms/step - loss: 0.4483 - acc: 0.8022 - val_loss: 0.4586 - val_acc: 0.8005\n",
            "Epoch 10/10\n",
            "20/20 [==============================] - 9s 458ms/step - loss: 0.4544 - acc: 0.7980 - val_loss: 0.4531 - val_acc: 0.8042\n"
          ],
          "name": "stdout"
        },
        {
          "output_type": "stream",
          "text": [
            "[========================================================================] 100%\n"
          ],
          "name": "stderr"
        },
        {
          "output_type": "stream",
          "text": [
            "(834, 224, 224, 3) (92, 224, 224, 3) (98, 224, 224, 3) (834, 40) (92, 40) (98, 40)\n",
            "Treinando lote  139  de  198\n",
            "Epoch 1/10\n",
            "20/20 [==============================] - 10s 496ms/step - loss: 0.4547 - acc: 0.8023 - val_loss: 0.4703 - val_acc: 0.8036\n",
            "Epoch 2/10\n",
            "20/20 [==============================] - 9s 458ms/step - loss: 0.4594 - acc: 0.7999 - val_loss: 0.4582 - val_acc: 0.8041\n",
            "Epoch 3/10\n",
            "20/20 [==============================] - 9s 434ms/step - loss: 0.4602 - acc: 0.7997 - val_loss: 0.4635 - val_acc: 0.8038\n",
            "Epoch 4/10\n",
            "20/20 [==============================] - 8s 400ms/step - loss: 0.4598 - acc: 0.7981 - val_loss: 0.4639 - val_acc: 0.8018\n",
            "Epoch 5/10\n",
            "20/20 [==============================] - 10s 493ms/step - loss: 0.4574 - acc: 0.7990 - val_loss: 0.4590 - val_acc: 0.8050\n",
            "Epoch 6/10\n",
            "20/20 [==============================] - 9s 445ms/step - loss: 0.4418 - acc: 0.8047 - val_loss: 0.4686 - val_acc: 0.8023\n",
            "Epoch 7/10\n",
            "20/20 [==============================] - 9s 433ms/step - loss: 0.4629 - acc: 0.7978 - val_loss: 0.4594 - val_acc: 0.8046\n",
            "Epoch 8/10\n",
            "20/20 [==============================] - 8s 400ms/step - loss: 0.4499 - acc: 0.8027 - val_loss: 0.4688 - val_acc: 0.8024\n",
            "Epoch 9/10\n",
            "20/20 [==============================] - 10s 485ms/step - loss: 0.4559 - acc: 0.7973 - val_loss: 0.4624 - val_acc: 0.8025\n",
            "Epoch 10/10\n",
            "20/20 [==============================] - 9s 455ms/step - loss: 0.4559 - acc: 0.7992 - val_loss: 0.4663 - val_acc: 0.8014\n"
          ],
          "name": "stdout"
        },
        {
          "output_type": "stream",
          "text": [
            "[========================================================================] 100%\n"
          ],
          "name": "stderr"
        },
        {
          "output_type": "stream",
          "text": [
            "(808, 224, 224, 3) (111, 224, 224, 3) (105, 224, 224, 3) (808, 40) (111, 40) (105, 40)\n",
            "Treinando lote  140  de  198\n",
            "Epoch 1/10\n",
            "20/20 [==============================] - 10s 486ms/step - loss: 0.4493 - acc: 0.8033 - val_loss: 0.4467 - val_acc: 0.8148\n",
            "Epoch 2/10\n",
            "20/20 [==============================] - 9s 431ms/step - loss: 0.4503 - acc: 0.8010 - val_loss: 0.4530 - val_acc: 0.8122\n",
            "Epoch 3/10\n",
            "20/20 [==============================] - 9s 435ms/step - loss: 0.4457 - acc: 0.8041 - val_loss: 0.4508 - val_acc: 0.8152\n",
            "Epoch 4/10\n",
            "20/20 [==============================] - 8s 394ms/step - loss: 0.4489 - acc: 0.8015 - val_loss: 0.4496 - val_acc: 0.8114\n",
            "Epoch 5/10\n",
            "20/20 [==============================] - 8s 393ms/step - loss: 0.4450 - acc: 0.8041 - val_loss: 0.4510 - val_acc: 0.8115\n",
            "Epoch 6/10\n",
            "20/20 [==============================] - 9s 445ms/step - loss: 0.4520 - acc: 0.8005 - val_loss: 0.4518 - val_acc: 0.8154\n",
            "Epoch 7/10\n",
            "20/20 [==============================] - 9s 432ms/step - loss: 0.4461 - acc: 0.8056 - val_loss: 0.4558 - val_acc: 0.8121\n",
            "Epoch 8/10\n",
            "20/20 [==============================] - 8s 422ms/step - loss: 0.4487 - acc: 0.8003 - val_loss: 0.4475 - val_acc: 0.8133\n",
            "Epoch 9/10\n",
            "20/20 [==============================] - 8s 393ms/step - loss: 0.4450 - acc: 0.8043 - val_loss: 0.4528 - val_acc: 0.8122\n",
            "Epoch 10/10\n",
            "20/20 [==============================] - 9s 464ms/step - loss: 0.4429 - acc: 0.8046 - val_loss: 0.4508 - val_acc: 0.8112\n"
          ],
          "name": "stdout"
        },
        {
          "output_type": "stream",
          "text": [
            "[========================================================================] 100%\n"
          ],
          "name": "stderr"
        },
        {
          "output_type": "stream",
          "text": [
            "(821, 224, 224, 3) (109, 224, 224, 3) (94, 224, 224, 3) (821, 40) (109, 40) (94, 40)\n",
            "Treinando lote  141  de  198\n",
            "Epoch 1/10\n",
            "20/20 [==============================] - 10s 481ms/step - loss: 0.4477 - acc: 0.8039 - val_loss: 0.4311 - val_acc: 0.8049\n",
            "Epoch 2/10\n",
            "20/20 [==============================] - 9s 446ms/step - loss: 0.4519 - acc: 0.8030 - val_loss: 0.4342 - val_acc: 0.8013\n",
            "Epoch 3/10\n",
            "20/20 [==============================] - 9s 434ms/step - loss: 0.4489 - acc: 0.8022 - val_loss: 0.4315 - val_acc: 0.8060\n",
            "Epoch 4/10\n",
            "20/20 [==============================] - 8s 401ms/step - loss: 0.4454 - acc: 0.8026 - val_loss: 0.4333 - val_acc: 0.8009\n",
            "Epoch 5/10\n",
            "20/20 [==============================] - 8s 401ms/step - loss: 0.4478 - acc: 0.8026 - val_loss: 0.4322 - val_acc: 0.8014\n",
            "Epoch 6/10\n",
            "20/20 [==============================] - 9s 464ms/step - loss: 0.4451 - acc: 0.8048 - val_loss: 0.4319 - val_acc: 0.8029\n",
            "Epoch 7/10\n",
            "20/20 [==============================] - 9s 440ms/step - loss: 0.4429 - acc: 0.8045 - val_loss: 0.4295 - val_acc: 0.8043\n",
            "Epoch 8/10\n",
            "20/20 [==============================] - 8s 413ms/step - loss: 0.4521 - acc: 0.7980 - val_loss: 0.4344 - val_acc: 0.8025\n",
            "Epoch 9/10\n",
            "20/20 [==============================] - 8s 399ms/step - loss: 0.4468 - acc: 0.8044 - val_loss: 0.4315 - val_acc: 0.8020\n",
            "Epoch 10/10\n",
            "20/20 [==============================] - 10s 482ms/step - loss: 0.4405 - acc: 0.8047 - val_loss: 0.4332 - val_acc: 0.8015\n"
          ],
          "name": "stdout"
        },
        {
          "output_type": "stream",
          "text": [
            "[========================================================================] 100%\n"
          ],
          "name": "stderr"
        },
        {
          "output_type": "stream",
          "text": [
            "(818, 224, 224, 3) (108, 224, 224, 3) (98, 224, 224, 3) (818, 40) (108, 40) (98, 40)\n",
            "Treinando lote  142  de  198\n",
            "Epoch 1/10\n",
            "20/20 [==============================] - 10s 489ms/step - loss: 0.4479 - acc: 0.8001 - val_loss: 0.4410 - val_acc: 0.8028\n",
            "Epoch 2/10\n",
            "20/20 [==============================] - 9s 444ms/step - loss: 0.4568 - acc: 0.7992 - val_loss: 0.4336 - val_acc: 0.8034\n",
            "Epoch 3/10\n",
            "20/20 [==============================] - 9s 431ms/step - loss: 0.4552 - acc: 0.8001 - val_loss: 0.4430 - val_acc: 0.8002\n",
            "Epoch 4/10\n",
            "20/20 [==============================] - 8s 401ms/step - loss: 0.4575 - acc: 0.7972 - val_loss: 0.4302 - val_acc: 0.8048\n",
            "Epoch 5/10\n",
            "20/20 [==============================] - 8s 398ms/step - loss: 0.4521 - acc: 0.7994 - val_loss: 0.4351 - val_acc: 0.8019\n",
            "Epoch 6/10\n",
            "20/20 [==============================] - 9s 458ms/step - loss: 0.4543 - acc: 0.8005 - val_loss: 0.4381 - val_acc: 0.8031\n",
            "Epoch 7/10\n",
            "20/20 [==============================] - 9s 434ms/step - loss: 0.4558 - acc: 0.7976 - val_loss: 0.4333 - val_acc: 0.8034\n",
            "Epoch 8/10\n",
            "20/20 [==============================] - 8s 409ms/step - loss: 0.4477 - acc: 0.7998 - val_loss: 0.4398 - val_acc: 0.8023\n",
            "Epoch 9/10\n",
            "20/20 [==============================] - 8s 397ms/step - loss: 0.4566 - acc: 0.7968 - val_loss: 0.4366 - val_acc: 0.8036\n",
            "Epoch 10/10\n",
            "20/20 [==============================] - 9s 471ms/step - loss: 0.4459 - acc: 0.8012 - val_loss: 0.4364 - val_acc: 0.8009\n"
          ],
          "name": "stdout"
        },
        {
          "output_type": "stream",
          "text": [
            "[========================================================================] 100%\n"
          ],
          "name": "stderr"
        },
        {
          "output_type": "stream",
          "text": [
            "(806, 224, 224, 3) (105, 224, 224, 3) (113, 224, 224, 3) (806, 40) (105, 40) (113, 40)\n",
            "Treinando lote  143  de  198\n",
            "Epoch 1/10\n",
            "20/20 [==============================] - 10s 477ms/step - loss: 0.4556 - acc: 0.7989 - val_loss: 0.4635 - val_acc: 0.7968\n",
            "Epoch 2/10\n",
            "20/20 [==============================] - 9s 439ms/step - loss: 0.4384 - acc: 0.8094 - val_loss: 0.4632 - val_acc: 0.7963\n",
            "Epoch 3/10\n",
            "20/20 [==============================] - 9s 442ms/step - loss: 0.4545 - acc: 0.8015 - val_loss: 0.4612 - val_acc: 0.7979\n",
            "Epoch 4/10\n",
            "20/20 [==============================] - 8s 395ms/step - loss: 0.4467 - acc: 0.8046 - val_loss: 0.4685 - val_acc: 0.7940\n",
            "Epoch 5/10\n",
            "20/20 [==============================] - 8s 390ms/step - loss: 0.4451 - acc: 0.8046 - val_loss: 0.4660 - val_acc: 0.7973\n",
            "Epoch 6/10\n",
            "20/20 [==============================] - 9s 466ms/step - loss: 0.4437 - acc: 0.8071 - val_loss: 0.4650 - val_acc: 0.7950\n",
            "Epoch 7/10\n",
            "20/20 [==============================] - 9s 431ms/step - loss: 0.4489 - acc: 0.8062 - val_loss: 0.4661 - val_acc: 0.7962\n",
            "Epoch 8/10\n",
            "20/20 [==============================] - 8s 397ms/step - loss: 0.4451 - acc: 0.8075 - val_loss: 0.4651 - val_acc: 0.7950\n",
            "Epoch 9/10\n",
            "20/20 [==============================] - 8s 390ms/step - loss: 0.4444 - acc: 0.8062 - val_loss: 0.4665 - val_acc: 0.7945\n",
            "Epoch 10/10\n",
            "20/20 [==============================] - 9s 469ms/step - loss: 0.4473 - acc: 0.8054 - val_loss: 0.4652 - val_acc: 0.7969\n"
          ],
          "name": "stdout"
        },
        {
          "output_type": "stream",
          "text": [
            "[========================================================================] 100%\n"
          ],
          "name": "stderr"
        },
        {
          "output_type": "stream",
          "text": [
            "(826, 224, 224, 3) (98, 224, 224, 3) (100, 224, 224, 3) (826, 40) (98, 40) (100, 40)\n",
            "Treinando lote  144  de  198\n",
            "Epoch 1/10\n",
            "20/20 [==============================] - 10s 484ms/step - loss: 0.4542 - acc: 0.8008 - val_loss: 0.4544 - val_acc: 0.7950\n",
            "Epoch 2/10\n",
            "20/20 [==============================] - 9s 427ms/step - loss: 0.4449 - acc: 0.8015 - val_loss: 0.4541 - val_acc: 0.7966\n",
            "Epoch 3/10\n",
            "20/20 [==============================] - 9s 430ms/step - loss: 0.4491 - acc: 0.8006 - val_loss: 0.4513 - val_acc: 0.7959\n",
            "Epoch 4/10\n",
            "20/20 [==============================] - 8s 391ms/step - loss: 0.4436 - acc: 0.8010 - val_loss: 0.4569 - val_acc: 0.7924\n",
            "Epoch 5/10\n",
            "20/20 [==============================] - 8s 390ms/step - loss: 0.4495 - acc: 0.7983 - val_loss: 0.4539 - val_acc: 0.7947\n",
            "Epoch 6/10\n",
            "20/20 [==============================] - 9s 447ms/step - loss: 0.4453 - acc: 0.8004 - val_loss: 0.4544 - val_acc: 0.7952\n",
            "Epoch 7/10\n",
            "20/20 [==============================] - 9s 440ms/step - loss: 0.4515 - acc: 0.7974 - val_loss: 0.4513 - val_acc: 0.7955\n",
            "Epoch 8/10\n",
            "20/20 [==============================] - 8s 397ms/step - loss: 0.4567 - acc: 0.7959 - val_loss: 0.4575 - val_acc: 0.7907\n",
            "Epoch 9/10\n",
            "20/20 [==============================] - 8s 395ms/step - loss: 0.4421 - acc: 0.7997 - val_loss: 0.4482 - val_acc: 0.7954\n",
            "Epoch 10/10\n",
            "20/20 [==============================] - 9s 447ms/step - loss: 0.4466 - acc: 0.8012 - val_loss: 0.4612 - val_acc: 0.7916\n"
          ],
          "name": "stdout"
        },
        {
          "output_type": "stream",
          "text": [
            "[========================================================================] 100%\n"
          ],
          "name": "stderr"
        },
        {
          "output_type": "stream",
          "text": [
            "(797, 224, 224, 3) (106, 224, 224, 3) (121, 224, 224, 3) (797, 40) (106, 40) (121, 40)\n",
            "Treinando lote  145  de  198\n",
            "Epoch 1/10\n",
            "20/20 [==============================] - 10s 486ms/step - loss: 0.4507 - acc: 0.8044 - val_loss: 0.4266 - val_acc: 0.8056\n",
            "Epoch 2/10\n",
            "20/20 [==============================] - 9s 449ms/step - loss: 0.4525 - acc: 0.8020 - val_loss: 0.4192 - val_acc: 0.8098\n",
            "Epoch 3/10\n",
            "20/20 [==============================] - 9s 441ms/step - loss: 0.4522 - acc: 0.8026 - val_loss: 0.4228 - val_acc: 0.8053\n",
            "Epoch 4/10\n",
            "20/20 [==============================] - 8s 415ms/step - loss: 0.4513 - acc: 0.8042 - val_loss: 0.4257 - val_acc: 0.8039\n",
            "Epoch 5/10\n",
            "20/20 [==============================] - 8s 398ms/step - loss: 0.4511 - acc: 0.8025 - val_loss: 0.4299 - val_acc: 0.8032\n",
            "Epoch 6/10\n",
            "20/20 [==============================] - 8s 392ms/step - loss: 0.4497 - acc: 0.8022 - val_loss: 0.4184 - val_acc: 0.8080\n",
            "Epoch 7/10\n",
            "20/20 [==============================] - 9s 452ms/step - loss: 0.4498 - acc: 0.8024 - val_loss: 0.4239 - val_acc: 0.8072\n",
            "Epoch 8/10\n",
            "20/20 [==============================] - 9s 441ms/step - loss: 0.4506 - acc: 0.8017 - val_loss: 0.4251 - val_acc: 0.8072\n",
            "Epoch 9/10\n",
            "20/20 [==============================] - 8s 424ms/step - loss: 0.4493 - acc: 0.8040 - val_loss: 0.4222 - val_acc: 0.8071\n",
            "Epoch 10/10\n",
            "20/20 [==============================] - 8s 391ms/step - loss: 0.4504 - acc: 0.8041 - val_loss: 0.4276 - val_acc: 0.8040\n"
          ],
          "name": "stdout"
        },
        {
          "output_type": "stream",
          "text": [
            "[========================================================================] 100%\n"
          ],
          "name": "stderr"
        },
        {
          "output_type": "stream",
          "text": [
            "(825, 224, 224, 3) (104, 224, 224, 3) (95, 224, 224, 3) (825, 40) (104, 40) (95, 40)\n",
            "Treinando lote  146  de  198\n",
            "Epoch 1/10\n",
            "20/20 [==============================] - 10s 508ms/step - loss: 0.4528 - acc: 0.8023 - val_loss: 0.4754 - val_acc: 0.8012\n",
            "Epoch 2/10\n",
            "20/20 [==============================] - 9s 440ms/step - loss: 0.4442 - acc: 0.8077 - val_loss: 0.4720 - val_acc: 0.7989\n",
            "Epoch 3/10\n",
            "20/20 [==============================] - 9s 431ms/step - loss: 0.4518 - acc: 0.8026 - val_loss: 0.4738 - val_acc: 0.8022\n",
            "Epoch 4/10\n",
            "20/20 [==============================] - 8s 397ms/step - loss: 0.4446 - acc: 0.8047 - val_loss: 0.4757 - val_acc: 0.8013\n",
            "Epoch 5/10\n",
            "20/20 [==============================] - 8s 398ms/step - loss: 0.4474 - acc: 0.8036 - val_loss: 0.4804 - val_acc: 0.7986\n",
            "Epoch 6/10\n",
            "20/20 [==============================] - 9s 453ms/step - loss: 0.4505 - acc: 0.8047 - val_loss: 0.4684 - val_acc: 0.8033\n",
            "Epoch 7/10\n",
            "20/20 [==============================] - 9s 447ms/step - loss: 0.4458 - acc: 0.8051 - val_loss: 0.4795 - val_acc: 0.8001\n",
            "Epoch 8/10\n",
            "20/20 [==============================] - 8s 404ms/step - loss: 0.4443 - acc: 0.8038 - val_loss: 0.4700 - val_acc: 0.8023\n",
            "Epoch 9/10\n",
            "20/20 [==============================] - 8s 398ms/step - loss: 0.4457 - acc: 0.8037 - val_loss: 0.4805 - val_acc: 0.7984\n",
            "Epoch 10/10\n",
            "20/20 [==============================] - 9s 455ms/step - loss: 0.4483 - acc: 0.8071 - val_loss: 0.4691 - val_acc: 0.8030\n"
          ],
          "name": "stdout"
        },
        {
          "output_type": "stream",
          "text": [
            "[========================================================================] 100%\n"
          ],
          "name": "stderr"
        },
        {
          "output_type": "stream",
          "text": [
            "(828, 224, 224, 3) (102, 224, 224, 3) (94, 224, 224, 3) (828, 40) (102, 40) (94, 40)\n",
            "Treinando lote  147  de  198\n",
            "Epoch 1/10\n",
            "20/20 [==============================] - 10s 485ms/step - loss: 0.4473 - acc: 0.8044 - val_loss: 0.4501 - val_acc: 0.8099\n",
            "Epoch 2/10\n",
            "20/20 [==============================] - 9s 454ms/step - loss: 0.4463 - acc: 0.8074 - val_loss: 0.4500 - val_acc: 0.8073\n",
            "Epoch 3/10\n",
            "20/20 [==============================] - 9s 433ms/step - loss: 0.4493 - acc: 0.8049 - val_loss: 0.4523 - val_acc: 0.8076\n",
            "Epoch 4/10\n",
            "20/20 [==============================] - 8s 396ms/step - loss: 0.4431 - acc: 0.8051 - val_loss: 0.4469 - val_acc: 0.8071\n",
            "Epoch 5/10\n",
            "20/20 [==============================] - 8s 396ms/step - loss: 0.4440 - acc: 0.8055 - val_loss: 0.4470 - val_acc: 0.8082\n",
            "Epoch 6/10\n",
            "20/20 [==============================] - 9s 463ms/step - loss: 0.4475 - acc: 0.8056 - val_loss: 0.4527 - val_acc: 0.8079\n",
            "Epoch 7/10\n",
            "20/20 [==============================] - 9s 428ms/step - loss: 0.4451 - acc: 0.8029 - val_loss: 0.4497 - val_acc: 0.8092\n",
            "Epoch 8/10\n",
            "20/20 [==============================] - 8s 402ms/step - loss: 0.4430 - acc: 0.8076 - val_loss: 0.4494 - val_acc: 0.8055\n",
            "Epoch 9/10\n",
            "20/20 [==============================] - 8s 396ms/step - loss: 0.4439 - acc: 0.8049 - val_loss: 0.4536 - val_acc: 0.8062\n",
            "Epoch 10/10\n",
            "20/20 [==============================] - 9s 462ms/step - loss: 0.4446 - acc: 0.8043 - val_loss: 0.4453 - val_acc: 0.8102\n"
          ],
          "name": "stdout"
        },
        {
          "output_type": "stream",
          "text": [
            "[========================================================================] 100%\n"
          ],
          "name": "stderr"
        },
        {
          "output_type": "stream",
          "text": [
            "(826, 224, 224, 3) (105, 224, 224, 3) (93, 224, 224, 3) (826, 40) (105, 40) (93, 40)\n",
            "Treinando lote  148  de  198\n",
            "Epoch 1/10\n",
            "20/20 [==============================] - 9s 475ms/step - loss: 0.4597 - acc: 0.7982 - val_loss: 0.4314 - val_acc: 0.8120\n",
            "Epoch 2/10\n",
            "20/20 [==============================] - 9s 440ms/step - loss: 0.4506 - acc: 0.8018 - val_loss: 0.4361 - val_acc: 0.8093\n",
            "Epoch 3/10\n",
            "20/20 [==============================] - 9s 436ms/step - loss: 0.4654 - acc: 0.7982 - val_loss: 0.4376 - val_acc: 0.8088\n",
            "Epoch 4/10\n",
            "20/20 [==============================] - 8s 404ms/step - loss: 0.4555 - acc: 0.8016 - val_loss: 0.4283 - val_acc: 0.8134\n",
            "Epoch 5/10\n",
            "20/20 [==============================] - 8s 398ms/step - loss: 0.4520 - acc: 0.8020 - val_loss: 0.4312 - val_acc: 0.8107\n",
            "Epoch 6/10\n",
            "20/20 [==============================] - 9s 434ms/step - loss: 0.4597 - acc: 0.7985 - val_loss: 0.4354 - val_acc: 0.8094\n",
            "Epoch 7/10\n",
            "20/20 [==============================] - 9s 442ms/step - loss: 0.4553 - acc: 0.8010 - val_loss: 0.4308 - val_acc: 0.8106\n",
            "Epoch 8/10\n",
            "20/20 [==============================] - 8s 403ms/step - loss: 0.4539 - acc: 0.8001 - val_loss: 0.4353 - val_acc: 0.8102\n",
            "Epoch 9/10\n",
            "20/20 [==============================] - 8s 398ms/step - loss: 0.4622 - acc: 0.7959 - val_loss: 0.4302 - val_acc: 0.8138\n",
            "Epoch 10/10\n",
            "20/20 [==============================] - 9s 439ms/step - loss: 0.4497 - acc: 0.7995 - val_loss: 0.4362 - val_acc: 0.8082\n"
          ],
          "name": "stdout"
        },
        {
          "output_type": "stream",
          "text": [
            "[========================================================================] 100%\n"
          ],
          "name": "stderr"
        },
        {
          "output_type": "stream",
          "text": [
            "(839, 224, 224, 3) (73, 224, 224, 3) (112, 224, 224, 3) (839, 40) (73, 40) (112, 40)\n",
            "Treinando lote  149  de  198\n",
            "Epoch 1/10\n",
            "20/20 [==============================] - 9s 455ms/step - loss: 0.4544 - acc: 0.7977 - val_loss: 0.4464 - val_acc: 0.7969\n",
            "Epoch 2/10\n",
            "20/20 [==============================] - 9s 444ms/step - loss: 0.4479 - acc: 0.8021 - val_loss: 0.4479 - val_acc: 0.7985\n",
            "Epoch 3/10\n",
            "20/20 [==============================] - 8s 383ms/step - loss: 0.4607 - acc: 0.7912 - val_loss: 0.4472 - val_acc: 0.8000\n",
            "Epoch 4/10\n",
            "20/20 [==============================] - 8s 391ms/step - loss: 0.4464 - acc: 0.7995 - val_loss: 0.4470 - val_acc: 0.7982\n",
            "Epoch 5/10\n",
            "20/20 [==============================] - 9s 452ms/step - loss: 0.4507 - acc: 0.8017 - val_loss: 0.4478 - val_acc: 0.7962\n",
            "Epoch 6/10\n",
            "20/20 [==============================] - 9s 428ms/step - loss: 0.4474 - acc: 0.7996 - val_loss: 0.4468 - val_acc: 0.7980\n",
            "Epoch 7/10\n",
            "20/20 [==============================] - 8s 401ms/step - loss: 0.4519 - acc: 0.7994 - val_loss: 0.4439 - val_acc: 0.7984\n",
            "Epoch 8/10\n",
            "20/20 [==============================] - 8s 383ms/step - loss: 0.4487 - acc: 0.7997 - val_loss: 0.4533 - val_acc: 0.7968\n",
            "Epoch 9/10\n",
            "20/20 [==============================] - 9s 438ms/step - loss: 0.4512 - acc: 0.7985 - val_loss: 0.4446 - val_acc: 0.8001\n",
            "Epoch 10/10\n",
            "20/20 [==============================] - 9s 429ms/step - loss: 0.4495 - acc: 0.8016 - val_loss: 0.4474 - val_acc: 0.7980\n"
          ],
          "name": "stdout"
        },
        {
          "output_type": "stream",
          "text": [
            "[========================================================================] 100%\n"
          ],
          "name": "stderr"
        },
        {
          "output_type": "stream",
          "text": [
            "(830, 224, 224, 3) (100, 224, 224, 3) (94, 224, 224, 3) (830, 40) (100, 40) (94, 40)\n",
            "Treinando lote  150  de  198\n",
            "Epoch 1/10\n",
            "20/20 [==============================] - 9s 468ms/step - loss: 0.4596 - acc: 0.7972 - val_loss: 0.4586 - val_acc: 0.8003\n",
            "Epoch 2/10\n",
            "20/20 [==============================] - 9s 439ms/step - loss: 0.4562 - acc: 0.7989 - val_loss: 0.4516 - val_acc: 0.8037\n",
            "Epoch 3/10\n",
            "20/20 [==============================] - 8s 418ms/step - loss: 0.4557 - acc: 0.7988 - val_loss: 0.4570 - val_acc: 0.8015\n",
            "Epoch 4/10\n",
            "20/20 [==============================] - 8s 399ms/step - loss: 0.4508 - acc: 0.8003 - val_loss: 0.4526 - val_acc: 0.8036\n",
            "Epoch 5/10\n",
            "20/20 [==============================] - 8s 403ms/step - loss: 0.4556 - acc: 0.7992 - val_loss: 0.4581 - val_acc: 0.8005\n",
            "Epoch 6/10\n",
            "20/20 [==============================] - 9s 441ms/step - loss: 0.4562 - acc: 0.7982 - val_loss: 0.4510 - val_acc: 0.8016\n",
            "Epoch 7/10\n",
            "20/20 [==============================] - 9s 436ms/step - loss: 0.4537 - acc: 0.7973 - val_loss: 0.4531 - val_acc: 0.8003\n",
            "Epoch 8/10\n",
            "20/20 [==============================] - 8s 395ms/step - loss: 0.4563 - acc: 0.8011 - val_loss: 0.4565 - val_acc: 0.8004\n",
            "Epoch 9/10\n",
            "20/20 [==============================] - 8s 396ms/step - loss: 0.4545 - acc: 0.7986 - val_loss: 0.4539 - val_acc: 0.8015\n",
            "Epoch 10/10\n",
            "20/20 [==============================] - 9s 436ms/step - loss: 0.4510 - acc: 0.7984 - val_loss: 0.4564 - val_acc: 0.8011\n"
          ],
          "name": "stdout"
        },
        {
          "output_type": "stream",
          "text": [
            "[========================================================================] 100%\n"
          ],
          "name": "stderr"
        },
        {
          "output_type": "stream",
          "text": [
            "(827, 224, 224, 3) (94, 224, 224, 3) (103, 224, 224, 3) (827, 40) (94, 40) (103, 40)\n",
            "Treinando lote  151  de  198\n",
            "Epoch 1/10\n",
            "20/20 [==============================] - 10s 502ms/step - loss: 0.4521 - acc: 0.8037 - val_loss: 0.4520 - val_acc: 0.8029\n",
            "Epoch 2/10\n",
            "20/20 [==============================] - 9s 474ms/step - loss: 0.4633 - acc: 0.7990 - val_loss: 0.4561 - val_acc: 0.8003\n",
            "Epoch 3/10\n",
            "20/20 [==============================] - 9s 439ms/step - loss: 0.4531 - acc: 0.8016 - val_loss: 0.4499 - val_acc: 0.8048\n",
            "Epoch 4/10\n",
            "20/20 [==============================] - 8s 423ms/step - loss: 0.4618 - acc: 0.7985 - val_loss: 0.4495 - val_acc: 0.8063\n",
            "Epoch 5/10\n",
            "20/20 [==============================] - 8s 413ms/step - loss: 0.4586 - acc: 0.7973 - val_loss: 0.4529 - val_acc: 0.8067\n",
            "Epoch 6/10\n",
            "20/20 [==============================] - 9s 461ms/step - loss: 0.4592 - acc: 0.7988 - val_loss: 0.4528 - val_acc: 0.8017\n",
            "Epoch 7/10\n",
            "20/20 [==============================] - 9s 442ms/step - loss: 0.4555 - acc: 0.8002 - val_loss: 0.4481 - val_acc: 0.8061\n",
            "Epoch 8/10\n",
            "20/20 [==============================] - 9s 429ms/step - loss: 0.4552 - acc: 0.7981 - val_loss: 0.4568 - val_acc: 0.8032\n",
            "Epoch 9/10\n",
            "20/20 [==============================] - 8s 415ms/step - loss: 0.4582 - acc: 0.7982 - val_loss: 0.4502 - val_acc: 0.8045\n",
            "Epoch 10/10\n",
            "20/20 [==============================] - 10s 489ms/step - loss: 0.4575 - acc: 0.7984 - val_loss: 0.4507 - val_acc: 0.8035\n"
          ],
          "name": "stdout"
        },
        {
          "output_type": "stream",
          "text": [
            "[========================================================================] 100%\n"
          ],
          "name": "stderr"
        },
        {
          "output_type": "stream",
          "text": [
            "(820, 224, 224, 3) (83, 224, 224, 3) (121, 224, 224, 3) (820, 40) (83, 40) (121, 40)\n",
            "Treinando lote  152  de  198\n",
            "Epoch 1/10\n",
            "20/20 [==============================] - 10s 493ms/step - loss: 0.4470 - acc: 0.8049 - val_loss: 0.4360 - val_acc: 0.7999\n",
            "Epoch 2/10\n",
            "20/20 [==============================] - 9s 460ms/step - loss: 0.4478 - acc: 0.8053 - val_loss: 0.4359 - val_acc: 0.8018\n",
            "Epoch 3/10\n",
            "20/20 [==============================] - 9s 436ms/step - loss: 0.4448 - acc: 0.8054 - val_loss: 0.4370 - val_acc: 0.8010\n",
            "Epoch 4/10\n",
            "20/20 [==============================] - 8s 415ms/step - loss: 0.4450 - acc: 0.8063 - val_loss: 0.4349 - val_acc: 0.8015\n",
            "Epoch 5/10\n",
            "20/20 [==============================] - 8s 404ms/step - loss: 0.4417 - acc: 0.8070 - val_loss: 0.4395 - val_acc: 0.8003\n",
            "Epoch 6/10\n",
            "20/20 [==============================] - 9s 460ms/step - loss: 0.4507 - acc: 0.8058 - val_loss: 0.4364 - val_acc: 0.8019\n",
            "Epoch 7/10\n",
            "20/20 [==============================] - 9s 450ms/step - loss: 0.4394 - acc: 0.8096 - val_loss: 0.4351 - val_acc: 0.8031\n",
            "Epoch 8/10\n",
            "20/20 [==============================] - 8s 423ms/step - loss: 0.4448 - acc: 0.8063 - val_loss: 0.4404 - val_acc: 0.8002\n",
            "Epoch 9/10\n",
            "20/20 [==============================] - 8s 402ms/step - loss: 0.4455 - acc: 0.8066 - val_loss: 0.4371 - val_acc: 0.8007\n",
            "Epoch 10/10\n",
            "20/20 [==============================] - 9s 471ms/step - loss: 0.4445 - acc: 0.8053 - val_loss: 0.4370 - val_acc: 0.8014\n"
          ],
          "name": "stdout"
        },
        {
          "output_type": "stream",
          "text": [
            "[========================================================================] 100%\n"
          ],
          "name": "stderr"
        },
        {
          "output_type": "stream",
          "text": [
            "(801, 224, 224, 3) (97, 224, 224, 3) (126, 224, 224, 3) (801, 40) (97, 40) (126, 40)\n",
            "Treinando lote  153  de  198\n",
            "Epoch 1/10\n",
            "20/20 [==============================] - 9s 469ms/step - loss: 0.4505 - acc: 0.8018 - val_loss: 0.4985 - val_acc: 0.7927\n",
            "Epoch 2/10\n",
            "20/20 [==============================] - 9s 446ms/step - loss: 0.4508 - acc: 0.8049 - val_loss: 0.4941 - val_acc: 0.7920\n",
            "Epoch 3/10\n",
            "20/20 [==============================] - 8s 421ms/step - loss: 0.4434 - acc: 0.8017 - val_loss: 0.4993 - val_acc: 0.7911\n",
            "Epoch 4/10\n",
            "20/20 [==============================] - 7s 361ms/step - loss: 0.4673 - acc: 0.7975 - val_loss: 0.4947 - val_acc: 0.7948\n",
            "Epoch 5/10\n",
            "20/20 [==============================] - 8s 396ms/step - loss: 0.4555 - acc: 0.8015 - val_loss: 0.4899 - val_acc: 0.7917\n",
            "Epoch 6/10\n",
            "20/20 [==============================] - 9s 441ms/step - loss: 0.4560 - acc: 0.7991 - val_loss: 0.5039 - val_acc: 0.7919\n",
            "Epoch 7/10\n",
            "20/20 [==============================] - 9s 431ms/step - loss: 0.4406 - acc: 0.8069 - val_loss: 0.4957 - val_acc: 0.7945\n",
            "Epoch 8/10\n",
            "20/20 [==============================] - 8s 400ms/step - loss: 0.4537 - acc: 0.8036 - val_loss: 0.4977 - val_acc: 0.7912\n",
            "Epoch 9/10\n",
            "20/20 [==============================] - 8s 381ms/step - loss: 0.4494 - acc: 0.8024 - val_loss: 0.4965 - val_acc: 0.7933\n",
            "Epoch 10/10\n",
            "20/20 [==============================] - 9s 436ms/step - loss: 0.4441 - acc: 0.8074 - val_loss: 0.4951 - val_acc: 0.7931\n"
          ],
          "name": "stdout"
        },
        {
          "output_type": "stream",
          "text": [
            "[========================================================================] 100%\n"
          ],
          "name": "stderr"
        },
        {
          "output_type": "stream",
          "text": [
            "(837, 224, 224, 3) (93, 224, 224, 3) (94, 224, 224, 3) (837, 40) (93, 40) (94, 40)\n",
            "Treinando lote  154  de  198\n",
            "Epoch 1/10\n",
            "20/20 [==============================] - 10s 498ms/step - loss: 0.4574 - acc: 0.8016 - val_loss: 0.4358 - val_acc: 0.8051\n",
            "Epoch 2/10\n",
            "20/20 [==============================] - 9s 474ms/step - loss: 0.4566 - acc: 0.8002 - val_loss: 0.4321 - val_acc: 0.8077\n",
            "Epoch 3/10\n",
            "20/20 [==============================] - 8s 409ms/step - loss: 0.4614 - acc: 0.7996 - val_loss: 0.4327 - val_acc: 0.8071\n",
            "Epoch 4/10\n",
            "20/20 [==============================] - 8s 412ms/step - loss: 0.4612 - acc: 0.8001 - val_loss: 0.4314 - val_acc: 0.8117\n",
            "Epoch 5/10\n",
            "20/20 [==============================] - 10s 488ms/step - loss: 0.4642 - acc: 0.8023 - val_loss: 0.4329 - val_acc: 0.8078\n",
            "Epoch 6/10\n",
            "20/20 [==============================] - 9s 458ms/step - loss: 0.4521 - acc: 0.8025 - val_loss: 0.4371 - val_acc: 0.8071\n",
            "Epoch 7/10\n",
            "20/20 [==============================] - 8s 422ms/step - loss: 0.4621 - acc: 0.7994 - val_loss: 0.4348 - val_acc: 0.8095\n",
            "Epoch 8/10\n",
            "20/20 [==============================] - 8s 404ms/step - loss: 0.4625 - acc: 0.8037 - val_loss: 0.4344 - val_acc: 0.8061\n",
            "Epoch 9/10\n",
            "20/20 [==============================] - 9s 468ms/step - loss: 0.4517 - acc: 0.8032 - val_loss: 0.4323 - val_acc: 0.8091\n",
            "Epoch 10/10\n",
            "20/20 [==============================] - 9s 466ms/step - loss: 0.4610 - acc: 0.7996 - val_loss: 0.4355 - val_acc: 0.8077\n"
          ],
          "name": "stdout"
        },
        {
          "output_type": "stream",
          "text": [
            "[========================================================================] 100%\n"
          ],
          "name": "stderr"
        },
        {
          "output_type": "stream",
          "text": [
            "(828, 224, 224, 3) (92, 224, 224, 3) (104, 224, 224, 3) (828, 40) (92, 40) (104, 40)\n",
            "Treinando lote  155  de  198\n",
            "Epoch 1/10\n",
            "20/20 [==============================] - 10s 501ms/step - loss: 0.4553 - acc: 0.8005 - val_loss: 0.4322 - val_acc: 0.8069\n",
            "Epoch 2/10\n",
            "20/20 [==============================] - 10s 476ms/step - loss: 0.4564 - acc: 0.7978 - val_loss: 0.4237 - val_acc: 0.8077\n",
            "Epoch 3/10\n",
            "20/20 [==============================] - 9s 440ms/step - loss: 0.4512 - acc: 0.8031 - val_loss: 0.4334 - val_acc: 0.8068\n",
            "Epoch 4/10\n",
            "20/20 [==============================] - 9s 426ms/step - loss: 0.4531 - acc: 0.8026 - val_loss: 0.4301 - val_acc: 0.8075\n",
            "Epoch 5/10\n",
            "20/20 [==============================] - 8s 410ms/step - loss: 0.4546 - acc: 0.7982 - val_loss: 0.4304 - val_acc: 0.8071\n",
            "Epoch 6/10\n",
            "20/20 [==============================] - 10s 480ms/step - loss: 0.4579 - acc: 0.7985 - val_loss: 0.4309 - val_acc: 0.8089\n",
            "Epoch 7/10\n",
            "20/20 [==============================] - 9s 448ms/step - loss: 0.4471 - acc: 0.8038 - val_loss: 0.4300 - val_acc: 0.8072\n",
            "Epoch 8/10\n",
            "20/20 [==============================] - 9s 427ms/step - loss: 0.4540 - acc: 0.8000 - val_loss: 0.4337 - val_acc: 0.8090\n",
            "Epoch 9/10\n",
            "20/20 [==============================] - 8s 410ms/step - loss: 0.4516 - acc: 0.8007 - val_loss: 0.4287 - val_acc: 0.8086\n",
            "Epoch 10/10\n",
            "20/20 [==============================] - 10s 484ms/step - loss: 0.4554 - acc: 0.7973 - val_loss: 0.4328 - val_acc: 0.8060\n"
          ],
          "name": "stdout"
        },
        {
          "output_type": "stream",
          "text": [
            "[========================================================================] 100%\n"
          ],
          "name": "stderr"
        },
        {
          "output_type": "stream",
          "text": [
            "(825, 224, 224, 3) (96, 224, 224, 3) (103, 224, 224, 3) (825, 40) (96, 40) (103, 40)\n",
            "Treinando lote  156  de  198\n",
            "Epoch 1/10\n",
            "20/20 [==============================] - 10s 500ms/step - loss: 0.4546 - acc: 0.8040 - val_loss: 0.4845 - val_acc: 0.7973\n",
            "Epoch 2/10\n",
            "20/20 [==============================] - 9s 463ms/step - loss: 0.4563 - acc: 0.8069 - val_loss: 0.4875 - val_acc: 0.7958\n",
            "Epoch 3/10\n",
            "20/20 [==============================] - 9s 447ms/step - loss: 0.4444 - acc: 0.8051 - val_loss: 0.4844 - val_acc: 0.7985\n",
            "Epoch 4/10\n",
            "20/20 [==============================] - 8s 425ms/step - loss: 0.4598 - acc: 0.8050 - val_loss: 0.4782 - val_acc: 0.8001\n",
            "Epoch 5/10\n",
            "20/20 [==============================] - 8s 413ms/step - loss: 0.4483 - acc: 0.8069 - val_loss: 0.4909 - val_acc: 0.7947\n",
            "Epoch 6/10\n",
            "20/20 [==============================] - 9s 474ms/step - loss: 0.4530 - acc: 0.8046 - val_loss: 0.4857 - val_acc: 0.7951\n",
            "Epoch 7/10\n",
            "20/20 [==============================] - 9s 449ms/step - loss: 0.4573 - acc: 0.8015 - val_loss: 0.4888 - val_acc: 0.7951\n",
            "Epoch 8/10\n",
            "20/20 [==============================] - 9s 429ms/step - loss: 0.4486 - acc: 0.8094 - val_loss: 0.4862 - val_acc: 0.7964\n",
            "Epoch 9/10\n",
            "20/20 [==============================] - 8s 412ms/step - loss: 0.4539 - acc: 0.8058 - val_loss: 0.4798 - val_acc: 0.7982\n",
            "Epoch 10/10\n",
            "20/20 [==============================] - 10s 501ms/step - loss: 0.4515 - acc: 0.8045 - val_loss: 0.4857 - val_acc: 0.7973\n"
          ],
          "name": "stdout"
        },
        {
          "output_type": "stream",
          "text": [
            "[========================================================================] 100%\n"
          ],
          "name": "stderr"
        },
        {
          "output_type": "stream",
          "text": [
            "(798, 224, 224, 3) (113, 224, 224, 3) (113, 224, 224, 3) (798, 40) (113, 40) (113, 40)\n",
            "Treinando lote  157  de  198\n",
            "Epoch 1/10\n",
            "20/20 [==============================] - 10s 494ms/step - loss: 0.4552 - acc: 0.7994 - val_loss: 0.4409 - val_acc: 0.8052\n",
            "Epoch 2/10\n",
            "20/20 [==============================] - 9s 468ms/step - loss: 0.4631 - acc: 0.8003 - val_loss: 0.4416 - val_acc: 0.8049\n",
            "Epoch 3/10\n",
            "20/20 [==============================] - 9s 448ms/step - loss: 0.4542 - acc: 0.8036 - val_loss: 0.4426 - val_acc: 0.8054\n",
            "Epoch 4/10\n",
            "20/20 [==============================] - 8s 422ms/step - loss: 0.4634 - acc: 0.7988 - val_loss: 0.4387 - val_acc: 0.8079\n",
            "Epoch 5/10\n",
            "20/20 [==============================] - 8s 407ms/step - loss: 0.4533 - acc: 0.8040 - val_loss: 0.4410 - val_acc: 0.8064\n",
            "Epoch 6/10\n",
            "20/20 [==============================] - 8s 404ms/step - loss: 0.4610 - acc: 0.8010 - val_loss: 0.4406 - val_acc: 0.8055\n",
            "Epoch 7/10\n",
            "20/20 [==============================] - 9s 466ms/step - loss: 0.4494 - acc: 0.8031 - val_loss: 0.4404 - val_acc: 0.8059\n",
            "Epoch 8/10\n",
            "20/20 [==============================] - 9s 448ms/step - loss: 0.4613 - acc: 0.8002 - val_loss: 0.4414 - val_acc: 0.8076\n",
            "Epoch 9/10\n",
            "20/20 [==============================] - 9s 434ms/step - loss: 0.4531 - acc: 0.8011 - val_loss: 0.4426 - val_acc: 0.8062\n",
            "Epoch 10/10\n",
            "20/20 [==============================] - 8s 404ms/step - loss: 0.4539 - acc: 0.8024 - val_loss: 0.4391 - val_acc: 0.8053\n"
          ],
          "name": "stdout"
        },
        {
          "output_type": "stream",
          "text": [
            "[========================================================================] 100%\n"
          ],
          "name": "stderr"
        },
        {
          "output_type": "stream",
          "text": [
            "(829, 224, 224, 3) (100, 224, 224, 3) (95, 224, 224, 3) (829, 40) (100, 40) (95, 40)\n",
            "Treinando lote  158  de  198\n",
            "Epoch 1/10\n",
            "20/20 [==============================] - 10s 475ms/step - loss: 0.4612 - acc: 0.7975 - val_loss: 0.4599 - val_acc: 0.8067\n",
            "Epoch 2/10\n",
            "20/20 [==============================] - 9s 444ms/step - loss: 0.4548 - acc: 0.8012 - val_loss: 0.4591 - val_acc: 0.8048\n",
            "Epoch 3/10\n",
            "20/20 [==============================] - 8s 421ms/step - loss: 0.4601 - acc: 0.7962 - val_loss: 0.4597 - val_acc: 0.8073\n",
            "Epoch 4/10\n",
            "20/20 [==============================] - 8s 396ms/step - loss: 0.4486 - acc: 0.8010 - val_loss: 0.4612 - val_acc: 0.8043\n",
            "Epoch 5/10\n",
            "20/20 [==============================] - 8s 393ms/step - loss: 0.4548 - acc: 0.7975 - val_loss: 0.4633 - val_acc: 0.8041\n",
            "Epoch 6/10\n",
            "20/20 [==============================] - 9s 451ms/step - loss: 0.4640 - acc: 0.7985 - val_loss: 0.4584 - val_acc: 0.8039\n",
            "Epoch 7/10\n",
            "20/20 [==============================] - 9s 440ms/step - loss: 0.4582 - acc: 0.7967 - val_loss: 0.4602 - val_acc: 0.8061\n",
            "Epoch 8/10\n",
            "20/20 [==============================] - 8s 403ms/step - loss: 0.4496 - acc: 0.8006 - val_loss: 0.4612 - val_acc: 0.8033\n",
            "Epoch 9/10\n",
            "20/20 [==============================] - 8s 393ms/step - loss: 0.4607 - acc: 0.7976 - val_loss: 0.4643 - val_acc: 0.8016\n",
            "Epoch 10/10\n",
            "20/20 [==============================] - 9s 457ms/step - loss: 0.4559 - acc: 0.7996 - val_loss: 0.4599 - val_acc: 0.8046\n"
          ],
          "name": "stdout"
        },
        {
          "output_type": "stream",
          "text": [
            "[========================================================================] 100%\n"
          ],
          "name": "stderr"
        },
        {
          "output_type": "stream",
          "text": [
            "(811, 224, 224, 3) (104, 224, 224, 3) (109, 224, 224, 3) (811, 40) (104, 40) (109, 40)\n",
            "Treinando lote  159  de  198\n",
            "Epoch 1/10\n",
            "20/20 [==============================] - 10s 489ms/step - loss: 0.4475 - acc: 0.8068 - val_loss: 0.4618 - val_acc: 0.7893\n",
            "Epoch 2/10\n",
            "20/20 [==============================] - 9s 455ms/step - loss: 0.4542 - acc: 0.8012 - val_loss: 0.4670 - val_acc: 0.7877\n",
            "Epoch 3/10\n",
            "20/20 [==============================] - 9s 428ms/step - loss: 0.4496 - acc: 0.8014 - val_loss: 0.4712 - val_acc: 0.7900\n",
            "Epoch 4/10\n",
            "20/20 [==============================] - 8s 383ms/step - loss: 0.4513 - acc: 0.8026 - val_loss: 0.4570 - val_acc: 0.7912\n",
            "Epoch 5/10\n",
            "20/20 [==============================] - 8s 398ms/step - loss: 0.4450 - acc: 0.8045 - val_loss: 0.4609 - val_acc: 0.7910\n",
            "Epoch 6/10\n",
            "20/20 [==============================] - 9s 441ms/step - loss: 0.4564 - acc: 0.8013 - val_loss: 0.4686 - val_acc: 0.7877\n",
            "Epoch 7/10\n",
            "20/20 [==============================] - 9s 425ms/step - loss: 0.4426 - acc: 0.8063 - val_loss: 0.4711 - val_acc: 0.7903\n",
            "Epoch 8/10\n",
            "20/20 [==============================] - 8s 416ms/step - loss: 0.4525 - acc: 0.7989 - val_loss: 0.4575 - val_acc: 0.7907\n",
            "Epoch 9/10\n",
            "20/20 [==============================] - 8s 398ms/step - loss: 0.4549 - acc: 0.8026 - val_loss: 0.4634 - val_acc: 0.7905\n",
            "Epoch 10/10\n",
            "20/20 [==============================] - 9s 457ms/step - loss: 0.4509 - acc: 0.8031 - val_loss: 0.4652 - val_acc: 0.7897\n"
          ],
          "name": "stdout"
        },
        {
          "output_type": "stream",
          "text": [
            "[========================================================================] 100%\n"
          ],
          "name": "stderr"
        },
        {
          "output_type": "stream",
          "text": [
            "(806, 224, 224, 3) (117, 224, 224, 3) (101, 224, 224, 3) (806, 40) (117, 40) (101, 40)\n",
            "Treinando lote  160  de  198\n",
            "Epoch 1/10\n",
            "20/20 [==============================] - 10s 512ms/step - loss: 0.4710 - acc: 0.7990 - val_loss: 0.4511 - val_acc: 0.8041\n",
            "Epoch 2/10\n",
            "20/20 [==============================] - 9s 439ms/step - loss: 0.4504 - acc: 0.8065 - val_loss: 0.4555 - val_acc: 0.8026\n",
            "Epoch 3/10\n",
            "20/20 [==============================] - 9s 444ms/step - loss: 0.4641 - acc: 0.8004 - val_loss: 0.4509 - val_acc: 0.8023\n",
            "Epoch 4/10\n",
            "20/20 [==============================] - 8s 405ms/step - loss: 0.4618 - acc: 0.7992 - val_loss: 0.4552 - val_acc: 0.8024\n",
            "Epoch 5/10\n",
            "20/20 [==============================] - 8s 401ms/step - loss: 0.4656 - acc: 0.8003 - val_loss: 0.4621 - val_acc: 0.7994\n",
            "Epoch 6/10\n",
            "20/20 [==============================] - 9s 448ms/step - loss: 0.4627 - acc: 0.8006 - val_loss: 0.4428 - val_acc: 0.8050\n",
            "Epoch 7/10\n",
            "20/20 [==============================] - 9s 456ms/step - loss: 0.4646 - acc: 0.7988 - val_loss: 0.4517 - val_acc: 0.8013\n",
            "Epoch 8/10\n",
            "20/20 [==============================] - 8s 410ms/step - loss: 0.4597 - acc: 0.8028 - val_loss: 0.4542 - val_acc: 0.8008\n",
            "Epoch 9/10\n",
            "20/20 [==============================] - 8s 400ms/step - loss: 0.4595 - acc: 0.8011 - val_loss: 0.4550 - val_acc: 0.8000\n",
            "Epoch 10/10\n",
            "20/20 [==============================] - 10s 494ms/step - loss: 0.4722 - acc: 0.7998 - val_loss: 0.4509 - val_acc: 0.8034\n"
          ],
          "name": "stdout"
        },
        {
          "output_type": "stream",
          "text": [
            "[========================================================================] 100%\n"
          ],
          "name": "stderr"
        },
        {
          "output_type": "stream",
          "text": [
            "(814, 224, 224, 3) (118, 224, 224, 3) (92, 224, 224, 3) (814, 40) (118, 40) (92, 40)\n",
            "Treinando lote  161  de  198\n",
            "Epoch 1/10\n",
            "20/20 [==============================] - 10s 499ms/step - loss: 0.4435 - acc: 0.8057 - val_loss: 0.4608 - val_acc: 0.7907\n",
            "Epoch 2/10\n",
            "20/20 [==============================] - 9s 453ms/step - loss: 0.4407 - acc: 0.8036 - val_loss: 0.4511 - val_acc: 0.7928\n",
            "Epoch 3/10\n",
            "20/20 [==============================] - 9s 443ms/step - loss: 0.4506 - acc: 0.8043 - val_loss: 0.4548 - val_acc: 0.7942\n",
            "Epoch 4/10\n",
            "20/20 [==============================] - 8s 414ms/step - loss: 0.4391 - acc: 0.8082 - val_loss: 0.4602 - val_acc: 0.7909\n",
            "Epoch 5/10\n",
            "20/20 [==============================] - 8s 403ms/step - loss: 0.4449 - acc: 0.8052 - val_loss: 0.4596 - val_acc: 0.7927\n",
            "Epoch 6/10\n",
            "20/20 [==============================] - 9s 460ms/step - loss: 0.4469 - acc: 0.8037 - val_loss: 0.4557 - val_acc: 0.7934\n",
            "Epoch 7/10\n",
            "20/20 [==============================] - 9s 443ms/step - loss: 0.4447 - acc: 0.8051 - val_loss: 0.4609 - val_acc: 0.7914\n",
            "Epoch 8/10\n",
            "20/20 [==============================] - 9s 428ms/step - loss: 0.4432 - acc: 0.8053 - val_loss: 0.4542 - val_acc: 0.7943\n",
            "Epoch 9/10\n",
            "20/20 [==============================] - 8s 402ms/step - loss: 0.4416 - acc: 0.8069 - val_loss: 0.4564 - val_acc: 0.7930\n",
            "Epoch 10/10\n",
            "20/20 [==============================] - 9s 472ms/step - loss: 0.4459 - acc: 0.8022 - val_loss: 0.4591 - val_acc: 0.7925\n"
          ],
          "name": "stdout"
        },
        {
          "output_type": "stream",
          "text": [
            "[========================================================================] 100%\n"
          ],
          "name": "stderr"
        },
        {
          "output_type": "stream",
          "text": [
            "(826, 224, 224, 3) (105, 224, 224, 3) (93, 224, 224, 3) (826, 40) (105, 40) (93, 40)\n",
            "Treinando lote  162  de  198\n",
            "Epoch 1/10\n",
            "20/20 [==============================] - 10s 509ms/step - loss: 0.4484 - acc: 0.8019 - val_loss: 0.4469 - val_acc: 0.8118\n",
            "Epoch 2/10\n",
            "20/20 [==============================] - 9s 441ms/step - loss: 0.4518 - acc: 0.8026 - val_loss: 0.4455 - val_acc: 0.8096\n",
            "Epoch 3/10\n",
            "20/20 [==============================] - 9s 437ms/step - loss: 0.4416 - acc: 0.8060 - val_loss: 0.4508 - val_acc: 0.8066\n",
            "Epoch 4/10\n",
            "20/20 [==============================] - 8s 398ms/step - loss: 0.4566 - acc: 0.8002 - val_loss: 0.4415 - val_acc: 0.8085\n",
            "Epoch 5/10\n",
            "20/20 [==============================] - 8s 413ms/step - loss: 0.4499 - acc: 0.8047 - val_loss: 0.4426 - val_acc: 0.8107\n",
            "Epoch 6/10\n",
            "20/20 [==============================] - 9s 448ms/step - loss: 0.4463 - acc: 0.8038 - val_loss: 0.4504 - val_acc: 0.8069\n",
            "Epoch 7/10\n",
            "20/20 [==============================] - 9s 436ms/step - loss: 0.4544 - acc: 0.8032 - val_loss: 0.4440 - val_acc: 0.8089\n",
            "Epoch 8/10\n",
            "20/20 [==============================] - 8s 405ms/step - loss: 0.4395 - acc: 0.8075 - val_loss: 0.4494 - val_acc: 0.8076\n",
            "Epoch 9/10\n",
            "20/20 [==============================] - 8s 412ms/step - loss: 0.4553 - acc: 0.8010 - val_loss: 0.4481 - val_acc: 0.8078\n",
            "Epoch 10/10\n",
            "20/20 [==============================] - 9s 459ms/step - loss: 0.4473 - acc: 0.8012 - val_loss: 0.4437 - val_acc: 0.8125\n"
          ],
          "name": "stdout"
        },
        {
          "output_type": "stream",
          "text": [
            "[========================================================================] 100%\n"
          ],
          "name": "stderr"
        },
        {
          "output_type": "stream",
          "text": [
            "(823, 224, 224, 3) (96, 224, 224, 3) (105, 224, 224, 3) (823, 40) (96, 40) (105, 40)\n",
            "Treinando lote  163  de  198\n",
            "Epoch 1/10\n",
            "20/20 [==============================] - 10s 510ms/step - loss: 0.4657 - acc: 0.7960 - val_loss: 0.4607 - val_acc: 0.8030\n",
            "Epoch 2/10\n",
            "20/20 [==============================] - 9s 473ms/step - loss: 0.4596 - acc: 0.8021 - val_loss: 0.4591 - val_acc: 0.8028\n",
            "Epoch 3/10\n",
            "20/20 [==============================] - 9s 442ms/step - loss: 0.4591 - acc: 0.7982 - val_loss: 0.4629 - val_acc: 0.8025\n",
            "Epoch 4/10\n",
            "20/20 [==============================] - 8s 421ms/step - loss: 0.4593 - acc: 0.8011 - val_loss: 0.4614 - val_acc: 0.8029\n",
            "Epoch 5/10\n",
            "20/20 [==============================] - 8s 411ms/step - loss: 0.4630 - acc: 0.7989 - val_loss: 0.4595 - val_acc: 0.8045\n",
            "Epoch 6/10\n",
            "20/20 [==============================] - 10s 476ms/step - loss: 0.4560 - acc: 0.7985 - val_loss: 0.4615 - val_acc: 0.8022\n",
            "Epoch 7/10\n",
            "20/20 [==============================] - 9s 454ms/step - loss: 0.4599 - acc: 0.7988 - val_loss: 0.4604 - val_acc: 0.8027\n",
            "Epoch 8/10\n",
            "20/20 [==============================] - 9s 434ms/step - loss: 0.4553 - acc: 0.7978 - val_loss: 0.4637 - val_acc: 0.8009\n",
            "Epoch 9/10\n",
            "20/20 [==============================] - 8s 412ms/step - loss: 0.4656 - acc: 0.7978 - val_loss: 0.4582 - val_acc: 0.8038\n",
            "Epoch 10/10\n",
            "20/20 [==============================] - 10s 478ms/step - loss: 0.4546 - acc: 0.8023 - val_loss: 0.4585 - val_acc: 0.8036\n"
          ],
          "name": "stdout"
        },
        {
          "output_type": "stream",
          "text": [
            "[========================================================================] 100%\n"
          ],
          "name": "stderr"
        },
        {
          "output_type": "stream",
          "text": [
            "(817, 224, 224, 3) (106, 224, 224, 3) (101, 224, 224, 3) (817, 40) (106, 40) (101, 40)\n",
            "Treinando lote  164  de  198\n",
            "Epoch 1/10\n",
            "20/20 [==============================] - 10s 494ms/step - loss: 0.4522 - acc: 0.8019 - val_loss: 0.4376 - val_acc: 0.8101\n",
            "Epoch 2/10\n",
            "20/20 [==============================] - 9s 435ms/step - loss: 0.4575 - acc: 0.7975 - val_loss: 0.4310 - val_acc: 0.8141\n",
            "Epoch 3/10\n",
            "20/20 [==============================] - 8s 425ms/step - loss: 0.4456 - acc: 0.8043 - val_loss: 0.4320 - val_acc: 0.8149\n",
            "Epoch 4/10\n",
            "20/20 [==============================] - 8s 399ms/step - loss: 0.4474 - acc: 0.8033 - val_loss: 0.4365 - val_acc: 0.8109\n",
            "Epoch 5/10\n",
            "20/20 [==============================] - 8s 395ms/step - loss: 0.4500 - acc: 0.8041 - val_loss: 0.4351 - val_acc: 0.8121\n",
            "Epoch 6/10\n",
            "20/20 [==============================] - 9s 434ms/step - loss: 0.4492 - acc: 0.8027 - val_loss: 0.4333 - val_acc: 0.8145\n",
            "Epoch 7/10\n",
            "20/20 [==============================] - 9s 439ms/step - loss: 0.4537 - acc: 0.8023 - val_loss: 0.4333 - val_acc: 0.8130\n",
            "Epoch 8/10\n",
            "20/20 [==============================] - 8s 405ms/step - loss: 0.4485 - acc: 0.8023 - val_loss: 0.4360 - val_acc: 0.8119\n",
            "Epoch 9/10\n",
            "20/20 [==============================] - 8s 395ms/step - loss: 0.4431 - acc: 0.8063 - val_loss: 0.4347 - val_acc: 0.8126\n",
            "Epoch 10/10\n",
            "20/20 [==============================] - 10s 476ms/step - loss: 0.4535 - acc: 0.8010 - val_loss: 0.4340 - val_acc: 0.8122\n"
          ],
          "name": "stdout"
        },
        {
          "output_type": "stream",
          "text": [
            "[========================================================================] 100%\n"
          ],
          "name": "stderr"
        },
        {
          "output_type": "stream",
          "text": [
            "(838, 224, 224, 3) (94, 224, 224, 3) (92, 224, 224, 3) (838, 40) (94, 40) (92, 40)\n",
            "Treinando lote  165  de  198\n",
            "Epoch 1/10\n",
            "20/20 [==============================] - 10s 507ms/step - loss: 0.4642 - acc: 0.7960 - val_loss: 0.4427 - val_acc: 0.8041\n",
            "Epoch 2/10\n",
            "20/20 [==============================] - 9s 460ms/step - loss: 0.4593 - acc: 0.7978 - val_loss: 0.4394 - val_acc: 0.8039\n",
            "Epoch 3/10\n",
            "20/20 [==============================] - 9s 426ms/step - loss: 0.4529 - acc: 0.7994 - val_loss: 0.4367 - val_acc: 0.8050\n",
            "Epoch 4/10\n",
            "20/20 [==============================] - 8s 403ms/step - loss: 0.4599 - acc: 0.7976 - val_loss: 0.4372 - val_acc: 0.8057\n",
            "Epoch 5/10\n",
            "20/20 [==============================] - 9s 469ms/step - loss: 0.4630 - acc: 0.7967 - val_loss: 0.4391 - val_acc: 0.8047\n",
            "Epoch 6/10\n",
            "20/20 [==============================] - 9s 469ms/step - loss: 0.4485 - acc: 0.8002 - val_loss: 0.4405 - val_acc: 0.8034\n",
            "Epoch 7/10\n",
            "20/20 [==============================] - 9s 432ms/step - loss: 0.4571 - acc: 0.8001 - val_loss: 0.4358 - val_acc: 0.8043\n",
            "Epoch 8/10\n",
            "20/20 [==============================] - 8s 405ms/step - loss: 0.4580 - acc: 0.7995 - val_loss: 0.4393 - val_acc: 0.8049\n",
            "Epoch 9/10\n",
            "20/20 [==============================] - 10s 492ms/step - loss: 0.4553 - acc: 0.8002 - val_loss: 0.4420 - val_acc: 0.8042\n",
            "Epoch 10/10\n",
            "20/20 [==============================] - 9s 445ms/step - loss: 0.4559 - acc: 0.8001 - val_loss: 0.4380 - val_acc: 0.8040\n"
          ],
          "name": "stdout"
        },
        {
          "output_type": "stream",
          "text": [
            "[========================================================================] 100%\n"
          ],
          "name": "stderr"
        },
        {
          "output_type": "stream",
          "text": [
            "(826, 224, 224, 3) (109, 224, 224, 3) (89, 224, 224, 3) (826, 40) (109, 40) (89, 40)\n",
            "Treinando lote  166  de  198\n",
            "Epoch 1/10\n",
            "20/20 [==============================] - 10s 488ms/step - loss: 0.4459 - acc: 0.8029 - val_loss: 0.4519 - val_acc: 0.8022\n",
            "Epoch 2/10\n",
            "20/20 [==============================] - 9s 464ms/step - loss: 0.4494 - acc: 0.8019 - val_loss: 0.4542 - val_acc: 0.8015\n",
            "Epoch 3/10\n",
            "20/20 [==============================] - 9s 433ms/step - loss: 0.4497 - acc: 0.8038 - val_loss: 0.4557 - val_acc: 0.8025\n",
            "Epoch 4/10\n",
            "20/20 [==============================] - 8s 402ms/step - loss: 0.4459 - acc: 0.8034 - val_loss: 0.4507 - val_acc: 0.8029\n",
            "Epoch 5/10\n",
            "20/20 [==============================] - 8s 399ms/step - loss: 0.4449 - acc: 0.8044 - val_loss: 0.4525 - val_acc: 0.8027\n",
            "Epoch 6/10\n",
            "20/20 [==============================] - 9s 463ms/step - loss: 0.4551 - acc: 0.8007 - val_loss: 0.4548 - val_acc: 0.8027\n",
            "Epoch 7/10\n",
            "20/20 [==============================] - 9s 441ms/step - loss: 0.4424 - acc: 0.8081 - val_loss: 0.4540 - val_acc: 0.8028\n",
            "Epoch 8/10\n",
            "20/20 [==============================] - 8s 407ms/step - loss: 0.4503 - acc: 0.8028 - val_loss: 0.4531 - val_acc: 0.8025\n",
            "Epoch 9/10\n",
            "20/20 [==============================] - 8s 399ms/step - loss: 0.4462 - acc: 0.8035 - val_loss: 0.4550 - val_acc: 0.8032\n",
            "Epoch 10/10\n",
            "20/20 [==============================] - 10s 483ms/step - loss: 0.4461 - acc: 0.8054 - val_loss: 0.4521 - val_acc: 0.8022\n"
          ],
          "name": "stdout"
        },
        {
          "output_type": "stream",
          "text": [
            "[========================================================================] 100%\n"
          ],
          "name": "stderr"
        },
        {
          "output_type": "stream",
          "text": [
            "(849, 224, 224, 3) (81, 224, 224, 3) (94, 224, 224, 3) (849, 40) (81, 40) (94, 40)\n",
            "Treinando lote  167  de  198\n",
            "Epoch 1/10\n",
            "20/20 [==============================] - 10s 490ms/step - loss: 0.4536 - acc: 0.8038 - val_loss: 0.4556 - val_acc: 0.7986\n",
            "Epoch 2/10\n",
            "20/20 [==============================] - 9s 450ms/step - loss: 0.4606 - acc: 0.8040 - val_loss: 0.4621 - val_acc: 0.7970\n",
            "Epoch 3/10\n",
            "20/20 [==============================] - 8s 420ms/step - loss: 0.4507 - acc: 0.8012 - val_loss: 0.4585 - val_acc: 0.7984\n",
            "Epoch 4/10\n",
            "20/20 [==============================] - 8s 405ms/step - loss: 0.4529 - acc: 0.8029 - val_loss: 0.4547 - val_acc: 0.7976\n",
            "Epoch 5/10\n",
            "20/20 [==============================] - 10s 478ms/step - loss: 0.4589 - acc: 0.8030 - val_loss: 0.4648 - val_acc: 0.7954\n",
            "Epoch 6/10\n",
            "20/20 [==============================] - 9s 456ms/step - loss: 0.4514 - acc: 0.8025 - val_loss: 0.4566 - val_acc: 0.7986\n",
            "Epoch 7/10\n",
            "20/20 [==============================] - 8s 422ms/step - loss: 0.4506 - acc: 0.8028 - val_loss: 0.4602 - val_acc: 0.7961\n",
            "Epoch 8/10\n",
            "20/20 [==============================] - 8s 401ms/step - loss: 0.4528 - acc: 0.8038 - val_loss: 0.4546 - val_acc: 0.7982\n",
            "Epoch 9/10\n",
            "20/20 [==============================] - 9s 461ms/step - loss: 0.4553 - acc: 0.8047 - val_loss: 0.4591 - val_acc: 0.7972\n",
            "Epoch 10/10\n",
            "20/20 [==============================] - 9s 464ms/step - loss: 0.4534 - acc: 0.8037 - val_loss: 0.4614 - val_acc: 0.7974\n"
          ],
          "name": "stdout"
        },
        {
          "output_type": "stream",
          "text": [
            "[========================================================================] 100%\n"
          ],
          "name": "stderr"
        },
        {
          "output_type": "stream",
          "text": [
            "(853, 224, 224, 3) (96, 224, 224, 3) (75, 224, 224, 3) (853, 40) (96, 40) (75, 40)\n",
            "Treinando lote  168  de  198\n",
            "Epoch 1/10\n",
            "20/20 [==============================] - 10s 511ms/step - loss: 0.4588 - acc: 0.7981 - val_loss: 0.4443 - val_acc: 0.8040\n",
            "Epoch 2/10\n",
            "20/20 [==============================] - 9s 469ms/step - loss: 0.4481 - acc: 0.8044 - val_loss: 0.4404 - val_acc: 0.8052\n",
            "Epoch 3/10\n",
            "20/20 [==============================] - 9s 437ms/step - loss: 0.4469 - acc: 0.8031 - val_loss: 0.4453 - val_acc: 0.8055\n",
            "Epoch 4/10\n",
            "20/20 [==============================] - 8s 412ms/step - loss: 0.4531 - acc: 0.8008 - val_loss: 0.4461 - val_acc: 0.8049\n",
            "Epoch 5/10\n",
            "20/20 [==============================] - 10s 502ms/step - loss: 0.4585 - acc: 0.8017 - val_loss: 0.4406 - val_acc: 0.8062\n",
            "Epoch 6/10\n",
            "20/20 [==============================] - 9s 470ms/step - loss: 0.4522 - acc: 0.8039 - val_loss: 0.4438 - val_acc: 0.8054\n",
            "Epoch 7/10\n",
            "20/20 [==============================] - 9s 434ms/step - loss: 0.4493 - acc: 0.8018 - val_loss: 0.4428 - val_acc: 0.8064\n",
            "Epoch 8/10\n",
            "20/20 [==============================] - 8s 411ms/step - loss: 0.4511 - acc: 0.8029 - val_loss: 0.4459 - val_acc: 0.8053\n",
            "Epoch 9/10\n",
            "20/20 [==============================] - 10s 481ms/step - loss: 0.4544 - acc: 0.8027 - val_loss: 0.4427 - val_acc: 0.8084\n",
            "Epoch 10/10\n",
            "20/20 [==============================] - 10s 482ms/step - loss: 0.4494 - acc: 0.8061 - val_loss: 0.4445 - val_acc: 0.8040\n"
          ],
          "name": "stdout"
        },
        {
          "output_type": "stream",
          "text": [
            "[========================================================================] 100%\n"
          ],
          "name": "stderr"
        },
        {
          "output_type": "stream",
          "text": [
            "(800, 224, 224, 3) (114, 224, 224, 3) (110, 224, 224, 3) (800, 40) (114, 40) (110, 40)\n",
            "Treinando lote  169  de  198\n",
            "Epoch 1/10\n",
            "20/20 [==============================] - 10s 523ms/step - loss: 0.4587 - acc: 0.8006 - val_loss: 0.4425 - val_acc: 0.7967\n",
            "Epoch 2/10\n",
            "20/20 [==============================] - 10s 476ms/step - loss: 0.4524 - acc: 0.8028 - val_loss: 0.4425 - val_acc: 0.7959\n",
            "Epoch 3/10\n",
            "20/20 [==============================] - 9s 464ms/step - loss: 0.4564 - acc: 0.8030 - val_loss: 0.4405 - val_acc: 0.7961\n",
            "Epoch 4/10\n",
            "20/20 [==============================] - 9s 429ms/step - loss: 0.4562 - acc: 0.8050 - val_loss: 0.4443 - val_acc: 0.7969\n",
            "Epoch 5/10\n",
            "20/20 [==============================] - 8s 409ms/step - loss: 0.4594 - acc: 0.8008 - val_loss: 0.4383 - val_acc: 0.7984\n",
            "Epoch 6/10\n",
            "20/20 [==============================] - 8s 406ms/step - loss: 0.4566 - acc: 0.8023 - val_loss: 0.4461 - val_acc: 0.7951\n",
            "Epoch 7/10\n",
            "20/20 [==============================] - 9s 472ms/step - loss: 0.4563 - acc: 0.8030 - val_loss: 0.4437 - val_acc: 0.7964\n",
            "Epoch 8/10\n",
            "20/20 [==============================] - 9s 441ms/step - loss: 0.4532 - acc: 0.8014 - val_loss: 0.4410 - val_acc: 0.7936\n",
            "Epoch 9/10\n",
            "20/20 [==============================] - 9s 442ms/step - loss: 0.4540 - acc: 0.8031 - val_loss: 0.4446 - val_acc: 0.7969\n",
            "Epoch 10/10\n",
            "20/20 [==============================] - 8s 406ms/step - loss: 0.4555 - acc: 0.7995 - val_loss: 0.4393 - val_acc: 0.7985\n"
          ],
          "name": "stdout"
        },
        {
          "output_type": "stream",
          "text": [
            "[========================================================================] 100%\n"
          ],
          "name": "stderr"
        },
        {
          "output_type": "stream",
          "text": [
            "(814, 224, 224, 3) (106, 224, 224, 3) (104, 224, 224, 3) (814, 40) (106, 40) (104, 40)\n",
            "Treinando lote  170  de  198\n",
            "Epoch 1/10\n",
            "20/20 [==============================] - 10s 503ms/step - loss: 0.4579 - acc: 0.8011 - val_loss: 0.4360 - val_acc: 0.8018\n",
            "Epoch 2/10\n",
            "20/20 [==============================] - 9s 454ms/step - loss: 0.4491 - acc: 0.8032 - val_loss: 0.4406 - val_acc: 0.8007\n",
            "Epoch 3/10\n",
            "20/20 [==============================] - 9s 425ms/step - loss: 0.4540 - acc: 0.8041 - val_loss: 0.4362 - val_acc: 0.8019\n",
            "Epoch 4/10\n",
            "20/20 [==============================] - 8s 408ms/step - loss: 0.4566 - acc: 0.8034 - val_loss: 0.4426 - val_acc: 0.7985\n",
            "Epoch 5/10\n",
            "20/20 [==============================] - 8s 399ms/step - loss: 0.4522 - acc: 0.8028 - val_loss: 0.4374 - val_acc: 0.7999\n",
            "Epoch 6/10\n",
            "20/20 [==============================] - 9s 451ms/step - loss: 0.4553 - acc: 0.8012 - val_loss: 0.4421 - val_acc: 0.7996\n",
            "Epoch 7/10\n",
            "20/20 [==============================] - 9s 439ms/step - loss: 0.4476 - acc: 0.8028 - val_loss: 0.4405 - val_acc: 0.8001\n",
            "Epoch 8/10\n",
            "20/20 [==============================] - 8s 404ms/step - loss: 0.4531 - acc: 0.8034 - val_loss: 0.4379 - val_acc: 0.8022\n",
            "Epoch 9/10\n",
            "20/20 [==============================] - 8s 392ms/step - loss: 0.4548 - acc: 0.8052 - val_loss: 0.4444 - val_acc: 0.7976\n",
            "Epoch 10/10\n",
            "20/20 [==============================] - 9s 436ms/step - loss: 0.4567 - acc: 0.8056 - val_loss: 0.4347 - val_acc: 0.8015\n"
          ],
          "name": "stdout"
        },
        {
          "output_type": "stream",
          "text": [
            "[========================================================================] 100%\n"
          ],
          "name": "stderr"
        },
        {
          "output_type": "stream",
          "text": [
            "(845, 224, 224, 3) (88, 224, 224, 3) (91, 224, 224, 3) (845, 40) (88, 40) (91, 40)\n",
            "Treinando lote  171  de  198\n",
            "Epoch 1/10\n",
            "20/20 [==============================] - 10s 497ms/step - loss: 0.4493 - acc: 0.8064 - val_loss: 0.4636 - val_acc: 0.8140\n",
            "Epoch 2/10\n",
            "20/20 [==============================] - 9s 465ms/step - loss: 0.4609 - acc: 0.8006 - val_loss: 0.4577 - val_acc: 0.8138\n",
            "Epoch 3/10\n",
            "20/20 [==============================] - 9s 430ms/step - loss: 0.4582 - acc: 0.8087 - val_loss: 0.4596 - val_acc: 0.8122\n",
            "Epoch 4/10\n",
            "20/20 [==============================] - 8s 404ms/step - loss: 0.4546 - acc: 0.8031 - val_loss: 0.4609 - val_acc: 0.8128\n",
            "Epoch 5/10\n",
            "20/20 [==============================] - 9s 473ms/step - loss: 0.4553 - acc: 0.8082 - val_loss: 0.4570 - val_acc: 0.8142\n",
            "Epoch 6/10\n",
            "20/20 [==============================] - 9s 460ms/step - loss: 0.4678 - acc: 0.8005 - val_loss: 0.4624 - val_acc: 0.8138\n",
            "Epoch 7/10\n",
            "20/20 [==============================] - 9s 432ms/step - loss: 0.4485 - acc: 0.8058 - val_loss: 0.4634 - val_acc: 0.8129\n",
            "Epoch 8/10\n",
            "20/20 [==============================] - 8s 403ms/step - loss: 0.4538 - acc: 0.8079 - val_loss: 0.4560 - val_acc: 0.8140\n",
            "Epoch 9/10\n",
            "20/20 [==============================] - 9s 470ms/step - loss: 0.4528 - acc: 0.8085 - val_loss: 0.4618 - val_acc: 0.8132\n",
            "Epoch 10/10\n",
            "20/20 [==============================] - 9s 459ms/step - loss: 0.4568 - acc: 0.8034 - val_loss: 0.4611 - val_acc: 0.8123\n"
          ],
          "name": "stdout"
        },
        {
          "output_type": "stream",
          "text": [
            "[========================================================================] 100%\n"
          ],
          "name": "stderr"
        },
        {
          "output_type": "stream",
          "text": [
            "(836, 224, 224, 3) (93, 224, 224, 3) (95, 224, 224, 3) (836, 40) (93, 40) (95, 40)\n",
            "Treinando lote  172  de  198\n",
            "Epoch 1/10\n",
            "20/20 [==============================] - 10s 524ms/step - loss: 0.4473 - acc: 0.8053 - val_loss: 0.4363 - val_acc: 0.8100\n",
            "Epoch 2/10\n",
            "20/20 [==============================] - 10s 481ms/step - loss: 0.4615 - acc: 0.8009 - val_loss: 0.4426 - val_acc: 0.8091\n",
            "Epoch 3/10\n",
            "20/20 [==============================] - 9s 429ms/step - loss: 0.4495 - acc: 0.7993 - val_loss: 0.4399 - val_acc: 0.8098\n",
            "Epoch 4/10\n",
            "20/20 [==============================] - 8s 402ms/step - loss: 0.4536 - acc: 0.8026 - val_loss: 0.4385 - val_acc: 0.8109\n",
            "Epoch 5/10\n",
            "20/20 [==============================] - 9s 470ms/step - loss: 0.4489 - acc: 0.8019 - val_loss: 0.4439 - val_acc: 0.8091\n",
            "Epoch 6/10\n",
            "20/20 [==============================] - 9s 462ms/step - loss: 0.4644 - acc: 0.8021 - val_loss: 0.4374 - val_acc: 0.8133\n",
            "Epoch 7/10\n",
            "20/20 [==============================] - 9s 440ms/step - loss: 0.4473 - acc: 0.8042 - val_loss: 0.4396 - val_acc: 0.8099\n",
            "Epoch 8/10\n",
            "20/20 [==============================] - 8s 403ms/step - loss: 0.4531 - acc: 0.8011 - val_loss: 0.4392 - val_acc: 0.8090\n",
            "Epoch 9/10\n",
            "20/20 [==============================] - 9s 470ms/step - loss: 0.4612 - acc: 0.8001 - val_loss: 0.4422 - val_acc: 0.8106\n",
            "Epoch 10/10\n",
            "20/20 [==============================] - 9s 464ms/step - loss: 0.4598 - acc: 0.8020 - val_loss: 0.4407 - val_acc: 0.8094\n"
          ],
          "name": "stdout"
        },
        {
          "output_type": "stream",
          "text": [
            "[========================================================================] 100%\n"
          ],
          "name": "stderr"
        },
        {
          "output_type": "stream",
          "text": [
            "(828, 224, 224, 3) (92, 224, 224, 3) (104, 224, 224, 3) (828, 40) (92, 40) (104, 40)\n",
            "Treinando lote  173  de  198\n",
            "Epoch 1/10\n",
            "20/20 [==============================] - 10s 515ms/step - loss: 0.4503 - acc: 0.8053 - val_loss: 0.4424 - val_acc: 0.8062\n",
            "Epoch 2/10\n",
            "20/20 [==============================] - 9s 469ms/step - loss: 0.4509 - acc: 0.8028 - val_loss: 0.4535 - val_acc: 0.8046\n",
            "Epoch 3/10\n",
            "20/20 [==============================] - 9s 435ms/step - loss: 0.4535 - acc: 0.8075 - val_loss: 0.4420 - val_acc: 0.8076\n",
            "Epoch 4/10\n",
            "20/20 [==============================] - 8s 421ms/step - loss: 0.4498 - acc: 0.8042 - val_loss: 0.4454 - val_acc: 0.8055\n",
            "Epoch 5/10\n",
            "20/20 [==============================] - 8s 410ms/step - loss: 0.4511 - acc: 0.8049 - val_loss: 0.4458 - val_acc: 0.8084\n",
            "Epoch 6/10\n",
            "20/20 [==============================] - 9s 466ms/step - loss: 0.4532 - acc: 0.8043 - val_loss: 0.4480 - val_acc: 0.8039\n",
            "Epoch 7/10\n",
            "20/20 [==============================] - 9s 438ms/step - loss: 0.4515 - acc: 0.8064 - val_loss: 0.4470 - val_acc: 0.8043\n",
            "Epoch 8/10\n",
            "20/20 [==============================] - 8s 424ms/step - loss: 0.4426 - acc: 0.8097 - val_loss: 0.4446 - val_acc: 0.8069\n",
            "Epoch 9/10\n",
            "20/20 [==============================] - 8s 410ms/step - loss: 0.4509 - acc: 0.8052 - val_loss: 0.4472 - val_acc: 0.8049\n",
            "Epoch 10/10\n",
            "20/20 [==============================] - 10s 494ms/step - loss: 0.4468 - acc: 0.8072 - val_loss: 0.4501 - val_acc: 0.8039\n"
          ],
          "name": "stdout"
        },
        {
          "output_type": "stream",
          "text": [
            "[========================================================================] 100%\n"
          ],
          "name": "stderr"
        },
        {
          "output_type": "stream",
          "text": [
            "(811, 224, 224, 3) (96, 224, 224, 3) (117, 224, 224, 3) (811, 40) (96, 40) (117, 40)\n",
            "Treinando lote  174  de  198\n",
            "Epoch 1/10\n",
            "20/20 [==============================] - 10s 482ms/step - loss: 0.4652 - acc: 0.7991 - val_loss: 0.4746 - val_acc: 0.7932\n",
            "Epoch 2/10\n",
            "20/20 [==============================] - 9s 463ms/step - loss: 0.4603 - acc: 0.8049 - val_loss: 0.4673 - val_acc: 0.7947\n",
            "Epoch 3/10\n",
            "20/20 [==============================] - 9s 441ms/step - loss: 0.4602 - acc: 0.7992 - val_loss: 0.4719 - val_acc: 0.7955\n",
            "Epoch 4/10\n",
            "20/20 [==============================] - 8s 415ms/step - loss: 0.4571 - acc: 0.7995 - val_loss: 0.4722 - val_acc: 0.7957\n",
            "Epoch 5/10\n",
            "20/20 [==============================] - 8s 407ms/step - loss: 0.4583 - acc: 0.8018 - val_loss: 0.4717 - val_acc: 0.7948\n",
            "Epoch 6/10\n",
            "20/20 [==============================] - 10s 477ms/step - loss: 0.4589 - acc: 0.8047 - val_loss: 0.4711 - val_acc: 0.7963\n",
            "Epoch 7/10\n",
            "20/20 [==============================] - 9s 446ms/step - loss: 0.4621 - acc: 0.8005 - val_loss: 0.4736 - val_acc: 0.7955\n",
            "Epoch 8/10\n",
            "20/20 [==============================] - 9s 431ms/step - loss: 0.4569 - acc: 0.8034 - val_loss: 0.4712 - val_acc: 0.7955\n",
            "Epoch 9/10\n",
            "20/20 [==============================] - 8s 406ms/step - loss: 0.4595 - acc: 0.8008 - val_loss: 0.4705 - val_acc: 0.7945\n",
            "Epoch 10/10\n",
            "20/20 [==============================] - 10s 478ms/step - loss: 0.4566 - acc: 0.8043 - val_loss: 0.4749 - val_acc: 0.7932\n"
          ],
          "name": "stdout"
        },
        {
          "output_type": "stream",
          "text": [
            "[========================================================================] 100%\n"
          ],
          "name": "stderr"
        },
        {
          "output_type": "stream",
          "text": [
            "(842, 224, 224, 3) (91, 224, 224, 3) (91, 224, 224, 3) (842, 40) (91, 40) (91, 40)\n",
            "Treinando lote  175  de  198\n",
            "Epoch 1/10\n",
            "20/20 [==============================] - 10s 491ms/step - loss: 0.4492 - acc: 0.8012 - val_loss: 0.4738 - val_acc: 0.7958\n",
            "Epoch 2/10\n",
            "20/20 [==============================] - 10s 480ms/step - loss: 0.4621 - acc: 0.7976 - val_loss: 0.4704 - val_acc: 0.8002\n",
            "Epoch 3/10\n",
            "20/20 [==============================] - 9s 428ms/step - loss: 0.4522 - acc: 0.8020 - val_loss: 0.4742 - val_acc: 0.7963\n",
            "Epoch 4/10\n",
            "20/20 [==============================] - 8s 402ms/step - loss: 0.4508 - acc: 0.8012 - val_loss: 0.4743 - val_acc: 0.7970\n",
            "Epoch 5/10\n",
            "20/20 [==============================] - 9s 464ms/step - loss: 0.4497 - acc: 0.8009 - val_loss: 0.4703 - val_acc: 0.7966\n",
            "Epoch 6/10\n",
            "20/20 [==============================] - 9s 440ms/step - loss: 0.4536 - acc: 0.7981 - val_loss: 0.4789 - val_acc: 0.7976\n",
            "Epoch 7/10\n",
            "20/20 [==============================] - 9s 435ms/step - loss: 0.4586 - acc: 0.8016 - val_loss: 0.4728 - val_acc: 0.7996\n",
            "Epoch 8/10\n",
            "20/20 [==============================] - 8s 402ms/step - loss: 0.4468 - acc: 0.8033 - val_loss: 0.4750 - val_acc: 0.7953\n",
            "Epoch 9/10\n",
            "20/20 [==============================] - 10s 503ms/step - loss: 0.4547 - acc: 0.7979 - val_loss: 0.4756 - val_acc: 0.7980\n",
            "Epoch 10/10\n",
            "20/20 [==============================] - 9s 451ms/step - loss: 0.4510 - acc: 0.8019 - val_loss: 0.4763 - val_acc: 0.7957\n"
          ],
          "name": "stdout"
        },
        {
          "output_type": "stream",
          "text": [
            "[========================================================================] 100%\n"
          ],
          "name": "stderr"
        },
        {
          "output_type": "stream",
          "text": [
            "(814, 224, 224, 3) (104, 224, 224, 3) (106, 224, 224, 3) (814, 40) (104, 40) (106, 40)\n",
            "Treinando lote  176  de  198\n",
            "Epoch 1/10\n",
            "20/20 [==============================] - 10s 476ms/step - loss: 0.4472 - acc: 0.8057 - val_loss: 0.4485 - val_acc: 0.8049\n",
            "Epoch 2/10\n",
            "20/20 [==============================] - 9s 445ms/step - loss: 0.4523 - acc: 0.8041 - val_loss: 0.4444 - val_acc: 0.8032\n",
            "Epoch 3/10\n",
            "20/20 [==============================] - 9s 429ms/step - loss: 0.4449 - acc: 0.8055 - val_loss: 0.4464 - val_acc: 0.8047\n",
            "Epoch 4/10\n",
            "20/20 [==============================] - 8s 392ms/step - loss: 0.4605 - acc: 0.8006 - val_loss: 0.4466 - val_acc: 0.8010\n",
            "Epoch 5/10\n",
            "20/20 [==============================] - 8s 392ms/step - loss: 0.4505 - acc: 0.8053 - val_loss: 0.4482 - val_acc: 0.7994\n",
            "Epoch 6/10\n",
            "20/20 [==============================] - 9s 449ms/step - loss: 0.4559 - acc: 0.8031 - val_loss: 0.4446 - val_acc: 0.8054\n",
            "Epoch 7/10\n",
            "20/20 [==============================] - 9s 434ms/step - loss: 0.4498 - acc: 0.8023 - val_loss: 0.4485 - val_acc: 0.8022\n",
            "Epoch 8/10\n",
            "20/20 [==============================] - 8s 409ms/step - loss: 0.4491 - acc: 0.8055 - val_loss: 0.4441 - val_acc: 0.8057\n",
            "Epoch 9/10\n",
            "20/20 [==============================] - 8s 392ms/step - loss: 0.4477 - acc: 0.8030 - val_loss: 0.4499 - val_acc: 0.8021\n",
            "Epoch 10/10\n",
            "20/20 [==============================] - 9s 453ms/step - loss: 0.4555 - acc: 0.8027 - val_loss: 0.4432 - val_acc: 0.8041\n"
          ],
          "name": "stdout"
        },
        {
          "output_type": "stream",
          "text": [
            "[========================================================================] 100%\n"
          ],
          "name": "stderr"
        },
        {
          "output_type": "stream",
          "text": [
            "(818, 224, 224, 3) (103, 224, 224, 3) (103, 224, 224, 3) (818, 40) (103, 40) (103, 40)\n",
            "Treinando lote  177  de  198\n",
            "Epoch 1/10\n",
            "20/20 [==============================] - 10s 496ms/step - loss: 0.4458 - acc: 0.8063 - val_loss: 0.4298 - val_acc: 0.8112\n",
            "Epoch 2/10\n",
            "20/20 [==============================] - 9s 433ms/step - loss: 0.4465 - acc: 0.8051 - val_loss: 0.4249 - val_acc: 0.8152\n",
            "Epoch 3/10\n",
            "20/20 [==============================] - 8s 422ms/step - loss: 0.4539 - acc: 0.8049 - val_loss: 0.4271 - val_acc: 0.8145\n",
            "Epoch 4/10\n",
            "20/20 [==============================] - 8s 403ms/step - loss: 0.4470 - acc: 0.8047 - val_loss: 0.4279 - val_acc: 0.8126\n",
            "Epoch 5/10\n",
            "20/20 [==============================] - 8s 394ms/step - loss: 0.4520 - acc: 0.8028 - val_loss: 0.4289 - val_acc: 0.8156\n",
            "Epoch 6/10\n",
            "20/20 [==============================] - 9s 454ms/step - loss: 0.4471 - acc: 0.8073 - val_loss: 0.4259 - val_acc: 0.8140\n",
            "Epoch 7/10\n",
            "20/20 [==============================] - 9s 434ms/step - loss: 0.4448 - acc: 0.8076 - val_loss: 0.4264 - val_acc: 0.8155\n",
            "Epoch 8/10\n",
            "20/20 [==============================] - 8s 406ms/step - loss: 0.4472 - acc: 0.8062 - val_loss: 0.4286 - val_acc: 0.8141\n",
            "Epoch 9/10\n",
            "20/20 [==============================] - 8s 394ms/step - loss: 0.4485 - acc: 0.8044 - val_loss: 0.4258 - val_acc: 0.8136\n",
            "Epoch 10/10\n",
            "20/20 [==============================] - 10s 477ms/step - loss: 0.4466 - acc: 0.8048 - val_loss: 0.4293 - val_acc: 0.8167\n"
          ],
          "name": "stdout"
        },
        {
          "output_type": "stream",
          "text": [
            "[========================================================================] 100%\n"
          ],
          "name": "stderr"
        },
        {
          "output_type": "stream",
          "text": [
            "(824, 224, 224, 3) (104, 224, 224, 3) (96, 224, 224, 3) (824, 40) (104, 40) (96, 40)\n",
            "Treinando lote  178  de  198\n",
            "Epoch 1/10\n",
            "20/20 [==============================] - 10s 498ms/step - loss: 0.4583 - acc: 0.8024 - val_loss: 0.4455 - val_acc: 0.7991\n",
            "Epoch 2/10\n",
            "20/20 [==============================] - 9s 447ms/step - loss: 0.4542 - acc: 0.8009 - val_loss: 0.4461 - val_acc: 0.7977\n",
            "Epoch 3/10\n",
            "20/20 [==============================] - 9s 430ms/step - loss: 0.4531 - acc: 0.8048 - val_loss: 0.4459 - val_acc: 0.7977\n",
            "Epoch 4/10\n",
            "20/20 [==============================] - 8s 398ms/step - loss: 0.4514 - acc: 0.8062 - val_loss: 0.4463 - val_acc: 0.7964\n",
            "Epoch 5/10\n",
            "20/20 [==============================] - 8s 397ms/step - loss: 0.4523 - acc: 0.8036 - val_loss: 0.4474 - val_acc: 0.7962\n",
            "Epoch 6/10\n",
            "20/20 [==============================] - 9s 454ms/step - loss: 0.4477 - acc: 0.8066 - val_loss: 0.4446 - val_acc: 0.8014\n",
            "Epoch 7/10\n",
            "20/20 [==============================] - 9s 465ms/step - loss: 0.4583 - acc: 0.7996 - val_loss: 0.4459 - val_acc: 0.7997\n",
            "Epoch 8/10\n",
            "20/20 [==============================] - 8s 407ms/step - loss: 0.4474 - acc: 0.8039 - val_loss: 0.4471 - val_acc: 0.7993\n",
            "Epoch 9/10\n",
            "20/20 [==============================] - 8s 396ms/step - loss: 0.4517 - acc: 0.8051 - val_loss: 0.4493 - val_acc: 0.7983\n",
            "Epoch 10/10\n",
            "20/20 [==============================] - 9s 468ms/step - loss: 0.4546 - acc: 0.8024 - val_loss: 0.4439 - val_acc: 0.7996\n"
          ],
          "name": "stdout"
        },
        {
          "output_type": "stream",
          "text": [
            "[========================================================================] 100%\n"
          ],
          "name": "stderr"
        },
        {
          "output_type": "stream",
          "text": [
            "(821, 224, 224, 3) (99, 224, 224, 3) (104, 224, 224, 3) (821, 40) (99, 40) (104, 40)\n",
            "Treinando lote  179  de  198\n",
            "Epoch 1/10\n",
            "20/20 [==============================] - 10s 494ms/step - loss: 0.4536 - acc: 0.8021 - val_loss: 0.4598 - val_acc: 0.8008\n",
            "Epoch 2/10\n",
            "20/20 [==============================] - 9s 433ms/step - loss: 0.4466 - acc: 0.8030 - val_loss: 0.4608 - val_acc: 0.8045\n",
            "Epoch 3/10\n",
            "20/20 [==============================] - 8s 415ms/step - loss: 0.4449 - acc: 0.8066 - val_loss: 0.4585 - val_acc: 0.8012\n",
            "Epoch 4/10\n",
            "20/20 [==============================] - 8s 386ms/step - loss: 0.4443 - acc: 0.8045 - val_loss: 0.4624 - val_acc: 0.8015\n",
            "Epoch 5/10\n",
            "20/20 [==============================] - 8s 394ms/step - loss: 0.4485 - acc: 0.8050 - val_loss: 0.4608 - val_acc: 0.8025\n",
            "Epoch 6/10\n",
            "20/20 [==============================] - 9s 432ms/step - loss: 0.4469 - acc: 0.8053 - val_loss: 0.4608 - val_acc: 0.8012\n",
            "Epoch 7/10\n",
            "20/20 [==============================] - 9s 434ms/step - loss: 0.4467 - acc: 0.8072 - val_loss: 0.4571 - val_acc: 0.8038\n",
            "Epoch 8/10\n",
            "20/20 [==============================] - 8s 393ms/step - loss: 0.4508 - acc: 0.8035 - val_loss: 0.4650 - val_acc: 0.7969\n",
            "Epoch 9/10\n",
            "20/20 [==============================] - 8s 393ms/step - loss: 0.4460 - acc: 0.8057 - val_loss: 0.4642 - val_acc: 0.8009\n",
            "Epoch 10/10\n",
            "20/20 [==============================] - 9s 452ms/step - loss: 0.4550 - acc: 0.8033 - val_loss: 0.4565 - val_acc: 0.8038\n"
          ],
          "name": "stdout"
        },
        {
          "output_type": "stream",
          "text": [
            "[========================================================================] 100%\n"
          ],
          "name": "stderr"
        },
        {
          "output_type": "stream",
          "text": [
            "(815, 224, 224, 3) (107, 224, 224, 3) (102, 224, 224, 3) (815, 40) (107, 40) (102, 40)\n",
            "Treinando lote  180  de  198\n",
            "Epoch 1/10\n",
            "20/20 [==============================] - 10s 483ms/step - loss: 0.4514 - acc: 0.8056 - val_loss: 0.4334 - val_acc: 0.8008\n",
            "Epoch 2/10\n",
            "20/20 [==============================] - 9s 444ms/step - loss: 0.4521 - acc: 0.8027 - val_loss: 0.4374 - val_acc: 0.8006\n",
            "Epoch 3/10\n",
            "20/20 [==============================] - 8s 420ms/step - loss: 0.4485 - acc: 0.8053 - val_loss: 0.4331 - val_acc: 0.8021\n",
            "Epoch 4/10\n",
            "20/20 [==============================] - 8s 391ms/step - loss: 0.4446 - acc: 0.8079 - val_loss: 0.4398 - val_acc: 0.7972\n",
            "Epoch 5/10\n",
            "20/20 [==============================] - 8s 400ms/step - loss: 0.4506 - acc: 0.8059 - val_loss: 0.4370 - val_acc: 0.8013\n",
            "Epoch 6/10\n",
            "20/20 [==============================] - 9s 447ms/step - loss: 0.4473 - acc: 0.8059 - val_loss: 0.4374 - val_acc: 0.7996\n",
            "Epoch 7/10\n",
            "20/20 [==============================] - 9s 433ms/step - loss: 0.4505 - acc: 0.8069 - val_loss: 0.4379 - val_acc: 0.7982\n",
            "Epoch 8/10\n",
            "20/20 [==============================] - 8s 405ms/step - loss: 0.4488 - acc: 0.8065 - val_loss: 0.4376 - val_acc: 0.8015\n",
            "Epoch 9/10\n",
            "20/20 [==============================] - 8s 393ms/step - loss: 0.4500 - acc: 0.8054 - val_loss: 0.4412 - val_acc: 0.7961\n",
            "Epoch 10/10\n",
            "20/20 [==============================] - 9s 460ms/step - loss: 0.4494 - acc: 0.8049 - val_loss: 0.4333 - val_acc: 0.8044\n"
          ],
          "name": "stdout"
        },
        {
          "output_type": "stream",
          "text": [
            "[========================================================================] 100%\n"
          ],
          "name": "stderr"
        },
        {
          "output_type": "stream",
          "text": [
            "(826, 224, 224, 3) (103, 224, 224, 3) (95, 224, 224, 3) (826, 40) (103, 40) (95, 40)\n",
            "Treinando lote  181  de  198\n",
            "Epoch 1/10\n",
            "20/20 [==============================] - 10s 499ms/step - loss: 0.4516 - acc: 0.8034 - val_loss: 0.4322 - val_acc: 0.8143\n",
            "Epoch 2/10\n",
            "20/20 [==============================] - 9s 445ms/step - loss: 0.4559 - acc: 0.8013 - val_loss: 0.4293 - val_acc: 0.8169\n",
            "Epoch 3/10\n",
            "20/20 [==============================] - 9s 446ms/step - loss: 0.4495 - acc: 0.8039 - val_loss: 0.4375 - val_acc: 0.8113\n",
            "Epoch 4/10\n",
            "20/20 [==============================] - 8s 399ms/step - loss: 0.4513 - acc: 0.8014 - val_loss: 0.4236 - val_acc: 0.8181\n",
            "Epoch 5/10\n",
            "20/20 [==============================] - 8s 397ms/step - loss: 0.4530 - acc: 0.8028 - val_loss: 0.4299 - val_acc: 0.8156\n",
            "Epoch 6/10\n",
            "20/20 [==============================] - 9s 462ms/step - loss: 0.4422 - acc: 0.8072 - val_loss: 0.4334 - val_acc: 0.8146\n",
            "Epoch 7/10\n",
            "20/20 [==============================] - 9s 438ms/step - loss: 0.4613 - acc: 0.7985 - val_loss: 0.4300 - val_acc: 0.8169\n",
            "Epoch 8/10\n",
            "20/20 [==============================] - 8s 404ms/step - loss: 0.4467 - acc: 0.8057 - val_loss: 0.4327 - val_acc: 0.8141\n",
            "Epoch 9/10\n",
            "20/20 [==============================] - 8s 397ms/step - loss: 0.4570 - acc: 0.7996 - val_loss: 0.4358 - val_acc: 0.8120\n",
            "Epoch 10/10\n",
            "20/20 [==============================] - 9s 466ms/step - loss: 0.4448 - acc: 0.8065 - val_loss: 0.4268 - val_acc: 0.8185\n"
          ],
          "name": "stdout"
        },
        {
          "output_type": "stream",
          "text": [
            "[========================================================================] 100%\n"
          ],
          "name": "stderr"
        },
        {
          "output_type": "stream",
          "text": [
            "(827, 224, 224, 3) (100, 224, 224, 3) (97, 224, 224, 3) (827, 40) (100, 40) (97, 40)\n",
            "Treinando lote  182  de  198\n",
            "Epoch 1/10\n",
            "20/20 [==============================] - 9s 474ms/step - loss: 0.4476 - acc: 0.8022 - val_loss: 0.4440 - val_acc: 0.8151\n",
            "Epoch 2/10\n",
            "20/20 [==============================] - 9s 449ms/step - loss: 0.4483 - acc: 0.8023 - val_loss: 0.4420 - val_acc: 0.8110\n",
            "Epoch 3/10\n",
            "20/20 [==============================] - 8s 424ms/step - loss: 0.4514 - acc: 0.8026 - val_loss: 0.4441 - val_acc: 0.8113\n",
            "Epoch 4/10\n",
            "20/20 [==============================] - 8s 390ms/step - loss: 0.4513 - acc: 0.8004 - val_loss: 0.4436 - val_acc: 0.8107\n",
            "Epoch 5/10\n",
            "20/20 [==============================] - 8s 396ms/step - loss: 0.4492 - acc: 0.8029 - val_loss: 0.4373 - val_acc: 0.8112\n",
            "Epoch 6/10\n",
            "20/20 [==============================] - 9s 440ms/step - loss: 0.4498 - acc: 0.8041 - val_loss: 0.4515 - val_acc: 0.8109\n",
            "Epoch 7/10\n",
            "20/20 [==============================] - 8s 423ms/step - loss: 0.4472 - acc: 0.8011 - val_loss: 0.4384 - val_acc: 0.8160\n",
            "Epoch 8/10\n",
            "20/20 [==============================] - 8s 403ms/step - loss: 0.4472 - acc: 0.8038 - val_loss: 0.4500 - val_acc: 0.8083\n",
            "Epoch 9/10\n",
            "20/20 [==============================] - 8s 394ms/step - loss: 0.4469 - acc: 0.8062 - val_loss: 0.4490 - val_acc: 0.8105\n",
            "Epoch 10/10\n",
            "20/20 [==============================] - 9s 447ms/step - loss: 0.4479 - acc: 0.8013 - val_loss: 0.4394 - val_acc: 0.8117\n"
          ],
          "name": "stdout"
        },
        {
          "output_type": "stream",
          "text": [
            "[========================================================================] 100%\n"
          ],
          "name": "stderr"
        },
        {
          "output_type": "stream",
          "text": [
            "(832, 224, 224, 3) (83, 224, 224, 3) (109, 224, 224, 3) (832, 40) (83, 40) (109, 40)\n",
            "Treinando lote  183  de  198\n",
            "Epoch 1/10\n",
            "20/20 [==============================] - 10s 504ms/step - loss: 0.4579 - acc: 0.8020 - val_loss: 0.4479 - val_acc: 0.8028\n",
            "Epoch 2/10\n",
            "20/20 [==============================] - 9s 469ms/step - loss: 0.4622 - acc: 0.8010 - val_loss: 0.4513 - val_acc: 0.7993\n",
            "Epoch 3/10\n",
            "20/20 [==============================] - 9s 434ms/step - loss: 0.4599 - acc: 0.8000 - val_loss: 0.4508 - val_acc: 0.8035\n",
            "Epoch 4/10\n",
            "20/20 [==============================] - 8s 419ms/step - loss: 0.4552 - acc: 0.8038 - val_loss: 0.4487 - val_acc: 0.7989\n",
            "Epoch 5/10\n",
            "20/20 [==============================] - 8s 405ms/step - loss: 0.4554 - acc: 0.8045 - val_loss: 0.4506 - val_acc: 0.8023\n",
            "Epoch 6/10\n",
            "20/20 [==============================] - 9s 467ms/step - loss: 0.4589 - acc: 0.8008 - val_loss: 0.4503 - val_acc: 0.7996\n",
            "Epoch 7/10\n",
            "20/20 [==============================] - 9s 442ms/step - loss: 0.4658 - acc: 0.7999 - val_loss: 0.4509 - val_acc: 0.7987\n",
            "Epoch 8/10\n",
            "20/20 [==============================] - 8s 423ms/step - loss: 0.4558 - acc: 0.8014 - val_loss: 0.4490 - val_acc: 0.8029\n",
            "Epoch 9/10\n",
            "20/20 [==============================] - 8s 405ms/step - loss: 0.4567 - acc: 0.8020 - val_loss: 0.4496 - val_acc: 0.7989\n",
            "Epoch 10/10\n",
            "20/20 [==============================] - 10s 487ms/step - loss: 0.4573 - acc: 0.8021 - val_loss: 0.4537 - val_acc: 0.7988\n"
          ],
          "name": "stdout"
        },
        {
          "output_type": "stream",
          "text": [
            "[========================================================================] 100%\n"
          ],
          "name": "stderr"
        },
        {
          "output_type": "stream",
          "text": [
            "(814, 224, 224, 3) (106, 224, 224, 3) (104, 224, 224, 3) (814, 40) (106, 40) (104, 40)\n",
            "Treinando lote  184  de  198\n",
            "Epoch 1/10\n",
            "20/20 [==============================] - 10s 485ms/step - loss: 0.4577 - acc: 0.8013 - val_loss: 0.4570 - val_acc: 0.7996\n",
            "Epoch 2/10\n",
            "20/20 [==============================] - 9s 440ms/step - loss: 0.4557 - acc: 0.8034 - val_loss: 0.4585 - val_acc: 0.7992\n",
            "Epoch 3/10\n",
            "20/20 [==============================] - 9s 435ms/step - loss: 0.4546 - acc: 0.8029 - val_loss: 0.4589 - val_acc: 0.7963\n",
            "Epoch 4/10\n",
            "20/20 [==============================] - 8s 396ms/step - loss: 0.4517 - acc: 0.8029 - val_loss: 0.4566 - val_acc: 0.7983\n",
            "Epoch 5/10\n",
            "20/20 [==============================] - 8s 392ms/step - loss: 0.4497 - acc: 0.8021 - val_loss: 0.4562 - val_acc: 0.7975\n",
            "Epoch 6/10\n",
            "20/20 [==============================] - 9s 456ms/step - loss: 0.4566 - acc: 0.8043 - val_loss: 0.4589 - val_acc: 0.7953\n",
            "Epoch 7/10\n",
            "20/20 [==============================] - 9s 448ms/step - loss: 0.4460 - acc: 0.8067 - val_loss: 0.4544 - val_acc: 0.8014\n",
            "Epoch 8/10\n",
            "20/20 [==============================] - 8s 403ms/step - loss: 0.4584 - acc: 0.8011 - val_loss: 0.4608 - val_acc: 0.7925\n",
            "Epoch 9/10\n",
            "20/20 [==============================] - 8s 392ms/step - loss: 0.4568 - acc: 0.7988 - val_loss: 0.4594 - val_acc: 0.7966\n",
            "Epoch 10/10\n",
            "20/20 [==============================] - 9s 464ms/step - loss: 0.4507 - acc: 0.8056 - val_loss: 0.4553 - val_acc: 0.7982\n"
          ],
          "name": "stdout"
        },
        {
          "output_type": "stream",
          "text": [
            "[========================================================================] 100%\n"
          ],
          "name": "stderr"
        },
        {
          "output_type": "stream",
          "text": [
            "(831, 224, 224, 3) (103, 224, 224, 3) (90, 224, 224, 3) (831, 40) (103, 40) (90, 40)\n",
            "Treinando lote  185  de  198\n",
            "Epoch 1/10\n",
            "20/20 [==============================] - 10s 484ms/step - loss: 0.4532 - acc: 0.8023 - val_loss: 0.4594 - val_acc: 0.8145\n",
            "Epoch 2/10\n",
            "20/20 [==============================] - 9s 464ms/step - loss: 0.4492 - acc: 0.8041 - val_loss: 0.4430 - val_acc: 0.8158\n",
            "Epoch 3/10\n",
            "20/20 [==============================] - 9s 425ms/step - loss: 0.4397 - acc: 0.8054 - val_loss: 0.4488 - val_acc: 0.8149\n",
            "Epoch 4/10\n",
            "20/20 [==============================] - 8s 403ms/step - loss: 0.4603 - acc: 0.8036 - val_loss: 0.4558 - val_acc: 0.8161\n",
            "Epoch 5/10\n",
            "20/20 [==============================] - 8s 397ms/step - loss: 0.4509 - acc: 0.8041 - val_loss: 0.4601 - val_acc: 0.8128\n",
            "Epoch 6/10\n",
            "20/20 [==============================] - 9s 444ms/step - loss: 0.4520 - acc: 0.8009 - val_loss: 0.4436 - val_acc: 0.8165\n",
            "Epoch 7/10\n",
            "20/20 [==============================] - 9s 439ms/step - loss: 0.4457 - acc: 0.8068 - val_loss: 0.4486 - val_acc: 0.8153\n",
            "Epoch 8/10\n",
            "20/20 [==============================] - 8s 410ms/step - loss: 0.4535 - acc: 0.8032 - val_loss: 0.4566 - val_acc: 0.8144\n",
            "Epoch 9/10\n",
            "20/20 [==============================] - 8s 397ms/step - loss: 0.4510 - acc: 0.8071 - val_loss: 0.4567 - val_acc: 0.8166\n",
            "Epoch 10/10\n",
            "20/20 [==============================] - 10s 475ms/step - loss: 0.4505 - acc: 0.8051 - val_loss: 0.4484 - val_acc: 0.8117\n"
          ],
          "name": "stdout"
        },
        {
          "output_type": "stream",
          "text": [
            "[========================================================================] 100%\n"
          ],
          "name": "stderr"
        },
        {
          "output_type": "stream",
          "text": [
            "(820, 224, 224, 3) (89, 224, 224, 3) (115, 224, 224, 3) (820, 40) (89, 40) (115, 40)\n",
            "Treinando lote  186  de  198\n",
            "Epoch 1/10\n",
            "20/20 [==============================] - 10s 504ms/step - loss: 0.4462 - acc: 0.8087 - val_loss: 0.4211 - val_acc: 0.8127\n",
            "Epoch 2/10\n",
            "20/20 [==============================] - 9s 468ms/step - loss: 0.4498 - acc: 0.8026 - val_loss: 0.4252 - val_acc: 0.8160\n",
            "Epoch 3/10\n",
            "20/20 [==============================] - 9s 441ms/step - loss: 0.4418 - acc: 0.8090 - val_loss: 0.4209 - val_acc: 0.8138\n",
            "Epoch 4/10\n",
            "20/20 [==============================] - 8s 419ms/step - loss: 0.4560 - acc: 0.8032 - val_loss: 0.4183 - val_acc: 0.8153\n",
            "Epoch 5/10\n",
            "20/20 [==============================] - 8s 409ms/step - loss: 0.4466 - acc: 0.8056 - val_loss: 0.4293 - val_acc: 0.8084\n",
            "Epoch 6/10\n",
            "20/20 [==============================] - 10s 480ms/step - loss: 0.4484 - acc: 0.8068 - val_loss: 0.4194 - val_acc: 0.8142\n",
            "Epoch 7/10\n",
            "20/20 [==============================] - 9s 437ms/step - loss: 0.4463 - acc: 0.8037 - val_loss: 0.4237 - val_acc: 0.8129\n",
            "Epoch 8/10\n",
            "20/20 [==============================] - 8s 420ms/step - loss: 0.4420 - acc: 0.8073 - val_loss: 0.4221 - val_acc: 0.8129\n",
            "Epoch 9/10\n",
            "20/20 [==============================] - 8s 409ms/step - loss: 0.4494 - acc: 0.8041 - val_loss: 0.4214 - val_acc: 0.8131\n",
            "Epoch 10/10\n",
            "20/20 [==============================] - 9s 474ms/step - loss: 0.4482 - acc: 0.8073 - val_loss: 0.4200 - val_acc: 0.8127\n"
          ],
          "name": "stdout"
        },
        {
          "output_type": "stream",
          "text": [
            "[========================================================================] 100%\n"
          ],
          "name": "stderr"
        },
        {
          "output_type": "stream",
          "text": [
            "(783, 224, 224, 3) (121, 224, 224, 3) (120, 224, 224, 3) (783, 40) (121, 40) (120, 40)\n",
            "Treinando lote  187  de  198\n",
            "Epoch 1/10\n",
            "20/20 [==============================] - 10s 511ms/step - loss: 0.4499 - acc: 0.8032 - val_loss: 0.4523 - val_acc: 0.8051\n",
            "Epoch 2/10\n",
            "20/20 [==============================] - 9s 469ms/step - loss: 0.4555 - acc: 0.8025 - val_loss: 0.4464 - val_acc: 0.8063\n",
            "Epoch 3/10\n",
            "20/20 [==============================] - 9s 446ms/step - loss: 0.4540 - acc: 0.7992 - val_loss: 0.4500 - val_acc: 0.8044\n",
            "Epoch 4/10\n",
            "20/20 [==============================] - 9s 442ms/step - loss: 0.4548 - acc: 0.8053 - val_loss: 0.4480 - val_acc: 0.8075\n",
            "Epoch 5/10\n",
            "20/20 [==============================] - 8s 406ms/step - loss: 0.4541 - acc: 0.8019 - val_loss: 0.4505 - val_acc: 0.8053\n",
            "Epoch 6/10\n",
            "20/20 [==============================] - 8s 405ms/step - loss: 0.4544 - acc: 0.8026 - val_loss: 0.4471 - val_acc: 0.8066\n",
            "Epoch 7/10\n",
            "20/20 [==============================] - 10s 495ms/step - loss: 0.4540 - acc: 0.8028 - val_loss: 0.4499 - val_acc: 0.8078\n",
            "Epoch 8/10\n",
            "20/20 [==============================] - 9s 444ms/step - loss: 0.4547 - acc: 0.8045 - val_loss: 0.4487 - val_acc: 0.8065\n",
            "Epoch 9/10\n",
            "20/20 [==============================] - 9s 433ms/step - loss: 0.4499 - acc: 0.8037 - val_loss: 0.4491 - val_acc: 0.8086\n",
            "Epoch 10/10\n",
            "20/20 [==============================] - 8s 404ms/step - loss: 0.4584 - acc: 0.8017 - val_loss: 0.4493 - val_acc: 0.8056\n"
          ],
          "name": "stdout"
        },
        {
          "output_type": "stream",
          "text": [
            "[========================================================================] 100%\n"
          ],
          "name": "stderr"
        },
        {
          "output_type": "stream",
          "text": [
            "(838, 224, 224, 3) (95, 224, 224, 3) (91, 224, 224, 3) (838, 40) (95, 40) (91, 40)\n",
            "Treinando lote  188  de  198\n",
            "Epoch 1/10\n",
            "20/20 [==============================] - 10s 500ms/step - loss: 0.4515 - acc: 0.8034 - val_loss: 0.4713 - val_acc: 0.7958\n",
            "Epoch 2/10\n",
            "20/20 [==============================] - 9s 463ms/step - loss: 0.4540 - acc: 0.8045 - val_loss: 0.4745 - val_acc: 0.7956\n",
            "Epoch 3/10\n",
            "20/20 [==============================] - 9s 425ms/step - loss: 0.4510 - acc: 0.8050 - val_loss: 0.4741 - val_acc: 0.7987\n",
            "Epoch 4/10\n",
            "20/20 [==============================] - 8s 406ms/step - loss: 0.4495 - acc: 0.8033 - val_loss: 0.4752 - val_acc: 0.7974\n",
            "Epoch 5/10\n",
            "20/20 [==============================] - 10s 494ms/step - loss: 0.4430 - acc: 0.8055 - val_loss: 0.4739 - val_acc: 0.7962\n",
            "Epoch 6/10\n",
            "20/20 [==============================] - 9s 450ms/step - loss: 0.4489 - acc: 0.8042 - val_loss: 0.4734 - val_acc: 0.7961\n",
            "Epoch 7/10\n",
            "20/20 [==============================] - 9s 439ms/step - loss: 0.4463 - acc: 0.8084 - val_loss: 0.4742 - val_acc: 0.7972\n",
            "Epoch 8/10\n",
            "20/20 [==============================] - 8s 406ms/step - loss: 0.4513 - acc: 0.8039 - val_loss: 0.4731 - val_acc: 0.7968\n",
            "Epoch 9/10\n",
            "20/20 [==============================] - 9s 470ms/step - loss: 0.4500 - acc: 0.8037 - val_loss: 0.4763 - val_acc: 0.7964\n",
            "Epoch 10/10\n",
            "20/20 [==============================] - 9s 442ms/step - loss: 0.4455 - acc: 0.8039 - val_loss: 0.4734 - val_acc: 0.7938\n"
          ],
          "name": "stdout"
        },
        {
          "output_type": "stream",
          "text": [
            "[========================================================================] 100%\n"
          ],
          "name": "stderr"
        },
        {
          "output_type": "stream",
          "text": [
            "(818, 224, 224, 3) (91, 224, 224, 3) (115, 224, 224, 3) (818, 40) (91, 40) (115, 40)\n",
            "Treinando lote  189  de  198\n",
            "Epoch 1/10\n",
            "20/20 [==============================] - 10s 492ms/step - loss: 0.4561 - acc: 0.8003 - val_loss: 0.4726 - val_acc: 0.7921\n",
            "Epoch 2/10\n",
            "20/20 [==============================] - 9s 471ms/step - loss: 0.4507 - acc: 0.8030 - val_loss: 0.4686 - val_acc: 0.7919\n",
            "Epoch 3/10\n",
            "20/20 [==============================] - 9s 444ms/step - loss: 0.4575 - acc: 0.8019 - val_loss: 0.4723 - val_acc: 0.7927\n",
            "Epoch 4/10\n",
            "20/20 [==============================] - 8s 421ms/step - loss: 0.4534 - acc: 0.8026 - val_loss: 0.4719 - val_acc: 0.7956\n",
            "Epoch 5/10\n",
            "20/20 [==============================] - 8s 409ms/step - loss: 0.4496 - acc: 0.8041 - val_loss: 0.4726 - val_acc: 0.7941\n",
            "Epoch 6/10\n",
            "20/20 [==============================] - 10s 492ms/step - loss: 0.4552 - acc: 0.8002 - val_loss: 0.4691 - val_acc: 0.7938\n",
            "Epoch 7/10\n",
            "20/20 [==============================] - 9s 455ms/step - loss: 0.4546 - acc: 0.8004 - val_loss: 0.4750 - val_acc: 0.7924\n",
            "Epoch 8/10\n",
            "20/20 [==============================] - 9s 426ms/step - loss: 0.4553 - acc: 0.8006 - val_loss: 0.4654 - val_acc: 0.7952\n",
            "Epoch 9/10\n",
            "20/20 [==============================] - 8s 408ms/step - loss: 0.4546 - acc: 0.8000 - val_loss: 0.4735 - val_acc: 0.7921\n",
            "Epoch 10/10\n",
            "20/20 [==============================] - 10s 481ms/step - loss: 0.4496 - acc: 0.8022 - val_loss: 0.4714 - val_acc: 0.7937\n"
          ],
          "name": "stdout"
        },
        {
          "output_type": "stream",
          "text": [
            "[========================================================================] 100%\n"
          ],
          "name": "stderr"
        },
        {
          "output_type": "stream",
          "text": [
            "(842, 224, 224, 3) (98, 224, 224, 3) (84, 224, 224, 3) (842, 40) (98, 40) (84, 40)\n",
            "Treinando lote  190  de  198\n",
            "Epoch 1/10\n",
            "20/20 [==============================] - 10s 489ms/step - loss: 0.4573 - acc: 0.8049 - val_loss: 0.4137 - val_acc: 0.8268\n",
            "Epoch 2/10\n",
            "20/20 [==============================] - 8s 412ms/step - loss: 0.4389 - acc: 0.8119 - val_loss: 0.4179 - val_acc: 0.8287\n",
            "Epoch 3/10\n",
            "20/20 [==============================] - 9s 425ms/step - loss: 0.4506 - acc: 0.8063 - val_loss: 0.4174 - val_acc: 0.8232\n",
            "Epoch 4/10\n",
            "20/20 [==============================] - 8s 381ms/step - loss: 0.4519 - acc: 0.8061 - val_loss: 0.4125 - val_acc: 0.8311\n",
            "Epoch 5/10\n",
            "20/20 [==============================] - 9s 470ms/step - loss: 0.4488 - acc: 0.8077 - val_loss: 0.4132 - val_acc: 0.8268\n",
            "Epoch 6/10\n",
            "20/20 [==============================] - 8s 421ms/step - loss: 0.4436 - acc: 0.8082 - val_loss: 0.4168 - val_acc: 0.8288\n",
            "Epoch 7/10\n",
            "20/20 [==============================] - 8s 425ms/step - loss: 0.4470 - acc: 0.8080 - val_loss: 0.4096 - val_acc: 0.8292\n",
            "Epoch 8/10\n",
            "20/20 [==============================] - 8s 377ms/step - loss: 0.4532 - acc: 0.8054 - val_loss: 0.4205 - val_acc: 0.8247\n",
            "Epoch 9/10\n",
            "20/20 [==============================] - 10s 480ms/step - loss: 0.4475 - acc: 0.8055 - val_loss: 0.4145 - val_acc: 0.8271\n",
            "Epoch 10/10\n",
            "20/20 [==============================] - 8s 421ms/step - loss: 0.4403 - acc: 0.8077 - val_loss: 0.4153 - val_acc: 0.8266\n"
          ],
          "name": "stdout"
        },
        {
          "output_type": "stream",
          "text": [
            "[========================================================================] 100%\n"
          ],
          "name": "stderr"
        },
        {
          "output_type": "stream",
          "text": [
            "(819, 224, 224, 3) (97, 224, 224, 3) (108, 224, 224, 3) (819, 40) (97, 40) (108, 40)\n",
            "Treinando lote  191  de  198\n",
            "Epoch 1/10\n",
            "20/20 [==============================] - 10s 489ms/step - loss: 0.4516 - acc: 0.8053 - val_loss: 0.4683 - val_acc: 0.8096\n",
            "Epoch 2/10\n",
            "20/20 [==============================] - 9s 453ms/step - loss: 0.4481 - acc: 0.8003 - val_loss: 0.4551 - val_acc: 0.8151\n",
            "Epoch 3/10\n",
            "20/20 [==============================] - 9s 426ms/step - loss: 0.4443 - acc: 0.8075 - val_loss: 0.4671 - val_acc: 0.8105\n",
            "Epoch 4/10\n",
            "20/20 [==============================] - 8s 391ms/step - loss: 0.4500 - acc: 0.8040 - val_loss: 0.4560 - val_acc: 0.8133\n",
            "Epoch 5/10\n",
            "20/20 [==============================] - 8s 390ms/step - loss: 0.4466 - acc: 0.8048 - val_loss: 0.4607 - val_acc: 0.8113\n",
            "Epoch 6/10\n",
            "20/20 [==============================] - 9s 466ms/step - loss: 0.4561 - acc: 0.8005 - val_loss: 0.4642 - val_acc: 0.8105\n",
            "Epoch 7/10\n",
            "20/20 [==============================] - 9s 445ms/step - loss: 0.4440 - acc: 0.8047 - val_loss: 0.4631 - val_acc: 0.8114\n",
            "Epoch 8/10\n",
            "20/20 [==============================] - 8s 402ms/step - loss: 0.4511 - acc: 0.8045 - val_loss: 0.4611 - val_acc: 0.8122\n",
            "Epoch 9/10\n",
            "20/20 [==============================] - 8s 391ms/step - loss: 0.4485 - acc: 0.8077 - val_loss: 0.4600 - val_acc: 0.8124\n",
            "Epoch 10/10\n",
            "20/20 [==============================] - 9s 446ms/step - loss: 0.4434 - acc: 0.8050 - val_loss: 0.4636 - val_acc: 0.8130\n"
          ],
          "name": "stdout"
        },
        {
          "output_type": "stream",
          "text": [
            "[========================================================================] 100%\n"
          ],
          "name": "stderr"
        },
        {
          "output_type": "stream",
          "text": [
            "(860, 224, 224, 3) (80, 224, 224, 3) (84, 224, 224, 3) (860, 40) (80, 40) (84, 40)\n",
            "Treinando lote  192  de  198\n",
            "Epoch 1/10\n",
            "20/20 [==============================] - 10s 491ms/step - loss: 0.4525 - acc: 0.8023 - val_loss: 0.4452 - val_acc: 0.8073\n",
            "Epoch 2/10\n",
            "20/20 [==============================] - 9s 449ms/step - loss: 0.4467 - acc: 0.8038 - val_loss: 0.4397 - val_acc: 0.8044\n",
            "Epoch 3/10\n",
            "20/20 [==============================] - 8s 422ms/step - loss: 0.4531 - acc: 0.8028 - val_loss: 0.4426 - val_acc: 0.8048\n",
            "Epoch 4/10\n",
            "20/20 [==============================] - 8s 395ms/step - loss: 0.4504 - acc: 0.8026 - val_loss: 0.4440 - val_acc: 0.8034\n",
            "Epoch 5/10\n",
            "20/20 [==============================] - 10s 481ms/step - loss: 0.4501 - acc: 0.8032 - val_loss: 0.4400 - val_acc: 0.8066\n",
            "Epoch 6/10\n",
            "20/20 [==============================] - 9s 434ms/step - loss: 0.4448 - acc: 0.8058 - val_loss: 0.4440 - val_acc: 0.8014\n",
            "Epoch 7/10\n",
            "20/20 [==============================] - 8s 416ms/step - loss: 0.4516 - acc: 0.8005 - val_loss: 0.4411 - val_acc: 0.8043\n",
            "Epoch 8/10\n",
            "20/20 [==============================] - 8s 412ms/step - loss: 0.4461 - acc: 0.8040 - val_loss: 0.4483 - val_acc: 0.8045\n",
            "Epoch 9/10\n",
            "20/20 [==============================] - 9s 472ms/step - loss: 0.4489 - acc: 0.8037 - val_loss: 0.4385 - val_acc: 0.8072\n",
            "Epoch 10/10\n",
            "20/20 [==============================] - 9s 452ms/step - loss: 0.4504 - acc: 0.8048 - val_loss: 0.4470 - val_acc: 0.8049\n"
          ],
          "name": "stdout"
        },
        {
          "output_type": "stream",
          "text": [
            "[========================================================================] 100%\n"
          ],
          "name": "stderr"
        },
        {
          "output_type": "stream",
          "text": [
            "(835, 224, 224, 3) (106, 224, 224, 3) (83, 224, 224, 3) (835, 40) (106, 40) (83, 40)\n",
            "Treinando lote  193  de  198\n",
            "Epoch 1/10\n",
            "20/20 [==============================] - 10s 480ms/step - loss: 0.4577 - acc: 0.8017 - val_loss: 0.4285 - val_acc: 0.8134\n",
            "Epoch 2/10\n",
            "20/20 [==============================] - 9s 440ms/step - loss: 0.4510 - acc: 0.8005 - val_loss: 0.4349 - val_acc: 0.8069\n",
            "Epoch 3/10\n",
            "20/20 [==============================] - 8s 416ms/step - loss: 0.4483 - acc: 0.8007 - val_loss: 0.4292 - val_acc: 0.8107\n",
            "Epoch 4/10\n",
            "20/20 [==============================] - 8s 382ms/step - loss: 0.4616 - acc: 0.8008 - val_loss: 0.4339 - val_acc: 0.8108\n",
            "Epoch 5/10\n",
            "20/20 [==============================] - 9s 461ms/step - loss: 0.4537 - acc: 0.8009 - val_loss: 0.4298 - val_acc: 0.8128\n",
            "Epoch 6/10\n",
            "20/20 [==============================] - 9s 451ms/step - loss: 0.4440 - acc: 0.8037 - val_loss: 0.4334 - val_acc: 0.8097\n",
            "Epoch 7/10\n",
            "20/20 [==============================] - 8s 412ms/step - loss: 0.4545 - acc: 0.8004 - val_loss: 0.4317 - val_acc: 0.8079\n",
            "Epoch 8/10\n",
            "20/20 [==============================] - 8s 380ms/step - loss: 0.4471 - acc: 0.8033 - val_loss: 0.4322 - val_acc: 0.8105\n",
            "Epoch 9/10\n",
            "20/20 [==============================] - 9s 462ms/step - loss: 0.4506 - acc: 0.8048 - val_loss: 0.4338 - val_acc: 0.8065\n",
            "Epoch 10/10\n",
            "20/20 [==============================] - 8s 418ms/step - loss: 0.4481 - acc: 0.8003 - val_loss: 0.4299 - val_acc: 0.8108\n"
          ],
          "name": "stdout"
        },
        {
          "output_type": "stream",
          "text": [
            "[========================================================================] 100%\n"
          ],
          "name": "stderr"
        },
        {
          "output_type": "stream",
          "text": [
            "(831, 224, 224, 3) (107, 224, 224, 3) (86, 224, 224, 3) (831, 40) (107, 40) (86, 40)\n",
            "Treinando lote  194  de  198\n",
            "Epoch 1/10\n",
            "20/20 [==============================] - 10s 480ms/step - loss: 0.4569 - acc: 0.8042 - val_loss: 0.4461 - val_acc: 0.8120\n",
            "Epoch 2/10\n",
            "20/20 [==============================] - 9s 451ms/step - loss: 0.4592 - acc: 0.8032 - val_loss: 0.4444 - val_acc: 0.8112\n",
            "Epoch 3/10\n",
            "20/20 [==============================] - 9s 434ms/step - loss: 0.4542 - acc: 0.8058 - val_loss: 0.4465 - val_acc: 0.8108\n",
            "Epoch 4/10\n",
            "20/20 [==============================] - 8s 402ms/step - loss: 0.4568 - acc: 0.8036 - val_loss: 0.4447 - val_acc: 0.8144\n",
            "Epoch 5/10\n",
            "20/20 [==============================] - 8s 400ms/step - loss: 0.4525 - acc: 0.8050 - val_loss: 0.4434 - val_acc: 0.8156\n",
            "Epoch 6/10\n",
            "20/20 [==============================] - 9s 468ms/step - loss: 0.4532 - acc: 0.8044 - val_loss: 0.4478 - val_acc: 0.8102\n",
            "Epoch 7/10\n",
            "20/20 [==============================] - 9s 447ms/step - loss: 0.4520 - acc: 0.8055 - val_loss: 0.4496 - val_acc: 0.8104\n",
            "Epoch 8/10\n",
            "20/20 [==============================] - 8s 410ms/step - loss: 0.4496 - acc: 0.8080 - val_loss: 0.4418 - val_acc: 0.8150\n",
            "Epoch 9/10\n",
            "20/20 [==============================] - 8s 400ms/step - loss: 0.4615 - acc: 0.7996 - val_loss: 0.4486 - val_acc: 0.8110\n",
            "Epoch 10/10\n",
            "20/20 [==============================] - 10s 476ms/step - loss: 0.4550 - acc: 0.8059 - val_loss: 0.4427 - val_acc: 0.8131\n"
          ],
          "name": "stdout"
        },
        {
          "output_type": "stream",
          "text": [
            "[========================================================================] 100%\n"
          ],
          "name": "stderr"
        },
        {
          "output_type": "stream",
          "text": [
            "(831, 224, 224, 3) (93, 224, 224, 3) (100, 224, 224, 3) (831, 40) (93, 40) (100, 40)\n",
            "Treinando lote  195  de  198\n",
            "Epoch 1/10\n",
            "20/20 [==============================] - 10s 524ms/step - loss: 0.4484 - acc: 0.8073 - val_loss: 0.4581 - val_acc: 0.8124\n",
            "Epoch 2/10\n",
            "20/20 [==============================] - 9s 462ms/step - loss: 0.4483 - acc: 0.8046 - val_loss: 0.4587 - val_acc: 0.8113\n",
            "Epoch 3/10\n",
            "20/20 [==============================] - 9s 441ms/step - loss: 0.4461 - acc: 0.8082 - val_loss: 0.4625 - val_acc: 0.8110\n",
            "Epoch 4/10\n",
            "20/20 [==============================] - 8s 421ms/step - loss: 0.4519 - acc: 0.8020 - val_loss: 0.4622 - val_acc: 0.8098\n",
            "Epoch 5/10\n",
            "20/20 [==============================] - 8s 412ms/step - loss: 0.4488 - acc: 0.8066 - val_loss: 0.4597 - val_acc: 0.8105\n",
            "Epoch 6/10\n",
            "20/20 [==============================] - 9s 471ms/step - loss: 0.4582 - acc: 0.8012 - val_loss: 0.4597 - val_acc: 0.8123\n",
            "Epoch 7/10\n",
            "20/20 [==============================] - 9s 458ms/step - loss: 0.4380 - acc: 0.8107 - val_loss: 0.4614 - val_acc: 0.8109\n",
            "Epoch 8/10\n",
            "20/20 [==============================] - 9s 428ms/step - loss: 0.4464 - acc: 0.8038 - val_loss: 0.4624 - val_acc: 0.8105\n",
            "Epoch 9/10\n",
            "20/20 [==============================] - 8s 411ms/step - loss: 0.4469 - acc: 0.8069 - val_loss: 0.4629 - val_acc: 0.8093\n",
            "Epoch 10/10\n",
            "20/20 [==============================] - 10s 479ms/step - loss: 0.4444 - acc: 0.8072 - val_loss: 0.4647 - val_acc: 0.8080\n"
          ],
          "name": "stdout"
        },
        {
          "output_type": "stream",
          "text": [
            "[========================================================================] 100%\n"
          ],
          "name": "stderr"
        },
        {
          "output_type": "stream",
          "text": [
            "(834, 224, 224, 3) (104, 224, 224, 3) (86, 224, 224, 3) (834, 40) (104, 40) (86, 40)\n",
            "Treinando lote  196  de  198\n",
            "Epoch 1/10\n",
            "20/20 [==============================] - 9s 474ms/step - loss: 0.4493 - acc: 0.8006 - val_loss: 0.4389 - val_acc: 0.8184\n",
            "Epoch 2/10\n",
            "20/20 [==============================] - 9s 429ms/step - loss: 0.4492 - acc: 0.8046 - val_loss: 0.4416 - val_acc: 0.8143\n",
            "Epoch 3/10\n",
            "20/20 [==============================] - 8s 415ms/step - loss: 0.4392 - acc: 0.8059 - val_loss: 0.4393 - val_acc: 0.8176\n",
            "Epoch 4/10\n",
            "20/20 [==============================] - 8s 390ms/step - loss: 0.4459 - acc: 0.8068 - val_loss: 0.4398 - val_acc: 0.8185\n",
            "Epoch 5/10\n",
            "20/20 [==============================] - 9s 462ms/step - loss: 0.4458 - acc: 0.8044 - val_loss: 0.4317 - val_acc: 0.8203\n",
            "Epoch 6/10\n",
            "20/20 [==============================] - 8s 422ms/step - loss: 0.4504 - acc: 0.8072 - val_loss: 0.4476 - val_acc: 0.8167\n",
            "Epoch 7/10\n",
            "20/20 [==============================] - 8s 411ms/step - loss: 0.4364 - acc: 0.8102 - val_loss: 0.4432 - val_acc: 0.8194\n",
            "Epoch 8/10\n",
            "20/20 [==============================] - 8s 389ms/step - loss: 0.4548 - acc: 0.8017 - val_loss: 0.4345 - val_acc: 0.8193\n",
            "Epoch 9/10\n",
            "20/20 [==============================] - 9s 465ms/step - loss: 0.4455 - acc: 0.8046 - val_loss: 0.4385 - val_acc: 0.8176\n",
            "Epoch 10/10\n",
            "20/20 [==============================] - 9s 431ms/step - loss: 0.4340 - acc: 0.8095 - val_loss: 0.4404 - val_acc: 0.8175\n"
          ],
          "name": "stdout"
        },
        {
          "output_type": "stream",
          "text": [
            "[========================================================================] 100%\n"
          ],
          "name": "stderr"
        },
        {
          "output_type": "stream",
          "text": [
            "(809, 224, 224, 3) (115, 224, 224, 3) (100, 224, 224, 3) (809, 40) (115, 40) (100, 40)\n",
            "Treinando lote  197  de  198\n",
            "Epoch 1/10\n",
            "20/20 [==============================] - 10s 488ms/step - loss: 0.4543 - acc: 0.8030 - val_loss: 0.4320 - val_acc: 0.8081\n",
            "Epoch 2/10\n",
            "20/20 [==============================] - 9s 467ms/step - loss: 0.4469 - acc: 0.8027 - val_loss: 0.4324 - val_acc: 0.8112\n",
            "Epoch 3/10\n",
            "20/20 [==============================] - 8s 420ms/step - loss: 0.4504 - acc: 0.8014 - val_loss: 0.4376 - val_acc: 0.8082\n",
            "Epoch 4/10\n",
            "20/20 [==============================] - 8s 413ms/step - loss: 0.4528 - acc: 0.8003 - val_loss: 0.4272 - val_acc: 0.8122\n",
            "Epoch 5/10\n",
            "20/20 [==============================] - 8s 409ms/step - loss: 0.4539 - acc: 0.8010 - val_loss: 0.4364 - val_acc: 0.8094\n",
            "Epoch 6/10\n",
            "20/20 [==============================] - 9s 463ms/step - loss: 0.4541 - acc: 0.8042 - val_loss: 0.4284 - val_acc: 0.8093\n",
            "Epoch 7/10\n",
            "20/20 [==============================] - 9s 448ms/step - loss: 0.4452 - acc: 0.8035 - val_loss: 0.4323 - val_acc: 0.8095\n",
            "Epoch 8/10\n",
            "20/20 [==============================] - 8s 413ms/step - loss: 0.4412 - acc: 0.8032 - val_loss: 0.4314 - val_acc: 0.8109\n",
            "Epoch 9/10\n",
            "20/20 [==============================] - 8s 400ms/step - loss: 0.4536 - acc: 0.8008 - val_loss: 0.4272 - val_acc: 0.8114\n",
            "Epoch 10/10\n",
            "20/20 [==============================] - 9s 458ms/step - loss: 0.4449 - acc: 0.8052 - val_loss: 0.4368 - val_acc: 0.8090\n"
          ],
          "name": "stdout"
        },
        {
          "output_type": "stream",
          "text": [
            "[========================================================================] 100%\n"
          ],
          "name": "stderr"
        },
        {
          "output_type": "stream",
          "text": [
            "(829, 224, 224, 3) (101, 224, 224, 3) (94, 224, 224, 3) (829, 40) (101, 40) (94, 40)\n",
            "Treinando lote  198  de  198\n",
            "Epoch 1/10\n",
            "20/20 [==============================] - 10s 513ms/step - loss: 0.4512 - acc: 0.8026 - val_loss: 0.4469 - val_acc: 0.8035\n",
            "Epoch 2/10\n",
            "20/20 [==============================] - 9s 453ms/step - loss: 0.4628 - acc: 0.7991 - val_loss: 0.4526 - val_acc: 0.8006\n",
            "Epoch 3/10\n",
            "20/20 [==============================] - 9s 433ms/step - loss: 0.4450 - acc: 0.8069 - val_loss: 0.4482 - val_acc: 0.8025\n",
            "Epoch 4/10\n",
            "20/20 [==============================] - 8s 400ms/step - loss: 0.4615 - acc: 0.7994 - val_loss: 0.4522 - val_acc: 0.7988\n",
            "Epoch 5/10\n",
            "20/20 [==============================] - 8s 394ms/step - loss: 0.4550 - acc: 0.7989 - val_loss: 0.4482 - val_acc: 0.8032\n",
            "Epoch 6/10\n",
            "20/20 [==============================] - 9s 456ms/step - loss: 0.4518 - acc: 0.8010 - val_loss: 0.4526 - val_acc: 0.7990\n",
            "Epoch 7/10\n",
            "20/20 [==============================] - 9s 429ms/step - loss: 0.4528 - acc: 0.8052 - val_loss: 0.4503 - val_acc: 0.8026\n",
            "Epoch 8/10\n",
            "20/20 [==============================] - 8s 406ms/step - loss: 0.4532 - acc: 0.8015 - val_loss: 0.4497 - val_acc: 0.7985\n",
            "Epoch 9/10\n",
            "20/20 [==============================] - 8s 395ms/step - loss: 0.4579 - acc: 0.7995 - val_loss: 0.4481 - val_acc: 0.8007\n",
            "Epoch 10/10\n",
            "20/20 [==============================] - 9s 459ms/step - loss: 0.4562 - acc: 0.7998 - val_loss: 0.4524 - val_acc: 0.8014\n"
          ],
          "name": "stdout"
        }
      ]
    },
    {
      "cell_type": "code",
      "metadata": {
        "trusted": true,
        "id": "2k6Qwmbp9xVs",
        "colab_type": "code",
        "colab": {
          "base_uri": "https://localhost:8080/",
          "height": 34
        },
        "outputId": "f396fb4b-d88a-4aad-d300-c79670ed1781"
      },
      "source": [
        "test_loss, test_acc = model.evaluate_generator(test_generator, steps=30)\n",
        "score = model.evaluate_generator(test_generator, steps=30)\n",
        "print(\"Acurácia:\", score[1]*100)"
      ],
      "execution_count": 17,
      "outputs": [
        {
          "output_type": "stream",
          "text": [
            "Acurácia: 79.62765934619497\n"
          ],
          "name": "stdout"
        }
      ]
    },
    {
      "cell_type": "code",
      "metadata": {
        "trusted": true,
        "id": "Sn42jHq69xVu",
        "colab_type": "code",
        "colab": {}
      },
      "source": [
        "model.save('/content/keras.model')"
      ],
      "execution_count": 0,
      "outputs": []
    }
  ]
}